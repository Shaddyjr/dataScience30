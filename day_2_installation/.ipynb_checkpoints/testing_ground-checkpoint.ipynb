{
 "cells": [
  {
   "cell_type": "markdown",
   "metadata": {},
   "source": [
    "## Assignment\n",
    "### Practice using the Jupyter Notebook GUI\n",
    "Jupyter notebooks will be the main tool we'll be using throughout this course. __Spending time learning how to use this tool now will save a lot of later!__ The following tasks are by far the most common, so you'll want to commit these keyboard shortcuts to muscle memory.\n",
    "\n",
    "While in a Jupyter notebook, near the top navigate to \"Help > Keyboard Shortcuts\". Use these shortcuts to complete the following tasks WITHOUT touching your mouse:\n",
    "- Create 2 new cell above the current cell\n",
    "- Create 2 new cell below the current cell\n",
    "- Delete one of the newly created cells\n",
    "- Convert 1 cell to Markdown\n",
    "    - Write a few lines of content in the Markdown cell\n",
    "    - _NOTE: You should have at least 2 code cells and 1 Markdown cells after this point_\n",
    "- Split the markdown cell from the previous cell roughly in half\n",
    "- In one code cell write `x = 5`, and in __another__ code cell, write `y = 10`\n",
    "    - Make sure these two cells are next to each other\n",
    "- Merge the 2 code cells from the previous step"
   ]
  },
  {
   "cell_type": "markdown",
   "metadata": {},
   "source": [
    "## BONUS\n",
    "I've found moving cells on the fly to be invaluable, however, there is no default keyboard shortcut for this functionality.\n",
    "- Create keyboard shortcuts to move cells up and down\n",
    "\n",
    "There are a number of great widgets for Jupyter Notebooks called [nbextensions](https://jupyter-contrib-nbextensions.readthedocs.io/en/latest/). I highly recommend downloading the package in Anaconda and browsing to see which extensions you might want to use. I personally love the \"Sketchpad\"!\n",
    "- You can install through Anaconda Navigator through \"Environments > {select your environment - dataScience30} > Search Packages\"\n",
    "- Or using the Anaconda Terminal with `conda install -c conda-forge jupyter_contrib_nbextensions`\n",
    "- _NOTE: Once nbextensions is installed, you'll have to restart your Jupyter Notebook instance (close the terminal serving Jupyter and open a new instance)_\n",
    "\n",
    "Markdown can seem intimidating at first, but knowing even a little markdown syntax can drastically improve the readability of your code. Check out this [Markdown Cheat Sheet](https://github.com/adam-p/markdown-here/wiki/Markdown-Here-Cheatsheet) and get familiar with at least 5-6 markdown elements."
   ]
  }
 ],
 "metadata": {
  "kernelspec": {
   "display_name": "Python 3",
   "language": "python",
   "name": "python3"
  },
  "language_info": {
   "codemirror_mode": {
    "name": "ipython",
    "version": 3
   },
   "file_extension": ".py",
   "mimetype": "text/x-python",
   "name": "python",
   "nbconvert_exporter": "python",
   "pygments_lexer": "ipython3",
   "version": "3.7.3"
  }
 },
 "nbformat": 4,
 "nbformat_minor": 2
}
