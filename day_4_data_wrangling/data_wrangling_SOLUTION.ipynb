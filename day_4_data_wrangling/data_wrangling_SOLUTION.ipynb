{
 "cells": [
  {
   "cell_type": "markdown",
   "metadata": {},
   "source": [
    "# dataScience30\n",
    "## [Day 4: Data Wrangling](https://youtu.be/Xn2pzNoP3i0)\n",
    "#### By [Glitched Failure](https://www.youtube.com/channel/UCErSNiDZV4rJCNB8NrDGREA)\n",
    "---\n"
   ]
  },
  {
   "cell_type": "markdown",
   "metadata": {},
   "source": [
    "## Table of Contents:\n",
    "- [Objectives](#Objectives:)\n",
    "- [Code Along](#Code-Along:)\n",
    "- [Assignments](#Assignments:)\n",
    "- [BONUS](#BONUS:)\n",
    "- [Vocabulary](#Vocabulary:)\n",
    "- [References](#References:)\n",
    "- [Have Feedback?](#Have-Feedback?)"
   ]
  },
  {
   "cell_type": "markdown",
   "metadata": {},
   "source": [
    "## Objectives:\n",
    "- Participants will gain experience loading data from files, web scraping, and APIs\n",
    "- Participants will gain experience writing data to a file\n",
    "- Participants will gain experience creating a data dictionary\n"
   ]
  },
  {
   "cell_type": "markdown",
   "metadata": {},
   "source": [
    "## Code Along:"
   ]
  },
  {
   "cell_type": "markdown",
   "metadata": {},
   "source": [
    "### Imports"
   ]
  },
  {
   "cell_type": "code",
   "execution_count": 1,
   "metadata": {},
   "outputs": [],
   "source": [
    "import pandas as pd"
   ]
  },
  {
   "cell_type": "markdown",
   "metadata": {},
   "source": [
    "### Loading data from files\n",
    "We can load a raw CSV file as a DataFrame using `pd.read_csv(\"FILE_PATH\")`\n",
    "\n",
    "Check out the [Pandas DataFrame Documentation](https://pandas.pydata.org/pandas-docs/stable/reference/api/pandas.DataFrame.html) for more on what you can do with a DataFrame."
   ]
  },
  {
   "cell_type": "code",
   "execution_count": 2,
   "metadata": {},
   "outputs": [
    {
     "ename": "FileNotFoundError",
     "evalue": "[Errno 2] File b'ads.csv' does not exist: b'ads.csv'",
     "output_type": "error",
     "traceback": [
      "\u001b[1;31m---------------------------------------------------------------------------\u001b[0m",
      "\u001b[1;31mFileNotFoundError\u001b[0m                         Traceback (most recent call last)",
      "\u001b[1;32m<ipython-input-2-ea136cfc0e45>\u001b[0m in \u001b[0;36m<module>\u001b[1;34m\u001b[0m\n\u001b[0;32m      1\u001b[0m \u001b[1;31m# load the \"ads.csv\" file as the variable ads_data\u001b[0m\u001b[1;33m\u001b[0m\u001b[1;33m\u001b[0m\u001b[1;33m\u001b[0m\u001b[0m\n\u001b[1;32m----> 2\u001b[1;33m \u001b[0mads_data\u001b[0m \u001b[1;33m=\u001b[0m \u001b[0mpd\u001b[0m\u001b[1;33m.\u001b[0m\u001b[0mread_csv\u001b[0m\u001b[1;33m(\u001b[0m\u001b[1;34m\"ads.csv\"\u001b[0m\u001b[1;33m)\u001b[0m\u001b[1;33m\u001b[0m\u001b[1;33m\u001b[0m\u001b[0m\n\u001b[0m",
      "\u001b[1;32m~\\Anaconda3\\lib\\site-packages\\pandas\\io\\parsers.py\u001b[0m in \u001b[0;36mparser_f\u001b[1;34m(filepath_or_buffer, sep, delimiter, header, names, index_col, usecols, squeeze, prefix, mangle_dupe_cols, dtype, engine, converters, true_values, false_values, skipinitialspace, skiprows, skipfooter, nrows, na_values, keep_default_na, na_filter, verbose, skip_blank_lines, parse_dates, infer_datetime_format, keep_date_col, date_parser, dayfirst, iterator, chunksize, compression, thousands, decimal, lineterminator, quotechar, quoting, doublequote, escapechar, comment, encoding, dialect, tupleize_cols, error_bad_lines, warn_bad_lines, delim_whitespace, low_memory, memory_map, float_precision)\u001b[0m\n\u001b[0;32m    700\u001b[0m                     skip_blank_lines=skip_blank_lines)\n\u001b[0;32m    701\u001b[0m \u001b[1;33m\u001b[0m\u001b[0m\n\u001b[1;32m--> 702\u001b[1;33m         \u001b[1;32mreturn\u001b[0m \u001b[0m_read\u001b[0m\u001b[1;33m(\u001b[0m\u001b[0mfilepath_or_buffer\u001b[0m\u001b[1;33m,\u001b[0m \u001b[0mkwds\u001b[0m\u001b[1;33m)\u001b[0m\u001b[1;33m\u001b[0m\u001b[1;33m\u001b[0m\u001b[0m\n\u001b[0m\u001b[0;32m    703\u001b[0m \u001b[1;33m\u001b[0m\u001b[0m\n\u001b[0;32m    704\u001b[0m     \u001b[0mparser_f\u001b[0m\u001b[1;33m.\u001b[0m\u001b[0m__name__\u001b[0m \u001b[1;33m=\u001b[0m \u001b[0mname\u001b[0m\u001b[1;33m\u001b[0m\u001b[1;33m\u001b[0m\u001b[0m\n",
      "\u001b[1;32m~\\Anaconda3\\lib\\site-packages\\pandas\\io\\parsers.py\u001b[0m in \u001b[0;36m_read\u001b[1;34m(filepath_or_buffer, kwds)\u001b[0m\n\u001b[0;32m    427\u001b[0m \u001b[1;33m\u001b[0m\u001b[0m\n\u001b[0;32m    428\u001b[0m     \u001b[1;31m# Create the parser.\u001b[0m\u001b[1;33m\u001b[0m\u001b[1;33m\u001b[0m\u001b[1;33m\u001b[0m\u001b[0m\n\u001b[1;32m--> 429\u001b[1;33m     \u001b[0mparser\u001b[0m \u001b[1;33m=\u001b[0m \u001b[0mTextFileReader\u001b[0m\u001b[1;33m(\u001b[0m\u001b[0mfilepath_or_buffer\u001b[0m\u001b[1;33m,\u001b[0m \u001b[1;33m**\u001b[0m\u001b[0mkwds\u001b[0m\u001b[1;33m)\u001b[0m\u001b[1;33m\u001b[0m\u001b[1;33m\u001b[0m\u001b[0m\n\u001b[0m\u001b[0;32m    430\u001b[0m \u001b[1;33m\u001b[0m\u001b[0m\n\u001b[0;32m    431\u001b[0m     \u001b[1;32mif\u001b[0m \u001b[0mchunksize\u001b[0m \u001b[1;32mor\u001b[0m \u001b[0miterator\u001b[0m\u001b[1;33m:\u001b[0m\u001b[1;33m\u001b[0m\u001b[1;33m\u001b[0m\u001b[0m\n",
      "\u001b[1;32m~\\Anaconda3\\lib\\site-packages\\pandas\\io\\parsers.py\u001b[0m in \u001b[0;36m__init__\u001b[1;34m(self, f, engine, **kwds)\u001b[0m\n\u001b[0;32m    893\u001b[0m             \u001b[0mself\u001b[0m\u001b[1;33m.\u001b[0m\u001b[0moptions\u001b[0m\u001b[1;33m[\u001b[0m\u001b[1;34m'has_index_names'\u001b[0m\u001b[1;33m]\u001b[0m \u001b[1;33m=\u001b[0m \u001b[0mkwds\u001b[0m\u001b[1;33m[\u001b[0m\u001b[1;34m'has_index_names'\u001b[0m\u001b[1;33m]\u001b[0m\u001b[1;33m\u001b[0m\u001b[1;33m\u001b[0m\u001b[0m\n\u001b[0;32m    894\u001b[0m \u001b[1;33m\u001b[0m\u001b[0m\n\u001b[1;32m--> 895\u001b[1;33m         \u001b[0mself\u001b[0m\u001b[1;33m.\u001b[0m\u001b[0m_make_engine\u001b[0m\u001b[1;33m(\u001b[0m\u001b[0mself\u001b[0m\u001b[1;33m.\u001b[0m\u001b[0mengine\u001b[0m\u001b[1;33m)\u001b[0m\u001b[1;33m\u001b[0m\u001b[1;33m\u001b[0m\u001b[0m\n\u001b[0m\u001b[0;32m    896\u001b[0m \u001b[1;33m\u001b[0m\u001b[0m\n\u001b[0;32m    897\u001b[0m     \u001b[1;32mdef\u001b[0m \u001b[0mclose\u001b[0m\u001b[1;33m(\u001b[0m\u001b[0mself\u001b[0m\u001b[1;33m)\u001b[0m\u001b[1;33m:\u001b[0m\u001b[1;33m\u001b[0m\u001b[1;33m\u001b[0m\u001b[0m\n",
      "\u001b[1;32m~\\Anaconda3\\lib\\site-packages\\pandas\\io\\parsers.py\u001b[0m in \u001b[0;36m_make_engine\u001b[1;34m(self, engine)\u001b[0m\n\u001b[0;32m   1120\u001b[0m     \u001b[1;32mdef\u001b[0m \u001b[0m_make_engine\u001b[0m\u001b[1;33m(\u001b[0m\u001b[0mself\u001b[0m\u001b[1;33m,\u001b[0m \u001b[0mengine\u001b[0m\u001b[1;33m=\u001b[0m\u001b[1;34m'c'\u001b[0m\u001b[1;33m)\u001b[0m\u001b[1;33m:\u001b[0m\u001b[1;33m\u001b[0m\u001b[1;33m\u001b[0m\u001b[0m\n\u001b[0;32m   1121\u001b[0m         \u001b[1;32mif\u001b[0m \u001b[0mengine\u001b[0m \u001b[1;33m==\u001b[0m \u001b[1;34m'c'\u001b[0m\u001b[1;33m:\u001b[0m\u001b[1;33m\u001b[0m\u001b[1;33m\u001b[0m\u001b[0m\n\u001b[1;32m-> 1122\u001b[1;33m             \u001b[0mself\u001b[0m\u001b[1;33m.\u001b[0m\u001b[0m_engine\u001b[0m \u001b[1;33m=\u001b[0m \u001b[0mCParserWrapper\u001b[0m\u001b[1;33m(\u001b[0m\u001b[0mself\u001b[0m\u001b[1;33m.\u001b[0m\u001b[0mf\u001b[0m\u001b[1;33m,\u001b[0m \u001b[1;33m**\u001b[0m\u001b[0mself\u001b[0m\u001b[1;33m.\u001b[0m\u001b[0moptions\u001b[0m\u001b[1;33m)\u001b[0m\u001b[1;33m\u001b[0m\u001b[1;33m\u001b[0m\u001b[0m\n\u001b[0m\u001b[0;32m   1123\u001b[0m         \u001b[1;32melse\u001b[0m\u001b[1;33m:\u001b[0m\u001b[1;33m\u001b[0m\u001b[1;33m\u001b[0m\u001b[0m\n\u001b[0;32m   1124\u001b[0m             \u001b[1;32mif\u001b[0m \u001b[0mengine\u001b[0m \u001b[1;33m==\u001b[0m \u001b[1;34m'python'\u001b[0m\u001b[1;33m:\u001b[0m\u001b[1;33m\u001b[0m\u001b[1;33m\u001b[0m\u001b[0m\n",
      "\u001b[1;32m~\\Anaconda3\\lib\\site-packages\\pandas\\io\\parsers.py\u001b[0m in \u001b[0;36m__init__\u001b[1;34m(self, src, **kwds)\u001b[0m\n\u001b[0;32m   1851\u001b[0m         \u001b[0mkwds\u001b[0m\u001b[1;33m[\u001b[0m\u001b[1;34m'usecols'\u001b[0m\u001b[1;33m]\u001b[0m \u001b[1;33m=\u001b[0m \u001b[0mself\u001b[0m\u001b[1;33m.\u001b[0m\u001b[0musecols\u001b[0m\u001b[1;33m\u001b[0m\u001b[1;33m\u001b[0m\u001b[0m\n\u001b[0;32m   1852\u001b[0m \u001b[1;33m\u001b[0m\u001b[0m\n\u001b[1;32m-> 1853\u001b[1;33m         \u001b[0mself\u001b[0m\u001b[1;33m.\u001b[0m\u001b[0m_reader\u001b[0m \u001b[1;33m=\u001b[0m \u001b[0mparsers\u001b[0m\u001b[1;33m.\u001b[0m\u001b[0mTextReader\u001b[0m\u001b[1;33m(\u001b[0m\u001b[0msrc\u001b[0m\u001b[1;33m,\u001b[0m \u001b[1;33m**\u001b[0m\u001b[0mkwds\u001b[0m\u001b[1;33m)\u001b[0m\u001b[1;33m\u001b[0m\u001b[1;33m\u001b[0m\u001b[0m\n\u001b[0m\u001b[0;32m   1854\u001b[0m         \u001b[0mself\u001b[0m\u001b[1;33m.\u001b[0m\u001b[0munnamed_cols\u001b[0m \u001b[1;33m=\u001b[0m \u001b[0mself\u001b[0m\u001b[1;33m.\u001b[0m\u001b[0m_reader\u001b[0m\u001b[1;33m.\u001b[0m\u001b[0munnamed_cols\u001b[0m\u001b[1;33m\u001b[0m\u001b[1;33m\u001b[0m\u001b[0m\n\u001b[0;32m   1855\u001b[0m \u001b[1;33m\u001b[0m\u001b[0m\n",
      "\u001b[1;32mpandas/_libs/parsers.pyx\u001b[0m in \u001b[0;36mpandas._libs.parsers.TextReader.__cinit__\u001b[1;34m()\u001b[0m\n",
      "\u001b[1;32mpandas/_libs/parsers.pyx\u001b[0m in \u001b[0;36mpandas._libs.parsers.TextReader._setup_parser_source\u001b[1;34m()\u001b[0m\n",
      "\u001b[1;31mFileNotFoundError\u001b[0m: [Errno 2] File b'ads.csv' does not exist: b'ads.csv'"
     ]
    }
   ],
   "source": [
    "# load the \"ads.csv\" file as the variable ads_data\n",
    "# ads_data = pd.read_csv(\"ads.csv\")"
   ]
  },
  {
   "cell_type": "markdown",
   "metadata": {},
   "source": [
    "#### An Aside: Relative file paths\n",
    "The file system for this module will look something like this...\n",
    "<img src=\"assets/pathing.png\" width=\"400px\">\n",
    "_NOTE: folders have rounded edges, and files have sharp edges._\n",
    "\n",
    "Notice this notebook and the \"data\" folder are both within the \"day_4_data_wrangling\" folder. They're both on the same level. In order to properly access the \"ads.csv\" file, we need to go into the \"data folder\". Since __code in this notebook executes relative to this file__, we can look at pathing from this file's perspective - that is to say, if we pretended to walk from this file to the file we wanted, we'd have to go into the \"data\" folder and then declare the file name.\n",
    "\n",
    "__Therefore, our file path is \"data/ads.csv\"__, and not just \"ads.csv\".\n",
    "\n",
    "What might you expect the path to the \"wine.csv\" file to be?"
   ]
  },
  {
   "cell_type": "code",
   "execution_count": 3,
   "metadata": {},
   "outputs": [],
   "source": [
    "ads_data = pd.read_csv(\"data/ads.csv\")"
   ]
  },
  {
   "cell_type": "code",
   "execution_count": 4,
   "metadata": {},
   "outputs": [
    {
     "data": {
      "text/html": [
       "<div>\n",
       "<style scoped>\n",
       "    .dataframe tbody tr th:only-of-type {\n",
       "        vertical-align: middle;\n",
       "    }\n",
       "\n",
       "    .dataframe tbody tr th {\n",
       "        vertical-align: top;\n",
       "    }\n",
       "\n",
       "    .dataframe thead th {\n",
       "        text-align: right;\n",
       "    }\n",
       "</style>\n",
       "<table border=\"1\" class=\"dataframe\">\n",
       "  <thead>\n",
       "    <tr style=\"text-align: right;\">\n",
       "      <th></th>\n",
       "      <th>Unnamed: 0</th>\n",
       "      <th>TV</th>\n",
       "      <th>radio</th>\n",
       "      <th>newspaper</th>\n",
       "      <th>sales</th>\n",
       "    </tr>\n",
       "  </thead>\n",
       "  <tbody>\n",
       "    <tr>\n",
       "      <th>0</th>\n",
       "      <td>1</td>\n",
       "      <td>230.1</td>\n",
       "      <td>37.8</td>\n",
       "      <td>69.2</td>\n",
       "      <td>22.1</td>\n",
       "    </tr>\n",
       "    <tr>\n",
       "      <th>1</th>\n",
       "      <td>2</td>\n",
       "      <td>44.5</td>\n",
       "      <td>39.3</td>\n",
       "      <td>45.1</td>\n",
       "      <td>10.4</td>\n",
       "    </tr>\n",
       "    <tr>\n",
       "      <th>2</th>\n",
       "      <td>3</td>\n",
       "      <td>17.2</td>\n",
       "      <td>45.9</td>\n",
       "      <td>69.3</td>\n",
       "      <td>9.3</td>\n",
       "    </tr>\n",
       "    <tr>\n",
       "      <th>3</th>\n",
       "      <td>4</td>\n",
       "      <td>151.5</td>\n",
       "      <td>41.3</td>\n",
       "      <td>58.5</td>\n",
       "      <td>18.5</td>\n",
       "    </tr>\n",
       "    <tr>\n",
       "      <th>4</th>\n",
       "      <td>5</td>\n",
       "      <td>180.8</td>\n",
       "      <td>10.8</td>\n",
       "      <td>58.4</td>\n",
       "      <td>12.9</td>\n",
       "    </tr>\n",
       "  </tbody>\n",
       "</table>\n",
       "</div>"
      ],
      "text/plain": [
       "   Unnamed: 0     TV  radio  newspaper  sales\n",
       "0           1  230.1   37.8       69.2   22.1\n",
       "1           2   44.5   39.3       45.1   10.4\n",
       "2           3   17.2   45.9       69.3    9.3\n",
       "3           4  151.5   41.3       58.5   18.5\n",
       "4           5  180.8   10.8       58.4   12.9"
      ]
     },
     "execution_count": 4,
     "metadata": {},
     "output_type": "execute_result"
    }
   ],
   "source": [
    "ads_data.head()"
   ]
  },
  {
   "cell_type": "markdown",
   "metadata": {},
   "source": [
    "That first column (\"Unnamed: 0\") is odd...it looks more like an index column.\n",
    "\n",
    "After typing in `pd.read_csv()`, try putting your cursor in between the parentheses and press Shift+Tab. This should pull up the help documentation. If you keep pressing Shift+Tab, the window expands.\n",
    "\n",
    "There are plenty of parameters to specify, but we're interested in `index_col`. Let's set the index_col to the 0th column (in python we start counting from 0!)."
   ]
  },
  {
   "cell_type": "code",
   "execution_count": 5,
   "metadata": {},
   "outputs": [],
   "source": [
    "ads_data = pd.read_csv(\"data/ads.csv\", index_col = 0)"
   ]
  },
  {
   "cell_type": "code",
   "execution_count": 6,
   "metadata": {},
   "outputs": [
    {
     "data": {
      "text/html": [
       "<div>\n",
       "<style scoped>\n",
       "    .dataframe tbody tr th:only-of-type {\n",
       "        vertical-align: middle;\n",
       "    }\n",
       "\n",
       "    .dataframe tbody tr th {\n",
       "        vertical-align: top;\n",
       "    }\n",
       "\n",
       "    .dataframe thead th {\n",
       "        text-align: right;\n",
       "    }\n",
       "</style>\n",
       "<table border=\"1\" class=\"dataframe\">\n",
       "  <thead>\n",
       "    <tr style=\"text-align: right;\">\n",
       "      <th></th>\n",
       "      <th>TV</th>\n",
       "      <th>radio</th>\n",
       "      <th>newspaper</th>\n",
       "      <th>sales</th>\n",
       "    </tr>\n",
       "  </thead>\n",
       "  <tbody>\n",
       "    <tr>\n",
       "      <th>1</th>\n",
       "      <td>230.1</td>\n",
       "      <td>37.8</td>\n",
       "      <td>69.2</td>\n",
       "      <td>22.1</td>\n",
       "    </tr>\n",
       "    <tr>\n",
       "      <th>2</th>\n",
       "      <td>44.5</td>\n",
       "      <td>39.3</td>\n",
       "      <td>45.1</td>\n",
       "      <td>10.4</td>\n",
       "    </tr>\n",
       "    <tr>\n",
       "      <th>3</th>\n",
       "      <td>17.2</td>\n",
       "      <td>45.9</td>\n",
       "      <td>69.3</td>\n",
       "      <td>9.3</td>\n",
       "    </tr>\n",
       "    <tr>\n",
       "      <th>4</th>\n",
       "      <td>151.5</td>\n",
       "      <td>41.3</td>\n",
       "      <td>58.5</td>\n",
       "      <td>18.5</td>\n",
       "    </tr>\n",
       "    <tr>\n",
       "      <th>5</th>\n",
       "      <td>180.8</td>\n",
       "      <td>10.8</td>\n",
       "      <td>58.4</td>\n",
       "      <td>12.9</td>\n",
       "    </tr>\n",
       "  </tbody>\n",
       "</table>\n",
       "</div>"
      ],
      "text/plain": [
       "      TV  radio  newspaper  sales\n",
       "1  230.1   37.8       69.2   22.1\n",
       "2   44.5   39.3       45.1   10.4\n",
       "3   17.2   45.9       69.3    9.3\n",
       "4  151.5   41.3       58.5   18.5\n",
       "5  180.8   10.8       58.4   12.9"
      ]
     },
     "execution_count": 6,
     "metadata": {},
     "output_type": "execute_result"
    }
   ],
   "source": [
    "# try ads_data.head()\n",
    "ads_data.head()"
   ]
  },
  {
   "cell_type": "markdown",
   "metadata": {},
   "source": [
    "Try out some basic Pandas Dataframe methods:\n",
    "- `ads_data.tail()`\n",
    "- `ads_data.describe()`\n",
    "- `ads_data.dtypes`\n",
    "- `ads_data.info()`"
   ]
  },
  {
   "cell_type": "code",
   "execution_count": 7,
   "metadata": {},
   "outputs": [
    {
     "data": {
      "text/html": [
       "<div>\n",
       "<style scoped>\n",
       "    .dataframe tbody tr th:only-of-type {\n",
       "        vertical-align: middle;\n",
       "    }\n",
       "\n",
       "    .dataframe tbody tr th {\n",
       "        vertical-align: top;\n",
       "    }\n",
       "\n",
       "    .dataframe thead th {\n",
       "        text-align: right;\n",
       "    }\n",
       "</style>\n",
       "<table border=\"1\" class=\"dataframe\">\n",
       "  <thead>\n",
       "    <tr style=\"text-align: right;\">\n",
       "      <th></th>\n",
       "      <th>TV</th>\n",
       "      <th>radio</th>\n",
       "      <th>newspaper</th>\n",
       "      <th>sales</th>\n",
       "    </tr>\n",
       "  </thead>\n",
       "  <tbody>\n",
       "    <tr>\n",
       "      <th>196</th>\n",
       "      <td>38.2</td>\n",
       "      <td>3.7</td>\n",
       "      <td>13.8</td>\n",
       "      <td>7.6</td>\n",
       "    </tr>\n",
       "    <tr>\n",
       "      <th>197</th>\n",
       "      <td>94.2</td>\n",
       "      <td>4.9</td>\n",
       "      <td>8.1</td>\n",
       "      <td>9.7</td>\n",
       "    </tr>\n",
       "    <tr>\n",
       "      <th>198</th>\n",
       "      <td>177.0</td>\n",
       "      <td>9.3</td>\n",
       "      <td>6.4</td>\n",
       "      <td>12.8</td>\n",
       "    </tr>\n",
       "    <tr>\n",
       "      <th>199</th>\n",
       "      <td>283.6</td>\n",
       "      <td>42.0</td>\n",
       "      <td>66.2</td>\n",
       "      <td>25.5</td>\n",
       "    </tr>\n",
       "    <tr>\n",
       "      <th>200</th>\n",
       "      <td>232.1</td>\n",
       "      <td>8.6</td>\n",
       "      <td>8.7</td>\n",
       "      <td>13.4</td>\n",
       "    </tr>\n",
       "  </tbody>\n",
       "</table>\n",
       "</div>"
      ],
      "text/plain": [
       "        TV  radio  newspaper  sales\n",
       "196   38.2    3.7       13.8    7.6\n",
       "197   94.2    4.9        8.1    9.7\n",
       "198  177.0    9.3        6.4   12.8\n",
       "199  283.6   42.0       66.2   25.5\n",
       "200  232.1    8.6        8.7   13.4"
      ]
     },
     "execution_count": 7,
     "metadata": {},
     "output_type": "execute_result"
    }
   ],
   "source": [
    "ads_data.tail()"
   ]
  },
  {
   "cell_type": "code",
   "execution_count": 8,
   "metadata": {},
   "outputs": [
    {
     "data": {
      "text/html": [
       "<div>\n",
       "<style scoped>\n",
       "    .dataframe tbody tr th:only-of-type {\n",
       "        vertical-align: middle;\n",
       "    }\n",
       "\n",
       "    .dataframe tbody tr th {\n",
       "        vertical-align: top;\n",
       "    }\n",
       "\n",
       "    .dataframe thead th {\n",
       "        text-align: right;\n",
       "    }\n",
       "</style>\n",
       "<table border=\"1\" class=\"dataframe\">\n",
       "  <thead>\n",
       "    <tr style=\"text-align: right;\">\n",
       "      <th></th>\n",
       "      <th>TV</th>\n",
       "      <th>radio</th>\n",
       "      <th>newspaper</th>\n",
       "      <th>sales</th>\n",
       "    </tr>\n",
       "  </thead>\n",
       "  <tbody>\n",
       "    <tr>\n",
       "      <th>count</th>\n",
       "      <td>200.000000</td>\n",
       "      <td>200.000000</td>\n",
       "      <td>200.000000</td>\n",
       "      <td>200.000000</td>\n",
       "    </tr>\n",
       "    <tr>\n",
       "      <th>mean</th>\n",
       "      <td>147.042500</td>\n",
       "      <td>23.264000</td>\n",
       "      <td>30.554000</td>\n",
       "      <td>14.022500</td>\n",
       "    </tr>\n",
       "    <tr>\n",
       "      <th>std</th>\n",
       "      <td>85.854236</td>\n",
       "      <td>14.846809</td>\n",
       "      <td>21.778621</td>\n",
       "      <td>5.217457</td>\n",
       "    </tr>\n",
       "    <tr>\n",
       "      <th>min</th>\n",
       "      <td>0.700000</td>\n",
       "      <td>0.000000</td>\n",
       "      <td>0.300000</td>\n",
       "      <td>1.600000</td>\n",
       "    </tr>\n",
       "    <tr>\n",
       "      <th>25%</th>\n",
       "      <td>74.375000</td>\n",
       "      <td>9.975000</td>\n",
       "      <td>12.750000</td>\n",
       "      <td>10.375000</td>\n",
       "    </tr>\n",
       "    <tr>\n",
       "      <th>50%</th>\n",
       "      <td>149.750000</td>\n",
       "      <td>22.900000</td>\n",
       "      <td>25.750000</td>\n",
       "      <td>12.900000</td>\n",
       "    </tr>\n",
       "    <tr>\n",
       "      <th>75%</th>\n",
       "      <td>218.825000</td>\n",
       "      <td>36.525000</td>\n",
       "      <td>45.100000</td>\n",
       "      <td>17.400000</td>\n",
       "    </tr>\n",
       "    <tr>\n",
       "      <th>max</th>\n",
       "      <td>296.400000</td>\n",
       "      <td>49.600000</td>\n",
       "      <td>114.000000</td>\n",
       "      <td>27.000000</td>\n",
       "    </tr>\n",
       "  </tbody>\n",
       "</table>\n",
       "</div>"
      ],
      "text/plain": [
       "               TV       radio   newspaper       sales\n",
       "count  200.000000  200.000000  200.000000  200.000000\n",
       "mean   147.042500   23.264000   30.554000   14.022500\n",
       "std     85.854236   14.846809   21.778621    5.217457\n",
       "min      0.700000    0.000000    0.300000    1.600000\n",
       "25%     74.375000    9.975000   12.750000   10.375000\n",
       "50%    149.750000   22.900000   25.750000   12.900000\n",
       "75%    218.825000   36.525000   45.100000   17.400000\n",
       "max    296.400000   49.600000  114.000000   27.000000"
      ]
     },
     "execution_count": 8,
     "metadata": {},
     "output_type": "execute_result"
    }
   ],
   "source": [
    "ads_data.describe()"
   ]
  },
  {
   "cell_type": "code",
   "execution_count": 9,
   "metadata": {},
   "outputs": [
    {
     "data": {
      "text/plain": [
       "TV           float64\n",
       "radio        float64\n",
       "newspaper    float64\n",
       "sales        float64\n",
       "dtype: object"
      ]
     },
     "execution_count": 9,
     "metadata": {},
     "output_type": "execute_result"
    }
   ],
   "source": [
    "ads_data.dtypes"
   ]
  },
  {
   "cell_type": "code",
   "execution_count": 10,
   "metadata": {},
   "outputs": [
    {
     "name": "stdout",
     "output_type": "stream",
     "text": [
      "<class 'pandas.core.frame.DataFrame'>\n",
      "Int64Index: 200 entries, 1 to 200\n",
      "Data columns (total 4 columns):\n",
      "TV           200 non-null float64\n",
      "radio        200 non-null float64\n",
      "newspaper    200 non-null float64\n",
      "sales        200 non-null float64\n",
      "dtypes: float64(4)\n",
      "memory usage: 7.8 KB\n"
     ]
    }
   ],
   "source": [
    "ads_data.info()"
   ]
  },
  {
   "cell_type": "markdown",
   "metadata": {},
   "source": [
    "Let's load in the \"superstore.xls\" file using the `pd.read_excel()` method and store the data in the variable `store_data`.\n",
    "\n",
    "_Note: be mindful of the relative path to the file and the index column!_"
   ]
  },
  {
   "cell_type": "code",
   "execution_count": 11,
   "metadata": {},
   "outputs": [],
   "source": [
    "store_data = pd.read_excel(\"data/superstore.xls\", index_col = 0)"
   ]
  },
  {
   "cell_type": "code",
   "execution_count": 12,
   "metadata": {},
   "outputs": [
    {
     "data": {
      "text/html": [
       "<div>\n",
       "<style scoped>\n",
       "    .dataframe tbody tr th:only-of-type {\n",
       "        vertical-align: middle;\n",
       "    }\n",
       "\n",
       "    .dataframe tbody tr th {\n",
       "        vertical-align: top;\n",
       "    }\n",
       "\n",
       "    .dataframe thead th {\n",
       "        text-align: right;\n",
       "    }\n",
       "</style>\n",
       "<table border=\"1\" class=\"dataframe\">\n",
       "  <thead>\n",
       "    <tr style=\"text-align: right;\">\n",
       "      <th></th>\n",
       "      <th>Order ID</th>\n",
       "      <th>Order Date</th>\n",
       "      <th>Ship Date</th>\n",
       "      <th>Ship Mode</th>\n",
       "      <th>Customer ID</th>\n",
       "      <th>Customer Name</th>\n",
       "      <th>Segment</th>\n",
       "      <th>Country</th>\n",
       "      <th>City</th>\n",
       "      <th>State</th>\n",
       "      <th>Postal Code</th>\n",
       "      <th>Region</th>\n",
       "      <th>Product ID</th>\n",
       "      <th>Category</th>\n",
       "      <th>Sub-Category</th>\n",
       "      <th>Product Name</th>\n",
       "      <th>Sales</th>\n",
       "      <th>Quantity</th>\n",
       "      <th>Discount</th>\n",
       "      <th>Profit</th>\n",
       "    </tr>\n",
       "    <tr>\n",
       "      <th>Row ID</th>\n",
       "      <th></th>\n",
       "      <th></th>\n",
       "      <th></th>\n",
       "      <th></th>\n",
       "      <th></th>\n",
       "      <th></th>\n",
       "      <th></th>\n",
       "      <th></th>\n",
       "      <th></th>\n",
       "      <th></th>\n",
       "      <th></th>\n",
       "      <th></th>\n",
       "      <th></th>\n",
       "      <th></th>\n",
       "      <th></th>\n",
       "      <th></th>\n",
       "      <th></th>\n",
       "      <th></th>\n",
       "      <th></th>\n",
       "      <th></th>\n",
       "    </tr>\n",
       "  </thead>\n",
       "  <tbody>\n",
       "    <tr>\n",
       "      <th>1</th>\n",
       "      <td>CA-2016-152156</td>\n",
       "      <td>2016-11-08</td>\n",
       "      <td>2016-11-11</td>\n",
       "      <td>Second Class</td>\n",
       "      <td>CG-12520</td>\n",
       "      <td>Claire Gute</td>\n",
       "      <td>Consumer</td>\n",
       "      <td>United States</td>\n",
       "      <td>Henderson</td>\n",
       "      <td>Kentucky</td>\n",
       "      <td>42420</td>\n",
       "      <td>South</td>\n",
       "      <td>FUR-BO-10001798</td>\n",
       "      <td>Furniture</td>\n",
       "      <td>Bookcases</td>\n",
       "      <td>Bush Somerset Collection Bookcase</td>\n",
       "      <td>261.9600</td>\n",
       "      <td>2</td>\n",
       "      <td>0.00</td>\n",
       "      <td>41.9136</td>\n",
       "    </tr>\n",
       "    <tr>\n",
       "      <th>2</th>\n",
       "      <td>CA-2016-152156</td>\n",
       "      <td>2016-11-08</td>\n",
       "      <td>2016-11-11</td>\n",
       "      <td>Second Class</td>\n",
       "      <td>CG-12520</td>\n",
       "      <td>Claire Gute</td>\n",
       "      <td>Consumer</td>\n",
       "      <td>United States</td>\n",
       "      <td>Henderson</td>\n",
       "      <td>Kentucky</td>\n",
       "      <td>42420</td>\n",
       "      <td>South</td>\n",
       "      <td>FUR-CH-10000454</td>\n",
       "      <td>Furniture</td>\n",
       "      <td>Chairs</td>\n",
       "      <td>Hon Deluxe Fabric Upholstered Stacking Chairs,...</td>\n",
       "      <td>731.9400</td>\n",
       "      <td>3</td>\n",
       "      <td>0.00</td>\n",
       "      <td>219.5820</td>\n",
       "    </tr>\n",
       "    <tr>\n",
       "      <th>3</th>\n",
       "      <td>CA-2016-138688</td>\n",
       "      <td>2016-06-12</td>\n",
       "      <td>2016-06-16</td>\n",
       "      <td>Second Class</td>\n",
       "      <td>DV-13045</td>\n",
       "      <td>Darrin Van Huff</td>\n",
       "      <td>Corporate</td>\n",
       "      <td>United States</td>\n",
       "      <td>Los Angeles</td>\n",
       "      <td>California</td>\n",
       "      <td>90036</td>\n",
       "      <td>West</td>\n",
       "      <td>OFF-LA-10000240</td>\n",
       "      <td>Office Supplies</td>\n",
       "      <td>Labels</td>\n",
       "      <td>Self-Adhesive Address Labels for Typewriters b...</td>\n",
       "      <td>14.6200</td>\n",
       "      <td>2</td>\n",
       "      <td>0.00</td>\n",
       "      <td>6.8714</td>\n",
       "    </tr>\n",
       "    <tr>\n",
       "      <th>4</th>\n",
       "      <td>US-2015-108966</td>\n",
       "      <td>2015-10-11</td>\n",
       "      <td>2015-10-18</td>\n",
       "      <td>Standard Class</td>\n",
       "      <td>SO-20335</td>\n",
       "      <td>Sean O'Donnell</td>\n",
       "      <td>Consumer</td>\n",
       "      <td>United States</td>\n",
       "      <td>Fort Lauderdale</td>\n",
       "      <td>Florida</td>\n",
       "      <td>33311</td>\n",
       "      <td>South</td>\n",
       "      <td>FUR-TA-10000577</td>\n",
       "      <td>Furniture</td>\n",
       "      <td>Tables</td>\n",
       "      <td>Bretford CR4500 Series Slim Rectangular Table</td>\n",
       "      <td>957.5775</td>\n",
       "      <td>5</td>\n",
       "      <td>0.45</td>\n",
       "      <td>-383.0310</td>\n",
       "    </tr>\n",
       "    <tr>\n",
       "      <th>5</th>\n",
       "      <td>US-2015-108966</td>\n",
       "      <td>2015-10-11</td>\n",
       "      <td>2015-10-18</td>\n",
       "      <td>Standard Class</td>\n",
       "      <td>SO-20335</td>\n",
       "      <td>Sean O'Donnell</td>\n",
       "      <td>Consumer</td>\n",
       "      <td>United States</td>\n",
       "      <td>Fort Lauderdale</td>\n",
       "      <td>Florida</td>\n",
       "      <td>33311</td>\n",
       "      <td>South</td>\n",
       "      <td>OFF-ST-10000760</td>\n",
       "      <td>Office Supplies</td>\n",
       "      <td>Storage</td>\n",
       "      <td>Eldon Fold 'N Roll Cart System</td>\n",
       "      <td>22.3680</td>\n",
       "      <td>2</td>\n",
       "      <td>0.20</td>\n",
       "      <td>2.5164</td>\n",
       "    </tr>\n",
       "  </tbody>\n",
       "</table>\n",
       "</div>"
      ],
      "text/plain": [
       "              Order ID Order Date  Ship Date       Ship Mode Customer ID  \\\n",
       "Row ID                                                                     \n",
       "1       CA-2016-152156 2016-11-08 2016-11-11    Second Class    CG-12520   \n",
       "2       CA-2016-152156 2016-11-08 2016-11-11    Second Class    CG-12520   \n",
       "3       CA-2016-138688 2016-06-12 2016-06-16    Second Class    DV-13045   \n",
       "4       US-2015-108966 2015-10-11 2015-10-18  Standard Class    SO-20335   \n",
       "5       US-2015-108966 2015-10-11 2015-10-18  Standard Class    SO-20335   \n",
       "\n",
       "          Customer Name    Segment        Country             City  \\\n",
       "Row ID                                                               \n",
       "1           Claire Gute   Consumer  United States        Henderson   \n",
       "2           Claire Gute   Consumer  United States        Henderson   \n",
       "3       Darrin Van Huff  Corporate  United States      Los Angeles   \n",
       "4        Sean O'Donnell   Consumer  United States  Fort Lauderdale   \n",
       "5        Sean O'Donnell   Consumer  United States  Fort Lauderdale   \n",
       "\n",
       "             State  Postal Code Region       Product ID         Category  \\\n",
       "Row ID                                                                     \n",
       "1         Kentucky        42420  South  FUR-BO-10001798        Furniture   \n",
       "2         Kentucky        42420  South  FUR-CH-10000454        Furniture   \n",
       "3       California        90036   West  OFF-LA-10000240  Office Supplies   \n",
       "4          Florida        33311  South  FUR-TA-10000577        Furniture   \n",
       "5          Florida        33311  South  OFF-ST-10000760  Office Supplies   \n",
       "\n",
       "       Sub-Category                                       Product Name  \\\n",
       "Row ID                                                                   \n",
       "1         Bookcases                  Bush Somerset Collection Bookcase   \n",
       "2            Chairs  Hon Deluxe Fabric Upholstered Stacking Chairs,...   \n",
       "3            Labels  Self-Adhesive Address Labels for Typewriters b...   \n",
       "4            Tables      Bretford CR4500 Series Slim Rectangular Table   \n",
       "5           Storage                     Eldon Fold 'N Roll Cart System   \n",
       "\n",
       "           Sales  Quantity  Discount    Profit  \n",
       "Row ID                                          \n",
       "1       261.9600         2      0.00   41.9136  \n",
       "2       731.9400         3      0.00  219.5820  \n",
       "3        14.6200         2      0.00    6.8714  \n",
       "4       957.5775         5      0.45 -383.0310  \n",
       "5        22.3680         2      0.20    2.5164  "
      ]
     },
     "execution_count": 12,
     "metadata": {},
     "output_type": "execute_result"
    }
   ],
   "source": [
    "# check out \"store_data.head()\"\n",
    "store_data.head()"
   ]
  },
  {
   "cell_type": "markdown",
   "metadata": {},
   "source": [
    "Try using `store_data.describe()`. What do you notice is missing?"
   ]
  },
  {
   "cell_type": "code",
   "execution_count": 13,
   "metadata": {},
   "outputs": [
    {
     "data": {
      "text/html": [
       "<div>\n",
       "<style scoped>\n",
       "    .dataframe tbody tr th:only-of-type {\n",
       "        vertical-align: middle;\n",
       "    }\n",
       "\n",
       "    .dataframe tbody tr th {\n",
       "        vertical-align: top;\n",
       "    }\n",
       "\n",
       "    .dataframe thead th {\n",
       "        text-align: right;\n",
       "    }\n",
       "</style>\n",
       "<table border=\"1\" class=\"dataframe\">\n",
       "  <thead>\n",
       "    <tr style=\"text-align: right;\">\n",
       "      <th></th>\n",
       "      <th>Postal Code</th>\n",
       "      <th>Sales</th>\n",
       "      <th>Quantity</th>\n",
       "      <th>Discount</th>\n",
       "      <th>Profit</th>\n",
       "    </tr>\n",
       "  </thead>\n",
       "  <tbody>\n",
       "    <tr>\n",
       "      <th>count</th>\n",
       "      <td>9994.000000</td>\n",
       "      <td>9994.000000</td>\n",
       "      <td>9994.000000</td>\n",
       "      <td>9994.000000</td>\n",
       "      <td>9994.000000</td>\n",
       "    </tr>\n",
       "    <tr>\n",
       "      <th>mean</th>\n",
       "      <td>55190.379428</td>\n",
       "      <td>229.858001</td>\n",
       "      <td>3.789574</td>\n",
       "      <td>0.156203</td>\n",
       "      <td>28.656896</td>\n",
       "    </tr>\n",
       "    <tr>\n",
       "      <th>std</th>\n",
       "      <td>32063.693350</td>\n",
       "      <td>623.245101</td>\n",
       "      <td>2.225110</td>\n",
       "      <td>0.206452</td>\n",
       "      <td>234.260108</td>\n",
       "    </tr>\n",
       "    <tr>\n",
       "      <th>min</th>\n",
       "      <td>1040.000000</td>\n",
       "      <td>0.444000</td>\n",
       "      <td>1.000000</td>\n",
       "      <td>0.000000</td>\n",
       "      <td>-6599.978000</td>\n",
       "    </tr>\n",
       "    <tr>\n",
       "      <th>25%</th>\n",
       "      <td>23223.000000</td>\n",
       "      <td>17.280000</td>\n",
       "      <td>2.000000</td>\n",
       "      <td>0.000000</td>\n",
       "      <td>1.728750</td>\n",
       "    </tr>\n",
       "    <tr>\n",
       "      <th>50%</th>\n",
       "      <td>56430.500000</td>\n",
       "      <td>54.490000</td>\n",
       "      <td>3.000000</td>\n",
       "      <td>0.200000</td>\n",
       "      <td>8.666500</td>\n",
       "    </tr>\n",
       "    <tr>\n",
       "      <th>75%</th>\n",
       "      <td>90008.000000</td>\n",
       "      <td>209.940000</td>\n",
       "      <td>5.000000</td>\n",
       "      <td>0.200000</td>\n",
       "      <td>29.364000</td>\n",
       "    </tr>\n",
       "    <tr>\n",
       "      <th>max</th>\n",
       "      <td>99301.000000</td>\n",
       "      <td>22638.480000</td>\n",
       "      <td>14.000000</td>\n",
       "      <td>0.800000</td>\n",
       "      <td>8399.976000</td>\n",
       "    </tr>\n",
       "  </tbody>\n",
       "</table>\n",
       "</div>"
      ],
      "text/plain": [
       "        Postal Code         Sales     Quantity     Discount       Profit\n",
       "count   9994.000000   9994.000000  9994.000000  9994.000000  9994.000000\n",
       "mean   55190.379428    229.858001     3.789574     0.156203    28.656896\n",
       "std    32063.693350    623.245101     2.225110     0.206452   234.260108\n",
       "min     1040.000000      0.444000     1.000000     0.000000 -6599.978000\n",
       "25%    23223.000000     17.280000     2.000000     0.000000     1.728750\n",
       "50%    56430.500000     54.490000     3.000000     0.200000     8.666500\n",
       "75%    90008.000000    209.940000     5.000000     0.200000    29.364000\n",
       "max    99301.000000  22638.480000    14.000000     0.800000  8399.976000"
      ]
     },
     "execution_count": 13,
     "metadata": {},
     "output_type": "execute_result"
    }
   ],
   "source": [
    "store_data.describe()"
   ]
  },
  {
   "cell_type": "markdown",
   "metadata": {},
   "source": [
    "Categorical, or string data (AKA the \"object\" datatype), information is not includeded in `.describe()` by default.\n",
    "Try `store_data.describe(include=\"all\")`"
   ]
  },
  {
   "cell_type": "code",
   "execution_count": 14,
   "metadata": {},
   "outputs": [
    {
     "data": {
      "text/html": [
       "<div>\n",
       "<style scoped>\n",
       "    .dataframe tbody tr th:only-of-type {\n",
       "        vertical-align: middle;\n",
       "    }\n",
       "\n",
       "    .dataframe tbody tr th {\n",
       "        vertical-align: top;\n",
       "    }\n",
       "\n",
       "    .dataframe thead th {\n",
       "        text-align: right;\n",
       "    }\n",
       "</style>\n",
       "<table border=\"1\" class=\"dataframe\">\n",
       "  <thead>\n",
       "    <tr style=\"text-align: right;\">\n",
       "      <th></th>\n",
       "      <th>Order ID</th>\n",
       "      <th>Order Date</th>\n",
       "      <th>Ship Date</th>\n",
       "      <th>Ship Mode</th>\n",
       "      <th>Customer ID</th>\n",
       "      <th>Customer Name</th>\n",
       "      <th>Segment</th>\n",
       "      <th>Country</th>\n",
       "      <th>City</th>\n",
       "      <th>State</th>\n",
       "      <th>Postal Code</th>\n",
       "      <th>Region</th>\n",
       "      <th>Product ID</th>\n",
       "      <th>Category</th>\n",
       "      <th>Sub-Category</th>\n",
       "      <th>Product Name</th>\n",
       "      <th>Sales</th>\n",
       "      <th>Quantity</th>\n",
       "      <th>Discount</th>\n",
       "      <th>Profit</th>\n",
       "    </tr>\n",
       "  </thead>\n",
       "  <tbody>\n",
       "    <tr>\n",
       "      <th>count</th>\n",
       "      <td>9994</td>\n",
       "      <td>9994</td>\n",
       "      <td>9994</td>\n",
       "      <td>9994</td>\n",
       "      <td>9994</td>\n",
       "      <td>9994</td>\n",
       "      <td>9994</td>\n",
       "      <td>9994</td>\n",
       "      <td>9994</td>\n",
       "      <td>9994</td>\n",
       "      <td>9994.000000</td>\n",
       "      <td>9994</td>\n",
       "      <td>9994</td>\n",
       "      <td>9994</td>\n",
       "      <td>9994</td>\n",
       "      <td>9994</td>\n",
       "      <td>9994.000000</td>\n",
       "      <td>9994.000000</td>\n",
       "      <td>9994.000000</td>\n",
       "      <td>9994.000000</td>\n",
       "    </tr>\n",
       "    <tr>\n",
       "      <th>unique</th>\n",
       "      <td>5009</td>\n",
       "      <td>1237</td>\n",
       "      <td>1334</td>\n",
       "      <td>4</td>\n",
       "      <td>793</td>\n",
       "      <td>793</td>\n",
       "      <td>3</td>\n",
       "      <td>1</td>\n",
       "      <td>531</td>\n",
       "      <td>49</td>\n",
       "      <td>NaN</td>\n",
       "      <td>4</td>\n",
       "      <td>1862</td>\n",
       "      <td>3</td>\n",
       "      <td>17</td>\n",
       "      <td>1850</td>\n",
       "      <td>NaN</td>\n",
       "      <td>NaN</td>\n",
       "      <td>NaN</td>\n",
       "      <td>NaN</td>\n",
       "    </tr>\n",
       "    <tr>\n",
       "      <th>top</th>\n",
       "      <td>CA-2017-100111</td>\n",
       "      <td>2016-09-05 00:00:00</td>\n",
       "      <td>2015-12-16 00:00:00</td>\n",
       "      <td>Standard Class</td>\n",
       "      <td>WB-21850</td>\n",
       "      <td>William Brown</td>\n",
       "      <td>Consumer</td>\n",
       "      <td>United States</td>\n",
       "      <td>New York City</td>\n",
       "      <td>California</td>\n",
       "      <td>NaN</td>\n",
       "      <td>West</td>\n",
       "      <td>OFF-PA-10001970</td>\n",
       "      <td>Office Supplies</td>\n",
       "      <td>Binders</td>\n",
       "      <td>Staple envelope</td>\n",
       "      <td>NaN</td>\n",
       "      <td>NaN</td>\n",
       "      <td>NaN</td>\n",
       "      <td>NaN</td>\n",
       "    </tr>\n",
       "    <tr>\n",
       "      <th>freq</th>\n",
       "      <td>14</td>\n",
       "      <td>38</td>\n",
       "      <td>35</td>\n",
       "      <td>5968</td>\n",
       "      <td>37</td>\n",
       "      <td>37</td>\n",
       "      <td>5191</td>\n",
       "      <td>9994</td>\n",
       "      <td>915</td>\n",
       "      <td>2001</td>\n",
       "      <td>NaN</td>\n",
       "      <td>3203</td>\n",
       "      <td>19</td>\n",
       "      <td>6026</td>\n",
       "      <td>1523</td>\n",
       "      <td>48</td>\n",
       "      <td>NaN</td>\n",
       "      <td>NaN</td>\n",
       "      <td>NaN</td>\n",
       "      <td>NaN</td>\n",
       "    </tr>\n",
       "    <tr>\n",
       "      <th>first</th>\n",
       "      <td>NaN</td>\n",
       "      <td>2014-01-03 00:00:00</td>\n",
       "      <td>2014-01-07 00:00:00</td>\n",
       "      <td>NaN</td>\n",
       "      <td>NaN</td>\n",
       "      <td>NaN</td>\n",
       "      <td>NaN</td>\n",
       "      <td>NaN</td>\n",
       "      <td>NaN</td>\n",
       "      <td>NaN</td>\n",
       "      <td>NaN</td>\n",
       "      <td>NaN</td>\n",
       "      <td>NaN</td>\n",
       "      <td>NaN</td>\n",
       "      <td>NaN</td>\n",
       "      <td>NaN</td>\n",
       "      <td>NaN</td>\n",
       "      <td>NaN</td>\n",
       "      <td>NaN</td>\n",
       "      <td>NaN</td>\n",
       "    </tr>\n",
       "    <tr>\n",
       "      <th>last</th>\n",
       "      <td>NaN</td>\n",
       "      <td>2017-12-30 00:00:00</td>\n",
       "      <td>2018-01-05 00:00:00</td>\n",
       "      <td>NaN</td>\n",
       "      <td>NaN</td>\n",
       "      <td>NaN</td>\n",
       "      <td>NaN</td>\n",
       "      <td>NaN</td>\n",
       "      <td>NaN</td>\n",
       "      <td>NaN</td>\n",
       "      <td>NaN</td>\n",
       "      <td>NaN</td>\n",
       "      <td>NaN</td>\n",
       "      <td>NaN</td>\n",
       "      <td>NaN</td>\n",
       "      <td>NaN</td>\n",
       "      <td>NaN</td>\n",
       "      <td>NaN</td>\n",
       "      <td>NaN</td>\n",
       "      <td>NaN</td>\n",
       "    </tr>\n",
       "    <tr>\n",
       "      <th>mean</th>\n",
       "      <td>NaN</td>\n",
       "      <td>NaN</td>\n",
       "      <td>NaN</td>\n",
       "      <td>NaN</td>\n",
       "      <td>NaN</td>\n",
       "      <td>NaN</td>\n",
       "      <td>NaN</td>\n",
       "      <td>NaN</td>\n",
       "      <td>NaN</td>\n",
       "      <td>NaN</td>\n",
       "      <td>55190.379428</td>\n",
       "      <td>NaN</td>\n",
       "      <td>NaN</td>\n",
       "      <td>NaN</td>\n",
       "      <td>NaN</td>\n",
       "      <td>NaN</td>\n",
       "      <td>229.858001</td>\n",
       "      <td>3.789574</td>\n",
       "      <td>0.156203</td>\n",
       "      <td>28.656896</td>\n",
       "    </tr>\n",
       "    <tr>\n",
       "      <th>std</th>\n",
       "      <td>NaN</td>\n",
       "      <td>NaN</td>\n",
       "      <td>NaN</td>\n",
       "      <td>NaN</td>\n",
       "      <td>NaN</td>\n",
       "      <td>NaN</td>\n",
       "      <td>NaN</td>\n",
       "      <td>NaN</td>\n",
       "      <td>NaN</td>\n",
       "      <td>NaN</td>\n",
       "      <td>32063.693350</td>\n",
       "      <td>NaN</td>\n",
       "      <td>NaN</td>\n",
       "      <td>NaN</td>\n",
       "      <td>NaN</td>\n",
       "      <td>NaN</td>\n",
       "      <td>623.245101</td>\n",
       "      <td>2.225110</td>\n",
       "      <td>0.206452</td>\n",
       "      <td>234.260108</td>\n",
       "    </tr>\n",
       "    <tr>\n",
       "      <th>min</th>\n",
       "      <td>NaN</td>\n",
       "      <td>NaN</td>\n",
       "      <td>NaN</td>\n",
       "      <td>NaN</td>\n",
       "      <td>NaN</td>\n",
       "      <td>NaN</td>\n",
       "      <td>NaN</td>\n",
       "      <td>NaN</td>\n",
       "      <td>NaN</td>\n",
       "      <td>NaN</td>\n",
       "      <td>1040.000000</td>\n",
       "      <td>NaN</td>\n",
       "      <td>NaN</td>\n",
       "      <td>NaN</td>\n",
       "      <td>NaN</td>\n",
       "      <td>NaN</td>\n",
       "      <td>0.444000</td>\n",
       "      <td>1.000000</td>\n",
       "      <td>0.000000</td>\n",
       "      <td>-6599.978000</td>\n",
       "    </tr>\n",
       "    <tr>\n",
       "      <th>25%</th>\n",
       "      <td>NaN</td>\n",
       "      <td>NaN</td>\n",
       "      <td>NaN</td>\n",
       "      <td>NaN</td>\n",
       "      <td>NaN</td>\n",
       "      <td>NaN</td>\n",
       "      <td>NaN</td>\n",
       "      <td>NaN</td>\n",
       "      <td>NaN</td>\n",
       "      <td>NaN</td>\n",
       "      <td>23223.000000</td>\n",
       "      <td>NaN</td>\n",
       "      <td>NaN</td>\n",
       "      <td>NaN</td>\n",
       "      <td>NaN</td>\n",
       "      <td>NaN</td>\n",
       "      <td>17.280000</td>\n",
       "      <td>2.000000</td>\n",
       "      <td>0.000000</td>\n",
       "      <td>1.728750</td>\n",
       "    </tr>\n",
       "    <tr>\n",
       "      <th>50%</th>\n",
       "      <td>NaN</td>\n",
       "      <td>NaN</td>\n",
       "      <td>NaN</td>\n",
       "      <td>NaN</td>\n",
       "      <td>NaN</td>\n",
       "      <td>NaN</td>\n",
       "      <td>NaN</td>\n",
       "      <td>NaN</td>\n",
       "      <td>NaN</td>\n",
       "      <td>NaN</td>\n",
       "      <td>56430.500000</td>\n",
       "      <td>NaN</td>\n",
       "      <td>NaN</td>\n",
       "      <td>NaN</td>\n",
       "      <td>NaN</td>\n",
       "      <td>NaN</td>\n",
       "      <td>54.490000</td>\n",
       "      <td>3.000000</td>\n",
       "      <td>0.200000</td>\n",
       "      <td>8.666500</td>\n",
       "    </tr>\n",
       "    <tr>\n",
       "      <th>75%</th>\n",
       "      <td>NaN</td>\n",
       "      <td>NaN</td>\n",
       "      <td>NaN</td>\n",
       "      <td>NaN</td>\n",
       "      <td>NaN</td>\n",
       "      <td>NaN</td>\n",
       "      <td>NaN</td>\n",
       "      <td>NaN</td>\n",
       "      <td>NaN</td>\n",
       "      <td>NaN</td>\n",
       "      <td>90008.000000</td>\n",
       "      <td>NaN</td>\n",
       "      <td>NaN</td>\n",
       "      <td>NaN</td>\n",
       "      <td>NaN</td>\n",
       "      <td>NaN</td>\n",
       "      <td>209.940000</td>\n",
       "      <td>5.000000</td>\n",
       "      <td>0.200000</td>\n",
       "      <td>29.364000</td>\n",
       "    </tr>\n",
       "    <tr>\n",
       "      <th>max</th>\n",
       "      <td>NaN</td>\n",
       "      <td>NaN</td>\n",
       "      <td>NaN</td>\n",
       "      <td>NaN</td>\n",
       "      <td>NaN</td>\n",
       "      <td>NaN</td>\n",
       "      <td>NaN</td>\n",
       "      <td>NaN</td>\n",
       "      <td>NaN</td>\n",
       "      <td>NaN</td>\n",
       "      <td>99301.000000</td>\n",
       "      <td>NaN</td>\n",
       "      <td>NaN</td>\n",
       "      <td>NaN</td>\n",
       "      <td>NaN</td>\n",
       "      <td>NaN</td>\n",
       "      <td>22638.480000</td>\n",
       "      <td>14.000000</td>\n",
       "      <td>0.800000</td>\n",
       "      <td>8399.976000</td>\n",
       "    </tr>\n",
       "  </tbody>\n",
       "</table>\n",
       "</div>"
      ],
      "text/plain": [
       "              Order ID           Order Date            Ship Date  \\\n",
       "count             9994                 9994                 9994   \n",
       "unique            5009                 1237                 1334   \n",
       "top     CA-2017-100111  2016-09-05 00:00:00  2015-12-16 00:00:00   \n",
       "freq                14                   38                   35   \n",
       "first              NaN  2014-01-03 00:00:00  2014-01-07 00:00:00   \n",
       "last               NaN  2017-12-30 00:00:00  2018-01-05 00:00:00   \n",
       "mean               NaN                  NaN                  NaN   \n",
       "std                NaN                  NaN                  NaN   \n",
       "min                NaN                  NaN                  NaN   \n",
       "25%                NaN                  NaN                  NaN   \n",
       "50%                NaN                  NaN                  NaN   \n",
       "75%                NaN                  NaN                  NaN   \n",
       "max                NaN                  NaN                  NaN   \n",
       "\n",
       "             Ship Mode Customer ID  Customer Name   Segment        Country  \\\n",
       "count             9994        9994           9994      9994           9994   \n",
       "unique               4         793            793         3              1   \n",
       "top     Standard Class    WB-21850  William Brown  Consumer  United States   \n",
       "freq              5968          37             37      5191           9994   \n",
       "first              NaN         NaN            NaN       NaN            NaN   \n",
       "last               NaN         NaN            NaN       NaN            NaN   \n",
       "mean               NaN         NaN            NaN       NaN            NaN   \n",
       "std                NaN         NaN            NaN       NaN            NaN   \n",
       "min                NaN         NaN            NaN       NaN            NaN   \n",
       "25%                NaN         NaN            NaN       NaN            NaN   \n",
       "50%                NaN         NaN            NaN       NaN            NaN   \n",
       "75%                NaN         NaN            NaN       NaN            NaN   \n",
       "max                NaN         NaN            NaN       NaN            NaN   \n",
       "\n",
       "                 City       State   Postal Code Region       Product ID  \\\n",
       "count            9994        9994   9994.000000   9994             9994   \n",
       "unique            531          49           NaN      4             1862   \n",
       "top     New York City  California           NaN   West  OFF-PA-10001970   \n",
       "freq              915        2001           NaN   3203               19   \n",
       "first             NaN         NaN           NaN    NaN              NaN   \n",
       "last              NaN         NaN           NaN    NaN              NaN   \n",
       "mean              NaN         NaN  55190.379428    NaN              NaN   \n",
       "std               NaN         NaN  32063.693350    NaN              NaN   \n",
       "min               NaN         NaN   1040.000000    NaN              NaN   \n",
       "25%               NaN         NaN  23223.000000    NaN              NaN   \n",
       "50%               NaN         NaN  56430.500000    NaN              NaN   \n",
       "75%               NaN         NaN  90008.000000    NaN              NaN   \n",
       "max               NaN         NaN  99301.000000    NaN              NaN   \n",
       "\n",
       "               Category Sub-Category     Product Name         Sales  \\\n",
       "count              9994         9994             9994   9994.000000   \n",
       "unique                3           17             1850           NaN   \n",
       "top     Office Supplies      Binders  Staple envelope           NaN   \n",
       "freq               6026         1523               48           NaN   \n",
       "first               NaN          NaN              NaN           NaN   \n",
       "last                NaN          NaN              NaN           NaN   \n",
       "mean                NaN          NaN              NaN    229.858001   \n",
       "std                 NaN          NaN              NaN    623.245101   \n",
       "min                 NaN          NaN              NaN      0.444000   \n",
       "25%                 NaN          NaN              NaN     17.280000   \n",
       "50%                 NaN          NaN              NaN     54.490000   \n",
       "75%                 NaN          NaN              NaN    209.940000   \n",
       "max                 NaN          NaN              NaN  22638.480000   \n",
       "\n",
       "           Quantity     Discount       Profit  \n",
       "count   9994.000000  9994.000000  9994.000000  \n",
       "unique          NaN          NaN          NaN  \n",
       "top             NaN          NaN          NaN  \n",
       "freq            NaN          NaN          NaN  \n",
       "first           NaN          NaN          NaN  \n",
       "last            NaN          NaN          NaN  \n",
       "mean       3.789574     0.156203    28.656896  \n",
       "std        2.225110     0.206452   234.260108  \n",
       "min        1.000000     0.000000 -6599.978000  \n",
       "25%        2.000000     0.000000     1.728750  \n",
       "50%        3.000000     0.200000     8.666500  \n",
       "75%        5.000000     0.200000    29.364000  \n",
       "max       14.000000     0.800000  8399.976000  "
      ]
     },
     "execution_count": 14,
     "metadata": {},
     "output_type": "execute_result"
    }
   ],
   "source": [
    "store_data.describe(include=\"all\")"
   ]
  },
  {
   "cell_type": "markdown",
   "metadata": {},
   "source": [
    "`store_data.describe(include=\"all\")` included ALL of the columns.  \n",
    "Take a moment to make sense of how numeric columns and categorical columns are treated differently."
   ]
  },
  {
   "cell_type": "markdown",
   "metadata": {},
   "source": [
    "Type `pd.read_` and press Tab to see the possibilities via auto-complete.\n",
    "\n",
    "As you can see, there are plenty of ways to read in data using Pandas!"
   ]
  },
  {
   "cell_type": "markdown",
   "metadata": {},
   "source": [
    "### Loading data from web scraping\n",
    "Web scraping takes advantage of the consistent structure websites have. When a website displays data, there is typically a table or table-like structure to it that we can take advantage of.\n",
    "\n",
    "Web scraping is essentially going to a website and pulling data from it, and parsing out the parts we want into a form we want to work with. For example, I'm interested in a sports team, but don't want to keep track of every little change to the roster over time - there are plenty of websites that already keep track of that kind of thing! I can just write a script that pulls the data from the website and gives me all of the players, their names, performance data, etc.\n",
    "\n",
    "To accomplish this we can use the Beautiful Soup package (there are plenty of web scraping libraries out there, so don't feel married to this one!). Feel free to check out the [Beautiful Soup Documentation](https://www.crummy.com/software/BeautifulSoup/bs4/doc/)."
   ]
  },
  {
   "cell_type": "code",
   "execution_count": 15,
   "metadata": {},
   "outputs": [],
   "source": [
    "import pandas as pd\n",
    "import requests # this will handle the raw data, which will then be passed to BeautifulSoup\n",
    "from bs4 import BeautifulSoup"
   ]
  },
  {
   "cell_type": "code",
   "execution_count": 16,
   "metadata": {},
   "outputs": [],
   "source": [
    "# Website URL where data is\n",
    "URL = \"https://www.espn.com/mlb/team/roster/_/name/nym\"\n",
    "\n",
    "# \"visit\" the website and capture the response\n",
    "response = requests.get(URL)\n",
    "\n",
    "# pull just the HTML text as a large string - we'll feed this into BeautifulSoup\n",
    "html = response.text"
   ]
  },
  {
   "cell_type": "code",
   "execution_count": 17,
   "metadata": {},
   "outputs": [
    {
     "data": {
      "text/plain": [
       "'\\n        <!doctype html>\\n        <html lang=\"en\">\\n            <head>\\n                <!-- ESPNFITT | 9b95ad903640 | 3130 | da3f9a28b7fa944253734eb0152261dbaacc86fe | Sun, 01 Dec 2019 19:14:02 GMT -->\\n                <script type=\\'text/javascript\\' >\\n        ;(function(){\\n            function gc(n){var r=document.cookie.match(\"(^|;) ?\"+n+\"=([^;]*)(;|$)\");return r?r[2]:null}function sc(n){document.cookie=n}function smpl(n){var r=n/100;return!!r&&Math.random()<=r}var _nr=!1,_nrCookie=gc(\"_nr\");null!==_nrCookie?\"1\"===_nrCookie&&(_nr=!0):smpl(100)?(_nr=!0,sc(\"_nr=1; path=/\")):(_nr=!1,sc(\"_nr=0; path=/\"));;\\n            _nr && window.NREUM||(NREUM={}),__nr_require=function(t,e,n){function r(n){if(!e[n]){var o=e[n]={exports:{}};t[n][0].call(o.exports,function(e){var o=t[n][1][e];return r(o||e)},o,o.exports)}return e[n].exports}if(\"function\"==typeof __nr_require)return __nr_require;for(var o=0;o<n.length;o++)r(n[o]);return r}({1:[function(t,e,n){function r(t){try{s.console&&console.log(t)}catch('"
      ]
     },
     "execution_count": 17,
     "metadata": {},
     "output_type": "execute_result"
    }
   ],
   "source": [
    "# See the first 1000 characters\n",
    "html[:1000]"
   ]
  },
  {
   "cell_type": "markdown",
   "metadata": {},
   "source": [
    "Instantiate a BeautifulSoup object named `soup` with the `html` string variable"
   ]
  },
  {
   "cell_type": "code",
   "execution_count": 18,
   "metadata": {},
   "outputs": [
    {
     "data": {
      "text/plain": [
       "<!DOCTYPE html>\n",
       "<html lang=\"en\">\n",
       "<head>\n",
       "<!-- ESPNFITT | 9b95ad903640 | 3130 | da3f9a28b7fa944253734eb0152261dbaacc86fe | Sun, 01 Dec 2019 19:14:02 GMT -->\n",
       "<script type=\"text/javascript\">\n",
       "        ;(function(){\n",
       "            function gc(n){var r=document.cookie.match(\"(^|;) ?\"+n+\"=([^;]*)(;|$)\");return r?r[2]:null}function sc(n){document.cookie=n}function smpl(n){var r=n/100;return!!r&&Math.random()<=r}var _nr=!1,_nrCookie=gc(\"_nr\");null!==_nrCookie?\"1\"===_nrCookie&&(_nr=!0):smpl(100)?(_nr=!0,sc(\"_nr=1; path=/\")):(_nr=!1,sc(\"_nr=0; path=/\"));;\n",
       "            _nr && window.NREUM||(NREUM={}),__nr_require=function(t,e,n){function r(n){if(!e[n]){var o=e[n]={exports:{}};t[n][0].call(o.exports,function(e){var o=t[n][1][e];return r(o||e)},o,o.exports)}return e[n].exports}if(\"function\"==typeof __nr_require)return __nr_require;for(var o=0;o<n.length;o++)r(n[o]);return r}({1:[function(t,e,n){function r(t){try{s.console&&console.log(t)}catch(e){}}var o,i=t(\"ee\"),a=t(23),s={};try{o=localStorage.getItem(\"__nr_flags\").split(\",\"),console&&\"function\"==typeof console.log&&(s.console=!0,o.indexOf(\"dev\")!==-1&&(s.dev=!0),o.indexOf(\"nr_dev\")!==-1&&(s.nrDev=!0))}catch(c){}s.nrDev&&i.on(\"internal-error\",function(t){r(t.stack)}),s.dev&&i.on(\"fn-err\",function(t,e,n){r(n.stack)}),s.dev&&(r(\"NR AGENT IN DEVELOPMENT MODE\"),r(\"flags: \"+a(s,function(t,e){return t}).join(\", \")))},{}],2:[function(t,e,n){function r(t,e,n,r,s){try{p?p-=1:o(s||new UncaughtException(t,e,n),!0)}catch(f){try{i(\"ierr\",[f,c.now(),!0])}catch(d){}}return\"function\"==typeof u&&u.apply(this,a(arguments))}function UncaughtException(t,e,n){this.message=t||\"Uncaught error with no additional information\",this.sourceURL=e,this.line=n}function o(t,e){var n=e?null:c.now();i(\"err\",[t,n])}var i=t(\"handle\"),a=t(24),s=t(\"ee\"),c=t(\"loader\"),f=t(\"gos\"),u=window.onerror,d=!1,l=\"nr@seenError\",p=0;c.features.err=!0,t(1),window.onerror=r;try{throw new Error}catch(h){\"stack\"in h&&(t(13),t(12),\"addEventListener\"in window&&t(6),c.xhrWrappable&&t(14),d=!0)}s.on(\"fn-start\",function(t,e,n){d&&(p+=1)}),s.on(\"fn-err\",function(t,e,n){d&&!n[l]&&(f(n,l,function(){return!0}),this.thrown=!0,o(n))}),s.on(\"fn-end\",function(){d&&!this.thrown&&p>0&&(p-=1)}),s.on(\"internal-error\",function(t){i(\"ierr\",[t,c.now(),!0])})},{}],3:[function(t,e,n){t(\"loader\").features.ins=!0},{}],4:[function(t,e,n){function r(){M++,j=y.hash,this[u]=x.now()}function o(){M--,y.hash!==j&&i(0,!0);var t=x.now();this[h]=~~this[h]+t-this[u],this[d]=t}function i(t,e){E.emit(\"newURL\",[\"\"+y,e])}function a(t,e){t.on(e,function(){this[e]=x.now()})}var s=\"-start\",c=\"-end\",f=\"-body\",u=\"fn\"+s,d=\"fn\"+c,l=\"cb\"+s,p=\"cb\"+c,h=\"jsTime\",m=\"fetch\",v=\"addEventListener\",w=window,y=w.location,x=t(\"loader\");if(w[v]&&x.xhrWrappable){var g=t(10),b=t(11),E=t(8),R=t(6),O=t(13),C=t(7),P=t(14),T=t(9),L=t(\"ee\"),S=L.get(\"tracer\");t(16),x.features.spa=!0;var j,M=0;L.on(u,r),L.on(l,r),L.on(d,o),L.on(p,o),L.buffer([u,d,\"xhr-done\",\"xhr-resolved\"]),R.buffer([u]),O.buffer([\"setTimeout\"+c,\"clearTimeout\"+s,u]),P.buffer([u,\"new-xhr\",\"send-xhr\"+s]),C.buffer([m+s,m+\"-done\",m+f+s,m+f+c]),E.buffer([\"newURL\"]),g.buffer([u]),b.buffer([\"propagate\",l,p,\"executor-err\",\"resolve\"+s]),S.buffer([u,\"no-\"+u]),T.buffer([\"new-jsonp\",\"cb-start\",\"jsonp-error\",\"jsonp-end\"]),a(P,\"send-xhr\"+s),a(L,\"xhr-resolved\"),a(L,\"xhr-done\"),a(C,m+s),a(C,m+\"-done\"),a(T,\"new-jsonp\"),a(T,\"jsonp-end\"),a(T,\"cb-start\"),E.on(\"pushState-end\",i),E.on(\"replaceState-end\",i),w[v](\"hashchange\",i,!0),w[v](\"load\",i,!0),w[v](\"popstate\",function(){i(0,M>1)},!0)}},{}],5:[function(t,e,n){function r(t){}if(window.performance&&window.performance.timing&&window.performance.getEntriesByType){var o=t(\"ee\"),i=t(\"handle\"),a=t(13),s=t(12),c=\"learResourceTimings\",f=\"addEventListener\",u=\"resourcetimingbufferfull\",d=\"bstResource\",l=\"resource\",p=\"-start\",h=\"-end\",m=\"fn\"+p,v=\"fn\"+h,w=\"bstTimer\",y=\"pushState\",x=t(\"loader\");x.features.stn=!0,t(8);var g=NREUM.o.EV;o.on(m,function(t,e){var n=t[0];n instanceof g&&(this.bstStart=x.now())}),o.on(v,function(t,e){var n=t[0];n instanceof g&&i(\"bst\",[n,e,this.bstStart,x.now()])}),a.on(m,function(t,e,n){this.bstStart=x.now(),this.bstType=n}),a.on(v,function(t,e){i(w,[e,this.bstStart,x.now(),this.bstType])}),s.on(m,function(){this.bstStart=x.now()}),s.on(v,function(t,e){i(w,[e,this.bstStart,x.now(),\"requestAnimationFrame\"])}),o.on(y+p,function(t){this.time=x.now(),this.startPath=location.pathname+location.hash}),o.on(y+h,function(t){i(\"bstHist\",[location.pathname+location.hash,this.startPath,this.time])}),f in window.performance&&(window.performance[\"c\"+c]?window.performance[f](u,function(t){i(d,[window.performance.getEntriesByType(l)]),window.performance[\"c\"+c]()},!1):window.performance[f](\"webkit\"+u,function(t){i(d,[window.performance.getEntriesByType(l)]),window.performance[\"webkitC\"+c]()},!1)),document[f](\"scroll\",r,{passive:!0}),document[f](\"keypress\",r,!1),document[f](\"click\",r,!1)}},{}],6:[function(t,e,n){function r(t){for(var e=t;e&&!e.hasOwnProperty(u);)e=Object.getPrototypeOf(e);e&&o(e)}function o(t){s.inPlace(t,[u,d],\"-\",i)}function i(t,e){return t[1]}var a=t(\"ee\").get(\"events\"),s=t(26)(a,!0),c=t(\"gos\"),f=XMLHttpRequest,u=\"addEventListener\",d=\"removeEventListener\";e.exports=a,\"getPrototypeOf\"in Object?(r(document),r(window),r(f.prototype)):f.prototype.hasOwnProperty(u)&&(o(window),o(f.prototype)),a.on(u+\"-start\",function(t,e){var n=t[1],r=c(n,\"nr@wrapped\",function(){function t(){if(\"function\"==typeof n.handleEvent)return n.handleEvent.apply(n,arguments)}var e={object:t,\"function\":n}[typeof n];return e?s(e,\"fn-\",null,e.name||\"anonymous\"):n});this.wrapped=t[1]=r}),a.on(d+\"-start\",function(t){t[1]=this.wrapped||t[1]})},{}],7:[function(t,e,n){function r(t,e,n){var r=t[e];\"function\"==typeof r&&(t[e]=function(){var t=r.apply(this,arguments);return o.emit(n+\"start\",arguments,t),t.then(function(e){return o.emit(n+\"end\",[null,e],t),e},function(e){throw o.emit(n+\"end\",[e],t),e})})}var o=t(\"ee\").get(\"fetch\"),i=t(23);e.exports=o;var a=window,s=\"fetch-\",c=s+\"body-\",f=[\"arrayBuffer\",\"blob\",\"json\",\"text\",\"formData\"],u=a.Request,d=a.Response,l=a.fetch,p=\"prototype\";u&&d&&l&&(i(f,function(t,e){r(u[p],e,c),r(d[p],e,c)}),r(a,\"fetch\",s),o.on(s+\"end\",function(t,e){var n=this;if(e){var r=e.headers.get(\"content-length\");null!==r&&(n.rxSize=r),o.emit(s+\"done\",[null,e],n)}else o.emit(s+\"done\",[t],n)}))},{}],8:[function(t,e,n){var r=t(\"ee\").get(\"history\"),o=t(26)(r);e.exports=r,o.inPlace(window.history,[\"pushState\",\"replaceState\"],\"-\")},{}],9:[function(t,e,n){function r(t){function e(){c.emit(\"jsonp-end\",[],l),t.removeEventListener(\"load\",e,!1),t.removeEventListener(\"error\",n,!1)}function n(){c.emit(\"jsonp-error\",[],l),c.emit(\"jsonp-end\",[],l),t.removeEventListener(\"load\",e,!1),t.removeEventListener(\"error\",n,!1)}var r=t&&\"string\"==typeof t.nodeName&&\"script\"===t.nodeName.toLowerCase();if(r){var o=\"function\"==typeof t.addEventListener;if(o){var a=i(t.src);if(a){var u=s(a),d=\"function\"==typeof u.parent[u.key];if(d){var l={};f.inPlace(u.parent,[u.key],\"cb-\",l),t.addEventListener(\"load\",e,!1),t.addEventListener(\"error\",n,!1),c.emit(\"new-jsonp\",[t.src],l)}}}}}function o(){return\"addEventListener\"in window}function i(t){var e=t.match(u);return e?e[1]:null}function a(t,e){var n=t.match(l),r=n[1],o=n[3];return o?a(o,e[r]):e[r]}function s(t){var e=t.match(d);return e&&e.length>=3?{key:e[2],parent:a(e[1],window)}:{key:t,parent:window}}var c=t(\"ee\").get(\"jsonp\"),f=t(26)(c);if(e.exports=c,o()){var u=/[?&](?:callback|cb)=([^&#]+)/,d=/(.*)\\.([^.]+)/,l=/^(\\w+)(\\.|$)(.*)$/,p=[\"appendChild\",\"insertBefore\",\"replaceChild\"];f.inPlace(HTMLElement.prototype,p,\"dom-\"),f.inPlace(HTMLHeadElement.prototype,p,\"dom-\"),f.inPlace(HTMLBodyElement.prototype,p,\"dom-\"),c.on(\"dom-start\",function(t){r(t[0])})}},{}],10:[function(t,e,n){var r=t(\"ee\").get(\"mutation\"),o=t(26)(r),i=NREUM.o.MO;e.exports=r,i&&(window.MutationObserver=function(t){return this instanceof i?new i(o(t,\"fn-\")):i.apply(this,arguments)},MutationObserver.prototype=i.prototype)},{}],11:[function(t,e,n){function r(t){var e=a.context(),n=s(t,\"executor-\",e),r=new f(n);return a.context(r).getCtx=function(){return e},a.emit(\"new-promise\",[r,e],e),r}function o(t,e){return e}var i=t(26),a=t(\"ee\").get(\"promise\"),s=i(a),c=t(23),f=NREUM.o.PR;e.exports=a,f&&(window.Promise=r,[\"all\",\"race\"].forEach(function(t){var e=f[t];f[t]=function(n){function r(t){return function(){a.emit(\"propagate\",[null,!o],i),o=o||!t}}var o=!1;c(n,function(e,n){Promise.resolve(n).then(r(\"all\"===t),r(!1))});var i=e.apply(f,arguments),s=f.resolve(i);return s}}),[\"resolve\",\"reject\"].forEach(function(t){var e=f[t];f[t]=function(t){var n=e.apply(f,arguments);return t!==n&&a.emit(\"propagate\",[t,!0],n),n}}),f.prototype[\"catch\"]=function(t){return this.then(null,t)},f.prototype=Object.create(f.prototype,{constructor:{value:r}}),c(Object.getOwnPropertyNames(f),function(t,e){try{r[e]=f[e]}catch(n){}}),a.on(\"executor-start\",function(t){t[0]=s(t[0],\"resolve-\",this),t[1]=s(t[1],\"resolve-\",this)}),a.on(\"executor-err\",function(t,e,n){t[1](n)}),s.inPlace(f.prototype,[\"then\"],\"then-\",o),a.on(\"then-start\",function(t,e){this.promise=e,t[0]=s(t[0],\"cb-\",this),t[1]=s(t[1],\"cb-\",this)}),a.on(\"then-end\",function(t,e,n){this.nextPromise=n;var r=this.promise;a.emit(\"propagate\",[r,!0],n)}),a.on(\"cb-end\",function(t,e,n){a.emit(\"propagate\",[n,!0],this.nextPromise)}),a.on(\"propagate\",function(t,e,n){this.getCtx&&!e||(this.getCtx=function(){if(t instanceof Promise)var e=a.context(t);return e&&e.getCtx?e.getCtx():this})}),r.toString=function(){return\"\"+f})},{}],12:[function(t,e,n){var r=t(\"ee\").get(\"raf\"),o=t(26)(r),i=\"equestAnimationFrame\";e.exports=r,o.inPlace(window,[\"r\"+i,\"mozR\"+i,\"webkitR\"+i,\"msR\"+i],\"raf-\"),r.on(\"raf-start\",function(t){t[0]=o(t[0],\"fn-\")})},{}],13:[function(t,e,n){function r(t,e,n){t[0]=a(t[0],\"fn-\",null,n)}function o(t,e,n){this.method=n,this.timerDuration=isNaN(t[1])?0:+t[1],t[0]=a(t[0],\"fn-\",this,n)}var i=t(\"ee\").get(\"timer\"),a=t(26)(i),s=\"setTimeout\",c=\"setInterval\",f=\"clearTimeout\",u=\"-start\",d=\"-\";e.exports=i,a.inPlace(window,[s,\"setImmediate\"],s+d),a.inPlace(window,[c],c+d),a.inPlace(window,[f,\"clearImmediate\"],f+d),i.on(c+u,r),i.on(s+u,o)},{}],14:[function(t,e,n){function r(t,e){d.inPlace(e,[\"onreadystatechange\"],\"fn-\",s)}function o(){var t=this,e=u.context(t);t.readyState>3&&!e.resolved&&(e.resolved=!0,u.emit(\"xhr-resolved\",[],t)),d.inPlace(t,y,\"fn-\",s)}function i(t){x.push(t),h&&(b?b.then(a):v?v(a):(E=-E,R.data=E))}function a(){for(var t=0;t<x.length;t++)r([],x[t]);x.length&&(x=[])}function s(t,e){return e}function c(t,e){for(var n in t)e[n]=t[n];return e}t(6);var f=t(\"ee\"),u=f.get(\"xhr\"),d=t(26)(u),l=NREUM.o,p=l.XHR,h=l.MO,m=l.PR,v=l.SI,w=\"readystatechange\",y=[\"onload\",\"onerror\",\"onabort\",\"onloadstart\",\"onloadend\",\"onprogress\",\"ontimeout\"],x=[];e.exports=u;var g=window.XMLHttpRequest=function(t){var e=new p(t);try{u.emit(\"new-xhr\",[e],e),e.addEventListener(w,o,!1)}catch(n){try{u.emit(\"internal-error\",[n])}catch(r){}}return e};if(c(p,g),g.prototype=p.prototype,d.inPlace(g.prototype,[\"open\",\"send\"],\"-xhr-\",s),u.on(\"send-xhr-start\",function(t,e){r(t,e),i(e)}),u.on(\"open-xhr-start\",r),h){var b=m&&m.resolve();if(!v&&!m){var E=1,R=document.createTextNode(E);new h(a).observe(R,{characterData:!0})}}else f.on(\"fn-end\",function(t){t[0]&&t[0].type===w||a()})},{}],15:[function(t,e,n){function r(){var t=window.NREUM,e=t.info.accountID||null,n=t.info.agentID||null,r=t.info.trustKey||null,i=\"btoa\"in window&&\"function\"==typeof window.btoa;if(!e||!n||!i)return null;var a={v:[0,1],d:{ty:\"Browser\",ac:e,ap:n,id:o.generateCatId(),tr:o.generateCatId(),ti:Date.now()}};return r&&e!==r&&(a.d.tk=r),btoa(JSON.stringify(a))}var o=t(21);e.exports={generateTraceHeader:r}},{}],16:[function(t,e,n){function r(t){var e=this.params,n=this.metrics;if(!this.ended){this.ended=!0;for(var r=0;r<p;r++)t.removeEventListener(l[r],this.listener,!1);e.aborted||(n.duration=s.now()-this.startTime,this.loadCaptureCalled||4!==t.readyState?null==e.status&&(e.status=0):a(this,t),n.cbTime=this.cbTime,d.emit(\"xhr-done\",[t],t),c(\"xhr\",[e,n,this.startTime]))}}function o(t,e){var n=t.responseType;if(\"json\"===n&&null!==e)return e;var r=\"arraybuffer\"===n||\"blob\"===n||\"json\"===n?t.response:t.responseText;return v(r)}function i(t,e){var n=f(e),r=t.params;r.host=n.hostname+\":\"+n.port,r.pathname=n.pathname,t.sameOrigin=n.sameOrigin}function a(t,e){t.params.status=e.status;var n=o(e,t.lastSize);if(n&&(t.metrics.rxSize=n),t.sameOrigin){var r=e.getResponseHeader(\"X-NewRelic-App-Data\");r&&(t.params.cat=r.split(\", \").pop())}t.loadCaptureCalled=!0}var s=t(\"loader\");if(s.xhrWrappable){var c=t(\"handle\"),f=t(17),u=t(15).generateTraceHeader,d=t(\"ee\"),l=[\"load\",\"error\",\"abort\",\"timeout\"],p=l.length,h=t(\"id\"),m=t(20),v=t(19),w=window.XMLHttpRequest;s.features.xhr=!0,t(14),d.on(\"new-xhr\",function(t){var e=this;e.totalCbs=0,e.called=0,e.cbTime=0,e.end=r,e.ended=!1,e.xhrGuids={},e.lastSize=null,e.loadCaptureCalled=!1,t.addEventListener(\"load\",function(n){a(e,t)},!1),m&&(m>34||m<10)||window.opera||t.addEventListener(\"progress\",function(t){e.lastSize=t.loaded},!1)}),d.on(\"open-xhr-start\",function(t){this.params={method:t[0]},i(this,t[1]),this.metrics={}}),d.on(\"open-xhr-end\",function(t,e){\"loader_config\"in NREUM&&\"xpid\"in NREUM.loader_config&&this.sameOrigin&&e.setRequestHeader(\"X-NewRelic-ID\",NREUM.loader_config.xpid);var n=!1;if(\"init\"in NREUM&&\"distributed_tracing\"in NREUM.init&&(n=!!NREUM.init.distributed_tracing.enabled),n&&this.sameOrigin){var r=u();r&&e.setRequestHeader(\"newrelic\",r)}}),d.on(\"send-xhr-start\",function(t,e){var n=this.metrics,r=t[0],o=this;if(n&&r){var i=v(r);i&&(n.txSize=i)}this.startTime=s.now(),this.listener=function(t){try{\"abort\"!==t.type||o.loadCaptureCalled||(o.params.aborted=!0),(\"load\"!==t.type||o.called===o.totalCbs&&(o.onloadCalled||\"function\"!=typeof e.onload))&&o.end(e)}catch(n){try{d.emit(\"internal-error\",[n])}catch(r){}}};for(var a=0;a<p;a++)e.addEventListener(l[a],this.listener,!1)}),d.on(\"xhr-cb-time\",function(t,e,n){this.cbTime+=t,e?this.onloadCalled=!0:this.called+=1,this.called!==this.totalCbs||!this.onloadCalled&&\"function\"==typeof n.onload||this.end(n)}),d.on(\"xhr-load-added\",function(t,e){var n=\"\"+h(t)+!!e;this.xhrGuids&&!this.xhrGuids[n]&&(this.xhrGuids[n]=!0,this.totalCbs+=1)}),d.on(\"xhr-load-removed\",function(t,e){var n=\"\"+h(t)+!!e;this.xhrGuids&&this.xhrGuids[n]&&(delete this.xhrGuids[n],this.totalCbs-=1)}),d.on(\"addEventListener-end\",function(t,e){e instanceof w&&\"load\"===t[0]&&d.emit(\"xhr-load-added\",[t[1],t[2]],e)}),d.on(\"removeEventListener-end\",function(t,e){e instanceof w&&\"load\"===t[0]&&d.emit(\"xhr-load-removed\",[t[1],t[2]],e)}),d.on(\"fn-start\",function(t,e,n){e instanceof w&&(\"onload\"===n&&(this.onload=!0),(\"load\"===(t[0]&&t[0].type)||this.onload)&&(this.xhrCbStart=s.now()))}),d.on(\"fn-end\",function(t,e){this.xhrCbStart&&d.emit(\"xhr-cb-time\",[s.now()-this.xhrCbStart,this.onload,e],e)})}},{}],17:[function(t,e,n){e.exports=function(t){var e=document.createElement(\"a\"),n=window.location,r={};e.href=t,r.port=e.port;var o=e.href.split(\"://\");!r.port&&o[1]&&(r.port=o[1].split(\"/\")[0].split(\"@\").pop().split(\":\")[1]),r.port&&\"0\"!==r.port||(r.port=\"https\"===o[0]?\"443\":\"80\"),r.hostname=e.hostname||n.hostname,r.pathname=e.pathname,r.protocol=o[0],\"/\"!==r.pathname.charAt(0)&&(r.pathname=\"/\"+r.pathname);var i=!e.protocol||\":\"===e.protocol||e.protocol===n.protocol,a=e.hostname===document.domain&&e.port===n.port;return r.sameOrigin=i&&(!e.hostname||a),r}},{}],18:[function(t,e,n){function r(){}function o(t,e,n){return function(){return i(t,[f.now()].concat(s(arguments)),e?null:this,n),e?void 0:this}}var i=t(\"handle\"),a=t(23),s=t(24),c=t(\"ee\").get(\"tracer\"),f=t(\"loader\"),u=NREUM;\"undefined\"==typeof window.newrelic&&(newrelic=u);var d=[\"setPageViewName\",\"setCustomAttribute\",\"setErrorHandler\",\"finished\",\"addToTrace\",\"inlineHit\",\"addRelease\"],l=\"api-\",p=l+\"ixn-\";a(d,function(t,e){u[e]=o(l+e,!0,\"api\")}),u.addPageAction=o(l+\"addPageAction\",!0),u.setCurrentRouteName=o(l+\"routeName\",!0),e.exports=newrelic,u.interaction=function(){return(new r).get()};var h=r.prototype={createTracer:function(t,e){var n={},r=this,o=\"function\"==typeof e;return i(p+\"tracer\",[f.now(),t,n],r),function(){if(c.emit((o?\"\":\"no-\")+\"fn-start\",[f.now(),r,o],n),o)try{return e.apply(this,arguments)}catch(t){throw c.emit(\"fn-err\",[arguments,this,t],n),t}finally{c.emit(\"fn-end\",[f.now()],n)}}}};a(\"actionText,setName,setAttribute,save,ignore,onEnd,getContext,end,get\".split(\",\"),function(t,e){h[e]=o(p+e)}),newrelic.noticeError=function(t,e){\"string\"==typeof t&&(t=new Error(t)),i(\"err\",[t,f.now(),!1,e])}},{}],19:[function(t,e,n){e.exports=function(t){if(\"string\"==typeof t&&t.length)return t.length;if(\"object\"==typeof t){if(\"undefined\"!=typeof ArrayBuffer&&t instanceof ArrayBuffer&&t.byteLength)return t.byteLength;if(\"undefined\"!=typeof Blob&&t instanceof Blob&&t.size)return t.size;if(!(\"undefined\"!=typeof FormData&&t instanceof FormData))try{return JSON.stringify(t).length}catch(e){return}}}},{}],20:[function(t,e,n){var r=0,o=navigator.userAgent.match(/Firefox[\\/\\s](\\d+\\.\\d+)/);o&&(r=+o[1]),e.exports=r},{}],21:[function(t,e,n){function r(){function t(){return e?15&e[n++]:16*Math.random()|0}var e=null,n=0,r=window.crypto||window.msCrypto;r&&r.getRandomValues&&(e=r.getRandomValues(new Uint8Array(31)));for(var o,i=\"xxxxxxxx-xxxx-4xxx-yxxx-xxxxxxxxxxxx\",a=\"\",s=0;s<i.length;s++)o=i[s],\"x\"===o?a+=t().toString(16):\"y\"===o?(o=3&t()|8,a+=o.toString(16)):a+=o;return a}function o(){function t(){return e?15&e[n++]:16*Math.random()|0}var e=null,n=0,r=window.crypto||window.msCrypto;r&&r.getRandomValues&&Uint8Array&&(e=r.getRandomValues(new Uint8Array(31)));for(var o=[],i=0;i<16;i++)o.push(t().toString(16));return o.join(\"\")}e.exports={generateUuid:r,generateCatId:o}},{}],22:[function(t,e,n){function r(t,e){if(!o)return!1;if(t!==o)return!1;if(!e)return!0;if(!i)return!1;for(var n=i.split(\".\"),r=e.split(\".\"),a=0;a<r.length;a++)if(r[a]!==n[a])return!1;return!0}var o=null,i=null,a=/Version\\/(\\S+)\\s+Safari/;if(navigator.userAgent){var s=navigator.userAgent,c=s.match(a);c&&s.indexOf(\"Chrome\")===-1&&s.indexOf(\"Chromium\")===-1&&(o=\"Safari\",i=c[1])}e.exports={agent:o,version:i,match:r}},{}],23:[function(t,e,n){function r(t,e){var n=[],r=\"\",i=0;for(r in t)o.call(t,r)&&(n[i]=e(r,t[r]),i+=1);return n}var o=Object.prototype.hasOwnProperty;e.exports=r},{}],24:[function(t,e,n){function r(t,e,n){e||(e=0),\"undefined\"==typeof n&&(n=t?t.length:0);for(var r=-1,o=n-e||0,i=Array(o<0?0:o);++r<o;)i[r]=t[e+r];return i}e.exports=r},{}],25:[function(t,e,n){e.exports={exists:\"undefined\"!=typeof window.performance&&window.performance.timing&&\"undefined\"!=typeof window.performance.timing.navigationStart}},{}],26:[function(t,e,n){function r(t){return!(t&&t instanceof Function&&t.apply&&!t[a])}var o=t(\"ee\"),i=t(24),a=\"nr@original\",s=Object.prototype.hasOwnProperty,c=!1;e.exports=function(t,e){function n(t,e,n,o){function nrWrapper(){var r,a,s,c;try{a=this,r=i(arguments),s=\"function\"==typeof n?n(r,a):n||{}}catch(f){l([f,\"\",[r,a,o],s])}u(e+\"start\",[r,a,o],s);try{return c=t.apply(a,r)}catch(d){throw u(e+\"err\",[r,a,d],s),d}finally{u(e+\"end\",[r,a,c],s)}}return r(t)?t:(e||(e=\"\"),nrWrapper[a]=t,d(t,nrWrapper),nrWrapper)}function f(t,e,o,i){o||(o=\"\");var a,s,c,f=\"-\"===o.charAt(0);for(c=0;c<e.length;c++)s=e[c],a=t[s],r(a)||(t[s]=n(a,f?s+o:o,i,s))}function u(n,r,o){if(!c||e){var i=c;c=!0;try{t.emit(n,r,o,e)}catch(a){l([a,n,r,o])}c=i}}function d(t,e){if(Object.defineProperty&&Object.keys)try{var n=Object.keys(t);return n.forEach(function(n){Object.defineProperty(e,n,{get:function(){return t[n]},set:function(e){return t[n]=e,e}})}),e}catch(r){l([r])}for(var o in t)s.call(t,o)&&(e[o]=t[o]);return e}function l(e){try{t.emit(\"internal-error\",e)}catch(n){}}return t||(t=o),n.inPlace=f,n.flag=a,n}},{}],ee:[function(t,e,n){function r(){}function o(t){function e(t){return t&&t instanceof r?t:t?c(t,s,i):i()}function n(n,r,o,i){if(!l.aborted||i){t&&t(n,r,o);for(var a=e(o),s=m(n),c=s.length,f=0;f<c;f++)s[f].apply(a,r);var d=u[x[n]];return d&&d.push([g,n,r,a]),a}}function p(t,e){y[t]=m(t).concat(e)}function h(t,e){var n=y[t];if(n)for(var r=0;r<n.length;r++)n[r]===e&&n.splice(r,1)}function m(t){return y[t]||[]}function v(t){return d[t]=d[t]||o(n)}function w(t,e){f(t,function(t,n){e=e||\"feature\",x[n]=e,e in u||(u[e]=[])})}var y={},x={},g={on:p,addEventListener:p,removeEventListener:h,emit:n,get:v,listeners:m,context:e,buffer:w,abort:a,aborted:!1};return g}function i(){return new r}function a(){(u.api||u.feature)&&(l.aborted=!0,u=l.backlog={})}var s=\"nr@context\",c=t(\"gos\"),f=t(23),u={},d={},l=e.exports=o();l.backlog=u},{}],gos:[function(t,e,n){function r(t,e,n){if(o.call(t,e))return t[e];var r=n();if(Object.defineProperty&&Object.keys)try{return Object.defineProperty(t,e,{value:r,writable:!0,enumerable:!1}),r}catch(i){}return t[e]=r,r}var o=Object.prototype.hasOwnProperty;e.exports=r},{}],handle:[function(t,e,n){function r(t,e,n,r){o.buffer([t],r),o.emit(t,e,n)}var o=t(\"ee\").get(\"handle\");e.exports=r,r.ee=o},{}],id:[function(t,e,n){function r(t){var e=typeof t;return!t||\"object\"!==e&&\"function\"!==e?-1:t===window?0:a(t,i,function(){return o++})}var o=1,i=\"nr@id\",a=t(\"gos\");e.exports=r},{}],loader:[function(t,e,n){function r(){if(!E++){var t=b.info=NREUM.info,e=p.getElementsByTagName(\"script\")[0];if(setTimeout(u.abort,3e4),!(t&&t.licenseKey&&t.applicationID&&e))return u.abort();f(x,function(e,n){t[e]||(t[e]=n)}),c(\"mark\",[\"onload\",a()+b.offset],null,\"api\");var n=p.createElement(\"script\");n.src=\"https://\"+t.agent,e.parentNode.insertBefore(n,e)}}function o(){\"complete\"===p.readyState&&i()}function i(){c(\"mark\",[\"domContent\",a()+b.offset],null,\"api\")}function a(){return R.exists&&performance.now?Math.round(performance.now()):(s=Math.max((new Date).getTime(),s))-b.offset}var s=(new Date).getTime(),c=t(\"handle\"),f=t(23),u=t(\"ee\"),d=t(22),l=window,p=l.document,h=\"addEventListener\",m=\"attachEvent\",v=l.XMLHttpRequest,w=v&&v.prototype;NREUM.o={ST:setTimeout,SI:l.setImmediate,CT:clearTimeout,XHR:v,REQ:l.Request,EV:l.Event,PR:l.Promise,MO:l.MutationObserver};var y=\"\"+location,x={beacon:\"bam.nr-data.net\",errorBeacon:\"bam.nr-data.net\",agent:\"js-agent.newrelic.com/nr-spa-1123.min.js\"},g=v&&w&&w[h]&&!/CriOS/.test(navigator.userAgent),b=e.exports={offset:s,now:a,origin:y,features:{},xhrWrappable:g,userAgent:d};t(18),p[h]?(p[h](\"DOMContentLoaded\",i,!1),l[h](\"load\",r,!1)):(p[m](\"onreadystatechange\",o),l[m](\"onload\",r)),c(\"mark\",[\"firstbyte\",s],null,\"api\");var E=0,R=t(25)},{}]},{},[\"loader\",2,16,5,3,4]);;NREUM.info={\"beacon\":\"bam.nr-data.net\",\"errorBeacon\":\"bam.nr-data.net\",\"sa\":1,\"licenseKey\":\"d1734eda45\",\"applicationID\":\"350640159\"}\n",
       "        })();\n",
       "    </script>\n",
       "<title data-react-helmet=\"true\">New York Mets Roster | ESPN</title>\n",
       "<meta content=\"Visit ESPN to view the New York Mets team roster for the current season\" data-react-helmet=\"true\" name=\"description\"/><meta content=\"MLB, Baseball, New York Mets, Roster\" data-react-helmet=\"true\" name=\"keywords\"/><meta content=\"116656161708917\" data-react-helmet=\"true\" property=\"fb:app_id\"/><meta content=\"ESPN\" data-react-helmet=\"true\" property=\"og:site_name\"/><meta content=\"https://www.espn.com/mlb/team/roster/_/name/nym\" data-react-helmet=\"true\" property=\"og:url\"/><meta content=\"New York Mets Roster | ESPN\" data-react-helmet=\"true\" property=\"og:title\"/><meta content=\"Visit ESPN to view the New York Mets team roster for the current season\" data-react-helmet=\"true\" property=\"og:description\"/><meta content=\"https://a.espncdn.com/combiner/i?img=/i/teamlogos/mlb/500/nym.png\" data-react-helmet=\"true\" property=\"og:image\"/><meta content=\"500\" data-react-helmet=\"true\" property=\"og:image:width\"/><meta content=\"500\" data-react-helmet=\"true\" property=\"og:image:height\"/><meta content=\"website\" data-react-helmet=\"true\" property=\"og:type\"/><meta content=\"espn\" data-react-helmet=\"true\" name=\"twitter:site\"/><meta content=\"https://www.espn.com/mlb/team/roster/_/name/nym\" data-react-helmet=\"true\" name=\"twitter:url\"/><meta content=\"New York Mets Roster | ESPN\" data-react-helmet=\"true\" name=\"twitter:title\"/><meta content=\"Visit ESPN to view the New York Mets team roster for the current season\" data-react-helmet=\"true\" name=\"twitter:description\"/><meta content=\"summary\" data-react-helmet=\"true\" name=\"twitter:card\"/><meta content=\"https://a.espncdn.com/combiner/i?img=/i/teamlogos/mlb/500/nym.png\" data-react-helmet=\"true\" name=\"twitter:image\"/><meta content=\"ESPN\" data-react-helmet=\"true\" name=\"twitter:app:name:iphone\"/><meta content=\"317469184\" data-react-helmet=\"true\" name=\"twitter:app:id:iphone\"/><meta content=\"ESPN\" data-react-helmet=\"true\" name=\"twitter:app:name:googleplay\"/><meta content=\"com.espn.score_center\" data-react-helmet=\"true\" name=\"twitter:app:id:googleplay\"/><meta content=\"New York Mets Roster | ESPN\" data-react-helmet=\"true\" name=\"title\"/><meta content=\"website\" data-react-helmet=\"true\" name=\"medium\"/>\n",
       "<meta charset=\"utf-8\"/>\n",
       "<meta content=\"initial-scale=1.0, maximum-scale=1.0, user-scalable=no\" name=\"viewport\"/>\n",
       "<meta content=\"IE=edge,chrome=1\" http-equiv=\"x-ua-compatible\"/>\n",
       "<meta content=\"en_US\" property=\"og:locale\"/>\n",
       "<link href=\"//cdn1.espn.net\" rel=\"preconnect\"/>\n",
       "<link crossorigin=\"\" href=\"https://tredir.espn.com\" rel=\"preconnect\"/>\n",
       "<link crossorigin=\"\" href=\"https://cdn.registerdisney.go.com\" rel=\"preconnect\"/>\n",
       "<link crossorigin=\"\" href=\"https://fan.api.espn.com\" rel=\"preconnect\"/>\n",
       "<link crossorigin=\"\" href=\"http://cdn.espn.com\" rel=\"preconnect\"/>\n",
       "<link color=\"#990000\" href=\"https://a.espncdn.com/prod/assets/icons/E.svg\" rel=\"mask-icon\" sizes=\"any\"/>\n",
       "<link href=\"https://a.espncdn.com/favicon.ico\" rel=\"shortcut icon\"/>\n",
       "<link href=\"https://a.espncdn.com/wireless/mw5/r1/images/bookmark-icons-v2/espn-icon-57x57.png\" rel=\"apple-touch-icon\"/>\n",
       "<link href=\"https://a.espncdn.com/wireless/mw5/r1/images/bookmark-icons-v2/espn-icon-57x57.png\" rel=\"apple-touch-icon-precomposed\"/>\n",
       "<link href=\"https://a.espncdn.com/wireless/mw5/r1/images/bookmark-icons-v2/espn-icon-72x72.png\" rel=\"apple-touch-icon-precomposed\" sizes=\"72x72\"/>\n",
       "<link href=\"https://a.espncdn.com/wireless/mw5/r1/images/bookmark-icons-v2/espn-icon-114x114.png\" rel=\"apple-touch-icon-precomposed\" sizes=\"114x114\"/>\n",
       "<link href=\"https://a.espncdn.com/wireless/mw5/r1/images/bookmark-icons-v2/espn-icon-152x152.png\" rel=\"apple-touch-icon-precomposed\" sizes=\"152x152\"/>\n",
       "<link href=\"android-app://com.espn.score_center/sportscenter/x-callback-url/showClubhouse?uid=s:20~l:23&amp;section=team\" rel=\"alternate\"/>\n",
       "<link href=\"ios-app://317469184/sportscenter/x-callback-url/showClubhouse?uid=s:20~l:23&amp;section=team\" rel=\"alternate\"/>\n",
       "<link href=\"//cdn1.espn.net/fitt/da3f9a28b7fa-release-11-20-2019.1/client/css/espnfitt.css\" rel=\"stylesheet\"/>\n",
       "<link data-react-helmet=\"true\" href=\"//cdn1.espn.net/fitt/da3f9a28b7fa-release-11-20-2019.1/client/css/team.roster.css\" rel=\"stylesheet\"/><link data-react-helmet=\"true\" href=\"https://www.espn.com/mlb/team/roster/_/name/nym\" rel=\"canonical\"/><link data-react-helmet=\"true\" href=\"https://www.espn.com/mlb/team/roster/_/name/nym\" hreflang=\"en-us\" rel=\"alternate\"/><link data-react-helmet=\"true\" href=\"https://www.espn.com/mlb/team/roster/_/name/nym\" hreflang=\"en-us\" rel=\"alternate\"/><link data-react-helmet=\"true\" href=\"https://www.espn.com.br/beisebol/mlb/time/elenco/_/nome/nym\" hreflang=\"pt-br\" rel=\"alternate\"/><link data-react-helmet=\"true\" href=\"https://www.espn.com.br/beisebol/mlb/time/elenco/_/nome/nym\" hreflang=\"pt-br\" rel=\"alternate\"/><link data-react-helmet=\"true\" href=\"https://www.espn.in/mlb/team/roster/_/name/nym\" hreflang=\"en-in\" rel=\"alternate\"/><link data-react-helmet=\"true\" href=\"https://espndeportes.espn.com/beisbol/mlb/equipo/plantel/_/nombre/nym\" hreflang=\"es-es\" rel=\"alternate\"/><link data-react-helmet=\"true\" href=\"https://espndeportes.espn.com/beisbol/mlb/equipo/plantel/_/nombre/nym\" hreflang=\"es-es\" rel=\"alternate\"/><link data-react-helmet=\"true\" href=\"https://africa.espn.com/mlb/team/roster/_/name/nym\" hreflang=\"en-za\" rel=\"alternate\"/><link data-react-helmet=\"true\" href=\"https://www.espn.com.ve/beisbol/mlb/equipo/plantel/_/nombre/nym\" hreflang=\"es-ve\" rel=\"alternate\"/><link data-react-helmet=\"true\" href=\"https://www.espn.com.ve/beisbol/mlb/equipo/plantel/_/nombre/nym\" hreflang=\"es-cr\" rel=\"alternate\"/><link data-react-helmet=\"true\" href=\"https://www.espn.cl/beisbol/mlb/equipo/plantel/_/nombre/nym\" hreflang=\"es-cl\" rel=\"alternate\"/><link data-react-helmet=\"true\" href=\"https://www.espn.com.mx/beisbol/mlb/equipo/plantel/_/nombre/nym\" hreflang=\"es-mx\" rel=\"alternate\"/><link data-react-helmet=\"true\" href=\"https://www.espn.com.co/beisbol/mlb/equipo/plantel/_/nombre/nym\" hreflang=\"es-co\" rel=\"alternate\"/><link data-react-helmet=\"true\" href=\"https://www.espn.com.pe/beisbol/mlb/equipo/plantel/_/nombre/nym\" hreflang=\"es-pe\" rel=\"alternate\"/><link data-react-helmet=\"true\" href=\"https://www.espn.com.ar/beisbol/mlb/equipo/plantel/_/nombre/nym\" hreflang=\"es-ar\" rel=\"alternate\"/><link data-react-helmet=\"true\" href=\"https://espndeportes.espn.com/beisbol/mlb/equipo/plantel/_/nombre/nym\" hreflang=\"es-us\" rel=\"alternate\"/><link data-react-helmet=\"true\" href=\"https://tv5.espn.com/mlb/team/roster/_/name/nym\" hreflang=\"en-ph\" rel=\"alternate\"/><link data-react-helmet=\"true\" href=\"https://www.espn.co.uk/mlb/team/roster/_/name/nym\" hreflang=\"en-gb\" rel=\"alternate\"/><link data-react-helmet=\"true\" href=\"https://www.espn.com.sg/mlb/team/roster/_/name/nym\" hreflang=\"en-sg\" rel=\"alternate\"/><link data-react-helmet=\"true\" href=\"https://www.espn.com.gt/beisbol/mlb/equipo/plantel/_/nombre/nym\" hreflang=\"es-gt\" rel=\"alternate\"/><link data-react-helmet=\"true\" href=\"https://www.espn.com.uy/beisbol/mlb/equipo/plantel/_/nombre/nym\" hreflang=\"es-uy\" rel=\"alternate\"/><link data-react-helmet=\"true\" href=\"https://www.espn.com.do/beisbol/mlb/equipo/plantel/_/nombre/nym\" hreflang=\"es-do\" rel=\"alternate\"/><link data-react-helmet=\"true\" href=\"https://www.espn.com.ec/beisbol/mlb/equipo/plantel/_/nombre/nym\" hreflang=\"es-ec\" rel=\"alternate\"/><link data-react-helmet=\"true\" href=\"https://www.espn.com.pa/beisbol/mlb/equipo/plantel/_/nombre/nym\" hreflang=\"es-pa\" rel=\"alternate\"/><link data-react-helmet=\"true\" href=\"https://www.espn.co.cr/beisbol/mlb/equipo/plantel/_/nombre/nym\" hreflang=\"es-cr\" rel=\"alternate\"/>\n",
       "<style id=\"fittLoadingStyle\" type=\"text/css\">\n",
       "   .page-container,\n",
       "   .Nav__Primary .Nav__Primary__Menu .Nav__Primary__Menu__Item a,\n",
       "   .Nav__Primary .Nav__Primary__Menu .Nav__Primary__Menu__Item:hover,\n",
       "    .Nav__Primary .Nav__Primary__Menu .Nav__Primary__Menu__Item .Nav__Primary__Menu__Link,\n",
       "   .Nav__Secondary .Nav__Secondary__Menu .Nav__Secondary__Menu__Title .Nav__Secondary__Menu__Link,\n",
       "    .Nav__Secondary .Nav__Secondary__Menu .Nav__Secondary__Menu__Item .Nav__Secondary__Menu__Link,\n",
       "    .Nav__Secondary .Nav__Secondary__Menu .Nav__Secondary__Menu__Item:hover,\n",
       "    .NavSecondary--GamePackage,\n",
       "   .Gamestrip,\n",
       "   .Nav__Primary__Menu__Item--active:before,\n",
       "   .Ad:before {\n",
       "       opacity:                    0;\n",
       "   }\n",
       "   .NavSecondary__Item.is--active {\n",
       "       box-shadow:                 none !important;\n",
       "   }\n",
       "</style>\n",
       "<noscript>\n",
       "<style type=\"text/css\">\n",
       "                div.HeaderScoreboardContainer, div.Ad, div.sponsored-content { display: none !important; }\n",
       "                .page-container,\n",
       "                .Nav__Primary .Nav__Primary__Menu .Nav__Primary__Menu__Item a,\n",
       "                .Nav__Primary .Nav__Primary__Menu .Nav__Primary__Menu__Item .Nav__Primary__Menu__Link,\n",
       "                .Nav__Secondary .Nav__Secondary__Menu .Nav__Secondary__Menu__Title .Nav__Secondary__Menu__Link,\n",
       "                .Nav__Secondary .Nav__Secondary__Menu .Nav__Secondary__Menu__Item .Nav__Secondary__Menu__Link {\n",
       "                    opacity: 1;\n",
       "                }\n",
       "            </style>\n",
       "</noscript>\n",
       "</head>\n",
       "<body>\n",
       "<div id=\"espnfitt\"><div id=\"DataWrapper\"><div id=\"espn-analytics\"><div class=\"bp-mobileMDPlus bp-mobileLGPlus bp-tabletPlus bp-desktopPlus bp-desktopLGPlus\" data-fitt-page-type=\"team\"><div data-page-modifier=\"\"><div></div><div><div class=\"HeaderScoreboardContainer HeaderScoreboardContainer--loading\"><section aria-label=\"HeaderScoreboard\" class=\"HeaderScoreboard HeaderScoreboard--empty\"><button class=\"HiddenSkipNav\">Skip to navigation</button><div class=\"HeaderScoreboard__Wrapper\"><div class=\"HeaderScoreboard__Carousel__Container\"><div class=\"HeaderScoreboard__Carousel\"><div class=\"HeaderScoreboard__Carousel__Nav HeaderScoreboard__Carousel__Nav--prev is-disabled\"><svg class=\"icon__svg\" viewbox=\"0 0 24 24\"><use xlink:href=\"#icon__caret__left\"></use></svg></div><div class=\"HeaderScoreboard__Carousel__Wrapper\"><div style=\"transform:translateX(0px);transition:0.7s ease\"><section class=\"HeaderScoreboard__Events\"><section class=\"HeaderScoreboard__SportSection\"><div class=\"ScoreCell ScoreCell--md\" role=\"group\"><a class=\"ScoreCell__Link\" data-game-link=\"true\"><div class=\"ScoreCell__Link__Event__Detail\"><div class=\"ScoreCell__CompetitorDetails\"><ul class=\"ScoreCell__Competitors\"></ul></div></div></a></div></section></section></div></div><div class=\"HeaderScoreboard__Carousel__Nav HeaderScoreboard__Carousel__Nav--next is-disabled\"><svg class=\"icon__svg\" viewbox=\"0 0 24 24\"><use xlink:href=\"#icon__caret__right\"></use></svg></div></div></div></div></section></div></div><div class=\"db Site__Header__Wrapper sticky top-0\"><div class=\"Site__Header db left-0 top-0 sticky w-100 bg-clr-gray-02 Site__Header--espn\"><nav class=\"Nav__Primary center flex justify-between items-center\"><div class=\"Nav__Primary__Branding__Logo\"><h1><a class=\"Nav__Primary__ToggleMenu\" href=\"#\"><span>Menu</span></a><a class=\"AnchorLink Nav__Primary__Branding Nav__Primary__Branding--espn\" href=\"/\">ESPN</a></h1></div><ul class=\"Nav__Primary__Menu flex Nav__Primary__Menu--left w-100\"><li aria-hidden=\"false\" class=\"Nav__Primary__Menu__Item flex-none relative\"><a class=\"AnchorLink Nav__Primary__Menu__Link clr-white flex items-center ns7 ph3\" href=\"/nfl/\" tabindex=\"0\"><span class=\"Nav__Text\">NFL</span></a></li><li aria-hidden=\"false\" class=\"Nav__Primary__Menu__Item flex-none relative\"><a class=\"AnchorLink Nav__Primary__Menu__Link clr-white flex items-center ns7 ph3\" href=\"/nba/\" tabindex=\"0\"><span class=\"Nav__Text\">NBA</span></a></li><li aria-hidden=\"false\" class=\"Nav__Primary__Menu__Item flex-none relative\"><a class=\"AnchorLink Nav__Primary__Menu__Link clr-white flex items-center ns7 ph3\" href=\"/college-football/\" tabindex=\"0\"><span class=\"Nav__Text\">NCAAF</span></a></li><li aria-hidden=\"false\" class=\"Nav__Primary__Menu__Item flex-none relative\"><a class=\"AnchorLink Nav__Primary__Menu__Link clr-white flex items-center ns7 ph3\" href=\"/mens-college-basketball/\" tabindex=\"0\"><span class=\"Nav__Text\">NCAAM</span></a></li><li aria-hidden=\"false\" class=\"Nav__Primary__Menu__Item flex-none relative\"><a class=\"AnchorLink Nav__Primary__Menu__Link clr-white flex items-center ns7 ph3\" href=\"/soccer/\" tabindex=\"0\"><span class=\"Nav__Text\">Soccer</span></a></li><li aria-hidden=\"false\" class=\"Nav__Primary__Menu__Item flex-none relative\"><a class=\"AnchorLink Nav__Primary__Menu__Link clr-white flex items-center ns7 ph3\" href=\"/mma/\" tabindex=\"0\"><span class=\"Nav__Text\">MMA</span></a></li><li aria-hidden=\"false\" class=\"Nav__Primary__Menu__Item flex-none relative Nav__Primary__Menu__Item--active\"><a class=\"AnchorLink Nav__Primary__Menu__Link clr-white flex items-center ns7 ph3\" href=\"/mlb/\" tabindex=\"0\"><span class=\"Nav__Text\">MLB</span></a></li><li aria-hidden=\"true\" class=\"Nav__Primary__Menu__Item flex-none relative\"><a class=\"AnchorLink Nav__Primary__Menu__Link clr-white flex items-center ns7 ph3\" href=\"#\" tabindex=\"-1\"><svg class=\"Nav__Primary__Icon__MoreSports icon__svg\" viewbox=\"0 0 24 24\"><use xlink:href=\"#icon__more__dots\"></use></svg></a></li></ul><ul class=\"Nav__Primary__Menu flex Nav__Primary__Menu--right flex-none\"><li aria-hidden=\"false\" class=\"Nav__Primary__Menu__Item flex-none relative\"><a class=\"AnchorLink Nav__Primary__Menu__Link clr-white flex items-center ns7 ph3\" href=\"http://www.espn.com/watch/espnplus/?om-navmethod=topnav\" tabindex=\"0\"><figure class=\"Image aspect-ratio--parent Nav__Primary__Icon__ESPNPlus\"><div class=\"Image__Wrapper aspect-ratio--auto\"><img alt=\"ESPN Plus\" class=\"\" data-mptype=\"image\" src=\"data:image/gif;base64,R0lGODlhAQABAIAAAAAAAP///yH5BAEAAAAALAAAAAABAAEAAAIBRAA7\" title=\"ESPN Plus\"/></div></figure></a></li><li aria-hidden=\"false\" class=\"Nav__Primary__Menu__Item flex-none relative\"><a class=\"AnchorLink Nav__Primary__Menu__Link clr-white flex items-center ns7 ph3\" href=\"http://www.espn.com/watch/\" tabindex=\"0\"><span class=\"Nav__Text\">Watch</span></a></li><li aria-hidden=\"false\" class=\"Nav__Primary__Menu__Item flex-none relative\"><a class=\"AnchorLink Nav__Primary__Menu__Link clr-white flex items-center ns7 ph3\" href=\"http://www.espn.com/espnradio/index\" tabindex=\"0\"><span class=\"Nav__Text\">Listen</span></a></li><li aria-hidden=\"false\" class=\"Nav__Primary__Menu__Item flex-none relative\"><a class=\"AnchorLink Nav__Primary__Menu__Link clr-white flex items-center ns7 ph3\" href=\"/fantasy/\" tabindex=\"0\"><span class=\"Nav__Text\">Fantasy</span></a></li><li aria-hidden=\"true\" class=\"Nav__Primary__Menu__Item flex-none relative\"><a class=\"AnchorLink Nav__Primary__Menu__Link clr-white flex items-center ns7 ph3\" href=\"#\" tabindex=\"-1\"><svg class=\"Nav__Primary__Icon__More icon__svg\" viewbox=\"0 0 24 24\"><use xlink:href=\"#icon__more__grid\"></use></svg></a></li></ul><ul class=\"Nav__Primary__Menu flex Nav__Primary__Menu--right flex-none\"><li aria-hidden=\"true\" class=\"Nav__Primary__Menu__Item Nav__Search flex-none relative\"><form class=\"form absolute\"><div class=\"form__group cf form__group--search\"><div class=\"Typeahead__Wrapper Nav__Search__Typeahead__Wrapper Nav__Search__Typeahead__Wrapper--Hide hasControls\"><input class=\"TypeaheadInput TypeaheadInput--Controls TypeaheadInput--Controls-Double\" label=\"\" placeholder=\"Search Sports, Teams or Players...\" style=\"width:262px\" type=\"search\"/><div class=\"TypeaheadControls absolute\"><svg class=\"TypeaheadControls__Clear TypeaheadControls__Clear--hide icon__svg\" viewbox=\"0 0 24 24\"><use xlink:href=\"#icon__close\"></use></svg><svg class=\"TypeaheadControls__Submit Nav__Search__Icon icon__svg\" viewbox=\"0 0 24 24\"><use xlink:href=\"#icon__search\"></use></svg></div><div class=\"Typeahead__Overlay\"></div></div></div></form><svg class=\"icon__svg\" viewbox=\"0 0 24 24\"><use xlink:href=\"#icon__search\"></use></svg></li><li class=\"Nav__Primary__Menu__Item Nav__Primary__Menu__Item--User flex-none relative\"><div aria-expanded=\"false\" aria-haspopup=\"true\" class=\"Nav__Primary__Menu__Link clr-white flex items-center ns7 ph3\" role=\"button\" tabindex=\"0\"><svg class=\"Nav__Primary__Icon__User icon__svg\" viewbox=\"0 0 24 24\"><use xlink:href=\"#icon__user\"></use></svg></div></li></ul></nav></div></div><div id=\"fittBGContainer\"><div id=\"fittBGContainerInner\"><div id=\"fittBGContainerInside\"><div data-box-type=\"fitt-adbox-wallpaper\" id=\"fittBGAd\"><div class=\"Ad ad-slot\" data-collapse-before-load=\"true\" data-exclude-bp=\"s,m\" data-slot-kvps=\"pos=wallpaper\" data-slot-type=\"wallpaper\"></div></div></div></div></div><div id=\"fittPageContainer\"><div data-box-type=\"fitt-adbox-exclusions\"><div class=\"Ad ad-slot\" data-category-exclusion=\"true\" data-slot-kvps=\"pos=exclusions\" data-slot-type=\"exclusions\"></div></div><div class=\"StickyContainer\" data-sticky-parent=\"true\"><div class=\"\"><div class=\"ClubhouseHeader w-100 overflow-hidden bb ph4 ClubhouseHeader--tabletPlus bg-clr-white brdr-clr-gray-10\"><div class=\"ClubhouseHeader__Container w-100 center flex items-center justify-between\"><div class=\"ClubhouseHeader__Main flex items-center pv3 justify-start\"><figure class=\"Image aspect-ratio--parent ClubhouseHeader__Logo flex-shrink-0\"><div class=\"Image__Wrapper aspect-ratio--1x1\"><img alt=\"Mets\" class=\"aspect-ratio--child\" data-mptype=\"image\" src=\"data:image/gif;base64,R0lGODlhAQABAIAAAAAAAP///yH5BAEAAAAALAAAAAABAAEAAAIBRAA7\" title=\"Mets\"/></div></figure><div class=\"ClubhouseHeader__Main_Aside pl4 relative\"><h1 class=\"ClubhouseHeader__Name ttu flex items-start n2\"><div class=\"flex flex-wrap\"><span class=\"db pr3 nowrap\">New York</span><span class=\"db fw-bold\">Mets</span></div></h1><div class=\"ClubhouseHeader__TeamDetails flex items-center mt3\"><button aria-label=\"Follow\" aria-selected=\"false\" class=\"Button Button--sm Button--alt ClubhouseHeader__Follow\" role=\"button\">Follow</button><ul class=\"list flex ClubhouseHeader__Record n8 ml4\"><li>86-76</li><li>3rd in NL East</li></ul></div></div></div></div></div></div><div class=\"\" data-sticky=\"true\"><div class=\"ScrollSpy_container\"><span></span></div><nav class=\"Nav__Secondary bg-clr-white brdr-clr-gray-03\"><ul class=\"Nav__Secondary__Menu center flex items-center relative\"><li class=\"Nav__Secondary__Menu__Title flex-none n7 mr2 relative hideLogoUntilSticky\"><a class=\"AnchorLink Nav__Secondary__Menu__Link clr-gray-01 flex items-center pl3 pr4\" href=\"#\"><figure class=\"Image aspect-ratio--parent Logo Nav__Secondary__Menu__Logo mr2 Logo__md\"><div class=\"Image__Wrapper aspect-ratio--1x1\"><img alt=\"\" class=\"aspect-ratio--child\" data-mptype=\"image\" src=\"data:image/gif;base64,R0lGODlhAQABAIAAAAAAAP///yH5BAEAAAAALAAAAAABAAEAAAIBRAA7\" title=\"\"/></div></figure><span class=\"Nav__Text\"></span></a></li><li class=\"Nav__Secondary__Menu__Item flex-none n7 relative\"><a class=\"AnchorLink Nav__Secondary__Menu__Link clr-gray-01 flex items-center ph3\" href=\"/mlb/team/_/name/nym\"><span class=\"Nav__Text\">Home</span></a></li><li class=\"Nav__Secondary__Menu__Item flex-none n7 relative\"><a class=\"AnchorLink Nav__Secondary__Menu__Link clr-gray-01 flex items-center ph3\" href=\"/mlb/team/stats/_/name/nym\"><span class=\"Nav__Text\">Stats</span></a></li><li class=\"Nav__Secondary__Menu__Item flex-none n7 relative\"><a class=\"AnchorLink Nav__Secondary__Menu__Link clr-gray-01 flex items-center ph3\" href=\"/mlb/team/schedule/_/name/nym\"><span class=\"Nav__Text\">Schedule</span></a></li><li class=\"Nav__Secondary__Menu__Item flex-none n7 relative Nav__Secondary__Menu__Item--active\"><a class=\"AnchorLink Nav__Secondary__Menu__Link clr-gray-01 flex items-center ph3\" href=\"/mlb/team/roster/_/name/nym\"><span class=\"Nav__Text\">Roster</span></a></li><li class=\"Nav__Secondary__Menu__Item flex-none n7 relative\"><a class=\"AnchorLink Nav__Secondary__Menu__Link clr-gray-01 flex items-center ph3\" href=\"/mlb/team/depth/_/name/nym\"><span class=\"Nav__Text\">Depth Chart</span></a></li><li class=\"Nav__Secondary__Menu__Item flex-none n7 relative\"><a class=\"AnchorLink Nav__Secondary__Menu__Link clr-gray-01 flex items-center ph3\" href=\"/mlb/team/splits/_/name/nym\"><span class=\"Nav__Text\">Splits</span></a></li><li class=\"Nav__Secondary__Menu__Item flex-none n7 relative\"><a class=\"AnchorLink Nav__Secondary__Menu__Link clr-gray-01 flex items-center ph3\" href=\"/mlb/team/injuries/_/name/nym\"><span class=\"Nav__Text\">Injuries</span></a></li><li class=\"Nav__Secondary__Menu__Item flex-none n7 relative\"><a class=\"AnchorLink Nav__Secondary__Menu__Link clr-gray-01 flex items-center ph3\" href=\"/mlb/team/transactions/_/name/nym\"><span class=\"Nav__Text\">Transactions</span></a></li><li class=\"Nav__Secondary__Menu__Item flex-none n7 relative justify-between\"><a class=\"AnchorLink Nav__Secondary__Menu__Link clr-gray-01 flex items-center ph3\" href=\"https://www.vividseats.com/mlb/new-york-mets-tickets.html?wsUser=717&amp;wsVar=undefined~mlb~team,mlb,desktop,\" rel=\"noopener\" target=\"_blank\"><span class=\"Nav__Text\">Tickets</span><svg class=\"icon-external ml2 icon__svg\" viewbox=\"0 0 24 24\"><use xlink:href=\"#icon__external\"></use></svg></a></li><li class=\"Nav__Secondary__Menu__Item flex-none n7 relative Nav__Secondary__Menu__Item--more\"><a class=\"AnchorLink Nav__Secondary__Menu__Link clr-gray-01 flex items-center ph3\" href=\"#\"><span class=\"Nav__Text\">More</span><svg class=\"Nav__Secondary__Menu__DropdownArrow ml2 icon__svg\" style=\"display:block\" viewbox=\"0 0 24 24\"><use xlink:href=\"#icon__caret__down\"></use></svg></a><div class=\"Nav__Dropdown absolute\" style=\"display:block\"><div class=\"Nav__Dropdown__Wrapper flex pa3 bg-clr-white\"><div class=\"flex\"><ul class=\"Nav__Dropdown__Menu__List\"><li><a class=\"AnchorLink Nav__Dropdown__Menu__Link flex items-center ns7 pa3 clr-gray-01\" href=\"http://www.espn.com/fantasy/baseball/?cid=flb2019_espn_teampages_nav\"><span class=\"Nav__Text\">Fantasy Baseball</span></a></li></ul></div></div></div></li></ul></nav></div><div class=\"\" data-sticky=\"true\"><div class=\"StickyContainer--gradient\"></div></div><div data-box-type=\"fitt-adbox-banner\"><div class=\"Ad Ad--banner ad-slot\" data-slot-kvps=\"pos=banner\" data-slot-type=\"banner\"></div></div><div class=\"page-container cf\"><div class=\"layout is-9-3\"><div class=\"layout__column layout__column--1\"><section class=\"Card\"><div class=\"Wrapper Card__Content\"><section><div class=\"flex justify-between mt3 mb3-mb4 items-center\"><h1 class=\"headline headline__h1 dib\">New York Mets Roster</h1><div class=\"dropdown dropdown--md h-100 pageHeading__team-stats-dropdown\"><svg class=\"dropdown__arrow icon__svg\" viewbox=\"0 0 24 24\"><use xlink:href=\"#icon__caret__down\"></use></svg><select class=\"dropdown__select\" style=\"text-overflow:ellipsis;overflow:hidden;width:126px\"><option class=\"dropdown__option\" data-url=\"/mlb/team/roster\" hidden=\"\" value=\"Selected\">More MLB Teams</option><option class=\"dropdown__option\" data-url=\"/mlb/team/roster/_/name/ari/arizona-diamondbacks\" value=\"Selected\">Arizona Diamondbacks</option><option class=\"dropdown__option\" data-url=\"/mlb/team/roster/_/name/atl/atlanta-braves\" value=\"Selected\">Atlanta Braves</option><option class=\"dropdown__option\" data-url=\"/mlb/team/roster/_/name/bal/baltimore-orioles\" value=\"Selected\">Baltimore Orioles</option><option class=\"dropdown__option\" data-url=\"/mlb/team/roster/_/name/bos/boston-red-sox\" value=\"Selected\">Boston Red Sox</option><option class=\"dropdown__option\" data-url=\"/mlb/team/roster/_/name/chc/chicago-cubs\" value=\"Selected\">Chicago Cubs</option><option class=\"dropdown__option\" data-url=\"/mlb/team/roster/_/name/chw/chicago-white-sox\" value=\"Selected\">Chicago White Sox</option><option class=\"dropdown__option\" data-url=\"/mlb/team/roster/_/name/cin/cincinnati-reds\" value=\"Selected\">Cincinnati Reds</option><option class=\"dropdown__option\" data-url=\"/mlb/team/roster/_/name/cle/cleveland-indians\" value=\"Selected\">Cleveland Indians</option><option class=\"dropdown__option\" data-url=\"/mlb/team/roster/_/name/col/colorado-rockies\" value=\"Selected\">Colorado Rockies</option><option class=\"dropdown__option\" data-url=\"/mlb/team/roster/_/name/det/detroit-tigers\" value=\"Selected\">Detroit Tigers</option><option class=\"dropdown__option\" data-url=\"/mlb/team/roster/_/name/hou/houston-astros\" value=\"Selected\">Houston Astros</option><option class=\"dropdown__option\" data-url=\"/mlb/team/roster/_/name/kc/kansas-city-royals\" value=\"Selected\">Kansas City Royals</option><option class=\"dropdown__option\" data-url=\"/mlb/team/roster/_/name/laa/los-angeles-angels\" value=\"Selected\">Los Angeles Angels</option><option class=\"dropdown__option\" data-url=\"/mlb/team/roster/_/name/lad/los-angeles-dodgers\" value=\"Selected\">Los Angeles Dodgers</option><option class=\"dropdown__option\" data-url=\"/mlb/team/roster/_/name/mia/miami-marlins\" value=\"Selected\">Miami Marlins</option><option class=\"dropdown__option\" data-url=\"/mlb/team/roster/_/name/mil/milwaukee-brewers\" value=\"Selected\">Milwaukee Brewers</option><option class=\"dropdown__option\" data-url=\"/mlb/team/roster/_/name/min/minnesota-twins\" value=\"Selected\">Minnesota Twins</option><option class=\"dropdown__option\" data-url=\"/mlb/team/roster/_/name/nym/new-york-mets\" value=\"Selected\">New York Mets</option><option class=\"dropdown__option\" data-url=\"/mlb/team/roster/_/name/nyy/new-york-yankees\" value=\"Selected\">New York Yankees</option><option class=\"dropdown__option\" data-url=\"/mlb/team/roster/_/name/oak/oakland-athletics\" value=\"Selected\">Oakland Athletics</option><option class=\"dropdown__option\" data-url=\"/mlb/team/roster/_/name/phi/philadelphia-phillies\" value=\"Selected\">Philadelphia Phillies</option><option class=\"dropdown__option\" data-url=\"/mlb/team/roster/_/name/pit/pittsburgh-pirates\" value=\"Selected\">Pittsburgh Pirates</option><option class=\"dropdown__option\" data-url=\"/mlb/team/roster/_/name/sd/san-diego-padres\" value=\"Selected\">San Diego Padres</option><option class=\"dropdown__option\" data-url=\"/mlb/team/roster/_/name/sf/san-francisco-giants\" value=\"Selected\">San Francisco Giants</option><option class=\"dropdown__option\" data-url=\"/mlb/team/roster/_/name/sea/seattle-mariners\" value=\"Selected\">Seattle Mariners</option><option class=\"dropdown__option\" data-url=\"/mlb/team/roster/_/name/stl/st-louis-cardinals\" value=\"Selected\">St. Louis Cardinals</option><option class=\"dropdown__option\" data-url=\"/mlb/team/roster/_/name/tb/tampa-bay-rays\" value=\"Selected\">Tampa Bay Rays</option><option class=\"dropdown__option\" data-url=\"/mlb/team/roster/_/name/tex/texas-rangers\" value=\"Selected\">Texas Rangers</option><option class=\"dropdown__option\" data-url=\"/mlb/team/roster/_/name/tor/toronto-blue-jays\" value=\"Selected\">Toronto Blue Jays</option><option class=\"dropdown__option\" data-url=\"/mlb/team/roster/_/name/wsh/washington-nationals\" value=\"Selected\">Washington Nationals</option></select><select class=\"dropdown__select dropdown__select--sizing absolute w-auto\" style=\"visibility:hidden\"><option></option></select></div></div><div><section class=\"ResponsiveTable Pitchers\"><div class=\"Table__Title\">Pitchers</div><div class=\"flex\"><div class=\"Table__ScrollerWrapper relative overflow-hidden\"><div class=\"Table__Shadow--left\" style=\"opacity:0\"></div><div class=\"Table__Scroller\"><table cellpadding=\"0\" cellspacing=\"0\" class=\"Table\"><colgroup class=\"Table__Colgroup\" span=\"9\"><col class=\"Table__Column\"/><col class=\"Table__Column\"/><col class=\"Table__Column\"/><col class=\"Table__Column\"/><col class=\"Table__Column\"/><col class=\"Table__Column\"/><col class=\"Table__Column\"/><col class=\"Table__Column\"/><col class=\"Table__Column\"/></colgroup><thead class=\"Table__sub-header Table__THEAD\"><tr class=\"Table__TR Table__even\"><th class=\"Table__TD--headshot Table__TH\" title=\"\"><span class=\"fw-medium w-100 dib Table__TD--headshot\" style=\"min-width:40px\" title=\"\"></span></th><th class=\"Table__TH\" title=\"\"><span class=\"fw-medium w-100 dib\" style=\"min-width:140px\" title=\"\">Name</span></th><th class=\"Table__TH\" title=\"\"><span class=\"fw-medium w-100 dib\" style=\"min-width:40px\" title=\"\">POS</span></th><th class=\"Table__TH\" title=\"\"><span class=\"fw-medium w-100 dib underline\" style=\"min-width:40px\" title=\"\"><a class=\"AnchorLink clr-gray-04\" href=\"/mlb/team/roster/_/name/nym/sort/bats/dir/asc\">BAT</a></span></th><th class=\"Table__TH\" title=\"\"><span class=\"fw-medium w-100 dib underline\" style=\"min-width:40px\" title=\"\"><a class=\"AnchorLink clr-gray-04\" href=\"/mlb/team/roster/_/name/nym/sort/throws/dir/asc\">THW</a></span></th><th class=\"column-width-small Table__TH\" title=\"\"><span class=\"fw-medium w-100 dib underline column-width-small\" style=\"min-width:40px\" title=\"\"><a class=\"AnchorLink clr-gray-04\" href=\"/mlb/team/roster/_/name/nym/sort/age/dir/asc\">Age</a></span></th><th class=\"Table__TH\" title=\"\"><span class=\"fw-medium w-100 dib underline\" style=\"min-width:50px\" title=\"\"><a class=\"AnchorLink clr-gray-04\" href=\"/mlb/team/roster/_/name/nym/sort/height/dir/asc\">HT</a></span></th><th class=\"Table__TH\" title=\"\"><span class=\"fw-medium w-100 dib underline\" style=\"min-width:70px\" title=\"\"><a class=\"AnchorLink clr-gray-04\" href=\"/mlb/team/roster/_/name/nym/sort/weight/dir/asc\">WT</a></span></th><th class=\"Table__TH\" title=\"\"><span class=\"fw-medium w-100 dib\" style=\"min-width:140px\" title=\"\">Birth Place</span></th></tr></thead><tbody class=\"Table__TBODY\"><tr class=\"Table__TR Table__TR--lg Table__even\" data-idx=\"0\"><td class=\"Table__TD--headshot Table__TD\"><span class=\"Table__TD--headshot\" style=\"min-width:40px\"><a class=\"AnchorLink\" href=\"http://www.espn.com/mlb/player/_/id/39808\"><div class=\"headshot inline-block relative TableHeadshot roster-headshot headshot--sm athlete silo\"><figure class=\"Image aspect-ratio--parent\"><div class=\"Image__Wrapper aspect-ratio--1x1\"><img alt=\"https://a.espncdn.com/i/headshots/mlb/players/full/39808.png\" class=\"aspect-ratio--child\" data-mptype=\"image\" src=\"data:image/gif;base64,R0lGODlhAQABAIAAAAAAAP///yH5BAEAAAAALAAAAAABAAEAAAIBRAA7\" title=\"Tyler Bashlor\"/></div></figure></div></a></span></td><td class=\"Table__TD\"><span class=\"\" style=\"min-width:140px\"><a class=\"AnchorLink\" href=\"http://www.espn.com/mlb/player/_/id/39808\">Tyler Bashlor</a><span class=\"pl2 n10\">49</span></span></td><td class=\"Table__TD\"><span class=\"\" style=\"min-width:40px\">RP</span></td><td class=\"Table__TD\"><span class=\"\" style=\"min-width:40px\">R</span></td><td class=\"Table__TD\"><span class=\"\" style=\"min-width:40px\">R</span></td><td class=\"Table__TD\"><span class=\"\" style=\"min-width:40px\">26</span></td><td class=\"Table__TD\"><span class=\"\" style=\"min-width:50px\">6' 0\"</span></td><td class=\"Table__TD\"><span class=\"\" style=\"min-width:70px\">197 lbs</span></td><td class=\"Table__TD\"><span class=\"\" style=\"min-width:140px\">Springfield, GA</span></td></tr><tr class=\"Table__TR Table__TR--lg Table__even\" data-idx=\"1\"><td class=\"Table__TD--headshot Table__TD\"><span class=\"Table__TD--headshot\" style=\"min-width:40px\"><a class=\"AnchorLink\" href=\"http://www.espn.com/mlb/player/_/id/35394\"><div class=\"headshot inline-block relative TableHeadshot roster-headshot headshot--sm athlete silo\"><figure class=\"Image aspect-ratio--parent\"><div class=\"Image__Wrapper aspect-ratio--1x1\"><img alt=\"https://a.espncdn.com/i/headshots/mlb/players/full/35394.png\" class=\"aspect-ratio--child\" data-mptype=\"image\" src=\"data:image/gif;base64,R0lGODlhAQABAIAAAAAAAP///yH5BAEAAAAALAAAAAABAAEAAAIBRAA7\" title=\"Edwin Diaz\"/></div></figure></div></a></span></td><td class=\"Table__TD\"><span class=\"\" style=\"min-width:140px\"><a class=\"AnchorLink\" href=\"http://www.espn.com/mlb/player/_/id/35394\">Edwin Diaz</a><span class=\"pl2 n10\">39</span></span></td><td class=\"Table__TD\"><span class=\"\" style=\"min-width:40px\">RP</span></td><td class=\"Table__TD\"><span class=\"\" style=\"min-width:40px\">R</span></td><td class=\"Table__TD\"><span class=\"\" style=\"min-width:40px\">R</span></td><td class=\"Table__TD\"><span class=\"\" style=\"min-width:40px\">25</span></td><td class=\"Table__TD\"><span class=\"\" style=\"min-width:50px\">6' 3\"</span></td><td class=\"Table__TD\"><span class=\"\" style=\"min-width:70px\">165 lbs</span></td><td class=\"Table__TD\"><span class=\"\" style=\"min-width:140px\">Naguabo, Puerto Rico</span></td></tr><tr class=\"Table__TR Table__TR--lg Table__even\" data-idx=\"2\"><td class=\"Table__TD--headshot Table__TD\"><span class=\"Table__TD--headshot\" style=\"min-width:40px\"><a class=\"AnchorLink\" href=\"http://www.espn.com/mlb/player/_/id/31687\"><div class=\"headshot inline-block relative TableHeadshot roster-headshot headshot--sm athlete silo\"><figure class=\"Image aspect-ratio--parent\"><div class=\"Image__Wrapper aspect-ratio--1x1\"><img alt=\"https://a.espncdn.com/i/headshots/mlb/players/full/31687.png\" class=\"aspect-ratio--child\" data-mptype=\"image\" src=\"data:image/gif;base64,R0lGODlhAQABAIAAAAAAAP///yH5BAEAAAAALAAAAAABAAEAAAIBRAA7\" title=\"Jeurys Familia\"/></div></figure></div></a></span></td><td class=\"Table__TD\"><span class=\"\" style=\"min-width:140px\"><a class=\"AnchorLink\" href=\"http://www.espn.com/mlb/player/_/id/31687\">Jeurys Familia</a><span class=\"pl2 n10\">27</span></span></td><td class=\"Table__TD\"><span class=\"\" style=\"min-width:40px\">RP</span></td><td class=\"Table__TD\"><span class=\"\" style=\"min-width:40px\">R</span></td><td class=\"Table__TD\"><span class=\"\" style=\"min-width:40px\">R</span></td><td class=\"Table__TD\"><span class=\"\" style=\"min-width:40px\">30</span></td><td class=\"Table__TD\"><span class=\"\" style=\"min-width:50px\">6' 3\"</span></td><td class=\"Table__TD\"><span class=\"\" style=\"min-width:70px\">240 lbs</span></td><td class=\"Table__TD\"><span class=\"\" style=\"min-width:140px\">Santo Domingo, Dominican Republic</span></td></tr><tr class=\"Table__TR Table__TR--lg Table__even\" data-idx=\"3\"><td class=\"Table__TD--headshot Table__TD\"><span class=\"Table__TD--headshot\" style=\"min-width:40px\"><a class=\"AnchorLink\" href=\"http://www.espn.com/mlb/player/_/id/36067\"><div class=\"headshot inline-block relative TableHeadshot roster-headshot headshot--sm athlete silo\"><figure class=\"Image aspect-ratio--parent\"><div class=\"Image__Wrapper aspect-ratio--1x1\"><img alt=\"https://a.espncdn.com/i/headshots/mlb/players/full/36067.png\" class=\"aspect-ratio--child\" data-mptype=\"image\" src=\"data:image/gif;base64,R0lGODlhAQABAIAAAAAAAP///yH5BAEAAAAALAAAAAABAAEAAAIBRAA7\" title=\"Chris Flexen\"/></div></figure></div></a></span></td><td class=\"Table__TD\"><span class=\"\" style=\"min-width:140px\"><a class=\"AnchorLink\" href=\"http://www.espn.com/mlb/player/_/id/36067\">Chris Flexen</a><span class=\"pl2 n10\">64</span></span></td><td class=\"Table__TD\"><span class=\"\" style=\"min-width:40px\">RP</span></td><td class=\"Table__TD\"><span class=\"\" style=\"min-width:40px\">R</span></td><td class=\"Table__TD\"><span class=\"\" style=\"min-width:40px\">R</span></td><td class=\"Table__TD\"><span class=\"\" style=\"min-width:40px\">25</span></td><td class=\"Table__TD\"><span class=\"\" style=\"min-width:50px\">6' 3\"</span></td><td class=\"Table__TD\"><span class=\"\" style=\"min-width:70px\">235 lbs</span></td><td class=\"Table__TD\"><span class=\"\" style=\"min-width:140px\">Newark, CA</span></td></tr><tr class=\"Table__TR Table__TR--lg Table__even\" data-idx=\"4\"><td class=\"Table__TD--headshot Table__TD\"><span class=\"Table__TD--headshot\" style=\"min-width:40px\"><a class=\"AnchorLink\" href=\"http://www.espn.com/mlb/player/_/id/33758\"><div class=\"headshot inline-block relative TableHeadshot roster-headshot headshot--sm athlete silo\"><figure class=\"Image aspect-ratio--parent\"><div class=\"Image__Wrapper aspect-ratio--1x1\"><img alt=\"https://a.espncdn.com/i/headshots/mlb/players/full/33758.png\" class=\"aspect-ratio--child\" data-mptype=\"image\" src=\"data:image/gif;base64,R0lGODlhAQABAIAAAAAAAP///yH5BAEAAAAALAAAAAABAAEAAAIBRAA7\" title=\"Stephen Gonsalves\"/></div></figure></div></a></span></td><td class=\"Table__TD\"><span class=\"\" style=\"min-width:140px\"><a class=\"AnchorLink\" href=\"http://www.espn.com/mlb/player/_/id/33758\">Stephen Gonsalves</a><span class=\"pl2 n10\">59</span></span></td><td class=\"Table__TD\"><span class=\"\" style=\"min-width:40px\">SP</span></td><td class=\"Table__TD\"><span class=\"\" style=\"min-width:40px\">L</span></td><td class=\"Table__TD\"><span class=\"\" style=\"min-width:40px\">L</span></td><td class=\"Table__TD\"><span class=\"\" style=\"min-width:40px\">25</span></td><td class=\"Table__TD\"><span class=\"\" style=\"min-width:50px\">6' 5\"</span></td><td class=\"Table__TD\"><span class=\"\" style=\"min-width:70px\">213 lbs</span></td><td class=\"Table__TD\"><span class=\"\" style=\"min-width:140px\">San Diego, CA</span></td></tr><tr class=\"Table__TR Table__TR--lg Table__even\" data-idx=\"5\"><td class=\"Table__TD--headshot Table__TD\"><span class=\"Table__TD--headshot\" style=\"min-width:40px\"><a class=\"AnchorLink\" href=\"http://www.espn.com/mlb/player/_/id/34872\"><div class=\"headshot inline-block relative TableHeadshot roster-headshot headshot--sm athlete silo\"><figure class=\"Image aspect-ratio--parent\"><div class=\"Image__Wrapper aspect-ratio--1x1\"><img alt=\"https://a.espncdn.com/i/headshots/mlb/players/full/34872.png\" class=\"aspect-ratio--child\" data-mptype=\"image\" src=\"data:image/gif;base64,R0lGODlhAQABAIAAAAAAAP///yH5BAEAAAAALAAAAAABAAEAAAIBRAA7\" title=\"Robert Gsellman\"/></div></figure></div></a></span></td><td class=\"Table__TD\"><span class=\"\" style=\"min-width:140px\"><a class=\"AnchorLink\" href=\"http://www.espn.com/mlb/player/_/id/34872\">Robert Gsellman</a><span class=\"pl2 n10\">65</span></span></td><td class=\"Table__TD\"><span class=\"\" style=\"min-width:40px\">RP</span></td><td class=\"Table__TD\"><span class=\"\" style=\"min-width:40px\">R</span></td><td class=\"Table__TD\"><span class=\"\" style=\"min-width:40px\">R</span></td><td class=\"Table__TD\"><span class=\"\" style=\"min-width:40px\">26</span></td><td class=\"Table__TD\"><span class=\"\" style=\"min-width:50px\">6' 4\"</span></td><td class=\"Table__TD\"><span class=\"\" style=\"min-width:70px\">205 lbs</span></td><td class=\"Table__TD\"><span class=\"\" style=\"min-width:140px\">Santa Monica, CA</span></td></tr><tr class=\"Table__TR Table__TR--lg Table__even\" data-idx=\"6\"><td class=\"Table__TD--headshot Table__TD\"><span class=\"Table__TD--headshot\" style=\"min-width:40px\"><a class=\"AnchorLink\" href=\"http://www.espn.com/mlb/player/_/id/41011\"><div class=\"headshot inline-block relative TableHeadshot roster-headshot headshot--sm athlete silo\"><figure class=\"Image aspect-ratio--parent\"><div class=\"Image__Wrapper aspect-ratio--1x1 Image__Fallback\"><figure class=\"Image aspect-ratio--parent\"><div class=\"Image__Wrapper aspect-ratio--1x1\"><img alt=\"headshot fallback image\" class=\"aspect-ratio--child\" data-mptype=\"image\" src=\"data:image/gif;base64,R0lGODlhAQABAIAAAAAAAP///yH5BAEAAAAALAAAAAABAAEAAAIBRAA7\" title=\"headshot fallback image\"/></div></figure></div></figure></div></a></span></td><td class=\"Table__TD\"><span class=\"\" style=\"min-width:140px\"><a class=\"AnchorLink\" href=\"http://www.espn.com/mlb/player/_/id/41011\">Jordan Humphreys</a><span class=\"pl2 n10\">46</span></span></td><td class=\"Table__TD\"><span class=\"\" style=\"min-width:40px\">SP</span></td><td class=\"Table__TD\"><span class=\"\" style=\"min-width:40px\">R</span></td><td class=\"Table__TD\"><span class=\"\" style=\"min-width:40px\">R</span></td><td class=\"Table__TD\"><span class=\"\" style=\"min-width:40px\">23</span></td><td class=\"Table__TD\"><span class=\"\" style=\"min-width:50px\">6' 2\"</span></td><td class=\"Table__TD\"><span class=\"\" style=\"min-width:70px\">223 lbs</span></td><td class=\"Table__TD\"><span class=\"\" style=\"min-width:140px\">Crystal River, FL</span></td></tr><tr class=\"Table__TR Table__TR--lg Table__even\" data-idx=\"7\"><td class=\"Table__TD--headshot Table__TD\"><span class=\"Table__TD--headshot\" style=\"min-width:40px\"><a class=\"AnchorLink\" href=\"http://www.espn.com/mlb/player/_/id/33836\"><div class=\"headshot inline-block relative TableHeadshot roster-headshot headshot--sm athlete silo\"><figure class=\"Image aspect-ratio--parent\"><div class=\"Image__Wrapper aspect-ratio--1x1\"><img alt=\"https://a.espncdn.com/i/headshots/mlb/players/full/33836.png\" class=\"aspect-ratio--child\" data-mptype=\"image\" src=\"data:image/gif;base64,R0lGODlhAQABAIAAAAAAAP///yH5BAEAAAAALAAAAAABAAEAAAIBRAA7\" title=\"Franklyn Kilome\"/></div></figure></div></a></span></td><td class=\"Table__TD\"><span class=\"\" style=\"min-width:140px\"><a class=\"AnchorLink\" href=\"http://www.espn.com/mlb/player/_/id/33836\">Franklyn Kilome</a><span class=\"pl2 n10\">66</span></span></td><td class=\"Table__TD\"><span class=\"\" style=\"min-width:40px\">SP</span></td><td class=\"Table__TD\"><span class=\"\" style=\"min-width:40px\">R</span></td><td class=\"Table__TD\"><span class=\"\" style=\"min-width:40px\">R</span></td><td class=\"Table__TD\"><span class=\"\" style=\"min-width:40px\">24</span></td><td class=\"Table__TD\"><span class=\"\" style=\"min-width:50px\">6' 6\"</span></td><td class=\"Table__TD\"><span class=\"\" style=\"min-width:70px\">175 lbs</span></td><td class=\"Table__TD\"><span class=\"\" style=\"min-width:140px\">La Romana, Dominican Republic</span></td></tr><tr class=\"Table__TR Table__TR--lg Table__even\" data-idx=\"8\"><td class=\"Table__TD--headshot Table__TD\"><span class=\"Table__TD--headshot\" style=\"min-width:40px\"><a class=\"AnchorLink\" href=\"http://www.espn.com/mlb/player/_/id/33293\"><div class=\"headshot inline-block relative TableHeadshot roster-headshot headshot--sm athlete silo\"><figure class=\"Image aspect-ratio--parent\"><div class=\"Image__Wrapper aspect-ratio--1x1\"><img alt=\"https://a.espncdn.com/i/headshots/mlb/players/full/33293.png\" class=\"aspect-ratio--child\" data-mptype=\"image\" src=\"data:image/gif;base64,R0lGODlhAQABAIAAAAAAAP///yH5BAEAAAAALAAAAAABAAEAAAIBRAA7\" title=\"Walker Lockett\"/></div></figure></div></a></span></td><td class=\"Table__TD\"><span class=\"\" style=\"min-width:140px\"><a class=\"AnchorLink\" href=\"http://www.espn.com/mlb/player/_/id/33293\">Walker Lockett</a><span class=\"pl2 n10\">61</span></span></td><td class=\"Table__TD\"><span class=\"\" style=\"min-width:40px\">SP</span></td><td class=\"Table__TD\"><span class=\"\" style=\"min-width:40px\">R</span></td><td class=\"Table__TD\"><span class=\"\" style=\"min-width:40px\">R</span></td><td class=\"Table__TD\"><span class=\"\" style=\"min-width:40px\">25</span></td><td class=\"Table__TD\"><span class=\"\" style=\"min-width:50px\">6' 5\"</span></td><td class=\"Table__TD\"><span class=\"\" style=\"min-width:70px\">225 lbs</span></td><td class=\"Table__TD\"><span class=\"\" style=\"min-width:140px\">Jacksonville, FL</span></td></tr><tr class=\"Table__TR Table__TR--lg Table__even\" data-idx=\"9\"><td class=\"Table__TD--headshot Table__TD\"><span class=\"Table__TD--headshot\" style=\"min-width:40px\"><a class=\"AnchorLink\" href=\"http://www.espn.com/mlb/player/_/id/34873\"><div class=\"headshot inline-block relative TableHeadshot roster-headshot headshot--sm athlete silo\"><figure class=\"Image aspect-ratio--parent\"><div class=\"Image__Wrapper aspect-ratio--1x1\"><img alt=\"https://a.espncdn.com/i/headshots/mlb/players/full/34873.png\" class=\"aspect-ratio--child\" data-mptype=\"image\" src=\"data:image/gif;base64,R0lGODlhAQABAIAAAAAAAP///yH5BAEAAAAALAAAAAABAAEAAAIBRAA7\" title=\"Seth Lugo\"/></div></figure></div></a></span></td><td class=\"Table__TD\"><span class=\"\" style=\"min-width:140px\"><a class=\"AnchorLink\" href=\"http://www.espn.com/mlb/player/_/id/34873\">Seth Lugo</a><span class=\"pl2 n10\">67</span></span></td><td class=\"Table__TD\"><span class=\"\" style=\"min-width:40px\">RP</span></td><td class=\"Table__TD\"><span class=\"\" style=\"min-width:40px\">R</span></td><td class=\"Table__TD\"><span class=\"\" style=\"min-width:40px\">R</span></td><td class=\"Table__TD\"><span class=\"\" style=\"min-width:40px\">30</span></td><td class=\"Table__TD\"><span class=\"\" style=\"min-width:50px\">6' 4\"</span></td><td class=\"Table__TD\"><span class=\"\" style=\"min-width:70px\">225 lbs</span></td><td class=\"Table__TD\"><span class=\"\" style=\"min-width:140px\">Shreveport, LA</span></td></tr><tr class=\"Table__TR Table__TR--lg Table__even\" data-idx=\"10\"><td class=\"Table__TD--headshot Table__TD\"><span class=\"Table__TD--headshot\" style=\"min-width:40px\"><a class=\"AnchorLink\" href=\"http://www.espn.com/mlb/player/_/id/33106\"><div class=\"headshot inline-block relative TableHeadshot roster-headshot headshot--sm athlete silo\"><figure class=\"Image aspect-ratio--parent\"><div class=\"Image__Wrapper aspect-ratio--1x1\"><img alt=\"https://a.espncdn.com/i/headshots/mlb/players/full/33106.png\" class=\"aspect-ratio--child\" data-mptype=\"image\" src=\"data:image/gif;base64,R0lGODlhAQABAIAAAAAAAP///yH5BAEAAAAALAAAAAABAAEAAAIBRAA7\" title=\"Steven Matz\"/></div></figure></div></a></span></td><td class=\"Table__TD\"><span class=\"\" style=\"min-width:140px\"><a class=\"AnchorLink\" href=\"http://www.espn.com/mlb/player/_/id/33106\">Steven Matz</a><span class=\"pl2 n10\">32</span></span></td><td class=\"Table__TD\"><span class=\"\" style=\"min-width:40px\">SP</span></td><td class=\"Table__TD\"><span class=\"\" style=\"min-width:40px\">R</span></td><td class=\"Table__TD\"><span class=\"\" style=\"min-width:40px\">L</span></td><td class=\"Table__TD\"><span class=\"\" style=\"min-width:40px\">28</span></td><td class=\"Table__TD\"><span class=\"\" style=\"min-width:50px\">6' 2\"</span></td><td class=\"Table__TD\"><span class=\"\" style=\"min-width:70px\">200 lbs</span></td><td class=\"Table__TD\"><span class=\"\" style=\"min-width:140px\">Stony Brook, NY</span></td></tr><tr class=\"Table__TR Table__TR--lg Table__even\" data-idx=\"11\"><td class=\"Table__TD--headshot Table__TD\"><span class=\"Table__TD--headshot\" style=\"min-width:40px\"><a class=\"AnchorLink\" href=\"http://www.espn.com/mlb/player/_/id/37224\"><div class=\"headshot inline-block relative TableHeadshot roster-headshot headshot--sm athlete silo\"><figure class=\"Image aspect-ratio--parent\"><div class=\"Image__Wrapper aspect-ratio--1x1 Image__Fallback\"><figure class=\"Image aspect-ratio--parent\"><div class=\"Image__Wrapper aspect-ratio--1x1\"><img alt=\"headshot fallback image\" class=\"aspect-ratio--child\" data-mptype=\"image\" src=\"data:image/gif;base64,R0lGODlhAQABAIAAAAAAAP///yH5BAEAAAAALAAAAAABAAEAAAIBRAA7\" title=\"headshot fallback image\"/></div></figure></div></figure></div></a></span></td><td class=\"Table__TD\"><span class=\"\" style=\"min-width:140px\"><a class=\"AnchorLink\" href=\"http://www.espn.com/mlb/player/_/id/37224\">Chris Mazza</a><span class=\"pl2 n10\">74</span></span></td><td class=\"Table__TD\"><span class=\"\" style=\"min-width:40px\">RP</span></td><td class=\"Table__TD\"><span class=\"\" style=\"min-width:40px\">R</span></td><td class=\"Table__TD\"><span class=\"\" style=\"min-width:40px\">R</span></td><td class=\"Table__TD\"><span class=\"\" style=\"min-width:40px\">30</span></td><td class=\"Table__TD\"><span class=\"\" style=\"min-width:50px\">6' 4\"</span></td><td class=\"Table__TD\"><span class=\"\" style=\"min-width:70px\">180 lbs</span></td><td class=\"Table__TD\"><span class=\"\" style=\"min-width:140px\">Walnut Creek, CA</span></td></tr><tr class=\"Table__TR Table__TR--lg Table__even\" data-idx=\"12\"><td class=\"Table__TD--headshot Table__TD\"><span class=\"Table__TD--headshot\" style=\"min-width:40px\"><a class=\"AnchorLink\" href=\"http://www.espn.com/mlb/player/_/id/39707\"><div class=\"headshot inline-block relative TableHeadshot roster-headshot headshot--sm athlete silo\"><figure class=\"Image aspect-ratio--parent\"><div class=\"Image__Wrapper aspect-ratio--1x1 Image__Fallback\"><figure class=\"Image aspect-ratio--parent\"><div class=\"Image__Wrapper aspect-ratio--1x1\"><img alt=\"headshot fallback image\" class=\"aspect-ratio--child\" data-mptype=\"image\" src=\"data:image/gif;base64,R0lGODlhAQABAIAAAAAAAP///yH5BAEAAAAALAAAAAABAAEAAAIBRAA7\" title=\"headshot fallback image\"/></div></figure></div></figure></div></a></span></td><td class=\"Table__TD\"><span class=\"\" style=\"min-width:140px\"><a class=\"AnchorLink\" href=\"http://www.espn.com/mlb/player/_/id/39707\">Stephen Nogosek</a><span class=\"pl2 n10\">72</span></span></td><td class=\"Table__TD\"><span class=\"\" style=\"min-width:40px\">RP</span></td><td class=\"Table__TD\"><span class=\"\" style=\"min-width:40px\">R</span></td><td class=\"Table__TD\"><span class=\"\" style=\"min-width:40px\">R</span></td><td class=\"Table__TD\"><span class=\"\" style=\"min-width:40px\">24</span></td><td class=\"Table__TD\"><span class=\"\" style=\"min-width:50px\">6' 1\"</span></td><td class=\"Table__TD\"><span class=\"\" style=\"min-width:70px\">172 lbs</span></td><td class=\"Table__TD\"><span class=\"\" style=\"min-width:140px\">Roseville, United States</span></td></tr><tr class=\"Table__TR Table__TR--lg Table__even\" data-idx=\"13\"><td class=\"Table__TD--headshot Table__TD\"><span class=\"Table__TD--headshot\" style=\"min-width:40px\"><a class=\"AnchorLink\" href=\"http://www.espn.com/mlb/player/_/id/39809\"><div class=\"headshot inline-block relative TableHeadshot roster-headshot headshot--sm athlete silo\"><figure class=\"Image aspect-ratio--parent\"><div class=\"Image__Wrapper aspect-ratio--1x1\"><img alt=\"https://a.espncdn.com/i/headshots/mlb/players/full/39809.png\" class=\"aspect-ratio--child\" data-mptype=\"image\" src=\"data:image/gif;base64,R0lGODlhAQABAIAAAAAAAP///yH5BAEAAAAALAAAAAABAAEAAAIBRAA7\" title=\"Corey Oswalt\"/></div></figure></div></a></span></td><td class=\"Table__TD\"><span class=\"\" style=\"min-width:140px\"><a class=\"AnchorLink\" href=\"http://www.espn.com/mlb/player/_/id/39809\">Corey Oswalt</a><span class=\"pl2 n10\">55</span></span></td><td class=\"Table__TD\"><span class=\"\" style=\"min-width:40px\">RP</span></td><td class=\"Table__TD\"><span class=\"\" style=\"min-width:40px\">R</span></td><td class=\"Table__TD\"><span class=\"\" style=\"min-width:40px\">R</span></td><td class=\"Table__TD\"><span class=\"\" style=\"min-width:40px\">26</span></td><td class=\"Table__TD\"><span class=\"\" style=\"min-width:50px\">6' 5\"</span></td><td class=\"Table__TD\"><span class=\"\" style=\"min-width:70px\">250 lbs</span></td><td class=\"Table__TD\"><span class=\"\" style=\"min-width:140px\">San Diego, CA</span></td></tr><tr class=\"Table__TR Table__TR--lg Table__even\" data-idx=\"14\"><td class=\"Table__TD--headshot Table__TD\"><span class=\"Table__TD--headshot\" style=\"min-width:40px\"><a class=\"AnchorLink\" href=\"http://www.espn.com/mlb/player/_/id/34235\"><div class=\"headshot inline-block relative TableHeadshot roster-headshot headshot--sm athlete silo\"><figure class=\"Image aspect-ratio--parent\"><div class=\"Image__Wrapper aspect-ratio--1x1\"><img alt=\"https://a.espncdn.com/i/headshots/mlb/players/full/34235.png\" class=\"aspect-ratio--child\" data-mptype=\"image\" src=\"data:image/gif;base64,R0lGODlhAQABAIAAAAAAAP///yH5BAEAAAAALAAAAAABAAEAAAIBRAA7\" title=\"Jacob Rhame\"/></div></figure></div></a></span></td><td class=\"Table__TD\"><span class=\"\" style=\"min-width:140px\"><a class=\"AnchorLink\" href=\"http://www.espn.com/mlb/player/_/id/34235\">Jacob Rhame</a><span class=\"pl2 n10\">35</span></span></td><td class=\"Table__TD\"><span class=\"\" style=\"min-width:40px\">RP</span></td><td class=\"Table__TD\"><span class=\"\" style=\"min-width:40px\">R</span></td><td class=\"Table__TD\"><span class=\"\" style=\"min-width:40px\">R</span></td><td class=\"Table__TD\"><span class=\"\" style=\"min-width:40px\">26</span></td><td class=\"Table__TD\"><span class=\"\" style=\"min-width:50px\">6' 1\"</span></td><td class=\"Table__TD\"><span class=\"\" style=\"min-width:70px\">215 lbs</span></td><td class=\"Table__TD\"><span class=\"\" style=\"min-width:140px\">Atlanta, GA</span></td></tr><tr class=\"Table__TR Table__TR--lg Table__even\" data-idx=\"15\"><td class=\"Table__TD--headshot Table__TD\"><span class=\"Table__TD--headshot\" style=\"min-width:40px\"><a class=\"AnchorLink\" href=\"http://www.espn.com/mlb/player/_/id/35009\"><div class=\"headshot inline-block relative TableHeadshot roster-headshot headshot--sm athlete silo\"><figure class=\"Image aspect-ratio--parent\"><div class=\"Image__Wrapper aspect-ratio--1x1\"><img alt=\"https://a.espncdn.com/i/headshots/mlb/players/full/35009.png\" class=\"aspect-ratio--child\" data-mptype=\"image\" src=\"data:image/gif;base64,R0lGODlhAQABAIAAAAAAAP///yH5BAEAAAAALAAAAAABAAEAAAIBRAA7\" title=\"Paul Sewald\"/></div></figure></div></a></span></td><td class=\"Table__TD\"><span class=\"\" style=\"min-width:140px\"><a class=\"AnchorLink\" href=\"http://www.espn.com/mlb/player/_/id/35009\">Paul Sewald</a><span class=\"pl2 n10\">51</span></span></td><td class=\"Table__TD\"><span class=\"\" style=\"min-width:40px\">RP</span></td><td class=\"Table__TD\"><span class=\"\" style=\"min-width:40px\">R</span></td><td class=\"Table__TD\"><span class=\"\" style=\"min-width:40px\">R</span></td><td class=\"Table__TD\"><span class=\"\" style=\"min-width:40px\">29</span></td><td class=\"Table__TD\"><span class=\"\" style=\"min-width:50px\">6' 3\"</span></td><td class=\"Table__TD\"><span class=\"\" style=\"min-width:70px\">207 lbs</span></td><td class=\"Table__TD\"><span class=\"\" style=\"min-width:140px\">Las Vegas, NV</span></td></tr><tr class=\"Table__TR Table__TR--lg Table__even\" data-idx=\"16\"><td class=\"Table__TD--headshot Table__TD\"><span class=\"Table__TD--headshot\" style=\"min-width:40px\"><a class=\"AnchorLink\" href=\"http://www.espn.com/mlb/player/_/id/39685\"><div class=\"headshot inline-block relative TableHeadshot roster-headshot headshot--sm athlete silo\"><figure class=\"Image aspect-ratio--parent\"><div class=\"Image__Wrapper aspect-ratio--1x1\"><img alt=\"https://a.espncdn.com/i/headshots/mlb/players/full/39685.png\" class=\"aspect-ratio--child\" data-mptype=\"image\" src=\"data:image/gif;base64,R0lGODlhAQABAIAAAAAAAP///yH5BAEAAAAALAAAAAABAAEAAAIBRAA7\" title=\"Drew Smith\"/></div></figure></div></a></span></td><td class=\"Table__TD\"><span class=\"\" style=\"min-width:140px\"><a class=\"AnchorLink\" href=\"http://www.espn.com/mlb/player/_/id/39685\">Drew Smith</a><span class=\"pl2 n10\">62</span></span></td><td class=\"Table__TD\"><span class=\"\" style=\"min-width:40px\">RP</span></td><td class=\"Table__TD\"><span class=\"\" style=\"min-width:40px\">R</span></td><td class=\"Table__TD\"><span class=\"\" style=\"min-width:40px\">R</span></td><td class=\"Table__TD\"><span class=\"\" style=\"min-width:40px\">26</span></td><td class=\"Table__TD\"><span class=\"\" style=\"min-width:50px\">6' 2\"</span></td><td class=\"Table__TD\"><span class=\"\" style=\"min-width:70px\">188 lbs</span></td><td class=\"Table__TD\"><span class=\"\" style=\"min-width:140px\">Crowley, TX</span></td></tr><tr class=\"Table__TR Table__TR--lg Table__even\" data-idx=\"17\"><td class=\"Table__TD--headshot Table__TD\"><span class=\"Table__TD--headshot\" style=\"min-width:40px\"><a class=\"AnchorLink\" href=\"http://www.espn.com/mlb/player/_/id/32815\"><div class=\"headshot inline-block relative TableHeadshot roster-headshot headshot--sm athlete silo\"><figure class=\"Image aspect-ratio--parent\"><div class=\"Image__Wrapper aspect-ratio--1x1\"><img alt=\"https://a.espncdn.com/i/headshots/mlb/players/full/32815.png\" class=\"aspect-ratio--child\" data-mptype=\"image\" src=\"data:image/gif;base64,R0lGODlhAQABAIAAAAAAAP///yH5BAEAAAAALAAAAAABAAEAAAIBRAA7\" title=\"Marcus Stroman\"/></div></figure></div></a></span></td><td class=\"Table__TD\"><span class=\"\" style=\"min-width:140px\"><a class=\"AnchorLink\" href=\"http://www.espn.com/mlb/player/_/id/32815\">Marcus Stroman</a><span class=\"pl2 n10\">0</span></span></td><td class=\"Table__TD\"><span class=\"\" style=\"min-width:40px\">SP</span></td><td class=\"Table__TD\"><span class=\"\" style=\"min-width:40px\">R</span></td><td class=\"Table__TD\"><span class=\"\" style=\"min-width:40px\">R</span></td><td class=\"Table__TD\"><span class=\"\" style=\"min-width:40px\">28</span></td><td class=\"Table__TD\"><span class=\"\" style=\"min-width:50px\">5' 7\"</span></td><td class=\"Table__TD\"><span class=\"\" style=\"min-width:70px\">180 lbs</span></td><td class=\"Table__TD\"><span class=\"\" style=\"min-width:140px\">Medford, NY</span></td></tr><tr class=\"Table__TR Table__TR--lg Table__even\" data-idx=\"18\"><td class=\"Table__TD--headshot Table__TD\"><span class=\"Table__TD--headshot\" style=\"min-width:40px\"><a class=\"AnchorLink\" href=\"http://www.espn.com/mlb/player/_/id/31730\"><div class=\"headshot inline-block relative TableHeadshot roster-headshot headshot--sm athlete silo\"><figure class=\"Image aspect-ratio--parent\"><div class=\"Image__Wrapper aspect-ratio--1x1\"><img alt=\"https://a.espncdn.com/i/headshots/mlb/players/full/31730.png\" class=\"aspect-ratio--child\" data-mptype=\"image\" src=\"data:image/gif;base64,R0lGODlhAQABAIAAAAAAAP///yH5BAEAAAAALAAAAAABAAEAAAIBRAA7\" title=\"Noah Syndergaard\"/></div></figure></div></a></span></td><td class=\"Table__TD\"><span class=\"\" style=\"min-width:140px\"><a class=\"AnchorLink\" href=\"http://www.espn.com/mlb/player/_/id/31730\">Noah Syndergaard</a><span class=\"pl2 n10\">34</span></span></td><td class=\"Table__TD\"><span class=\"\" style=\"min-width:40px\">SP</span></td><td class=\"Table__TD\"><span class=\"\" style=\"min-width:40px\">L</span></td><td class=\"Table__TD\"><span class=\"\" style=\"min-width:40px\">R</span></td><td class=\"Table__TD\"><span class=\"\" style=\"min-width:40px\">27</span></td><td class=\"Table__TD\"><span class=\"\" style=\"min-width:50px\">6' 6\"</span></td><td class=\"Table__TD\"><span class=\"\" style=\"min-width:70px\">240 lbs</span></td><td class=\"Table__TD\"><span class=\"\" style=\"min-width:140px\">Mansfield, TX</span></td></tr><tr class=\"Table__TR Table__TR--lg Table__even\" data-idx=\"19\"><td class=\"Table__TD--headshot Table__TD\"><span class=\"Table__TD--headshot\" style=\"min-width:40px\"><a class=\"AnchorLink\" href=\"http://www.espn.com/mlb/player/_/id/40972\"><div class=\"headshot inline-block relative TableHeadshot roster-headshot headshot--sm athlete silo\"><figure class=\"Image aspect-ratio--parent\"><div class=\"Image__Wrapper aspect-ratio--1x1 Image__Fallback\"><figure class=\"Image aspect-ratio--parent\"><div class=\"Image__Wrapper aspect-ratio--1x1\"><img alt=\"headshot fallback image\" class=\"aspect-ratio--child\" data-mptype=\"image\" src=\"data:image/gif;base64,R0lGODlhAQABAIAAAAAAAP///yH5BAEAAAAALAAAAAABAAEAAAIBRAA7\" title=\"headshot fallback image\"/></div></figure></div></figure></div></a></span></td><td class=\"Table__TD\"><span class=\"\" style=\"min-width:140px\"><a class=\"AnchorLink\" href=\"http://www.espn.com/mlb/player/_/id/40972\">Thomas Szapucki</a></span></td><td class=\"Table__TD\"><span class=\"\" style=\"min-width:40px\">SP</span></td><td class=\"Table__TD\"><span class=\"\" style=\"min-width:40px\">R</span></td><td class=\"Table__TD\"><span class=\"\" style=\"min-width:40px\">L</span></td><td class=\"Table__TD\"><span class=\"\" style=\"min-width:40px\">23</span></td><td class=\"Table__TD\"><span class=\"\" style=\"min-width:50px\">6' 2\"</span></td><td class=\"Table__TD\"><span class=\"\" style=\"min-width:70px\">181 lbs</span></td><td class=\"Table__TD\"><span class=\"\" style=\"min-width:140px\">--</span></td></tr><tr class=\"Table__TR Table__TR--lg Table__even\" data-idx=\"20\"><td class=\"Table__TD--headshot Table__TD\"><span class=\"Table__TD--headshot\" style=\"min-width:40px\"><a class=\"AnchorLink\" href=\"http://www.espn.com/mlb/player/_/id/42342\"><div class=\"headshot inline-block relative TableHeadshot roster-headshot headshot--sm athlete silo\"><figure class=\"Image aspect-ratio--parent\"><div class=\"Image__Wrapper aspect-ratio--1x1 Image__Fallback\"><figure class=\"Image aspect-ratio--parent\"><div class=\"Image__Wrapper aspect-ratio--1x1\"><img alt=\"headshot fallback image\" class=\"aspect-ratio--child\" data-mptype=\"image\" src=\"data:image/gif;base64,R0lGODlhAQABAIAAAAAAAP///yH5BAEAAAAALAAAAAABAAEAAAIBRAA7\" title=\"headshot fallback image\"/></div></figure></div></figure></div></a></span></td><td class=\"Table__TD\"><span class=\"\" style=\"min-width:140px\"><a class=\"AnchorLink\" href=\"http://www.espn.com/mlb/player/_/id/42342\">Blake Michael Taylor</a><span class=\"pl2 n10\">30</span></span></td><td class=\"Table__TD\"><span class=\"\" style=\"min-width:40px\">SP</span></td><td class=\"Table__TD\"><span class=\"\" style=\"min-width:40px\">L</span></td><td class=\"Table__TD\"><span class=\"\" style=\"min-width:40px\">L</span></td><td class=\"Table__TD\"><span class=\"\" style=\"min-width:40px\">24</span></td><td class=\"Table__TD\"><span class=\"\" style=\"min-width:50px\">6' 3\"</span></td><td class=\"Table__TD\"><span class=\"\" style=\"min-width:70px\">220 lbs</span></td><td class=\"Table__TD\"><span class=\"\" style=\"min-width:140px\">Mission Viejo, United States</span></td></tr><tr class=\"Table__TR Table__TR--lg Table__even\" data-idx=\"21\"><td class=\"Table__TD--headshot Table__TD\"><span class=\"Table__TD--headshot\" style=\"min-width:40px\"><a class=\"AnchorLink\" href=\"http://www.espn.com/mlb/player/_/id/31026\"><div class=\"headshot inline-block relative TableHeadshot roster-headshot headshot--sm athlete silo\"><figure class=\"Image aspect-ratio--parent\"><div class=\"Image__Wrapper aspect-ratio--1x1\"><img alt=\"https://a.espncdn.com/i/headshots/mlb/players/full/31026.png\" class=\"aspect-ratio--child\" data-mptype=\"image\" src=\"data:image/gif;base64,R0lGODlhAQABAIAAAAAAAP///yH5BAEAAAAALAAAAAABAAEAAAIBRAA7\" title=\"Justin Wilson\"/></div></figure></div></a></span></td><td class=\"Table__TD\"><span class=\"\" style=\"min-width:140px\"><a class=\"AnchorLink\" href=\"http://www.espn.com/mlb/player/_/id/31026\">Justin Wilson</a><span class=\"pl2 n10\">38</span></span></td><td class=\"Table__TD\"><span class=\"\" style=\"min-width:40px\">RP</span></td><td class=\"Table__TD\"><span class=\"\" style=\"min-width:40px\">L</span></td><td class=\"Table__TD\"><span class=\"\" style=\"min-width:40px\">L</span></td><td class=\"Table__TD\"><span class=\"\" style=\"min-width:40px\">32</span></td><td class=\"Table__TD\"><span class=\"\" style=\"min-width:50px\">6' 2\"</span></td><td class=\"Table__TD\"><span class=\"\" style=\"min-width:70px\">205 lbs</span></td><td class=\"Table__TD\"><span class=\"\" style=\"min-width:140px\">Anaheim, CA</span></td></tr><tr class=\"Table__TR Table__TR--lg Table__even\" data-idx=\"22\"><td class=\"Table__TD--headshot Table__TD\"><span class=\"Table__TD--headshot\" style=\"min-width:40px\"><a class=\"AnchorLink\" href=\"http://www.espn.com/mlb/player/_/id/38019\"><div class=\"headshot inline-block relative TableHeadshot roster-headshot headshot--sm athlete silo\"><figure class=\"Image aspect-ratio--parent\"><div class=\"Image__Wrapper aspect-ratio--1x1\"><img alt=\"https://a.espncdn.com/i/headshots/mlb/players/full/38019.png\" class=\"aspect-ratio--child\" data-mptype=\"image\" src=\"data:image/gif;base64,R0lGODlhAQABAIAAAAAAAP///yH5BAEAAAAALAAAAAABAAEAAAIBRAA7\" title=\"Daniel Zamora\"/></div></figure></div></a></span></td><td class=\"Table__TD\"><span class=\"\" style=\"min-width:140px\"><a class=\"AnchorLink\" href=\"http://www.espn.com/mlb/player/_/id/38019\">Daniel Zamora</a><span class=\"pl2 n10\">73</span></span></td><td class=\"Table__TD\"><span class=\"\" style=\"min-width:40px\">RP</span></td><td class=\"Table__TD\"><span class=\"\" style=\"min-width:40px\">L</span></td><td class=\"Table__TD\"><span class=\"\" style=\"min-width:40px\">L</span></td><td class=\"Table__TD\"><span class=\"\" style=\"min-width:40px\">26</span></td><td class=\"Table__TD\"><span class=\"\" style=\"min-width:50px\">6' 2\"</span></td><td class=\"Table__TD\"><span class=\"\" style=\"min-width:70px\">185 lbs</span></td><td class=\"Table__TD\"><span class=\"\" style=\"min-width:140px\">La Puente, CA</span></td></tr><tr class=\"Table__TR Table__TR--lg Table__even\" data-idx=\"23\"><td class=\"Table__TD--headshot Table__TD\"><span class=\"Table__TD--headshot\" style=\"min-width:40px\"><a class=\"AnchorLink\" href=\"http://www.espn.com/mlb/player/_/id/32796\"><div class=\"headshot inline-block relative TableHeadshot roster-headshot headshot--sm athlete silo\"><figure class=\"Image aspect-ratio--parent\"><div class=\"Image__Wrapper aspect-ratio--1x1\"><img alt=\"https://a.espncdn.com/i/headshots/mlb/players/full/32796.png\" class=\"aspect-ratio--child\" data-mptype=\"image\" src=\"data:image/gif;base64,R0lGODlhAQABAIAAAAAAAP///yH5BAEAAAAALAAAAAABAAEAAAIBRAA7\" title=\"Jacob deGrom\"/></div></figure></div></a></span></td><td class=\"Table__TD\"><span class=\"\" style=\"min-width:140px\"><a class=\"AnchorLink\" href=\"http://www.espn.com/mlb/player/_/id/32796\">Jacob deGrom</a><span class=\"pl2 n10\">48</span></span></td><td class=\"Table__TD\"><span class=\"\" style=\"min-width:40px\">SP</span></td><td class=\"Table__TD\"><span class=\"\" style=\"min-width:40px\">L</span></td><td class=\"Table__TD\"><span class=\"\" style=\"min-width:40px\">R</span></td><td class=\"Table__TD\"><span class=\"\" style=\"min-width:40px\">31</span></td><td class=\"Table__TD\"><span class=\"\" style=\"min-width:50px\">6' 4\"</span></td><td class=\"Table__TD\"><span class=\"\" style=\"min-width:70px\">180 lbs</span></td><td class=\"Table__TD\"><span class=\"\" style=\"min-width:140px\">DeLand, FL</span></td></tr></tbody></table></div><div class=\"Table__Shadow--right\" style=\"opacity:0\"></div></div></div></section><section class=\"ResponsiveTable Catchers\"><div class=\"Table__Title\">Catchers</div><div class=\"flex\"><div class=\"Table__ScrollerWrapper relative overflow-hidden\"><div class=\"Table__Shadow--left\" style=\"opacity:0\"></div><div class=\"Table__Scroller\"><table cellpadding=\"0\" cellspacing=\"0\" class=\"Table\"><colgroup class=\"Table__Colgroup\" span=\"9\"><col class=\"Table__Column\"/><col class=\"Table__Column\"/><col class=\"Table__Column\"/><col class=\"Table__Column\"/><col class=\"Table__Column\"/><col class=\"Table__Column\"/><col class=\"Table__Column\"/><col class=\"Table__Column\"/><col class=\"Table__Column\"/></colgroup><thead class=\"Table__sub-header Table__THEAD\"><tr class=\"Table__TR Table__even\"><th class=\"Table__TD--headshot Table__TH\" title=\"\"><span class=\"fw-medium w-100 dib Table__TD--headshot\" style=\"min-width:40px\" title=\"\"></span></th><th class=\"Table__TH\" title=\"\"><span class=\"fw-medium w-100 dib\" style=\"min-width:140px\" title=\"\">Name</span></th><th class=\"Table__TH\" title=\"\"><span class=\"fw-medium w-100 dib\" style=\"min-width:40px\" title=\"\">POS</span></th><th class=\"Table__TH\" title=\"\"><span class=\"fw-medium w-100 dib underline\" style=\"min-width:40px\" title=\"\"><a class=\"AnchorLink clr-gray-04\" href=\"/mlb/team/roster/_/name/nym/sort/bats/dir/asc\">BAT</a></span></th><th class=\"Table__TH\" title=\"\"><span class=\"fw-medium w-100 dib underline\" style=\"min-width:40px\" title=\"\"><a class=\"AnchorLink clr-gray-04\" href=\"/mlb/team/roster/_/name/nym/sort/throws/dir/asc\">THW</a></span></th><th class=\"column-width-small Table__TH\" title=\"\"><span class=\"fw-medium w-100 dib underline column-width-small\" style=\"min-width:40px\" title=\"\"><a class=\"AnchorLink clr-gray-04\" href=\"/mlb/team/roster/_/name/nym/sort/age/dir/asc\">Age</a></span></th><th class=\"Table__TH\" title=\"\"><span class=\"fw-medium w-100 dib underline\" style=\"min-width:50px\" title=\"\"><a class=\"AnchorLink clr-gray-04\" href=\"/mlb/team/roster/_/name/nym/sort/height/dir/asc\">HT</a></span></th><th class=\"Table__TH\" title=\"\"><span class=\"fw-medium w-100 dib underline\" style=\"min-width:70px\" title=\"\"><a class=\"AnchorLink clr-gray-04\" href=\"/mlb/team/roster/_/name/nym/sort/weight/dir/asc\">WT</a></span></th><th class=\"Table__TH\" title=\"\"><span class=\"fw-medium w-100 dib\" style=\"min-width:140px\" title=\"\">Birth Place</span></th></tr></thead><tbody class=\"Table__TBODY\"><tr class=\"Table__TR Table__TR--lg Table__even\" data-idx=\"0\"><td class=\"Table__TD--headshot Table__TD\"><span class=\"Table__TD--headshot\" style=\"min-width:40px\"><a class=\"AnchorLink\" href=\"http://www.espn.com/mlb/player/_/id/36068\"><div class=\"headshot inline-block relative TableHeadshot roster-headshot headshot--sm athlete silo\"><figure class=\"Image aspect-ratio--parent\"><div class=\"Image__Wrapper aspect-ratio--1x1\"><img alt=\"https://a.espncdn.com/i/headshots/mlb/players/full/36068.png\" class=\"aspect-ratio--child\" data-mptype=\"image\" src=\"data:image/gif;base64,R0lGODlhAQABAIAAAAAAAP///yH5BAEAAAAALAAAAAABAAEAAAIBRAA7\" title=\"Tomas Nido\"/></div></figure></div></a></span></td><td class=\"Table__TD\"><span class=\"\" style=\"min-width:140px\"><a class=\"AnchorLink\" href=\"http://www.espn.com/mlb/player/_/id/36068\">Tomas Nido</a><span class=\"pl2 n10\">3</span></span></td><td class=\"Table__TD\"><span class=\"\" style=\"min-width:40px\">C</span></td><td class=\"Table__TD\"><span class=\"\" style=\"min-width:40px\">R</span></td><td class=\"Table__TD\"><span class=\"\" style=\"min-width:40px\">R</span></td><td class=\"Table__TD\"><span class=\"\" style=\"min-width:40px\">25</span></td><td class=\"Table__TD\"><span class=\"\" style=\"min-width:50px\">6' 0\"</span></td><td class=\"Table__TD\"><span class=\"\" style=\"min-width:70px\">210 lbs</span></td><td class=\"Table__TD\"><span class=\"\" style=\"min-width:140px\">Guaynabo, FL</span></td></tr><tr class=\"Table__TR Table__TR--lg Table__even\" data-idx=\"1\"><td class=\"Table__TD--headshot Table__TD\"><span class=\"Table__TD--headshot\" style=\"min-width:40px\"><a class=\"AnchorLink\" href=\"http://www.espn.com/mlb/player/_/id/30173\"><div class=\"headshot inline-block relative TableHeadshot roster-headshot headshot--sm athlete silo\"><figure class=\"Image aspect-ratio--parent\"><div class=\"Image__Wrapper aspect-ratio--1x1\"><img alt=\"https://a.espncdn.com/i/headshots/mlb/players/full/30173.png\" class=\"aspect-ratio--child\" data-mptype=\"image\" src=\"data:image/gif;base64,R0lGODlhAQABAIAAAAAAAP///yH5BAEAAAAALAAAAAABAAEAAAIBRAA7\" title=\"Wilson Ramos\"/></div></figure></div></a></span></td><td class=\"Table__TD\"><span class=\"\" style=\"min-width:140px\"><a class=\"AnchorLink\" href=\"http://www.espn.com/mlb/player/_/id/30173\">Wilson Ramos</a><span class=\"pl2 n10\">40</span></span></td><td class=\"Table__TD\"><span class=\"\" style=\"min-width:40px\">C</span></td><td class=\"Table__TD\"><span class=\"\" style=\"min-width:40px\">R</span></td><td class=\"Table__TD\"><span class=\"\" style=\"min-width:40px\">R</span></td><td class=\"Table__TD\"><span class=\"\" style=\"min-width:40px\">32</span></td><td class=\"Table__TD\"><span class=\"\" style=\"min-width:50px\">6' 1\"</span></td><td class=\"Table__TD\"><span class=\"\" style=\"min-width:70px\">245 lbs</span></td><td class=\"Table__TD\"><span class=\"\" style=\"min-width:140px\">Valencia, Venezuela</span></td></tr><tr class=\"Table__TR Table__TR--lg Table__even\" data-idx=\"2\"><td class=\"Table__TD--headshot Table__TD\"><span class=\"Table__TD--headshot\" style=\"min-width:40px\"><a class=\"AnchorLink\" href=\"http://www.espn.com/mlb/player/_/id/37537\"><div class=\"headshot inline-block relative TableHeadshot roster-headshot headshot--sm athlete silo\"><figure class=\"Image aspect-ratio--parent\"><div class=\"Image__Wrapper aspect-ratio--1x1\"><img alt=\"https://a.espncdn.com/i/headshots/mlb/players/full/37537.png\" class=\"aspect-ratio--child\" data-mptype=\"image\" src=\"data:image/gif;base64,R0lGODlhAQABAIAAAAAAAP///yH5BAEAAAAALAAAAAABAAEAAAIBRAA7\" title=\"Ali Sánchez\"/></div></figure></div></a></span></td><td class=\"Table__TD\"><span class=\"\" style=\"min-width:140px\"><a class=\"AnchorLink\" href=\"http://www.espn.com/mlb/player/_/id/37537\">Ali Sánchez</a><span class=\"pl2 n10\">4</span></span></td><td class=\"Table__TD\"><span class=\"\" style=\"min-width:40px\">C</span></td><td class=\"Table__TD\"><span class=\"\" style=\"min-width:40px\">R</span></td><td class=\"Table__TD\"><span class=\"\" style=\"min-width:40px\">R</span></td><td class=\"Table__TD\"><span class=\"\" style=\"min-width:40px\">22</span></td><td class=\"Table__TD\"><span class=\"\" style=\"min-width:50px\">6' 1\"</span></td><td class=\"Table__TD\"><span class=\"\" style=\"min-width:70px\">200 lbs</span></td><td class=\"Table__TD\"><span class=\"\" style=\"min-width:140px\">Carora, Venezuela</span></td></tr></tbody></table></div><div class=\"Table__Shadow--right\" style=\"opacity:0\"></div></div></div></section><section class=\"ResponsiveTable Infielders\"><div class=\"Table__Title\">Infielders</div><div class=\"flex\"><div class=\"Table__ScrollerWrapper relative overflow-hidden\"><div class=\"Table__Shadow--left\" style=\"opacity:0\"></div><div class=\"Table__Scroller\"><table cellpadding=\"0\" cellspacing=\"0\" class=\"Table\"><colgroup class=\"Table__Colgroup\" span=\"9\"><col class=\"Table__Column\"/><col class=\"Table__Column\"/><col class=\"Table__Column\"/><col class=\"Table__Column\"/><col class=\"Table__Column\"/><col class=\"Table__Column\"/><col class=\"Table__Column\"/><col class=\"Table__Column\"/><col class=\"Table__Column\"/></colgroup><thead class=\"Table__sub-header Table__THEAD\"><tr class=\"Table__TR Table__even\"><th class=\"Table__TD--headshot Table__TH\" title=\"\"><span class=\"fw-medium w-100 dib Table__TD--headshot\" style=\"min-width:40px\" title=\"\"></span></th><th class=\"Table__TH\" title=\"\"><span class=\"fw-medium w-100 dib\" style=\"min-width:140px\" title=\"\">Name</span></th><th class=\"Table__TH\" title=\"\"><span class=\"fw-medium w-100 dib\" style=\"min-width:40px\" title=\"\">POS</span></th><th class=\"Table__TH\" title=\"\"><span class=\"fw-medium w-100 dib underline\" style=\"min-width:40px\" title=\"\"><a class=\"AnchorLink clr-gray-04\" href=\"/mlb/team/roster/_/name/nym/sort/bats/dir/asc\">BAT</a></span></th><th class=\"Table__TH\" title=\"\"><span class=\"fw-medium w-100 dib underline\" style=\"min-width:40px\" title=\"\"><a class=\"AnchorLink clr-gray-04\" href=\"/mlb/team/roster/_/name/nym/sort/throws/dir/asc\">THW</a></span></th><th class=\"column-width-small Table__TH\" title=\"\"><span class=\"fw-medium w-100 dib underline column-width-small\" style=\"min-width:40px\" title=\"\"><a class=\"AnchorLink clr-gray-04\" href=\"/mlb/team/roster/_/name/nym/sort/age/dir/asc\">Age</a></span></th><th class=\"Table__TH\" title=\"\"><span class=\"fw-medium w-100 dib underline\" style=\"min-width:50px\" title=\"\"><a class=\"AnchorLink clr-gray-04\" href=\"/mlb/team/roster/_/name/nym/sort/height/dir/asc\">HT</a></span></th><th class=\"Table__TH\" title=\"\"><span class=\"fw-medium w-100 dib underline\" style=\"min-width:70px\" title=\"\"><a class=\"AnchorLink clr-gray-04\" href=\"/mlb/team/roster/_/name/nym/sort/weight/dir/asc\">WT</a></span></th><th class=\"Table__TH\" title=\"\"><span class=\"fw-medium w-100 dib\" style=\"min-width:140px\" title=\"\">Birth Place</span></th></tr></thead><tbody class=\"Table__TBODY\"><tr class=\"Table__TR Table__TR--lg Table__even\" data-idx=\"0\"><td class=\"Table__TD--headshot Table__TD\"><span class=\"Table__TD--headshot\" style=\"min-width:40px\"><a class=\"AnchorLink\" href=\"http://www.espn.com/mlb/player/_/id/37498\"><div class=\"headshot inline-block relative TableHeadshot roster-headshot headshot--sm athlete silo\"><figure class=\"Image aspect-ratio--parent\"><div class=\"Image__Wrapper aspect-ratio--1x1\"><img alt=\"https://a.espncdn.com/i/headshots/mlb/players/full/37498.png\" class=\"aspect-ratio--child\" data-mptype=\"image\" src=\"data:image/gif;base64,R0lGODlhAQABAIAAAAAAAP///yH5BAEAAAAALAAAAAABAAEAAAIBRAA7\" title=\"Pete Alonso\"/></div></figure></div></a></span></td><td class=\"Table__TD\"><span class=\"\" style=\"min-width:140px\"><a class=\"AnchorLink\" href=\"http://www.espn.com/mlb/player/_/id/37498\">Pete Alonso</a><span class=\"pl2 n10\">20</span></span></td><td class=\"Table__TD\"><span class=\"\" style=\"min-width:40px\">1B</span></td><td class=\"Table__TD\"><span class=\"\" style=\"min-width:40px\">R</span></td><td class=\"Table__TD\"><span class=\"\" style=\"min-width:40px\">R</span></td><td class=\"Table__TD\"><span class=\"\" style=\"min-width:40px\">24</span></td><td class=\"Table__TD\"><span class=\"\" style=\"min-width:50px\">6' 3\"</span></td><td class=\"Table__TD\"><span class=\"\" style=\"min-width:70px\">245 lbs</span></td><td class=\"Table__TD\"><span class=\"\" style=\"min-width:140px\">Tampa, FL</span></td></tr><tr class=\"Table__TR Table__TR--lg Table__even\" data-idx=\"1\"><td class=\"Table__TD--headshot Table__TD\"><span class=\"Table__TD--headshot\" style=\"min-width:40px\"><a class=\"AnchorLink\" href=\"http://www.espn.com/mlb/player/_/id/6204\"><div class=\"headshot inline-block relative TableHeadshot roster-headshot headshot--sm athlete silo\"><figure class=\"Image aspect-ratio--parent\"><div class=\"Image__Wrapper aspect-ratio--1x1\"><img alt=\"https://a.espncdn.com/i/headshots/mlb/players/full/6204.png\" class=\"aspect-ratio--child\" data-mptype=\"image\" src=\"data:image/gif;base64,R0lGODlhAQABAIAAAAAAAP///yH5BAEAAAAALAAAAAABAAEAAAIBRAA7\" title=\"Robinson Cano\"/></div></figure></div></a></span></td><td class=\"Table__TD\"><span class=\"\" style=\"min-width:140px\"><a class=\"AnchorLink\" href=\"http://www.espn.com/mlb/player/_/id/6204\">Robinson Cano</a><span class=\"pl2 n10\">24</span></span></td><td class=\"Table__TD\"><span class=\"\" style=\"min-width:40px\">2B</span></td><td class=\"Table__TD\"><span class=\"\" style=\"min-width:40px\">L</span></td><td class=\"Table__TD\"><span class=\"\" style=\"min-width:40px\">R</span></td><td class=\"Table__TD\"><span class=\"\" style=\"min-width:40px\">37</span></td><td class=\"Table__TD\"><span class=\"\" style=\"min-width:50px\">6' 0\"</span></td><td class=\"Table__TD\"><span class=\"\" style=\"min-width:70px\">210 lbs</span></td><td class=\"Table__TD\"><span class=\"\" style=\"min-width:140px\">San Pedro de Macoris, Dominican Republic</span></td></tr><tr class=\"Table__TR Table__TR--lg Table__even\" data-idx=\"2\"><td class=\"Table__TD--headshot Table__TD\"><span class=\"Table__TD--headshot\" style=\"min-width:40px\"><a class=\"AnchorLink\" href=\"http://www.espn.com/mlb/player/_/id/33796\"><div class=\"headshot inline-block relative TableHeadshot roster-headshot headshot--sm athlete silo\"><figure class=\"Image aspect-ratio--parent\"><div class=\"Image__Wrapper aspect-ratio--1x1\"><img alt=\"https://a.espncdn.com/i/headshots/mlb/players/full/33796.png\" class=\"aspect-ratio--child\" data-mptype=\"image\" src=\"data:image/gif;base64,R0lGODlhAQABAIAAAAAAAP///yH5BAEAAAAALAAAAAABAAEAAAIBRAA7\" title=\"J.D. Davis\"/></div></figure></div></a></span></td><td class=\"Table__TD\"><span class=\"\" style=\"min-width:140px\"><a class=\"AnchorLink\" href=\"http://www.espn.com/mlb/player/_/id/33796\">J.D. Davis</a><span class=\"pl2 n10\">28</span></span></td><td class=\"Table__TD\"><span class=\"\" style=\"min-width:40px\">3B</span></td><td class=\"Table__TD\"><span class=\"\" style=\"min-width:40px\">R</span></td><td class=\"Table__TD\"><span class=\"\" style=\"min-width:40px\">R</span></td><td class=\"Table__TD\"><span class=\"\" style=\"min-width:40px\">26</span></td><td class=\"Table__TD\"><span class=\"\" style=\"min-width:50px\">6' 3\"</span></td><td class=\"Table__TD\"><span class=\"\" style=\"min-width:70px\">225 lbs</span></td><td class=\"Table__TD\"><span class=\"\" style=\"min-width:140px\">Elk Grove, CA</span></td></tr><tr class=\"Table__TR Table__TR--lg Table__even\" data-idx=\"3\"><td class=\"Table__TD--headshot Table__TD\"><span class=\"Table__TD--headshot\" style=\"min-width:40px\"><a class=\"AnchorLink\" href=\"http://www.espn.com/mlb/player/_/id/37729\"><div class=\"headshot inline-block relative TableHeadshot roster-headshot headshot--sm athlete silo\"><figure class=\"Image aspect-ratio--parent\"><div class=\"Image__Wrapper aspect-ratio--1x1\"><img alt=\"https://a.espncdn.com/i/headshots/mlb/players/full/37729.png\" class=\"aspect-ratio--child\" data-mptype=\"image\" src=\"data:image/gif;base64,R0lGODlhAQABAIAAAAAAAP///yH5BAEAAAAALAAAAAABAAEAAAIBRAA7\" title=\"Andres Alfonso Gimenez\"/></div></figure></div></a></span></td><td class=\"Table__TD\"><span class=\"\" style=\"min-width:140px\"><a class=\"AnchorLink\" href=\"http://www.espn.com/mlb/player/_/id/37729\">Andres Alfonso Gimenez</a><span class=\"pl2 n10\">72</span></span></td><td class=\"Table__TD\"><span class=\"\" style=\"min-width:40px\">SS</span></td><td class=\"Table__TD\"><span class=\"\" style=\"min-width:40px\">L</span></td><td class=\"Table__TD\"><span class=\"\" style=\"min-width:40px\">R</span></td><td class=\"Table__TD\"><span class=\"\" style=\"min-width:40px\">21</span></td><td class=\"Table__TD\"><span class=\"\" style=\"min-width:50px\">6' 0\"</span></td><td class=\"Table__TD\"><span class=\"\" style=\"min-width:70px\">125 lbs</span></td><td class=\"Table__TD\"><span class=\"\" style=\"min-width:140px\">Barquisimeto, Venezuela</span></td></tr><tr class=\"Table__TR Table__TR--lg Table__even\" data-idx=\"4\"><td class=\"Table__TD--headshot Table__TD\"><span class=\"Table__TD--headshot\" style=\"min-width:40px\"><a class=\"AnchorLink\" href=\"http://www.espn.com/mlb/player/_/id/35149\"><div class=\"headshot inline-block relative TableHeadshot roster-headshot headshot--sm athlete silo\"><figure class=\"Image aspect-ratio--parent\"><div class=\"Image__Wrapper aspect-ratio--1x1\"><img alt=\"https://a.espncdn.com/i/headshots/mlb/players/full/35149.png\" class=\"aspect-ratio--child\" data-mptype=\"image\" src=\"data:image/gif;base64,R0lGODlhAQABAIAAAAAAAP///yH5BAEAAAAALAAAAAABAAEAAAIBRAA7\" title=\"Luis Guillorme\"/></div></figure></div></a></span></td><td class=\"Table__TD\"><span class=\"\" style=\"min-width:140px\"><a class=\"AnchorLink\" href=\"http://www.espn.com/mlb/player/_/id/35149\">Luis Guillorme</a><span class=\"pl2 n10\">13</span></span></td><td class=\"Table__TD\"><span class=\"\" style=\"min-width:40px\">SS</span></td><td class=\"Table__TD\"><span class=\"\" style=\"min-width:40px\">L</span></td><td class=\"Table__TD\"><span class=\"\" style=\"min-width:40px\">R</span></td><td class=\"Table__TD\"><span class=\"\" style=\"min-width:40px\">25</span></td><td class=\"Table__TD\"><span class=\"\" style=\"min-width:50px\">5' 10\"</span></td><td class=\"Table__TD\"><span class=\"\" style=\"min-width:70px\">195 lbs</span></td><td class=\"Table__TD\"><span class=\"\" style=\"min-width:140px\">Davie, FL</span></td></tr><tr class=\"Table__TR Table__TR--lg Table__even\" data-idx=\"5\"><td class=\"Table__TD--headshot Table__TD\"><span class=\"Table__TD--headshot\" style=\"min-width:40px\"><a class=\"AnchorLink\" href=\"http://www.espn.com/mlb/player/_/id/38347\"><div class=\"headshot inline-block relative TableHeadshot roster-headshot headshot--sm athlete silo\"><figure class=\"Image aspect-ratio--parent\"><div class=\"Image__Wrapper aspect-ratio--1x1\"><img alt=\"https://a.espncdn.com/i/headshots/mlb/players/full/38347.png\" class=\"aspect-ratio--child\" data-mptype=\"image\" src=\"data:image/gif;base64,R0lGODlhAQABAIAAAAAAAP///yH5BAEAAAAALAAAAAABAAEAAAIBRAA7\" title=\"Sam Haggerty\"/></div></figure></div></a></span></td><td class=\"Table__TD\"><span class=\"\" style=\"min-width:140px\"><a class=\"AnchorLink\" href=\"http://www.espn.com/mlb/player/_/id/38347\">Sam Haggerty</a><span class=\"pl2 n10\">19</span></span></td><td class=\"Table__TD\"><span class=\"\" style=\"min-width:40px\">2B</span></td><td class=\"Table__TD\"><span class=\"\" style=\"min-width:40px\">B</span></td><td class=\"Table__TD\"><span class=\"\" style=\"min-width:40px\">R</span></td><td class=\"Table__TD\"><span class=\"\" style=\"min-width:40px\">25</span></td><td class=\"Table__TD\"><span class=\"\" style=\"min-width:50px\">5' 11\"</span></td><td class=\"Table__TD\"><span class=\"\" style=\"min-width:70px\">175 lbs</span></td><td class=\"Table__TD\"><span class=\"\" style=\"min-width:140px\">Denver, CO</span></td></tr><tr class=\"Table__TR Table__TR--lg Table__even\" data-idx=\"6\"><td class=\"Table__TD--headshot Table__TD\"><span class=\"Table__TD--headshot\" style=\"min-width:40px\"><a class=\"AnchorLink\" href=\"http://www.espn.com/mlb/player/_/id/29074\"><div class=\"headshot inline-block relative TableHeadshot roster-headshot headshot--sm athlete silo\"><figure class=\"Image aspect-ratio--parent\"><div class=\"Image__Wrapper aspect-ratio--1x1\"><img alt=\"https://a.espncdn.com/i/headshots/mlb/players/full/29074.png\" class=\"aspect-ratio--child\" data-mptype=\"image\" src=\"data:image/gif;base64,R0lGODlhAQABAIAAAAAAAP///yH5BAEAAAAALAAAAAABAAEAAAIBRAA7\" title=\"Jed Lowrie\"/></div></figure></div></a></span></td><td class=\"Table__TD\"><span class=\"\" style=\"min-width:140px\"><a class=\"AnchorLink\" href=\"http://www.espn.com/mlb/player/_/id/29074\">Jed Lowrie</a><span class=\"pl2 n10\">4</span></span></td><td class=\"Table__TD\"><span class=\"\" style=\"min-width:40px\">2B</span></td><td class=\"Table__TD\"><span class=\"\" style=\"min-width:40px\">B</span></td><td class=\"Table__TD\"><span class=\"\" style=\"min-width:40px\">R</span></td><td class=\"Table__TD\"><span class=\"\" style=\"min-width:40px\">35</span></td><td class=\"Table__TD\"><span class=\"\" style=\"min-width:50px\">6' 0\"</span></td><td class=\"Table__TD\"><span class=\"\" style=\"min-width:70px\">180 lbs</span></td><td class=\"Table__TD\"><span class=\"\" style=\"min-width:140px\">Salem, OR</span></td></tr><tr class=\"Table__TR Table__TR--lg Table__even\" data-idx=\"7\"><td class=\"Table__TD--headshot Table__TD\"><span class=\"Table__TD--headshot\" style=\"min-width:40px\"><a class=\"AnchorLink\" href=\"http://www.espn.com/mlb/player/_/id/33215\"><div class=\"headshot inline-block relative TableHeadshot roster-headshot headshot--sm athlete silo\"><figure class=\"Image aspect-ratio--parent\"><div class=\"Image__Wrapper aspect-ratio--1x1\"><img alt=\"https://a.espncdn.com/i/headshots/mlb/players/full/33215.png\" class=\"aspect-ratio--child\" data-mptype=\"image\" src=\"data:image/gif;base64,R0lGODlhAQABAIAAAAAAAP///yH5BAEAAAAALAAAAAABAAEAAAIBRAA7\" title=\"Amed Rosario\"/></div></figure></div></a></span></td><td class=\"Table__TD\"><span class=\"\" style=\"min-width:140px\"><a class=\"AnchorLink\" href=\"http://www.espn.com/mlb/player/_/id/33215\">Amed Rosario</a><span class=\"pl2 n10\">1</span></span></td><td class=\"Table__TD\"><span class=\"\" style=\"min-width:40px\">SS</span></td><td class=\"Table__TD\"><span class=\"\" style=\"min-width:40px\">R</span></td><td class=\"Table__TD\"><span class=\"\" style=\"min-width:40px\">R</span></td><td class=\"Table__TD\"><span class=\"\" style=\"min-width:40px\">24</span></td><td class=\"Table__TD\"><span class=\"\" style=\"min-width:50px\">6' 2\"</span></td><td class=\"Table__TD\"><span class=\"\" style=\"min-width:70px\">189 lbs</span></td><td class=\"Table__TD\"><span class=\"\" style=\"min-width:140px\">Santo Domingo, Dominican Republic</span></td></tr><tr class=\"Table__TR Table__TR--lg Table__even\" data-idx=\"8\"><td class=\"Table__TD--headshot Table__TD\"><span class=\"Table__TD--headshot\" style=\"min-width:40px\"><a class=\"AnchorLink\" href=\"http://www.espn.com/mlb/player/_/id/33218\"><div class=\"headshot inline-block relative TableHeadshot roster-headshot headshot--sm athlete silo\"><figure class=\"Image aspect-ratio--parent\"><div class=\"Image__Wrapper aspect-ratio--1x1\"><img alt=\"https://a.espncdn.com/i/headshots/mlb/players/full/33218.png\" class=\"aspect-ratio--child\" data-mptype=\"image\" src=\"data:image/gif;base64,R0lGODlhAQABAIAAAAAAAP///yH5BAEAAAAALAAAAAABAAEAAAIBRAA7\" title=\"Dominic Smith\"/></div></figure></div></a></span></td><td class=\"Table__TD\"><span class=\"\" style=\"min-width:140px\"><a class=\"AnchorLink\" href=\"http://www.espn.com/mlb/player/_/id/33218\">Dominic Smith</a><span class=\"pl2 n10\">22</span></span></td><td class=\"Table__TD\"><span class=\"\" style=\"min-width:40px\">1B</span></td><td class=\"Table__TD\"><span class=\"\" style=\"min-width:40px\">L</span></td><td class=\"Table__TD\"><span class=\"\" style=\"min-width:40px\">L</span></td><td class=\"Table__TD\"><span class=\"\" style=\"min-width:40px\">24</span></td><td class=\"Table__TD\"><span class=\"\" style=\"min-width:50px\">6' 0\"</span></td><td class=\"Table__TD\"><span class=\"\" style=\"min-width:70px\">239 lbs</span></td><td class=\"Table__TD\"><span class=\"\" style=\"min-width:140px\">Los Angeles, CA</span></td></tr></tbody></table></div><div class=\"Table__Shadow--right\" style=\"opacity:0\"></div></div></div></section><section class=\"ResponsiveTable Outfielders\"><div class=\"Table__Title\">Outfielders</div><div class=\"flex\"><div class=\"Table__ScrollerWrapper relative overflow-hidden\"><div class=\"Table__Shadow--left\" style=\"opacity:0\"></div><div class=\"Table__Scroller\"><table cellpadding=\"0\" cellspacing=\"0\" class=\"Table\"><colgroup class=\"Table__Colgroup\" span=\"9\"><col class=\"Table__Column\"/><col class=\"Table__Column\"/><col class=\"Table__Column\"/><col class=\"Table__Column\"/><col class=\"Table__Column\"/><col class=\"Table__Column\"/><col class=\"Table__Column\"/><col class=\"Table__Column\"/><col class=\"Table__Column\"/></colgroup><thead class=\"Table__sub-header Table__THEAD\"><tr class=\"Table__TR Table__even\"><th class=\"Table__TD--headshot Table__TH\" title=\"\"><span class=\"fw-medium w-100 dib Table__TD--headshot\" style=\"min-width:40px\" title=\"\"></span></th><th class=\"Table__TH\" title=\"\"><span class=\"fw-medium w-100 dib\" style=\"min-width:140px\" title=\"\">Name</span></th><th class=\"Table__TH\" title=\"\"><span class=\"fw-medium w-100 dib\" style=\"min-width:40px\" title=\"\">POS</span></th><th class=\"Table__TH\" title=\"\"><span class=\"fw-medium w-100 dib underline\" style=\"min-width:40px\" title=\"\"><a class=\"AnchorLink clr-gray-04\" href=\"/mlb/team/roster/_/name/nym/sort/bats/dir/asc\">BAT</a></span></th><th class=\"Table__TH\" title=\"\"><span class=\"fw-medium w-100 dib underline\" style=\"min-width:40px\" title=\"\"><a class=\"AnchorLink clr-gray-04\" href=\"/mlb/team/roster/_/name/nym/sort/throws/dir/asc\">THW</a></span></th><th class=\"column-width-small Table__TH\" title=\"\"><span class=\"fw-medium w-100 dib underline column-width-small\" style=\"min-width:40px\" title=\"\"><a class=\"AnchorLink clr-gray-04\" href=\"/mlb/team/roster/_/name/nym/sort/age/dir/asc\">Age</a></span></th><th class=\"Table__TH\" title=\"\"><span class=\"fw-medium w-100 dib underline\" style=\"min-width:50px\" title=\"\"><a class=\"AnchorLink clr-gray-04\" href=\"/mlb/team/roster/_/name/nym/sort/height/dir/asc\">HT</a></span></th><th class=\"Table__TH\" title=\"\"><span class=\"fw-medium w-100 dib underline\" style=\"min-width:70px\" title=\"\"><a class=\"AnchorLink clr-gray-04\" href=\"/mlb/team/roster/_/name/nym/sort/weight/dir/asc\">WT</a></span></th><th class=\"Table__TH\" title=\"\"><span class=\"fw-medium w-100 dib\" style=\"min-width:140px\" title=\"\">Birth Place</span></th></tr></thead><tbody class=\"Table__TBODY\"><tr class=\"Table__TR Table__TR--lg Table__even\" data-idx=\"0\"><td class=\"Table__TD--headshot Table__TD\"><span class=\"Table__TD--headshot\" style=\"min-width:40px\"><a class=\"AnchorLink\" href=\"http://www.espn.com/mlb/player/_/id/32080\"><div class=\"headshot inline-block relative TableHeadshot roster-headshot headshot--sm athlete silo\"><figure class=\"Image aspect-ratio--parent\"><div class=\"Image__Wrapper aspect-ratio--1x1\"><img alt=\"https://a.espncdn.com/i/headshots/mlb/players/full/32080.png\" class=\"aspect-ratio--child\" data-mptype=\"image\" src=\"data:image/gif;base64,R0lGODlhAQABAIAAAAAAAP///yH5BAEAAAAALAAAAAABAAEAAAIBRAA7\" title=\"Yoenis Cespedes\"/></div></figure></div></a></span></td><td class=\"Table__TD\"><span class=\"\" style=\"min-width:140px\"><a class=\"AnchorLink\" href=\"http://www.espn.com/mlb/player/_/id/32080\">Yoenis Cespedes</a><span class=\"pl2 n10\">52</span></span></td><td class=\"Table__TD\"><span class=\"\" style=\"min-width:40px\">LF</span></td><td class=\"Table__TD\"><span class=\"\" style=\"min-width:40px\">R</span></td><td class=\"Table__TD\"><span class=\"\" style=\"min-width:40px\">R</span></td><td class=\"Table__TD\"><span class=\"\" style=\"min-width:40px\">34</span></td><td class=\"Table__TD\"><span class=\"\" style=\"min-width:50px\">5' 10\"</span></td><td class=\"Table__TD\"><span class=\"\" style=\"min-width:70px\">220 lbs</span></td><td class=\"Table__TD\"><span class=\"\" style=\"min-width:140px\">Holguin, Cuba</span></td></tr><tr class=\"Table__TR Table__TR--lg Table__even\" data-idx=\"1\"><td class=\"Table__TD--headshot Table__TD\"><span class=\"Table__TD--headshot\" style=\"min-width:40px\"><a class=\"AnchorLink\" href=\"http://www.espn.com/mlb/player/_/id/33711\"><div class=\"headshot inline-block relative TableHeadshot roster-headshot headshot--sm athlete silo\"><figure class=\"Image aspect-ratio--parent\"><div class=\"Image__Wrapper aspect-ratio--1x1\"><img alt=\"https://a.espncdn.com/i/headshots/mlb/players/full/33711.png\" class=\"aspect-ratio--child\" data-mptype=\"image\" src=\"data:image/gif;base64,R0lGODlhAQABAIAAAAAAAP///yH5BAEAAAAALAAAAAABAAEAAAIBRAA7\" title=\"Michael Conforto\"/></div></figure></div></a></span></td><td class=\"Table__TD\"><span class=\"\" style=\"min-width:140px\"><a class=\"AnchorLink\" href=\"http://www.espn.com/mlb/player/_/id/33711\">Michael Conforto</a><span class=\"pl2 n10\">30</span></span></td><td class=\"Table__TD\"><span class=\"\" style=\"min-width:40px\">RF</span></td><td class=\"Table__TD\"><span class=\"\" style=\"min-width:40px\">L</span></td><td class=\"Table__TD\"><span class=\"\" style=\"min-width:40px\">R</span></td><td class=\"Table__TD\"><span class=\"\" style=\"min-width:40px\">26</span></td><td class=\"Table__TD\"><span class=\"\" style=\"min-width:50px\">6' 1\"</span></td><td class=\"Table__TD\"><span class=\"\" style=\"min-width:70px\">215 lbs</span></td><td class=\"Table__TD\"><span class=\"\" style=\"min-width:140px\">Seattle, WA</span></td></tr><tr class=\"Table__TR Table__TR--lg Table__even\" data-idx=\"2\"><td class=\"Table__TD--headshot Table__TD\"><span class=\"Table__TD--headshot\" style=\"min-width:40px\"><a class=\"AnchorLink\" href=\"http://www.espn.com/mlb/player/_/id/33900\"><div class=\"headshot inline-block relative TableHeadshot roster-headshot headshot--sm athlete silo\"><figure class=\"Image aspect-ratio--parent\"><div class=\"Image__Wrapper aspect-ratio--1x1\"><img alt=\"https://a.espncdn.com/i/headshots/mlb/players/full/33900.png\" class=\"aspect-ratio--child\" data-mptype=\"image\" src=\"data:image/gif;base64,R0lGODlhAQABAIAAAAAAAP///yH5BAEAAAAALAAAAAABAAEAAAIBRAA7\" title=\"Jeff McNeil\"/></div></figure></div></a></span></td><td class=\"Table__TD\"><span class=\"\" style=\"min-width:140px\"><a class=\"AnchorLink\" href=\"http://www.espn.com/mlb/player/_/id/33900\">Jeff McNeil</a><span class=\"pl2 n10\">6</span></span></td><td class=\"Table__TD\"><span class=\"\" style=\"min-width:40px\">LF</span></td><td class=\"Table__TD\"><span class=\"\" style=\"min-width:40px\">L</span></td><td class=\"Table__TD\"><span class=\"\" style=\"min-width:40px\">R</span></td><td class=\"Table__TD\"><span class=\"\" style=\"min-width:40px\">27</span></td><td class=\"Table__TD\"><span class=\"\" style=\"min-width:50px\">6' 1\"</span></td><td class=\"Table__TD\"><span class=\"\" style=\"min-width:70px\">165 lbs</span></td><td class=\"Table__TD\"><span class=\"\" style=\"min-width:140px\">Santa Barbara, CA</span></td></tr><tr class=\"Table__TR Table__TR--lg Table__even\" data-idx=\"3\"><td class=\"Table__TD--headshot Table__TD\"><span class=\"Table__TD--headshot\" style=\"min-width:40px\"><a class=\"AnchorLink\" href=\"http://www.espn.com/mlb/player/_/id/32159\"><div class=\"headshot inline-block relative TableHeadshot roster-headshot headshot--sm athlete silo\"><figure class=\"Image aspect-ratio--parent\"><div class=\"Image__Wrapper aspect-ratio--1x1\"><img alt=\"https://a.espncdn.com/i/headshots/mlb/players/full/32159.png\" class=\"aspect-ratio--child\" data-mptype=\"image\" src=\"data:image/gif;base64,R0lGODlhAQABAIAAAAAAAP///yH5BAEAAAAALAAAAAABAAEAAAIBRAA7\" title=\"Brandon Nimmo\"/></div></figure></div></a></span></td><td class=\"Table__TD\"><span class=\"\" style=\"min-width:140px\"><a class=\"AnchorLink\" href=\"http://www.espn.com/mlb/player/_/id/32159\">Brandon Nimmo</a><span class=\"pl2 n10\">9</span></span></td><td class=\"Table__TD\"><span class=\"\" style=\"min-width:40px\">CF</span></td><td class=\"Table__TD\"><span class=\"\" style=\"min-width:40px\">L</span></td><td class=\"Table__TD\"><span class=\"\" style=\"min-width:40px\">R</span></td><td class=\"Table__TD\"><span class=\"\" style=\"min-width:40px\">26</span></td><td class=\"Table__TD\"><span class=\"\" style=\"min-width:50px\">6' 3\"</span></td><td class=\"Table__TD\"><span class=\"\" style=\"min-width:70px\">207 lbs</span></td><td class=\"Table__TD\"><span class=\"\" style=\"min-width:140px\">Cheyenne, WY</span></td></tr></tbody></table></div><div class=\"Table__Shadow--right\" style=\"opacity:0\"></div></div></div></section></div></section></div></section><div><div class=\"sponsored-content sl-horizontal\"><div class=\"sponsored-headlines relative sl-wrapper w-100 taboola\"><div id=\"roster-thumbnails-3x2-a\"></div></div></div></div></div><div class=\"layout__column layout__column--2\"><aside><div data-box-type=\"fitt-adbox-incontentstrip\"><div class=\"Ad Ad--inContentStrip ad-slot\" data-collapse-before-load=\"true\" data-slot-kvps=\"pos=incontentstrip\" data-slot-type=\"incontentstrip\"></div></div><div data-box-type=\"fitt-adbox-incontent\"><div class=\"Ad Ad--inContent ad-slot\" data-slot-kvps=\"pos=incontent\" data-slot-type=\"incontent\"></div></div><section class=\"Card News\"><header aria-label=\"MLB News\" class=\"Card__Header News__Header\" role=\"heading\"><div class=\"Card__Header__Title__Wrapper\"><h3 class=\"Card__Header__Title Card__Header__Title--no-theme\">MLB News</h3></div></header><div class=\"Wrapper Card__Content\"><section class=\"ContentList\"><section class=\"ContentList__Item\"><a class=\"AnchorLink News__Item external flex flex-row\" href=\"http://insider.espn.com/mlb/insider/story/_/id/28195666/what-agent-scott-boras-say-winter-meetings-means\" name=\"&amp;lpos=toolkit\" rel=\"noopener\" target=\"_self\"><figure class=\"Image aspect-ratio--parent News__Item__Thumbnail overflow-hidden\"><div class=\"Image__Wrapper aspect-ratio--1x1\"><img alt=\"What agent Scott Boras will say at the winter meetings -- and what it means\" class=\"aspect-ratio--child\" data-mptype=\"image\" src=\"data:image/gif;base64,R0lGODlhAQABAIAAAAAAAP///yH5BAEAAAAALAAAAAABAAEAAAIBRAA7\" title=\"What agent Scott Boras will say at the winter meetings -- and what it means\"/></div></figure><div class=\"News__Content__Container\"><div class=\"News__Item__Headline\">What agent Scott Boras will say at the winter meetings -- and what it means</div><div class=\"News__Item__Description\">The game's most high-profile agent always shares his thoughts at the winter meetings. Here's how to read between the lines.</div></div></a></section><section class=\"ContentList__Item\"><a class=\"AnchorLink News__Item external flex flex-row\" href=\"/mlb/story/_/id/28191802/justin-bour-agrees-play-japan-hanshin-tigers\" name=\"&amp;lpos=toolkit\"><figure class=\"Image aspect-ratio--parent News__Item__Thumbnail overflow-hidden\"><div class=\"Image__Wrapper aspect-ratio--1x1\"><img alt=\"Justin Bour agrees to play for Japan's Hanshin Tigers\" class=\"aspect-ratio--child\" data-mptype=\"image\" src=\"data:image/gif;base64,R0lGODlhAQABAIAAAAAAAP///yH5BAEAAAAALAAAAAABAAEAAAIBRAA7\" title=\"Justin Bour agrees to play for Japan's Hanshin Tigers\"/></div></figure><div class=\"News__Content__Container\"><div class=\"News__Item__Headline\">Justin Bour agrees to play for Japan's Hanshin Tigers</div><div class=\"News__Item__Description\">Justin Bour, a 31-year-old first baseman who played for the Angels last season, has reached a basic agreement with the Hanshin Tigers of Japan's Central League.</div></div></a></section><section class=\"ContentList__Item\"><a class=\"AnchorLink News__Item external flex flex-row\" href=\"/mlb/story/_/id/28190512/seymour-siwoff-long-elias-sports-bureau-owner-dies-99\" name=\"&amp;lpos=toolkit\"><figure class=\"Image aspect-ratio--parent News__Item__Thumbnail overflow-hidden\"><div class=\"Image__Wrapper aspect-ratio--1x1\"><img alt=\"Seymour Siwoff, longtime Elias Sports Bureau owner, dies at 99\" class=\"aspect-ratio--child\" data-mptype=\"image\" src=\"data:image/gif;base64,R0lGODlhAQABAIAAAAAAAP///yH5BAEAAAAALAAAAAABAAEAAAIBRAA7\" title=\"Seymour Siwoff, longtime Elias Sports Bureau owner, dies at 99\"/></div></figure><div class=\"News__Content__Container\"><div class=\"News__Item__Headline\">Seymour Siwoff, longtime Elias Sports Bureau owner, dies at 99</div><div class=\"News__Item__Description\">Seymour Siwoff, who owned the Elias Sports Bureau for more than 70 years before selling it to his grandson in March 2018, died Friday at age 99.</div></div></a></section></section></div><footer class=\"Card__Footer\"><a class=\"AnchorLink News__FooterLink external\" href=\"/mlb/\">All MLB News</a></footer></section></aside></div></div><div></div></div></div></div><div id=\"fittOverlayContainer\"><div data-box-type=\"fitt-adbox-overlay\" id=\"fittOverlayContainerInner\"><div class=\"Ad ad-slot\" data-out-of-page=\"true\" data-slot-kvps=\"pos=outofpage\" data-slot-type=\"overlay\"></div></div></div></div></div></div></div></div>\n",
       "<script type=\"text/javascript\">window['__espnfitt__']={\"app\":{\"uid\":\"espnfitt\",\"mode\":\"universal\",\"apiEnv\":\"production\",\"envName\":\"prod\",\"cdnPath\":\"//cdn1.espn.net/fitt/da3f9a28b7fa-release-11-20-2019.1/client\",\"webpack\":{\"chunks\":{\"404\":{\"path\":\"404\",\"hash\":\"b6fa5d33a6108e34abc9\"},\"cross-fitt.admin\":{\"path\":\"cross-fitt/admin\",\"hash\":\"6a046819f9ac0fa8dd14\"},\"admin\":{\"path\":\"admin\",\"hash\":\"bea385278a72a2e1ddec\"},\"competitions\":{\"path\":\"competitions\",\"hash\":\"59c58efb9ffc18c1d527\"},\"editions\":{\"path\":\"editions\",\"hash\":\"8a254836d5506dd9f9ca\"},\"editions.webview\":{\"path\":\"editions/webview\",\"hash\":\"e55bd20fd5a3b06af73b\"},\"futures\":{\"path\":\"futures\",\"hash\":\"5be6000fdac6fa407936\"},\"futures.webview\":{\"path\":\"futures/webview\",\"hash\":\"ed26b691a3523c2679d2\"},\"gamepackage\":{\"path\":\"gamepackage\",\"hash\":\"fcb3a493f40bcbc719c0\"},\"gamepackage.basketball\":{\"path\":\"gamepackage/basketball\",\"hash\":\"a9078a4f50ef1d3b1f7c\"},\"gamepackage.basketball.webview\":{\"path\":\"gamepackage/basketball/webview\",\"hash\":\"2ea851a664a6b21ce700\"},\"gamepackage.cricket\":{\"path\":\"gamepackage/cricket\",\"hash\":\"02abae37b393c97a402a\"},\"gamepackage.cricket.cricinfo\":{\"path\":\"gamepackage/cricket/cricinfo\",\"hash\":\"5e365c1f6cf717d8badc\"},\"gamepackage.hockey\":{\"path\":\"gamepackage/hockey\",\"hash\":\"f4ee5f204fc6c88d09ba\"},\"gamepackage.hockey.webview\":{\"path\":\"gamepackage/hockey/webview\",\"hash\":\"dfa10b5062cfe00372d1\"},\"gamepackage.mma\":{\"path\":\"gamepackage/mma\",\"hash\":\"1aacad1aad43e5d5c9ba\"},\"gamepackage.mma.webview\":{\"path\":\"gamepackage/mma/webview\",\"hash\":\"b6f070d28a0e7ba0bc6c\"},\"gamepackage.racing\":{\"path\":\"gamepackage/racing\",\"hash\":\"f6bd762afccb1530fe74\"},\"gamepackage.racing.webview\":{\"path\":\"gamepackage/racing/webview\",\"hash\":\"8f4fd53bcd4178bec665\"},\"gamepackage.rugby\":{\"path\":\"gamepackage/rugby\",\"hash\":\"6388d4dd9ff96dc505cf\"},\"history\":{\"path\":\"history\",\"hash\":\"89152e9eb859c20822ca\"},\"history.webview\":{\"path\":\"history/webview\",\"hash\":\"8d787a0012396e4f9c44\"},\"home\":{\"path\":\"home\",\"hash\":\"10d7cb02075a5ae98d39\"},\"injuries\":{\"path\":\"injuries\",\"hash\":\"cc6101955a3034a583dc\"},\"injuries.webview\":{\"path\":\"injuries/webview\",\"hash\":\"3a1d52141356307dd803\"},\"leaderboard\":{\"path\":\"leaderboard\",\"hash\":\"344bcb86b21260c804f2\"},\"leaderboard.helpers\":{\"path\":\"leaderboard/helpers\",\"hash\":\"230949d7136210696d79\"},\"leaderboard.webview\":{\"path\":\"leaderboard/webview\",\"hash\":\"67ec37e39717cd806dfe\"},\"league\":{\"path\":\"league\",\"hash\":\"d489e9240d405a58cef5\"},\"lines\":{\"path\":\"lines\",\"hash\":\"cc92ded62abd8651f3ae\"},\"player\":{\"path\":\"player\",\"hash\":\"b36804cc933eac3cb587\"},\"player.baseball\":{\"path\":\"player/baseball\",\"hash\":\"ef56e1db6a64baa51812\"},\"player.baseball.webview\":{\"path\":\"player/baseball/webview\",\"hash\":\"f16473c9da5eb916e6f3\"},\"player.basketball\":{\"path\":\"player/basketball\",\"hash\":\"5b4bcd630aba3186b1dc\"},\"player.basketball.webview\":{\"path\":\"player/basketball/webview\",\"hash\":\"600724f88feb70e5d186\"},\"player.cricket\":{\"path\":\"player/cricket\",\"hash\":\"3a7b4ad062e9c73571fa\"},\"player.cricket.cricinfo\":{\"path\":\"player/cricket/cricinfo\",\"hash\":\"903bb74107aa9814a195\"},\"player.cricket.webview\":{\"path\":\"player/cricket/webview\",\"hash\":\"d5e3833cb5e6db71a3d7\"},\"player.football\":{\"path\":\"player/football\",\"hash\":\"d8e9b598ef8aaa9a0dfc\"},\"player.football.webview\":{\"path\":\"player/football/webview\",\"hash\":\"ae34e2df124c5f7ecf51\"},\"player.golf\":{\"path\":\"player/golf\",\"hash\":\"7556bd238a30ec5675fa\"},\"player.golf.webview\":{\"path\":\"player/golf/webview\",\"hash\":\"20cbbdd00f3cda8fea2b\"},\"player.hockey\":{\"path\":\"player/hockey\",\"hash\":\"26f4d457c4876784ae30\"},\"player.hockey.webview\":{\"path\":\"player/hockey/webview\",\"hash\":\"214c3b3ca9f7c31d7ae2\"},\"player.mma\":{\"path\":\"player/mma\",\"hash\":\"269c05c3de1eb8d9c8de\"},\"player.mma.webview\":{\"path\":\"player/mma/webview\",\"hash\":\"d5a558a363b874f1c91f\"},\"player.racing\":{\"path\":\"player/racing\",\"hash\":\"393fc0838b9d5004dc91\"},\"player.racing.webview\":{\"path\":\"player/racing/webview\",\"hash\":\"a2e1aeb5170793861abd\"},\"player.rugby\":{\"path\":\"player/rugby\",\"hash\":\"6812e76516bdbf5f024a\"},\"player.rugby.webview\":{\"path\":\"player/rugby/webview\",\"hash\":\"665009f6748d4592d4a3\"},\"player.soccer\":{\"path\":\"player/soccer\",\"hash\":\"3c7cd9b1c8e035482205\"},\"player.soccer.webview\":{\"path\":\"player/soccer/webview\",\"hash\":\"fa35ae4f4b2a3ff3aba1\"},\"player.tennis\":{\"path\":\"player/tennis\",\"hash\":\"c0de5eaedbc51a210bcd\"},\"player.tennis.webview\":{\"path\":\"player/tennis/webview\",\"hash\":\"fecab019a6fee28b6647\"},\"preferences\":{\"path\":\"preferences\",\"hash\":\"57f9d7f3d930bcc8f389\"},\"preferences.webview\":{\"path\":\"preferences/webview\",\"hash\":\"c7a1365cd61d5d62ce65\"},\"qbr\":{\"path\":\"qbr\",\"hash\":\"f723ec4d99d04c6c10b7\"},\"qbr.webview\":{\"path\":\"qbr/webview\",\"hash\":\"605f9d4fb6e21fb8b216\"},\"rankings\":{\"path\":\"rankings\",\"hash\":\"42899c376bb9d2417b8c\"},\"rankings.webview\":{\"path\":\"rankings/webview\",\"hash\":\"742153899106191f33ce\"},\"sandbox\":{\"path\":\"sandbox\",\"hash\":\"d71b746701987df5b85d\"},\"sandbox.analytics\":{\"path\":\"sandbox/analytics\",\"hash\":\"eefe538532f39869e948\"},\"sandbox.fastcast\":{\"path\":\"sandbox/fastcast\",\"hash\":\"425d58cf164afd7e9dfe\"},\"sandbox.redirect\":{\"path\":\"sandbox/redirect\",\"hash\":\"004a5e20e17463c15cf4\"},\"sandbox.test\":{\"path\":\"sandbox/test\",\"hash\":\"967fcf7770565019a15e\"},\"schedule\":{\"path\":\"schedule\",\"hash\":\"3b832576f0b50cb2eb4a\"},\"schedule.webview\":{\"path\":\"schedule/webview\",\"hash\":\"d5be15f133f9b0c65206\"},\"scoreboard\":{\"path\":\"scoreboard\",\"hash\":\"7504358178eb116493e2\"},\"search\":{\"path\":\"search\",\"hash\":\"d28496b1e1dc16ae148e\"},\"search.cricinfo\":{\"path\":\"search/cricinfo\",\"hash\":\"86d747db0327259837f4\"},\"standings\":{\"path\":\"standings\",\"hash\":\"bfea2c54cd70cfd31377\"},\"standings.webview\":{\"path\":\"standings/webview\",\"hash\":\"1bb11387d2938a1f5c71\"},\"stats\":{\"path\":\"stats\",\"hash\":\"9fbd5f0070fbfc2c42aa\"},\"stats.player\":{\"path\":\"stats/player\",\"hash\":\"00a4dc1fc3d3ee6b95f9\"},\"stats.player.webview\":{\"path\":\"stats/player/webview\",\"hash\":\"f77f8ea1d9577ebac145\"},\"stats.team\":{\"path\":\"stats/team\",\"hash\":\"6ba65950d69cf7c5650a\"},\"stats.team.webview\":{\"path\":\"stats/team/webview\",\"hash\":\"d0b2f10741f25ef662da\"},\"stats.webview\":{\"path\":\"stats/webview\",\"hash\":\"01b22125735ba423b8ab\"},\"streampicker\":{\"path\":\"streampicker\",\"hash\":\"0558fe9e0f6308999b20\"},\"team\":{\"path\":\"team\",\"hash\":\"4577b6408483aeba8eea\"},\"team.depth\":{\"path\":\"team/depth\",\"hash\":\"0b34d2995d9085fc8ec1\"},\"team.fixtures\":{\"path\":\"team/fixtures\",\"hash\":\"631b56721d9899683000\"},\"team.injuries\":{\"path\":\"team/injuries\",\"hash\":\"ee911a82f5d43616fb33\"},\"team.lineup\":{\"path\":\"team/lineup\",\"hash\":\"571e578f1d77ab76e0f9\"},\"team.photos\":{\"path\":\"team/photos\",\"hash\":\"fe9c9adf09bf544ec5c6\"},\"team.results\":{\"path\":\"team/results\",\"hash\":\"db40d0ed4eea14bf5425\"},\"team.roster\":{\"path\":\"team/roster\",\"hash\":\"7095a80eec4c77112ae2\"},\"team.roster.webview\":{\"path\":\"team/roster/webview\",\"hash\":\"1dba4a67881d6b656892\"},\"team.salaries\":{\"path\":\"team/salaries\",\"hash\":\"56efdef56f34c694e198\"},\"team.schedule\":{\"path\":\"team/schedule\",\"hash\":\"783dcb4009fe06370c84\"},\"team.schedule.webview\":{\"path\":\"team/schedule/webview\",\"hash\":\"69c8d749232a0b4e4877\"},\"team.splits\":{\"path\":\"team/splits\",\"hash\":\"e5ef2317ce7e787a92d5\"},\"team.squad\":{\"path\":\"team/squad\",\"hash\":\"0c80008a5238f8256c52\"},\"team.squad.webview\":{\"path\":\"team/squad/webview\",\"hash\":\"cb5451cb679f331c79ad\"},\"team.stats\":{\"path\":\"team/stats\",\"hash\":\"22d01e0a293dc5b0eb60\"},\"team.stats.webview\":{\"path\":\"team/stats/webview\",\"hash\":\"474243d9fe883d893a1d\"},\"team.transactions\":{\"path\":\"team/transactions\",\"hash\":\"185485407b891a72d2d6\"},\"team.transfers\":{\"path\":\"team/transfers\",\"hash\":\"2ade85d998d8cbc64b5c\"},\"teams\":{\"path\":\"teams\",\"hash\":\"87a4842572dd6581f159\"},\"transactions\":{\"path\":\"transactions\",\"hash\":\"a099d0b21e8665c1c62b\"},\"transactions.webview\":{\"path\":\"transactions/webview\",\"hash\":\"5fea166b61d09bf81fbe\"},\"transfers\":{\"path\":\"transfers\",\"hash\":\"ccfd1f534bdd5766a463\"},\"video\":{\"path\":\"video\",\"hash\":\"aae5d1caacaf6005cde4\"},\"video.clip\":{\"path\":\"video/clip\",\"hash\":\"50022436eb90210f527b\"},\"espn-en\":{\"path\":\"/checkout/fitt/dist/editionChunks/espn-en\",\"hash\":\"cc02034d3d407baadef9\"},\"espn-es-ar\":{\"path\":\"/checkout/fitt/dist/editionChunks/espn-es-ar\",\"hash\":\"b1406797e5968e1f5c22\"},\"espn-es-cl\":{\"path\":\"/checkout/fitt/dist/editionChunks/espn-es-cl\",\"hash\":\"198df1564517fd654838\"},\"espn-es-co\":{\"path\":\"/checkout/fitt/dist/editionChunks/espn-es-co\",\"hash\":\"d0be3ef8d4230a6f882e\"},\"espn-es-cr\":{\"path\":\"/checkout/fitt/dist/editionChunks/espn-es-cr\",\"hash\":\"1fcd0fe62e567d1c3c4d\"},\"espn-es-do\":{\"path\":\"/checkout/fitt/dist/editionChunks/espn-es-do\",\"hash\":\"71808d1a17bebf9578e6\"},\"espn-es-ec\":{\"path\":\"/checkout/fitt/dist/editionChunks/espn-es-ec\",\"hash\":\"e83e653a12d0ffde34b1\"},\"espn-es-gt\":{\"path\":\"/checkout/fitt/dist/editionChunks/espn-es-gt\",\"hash\":\"9739e008774f5ca82637\"},\"espn-es-mx\":{\"path\":\"/checkout/fitt/dist/editionChunks/espn-es-mx\",\"hash\":\"0867d8798d13a61f141f\"},\"espn-es-pa\":{\"path\":\"/checkout/fitt/dist/editionChunks/espn-es-pa\",\"hash\":\"db3fb66f6df5a4ebd366\"},\"espn-es-pe\":{\"path\":\"/checkout/fitt/dist/editionChunks/espn-es-pe\",\"hash\":\"85b8b2ba1077e5470c52\"},\"espn-es-us\":{\"path\":\"/checkout/fitt/dist/editionChunks/espn-es-us\",\"hash\":\"b202e17a77991ef9a79e\"},\"espn-es-uy\":{\"path\":\"/checkout/fitt/dist/editionChunks/espn-es-uy\",\"hash\":\"ecd381985b3e3f77fe9e\"},\"espn-es-ve\":{\"path\":\"/checkout/fitt/dist/editionChunks/espn-es-ve\",\"hash\":\"28251059f6adb5ebba60\"},\"espn-pt-br\":{\"path\":\"/checkout/fitt/dist/editionChunks/espn-pt-br\",\"hash\":\"8593b98b6a9660cc5a17\"},\"espnau-en\":{\"path\":\"/checkout/fitt/dist/editionChunks/espnau-en\",\"hash\":\"9fedab305628b38e78c2\"},\"espncricinfo-en-au\":{\"path\":\"/checkout/fitt/dist/editionChunks/espncricinfo-en-au\",\"hash\":\"5993c8b16035a63ebfa4\"},\"espncricinfo-en-bd\":{\"path\":\"/checkout/fitt/dist/editionChunks/espncricinfo-en-bd\",\"hash\":\"b80c4bae5ecdad4f096a\"},\"espncricinfo-en-in\":{\"path\":\"/checkout/fitt/dist/editionChunks/espncricinfo-en-in\",\"hash\":\"cba192d44ba038df154d\"},\"espncricinfo-en-lk\":{\"path\":\"/checkout/fitt/dist/editionChunks/espncricinfo-en-lk\",\"hash\":\"c01d552238f80d4d6c6a\"},\"espncricinfo-en-nz\":{\"path\":\"/checkout/fitt/dist/editionChunks/espncricinfo-en-nz\",\"hash\":\"a5afd36c4902e98d1cac\"},\"espncricinfo-en-pk\":{\"path\":\"/checkout/fitt/dist/editionChunks/espncricinfo-en-pk\",\"hash\":\"0acf6f1c630580e2da8a\"},\"espncricinfo-en-uk\":{\"path\":\"/checkout/fitt/dist/editionChunks/espncricinfo-en-uk\",\"hash\":\"432f6583759d2ced156f\"},\"espncricinfo-en-us\":{\"path\":\"/checkout/fitt/dist/editionChunks/espncricinfo-en-us\",\"hash\":\"ee7b5675ccee45b6358d\"},\"espncricinfo-en-ww\":{\"path\":\"/checkout/fitt/dist/editionChunks/espncricinfo-en-ww\",\"hash\":\"bcfb24ace5465da4722c\"},\"espncricinfo-en-za\":{\"path\":\"/checkout/fitt/dist/editionChunks/espncricinfo-en-za\",\"hash\":\"719a1e8770f27127593e\"},\"espnfc-en\":{\"path\":\"/checkout/fitt/dist/editionChunks/espnfc-en\",\"hash\":\"4d6591648f9fe95bb466\"},\"espnfc-en-au\":{\"path\":\"/checkout/fitt/dist/editionChunks/espnfc-en-au\",\"hash\":\"2c5a7b92737c7676af5c\"},\"espnfc-en-ng\":{\"path\":\"/checkout/fitt/dist/editionChunks/espnfc-en-ng\",\"hash\":\"03b1b64222e95ae54283\"},\"espnfc-en-sg\":{\"path\":\"/checkout/fitt/dist/editionChunks/espnfc-en-sg\",\"hash\":\"fbe11e0c88a0cfd44c58\"},\"espnfc-en-uk\":{\"path\":\"/checkout/fitt/dist/editionChunks/espnfc-en-uk\",\"hash\":\"991429a8b2bbfe4e209e\"},\"espnfc-en-us\":{\"path\":\"/checkout/fitt/dist/editionChunks/espnfc-en-us\",\"hash\":\"395b6dc0f7a057e208b2\"},\"espnin-en\":{\"path\":\"/checkout/fitt/dist/editionChunks/espnin-en\",\"hash\":\"9bb60963215f2ca11eec\"},\"espnph-en\":{\"path\":\"/checkout/fitt/dist/editionChunks/espnph-en\",\"hash\":\"0f130b3dbea952556807\"},\"espnsg-en\":{\"path\":\"/checkout/fitt/dist/editionChunks/espnsg-en\",\"hash\":\"7cc16875c99743af91b7\"},\"espnuk-en\":{\"path\":\"/checkout/fitt/dist/editionChunks/espnuk-en\",\"hash\":\"21addc9a67d661d0b7fa\"},\"espnww-en\":{\"path\":\"/checkout/fitt/dist/editionChunks/espnww-en\",\"hash\":\"8efaaf01fe2c01511b9e\"},\"espnza-en\":{\"path\":\"/checkout/fitt/dist/editionChunks/espnza-en\",\"hash\":\"4e3e0df8a71ab01904a4\"},\"espn-en.cricinfo\":{\"path\":\"/checkout/fitt/dist/editionChunks/espn-en\",\"hash\":\"e1336449789e0ba5a00a\"},\"espn-es-ar.cricinfo\":{\"path\":\"/checkout/fitt/dist/editionChunks/espn-es-ar\",\"hash\":\"d67b35255c018cec3f94\"},\"espn-es-cl.cricinfo\":{\"path\":\"/checkout/fitt/dist/editionChunks/espn-es-cl\",\"hash\":\"0688911eec53477b0b75\"},\"espn-es-co.cricinfo\":{\"path\":\"/checkout/fitt/dist/editionChunks/espn-es-co\",\"hash\":\"4a64d90d0057fc223e12\"},\"espn-es-cr.cricinfo\":{\"path\":\"/checkout/fitt/dist/editionChunks/espn-es-cr\",\"hash\":\"641c0c675141d2eed77e\"},\"espn-es-do.cricinfo\":{\"path\":\"/checkout/fitt/dist/editionChunks/espn-es-do\",\"hash\":\"cbf174351ba299d0c930\"},\"espn-es-ec.cricinfo\":{\"path\":\"/checkout/fitt/dist/editionChunks/espn-es-ec\",\"hash\":\"a79bd00ea41344c76865\"},\"espn-es-gt.cricinfo\":{\"path\":\"/checkout/fitt/dist/editionChunks/espn-es-gt\",\"hash\":\"f2e0e6ee068009fe9393\"},\"espn-es-mx.cricinfo\":{\"path\":\"/checkout/fitt/dist/editionChunks/espn-es-mx\",\"hash\":\"674044af2580a19e66b5\"},\"espn-es-pa.cricinfo\":{\"path\":\"/checkout/fitt/dist/editionChunks/espn-es-pa\",\"hash\":\"86422dfc5e4feb50d473\"},\"espn-es-pe.cricinfo\":{\"path\":\"/checkout/fitt/dist/editionChunks/espn-es-pe\",\"hash\":\"cce67287b0aa36861d9f\"},\"espn-es-us.cricinfo\":{\"path\":\"/checkout/fitt/dist/editionChunks/espn-es-us\",\"hash\":\"ef15d33c061b3d58eaa5\"},\"espn-es-uy.cricinfo\":{\"path\":\"/checkout/fitt/dist/editionChunks/espn-es-uy\",\"hash\":\"7d2ef5e04485e834f2bd\"},\"espn-es-ve.cricinfo\":{\"path\":\"/checkout/fitt/dist/editionChunks/espn-es-ve\",\"hash\":\"2ff5a0caba13f7ca5255\"},\"espn-pt-br.cricinfo\":{\"path\":\"/checkout/fitt/dist/editionChunks/espn-pt-br\",\"hash\":\"86105ad543b4984121d4\"},\"espnau-en.cricinfo\":{\"path\":\"/checkout/fitt/dist/editionChunks/espnau-en\",\"hash\":\"394cc5eb43c75ed942f7\"},\"espncricinfo-en-au.cricinfo\":{\"path\":\"/checkout/fitt/dist/editionChunks/espncricinfo-en-au\",\"hash\":\"e908449516e7b2550072\"},\"espncricinfo-en-bd.cricinfo\":{\"path\":\"/checkout/fitt/dist/editionChunks/espncricinfo-en-bd\",\"hash\":\"5800c170c7d2c1252c08\"},\"espncricinfo-en-in.cricinfo\":{\"path\":\"/checkout/fitt/dist/editionChunks/espncricinfo-en-in\",\"hash\":\"da02140ba117d006b739\"},\"espncricinfo-en-lk.cricinfo\":{\"path\":\"/checkout/fitt/dist/editionChunks/espncricinfo-en-lk\",\"hash\":\"205c320a2d2095806443\"},\"espncricinfo-en-nz.cricinfo\":{\"path\":\"/checkout/fitt/dist/editionChunks/espncricinfo-en-nz\",\"hash\":\"5477369a1c685d58e0bb\"},\"espncricinfo-en-pk.cricinfo\":{\"path\":\"/checkout/fitt/dist/editionChunks/espncricinfo-en-pk\",\"hash\":\"80dd9251b309a7d859f2\"},\"espncricinfo-en-uk.cricinfo\":{\"path\":\"/checkout/fitt/dist/editionChunks/espncricinfo-en-uk\",\"hash\":\"40d7d97bcb19f9d1185d\"},\"espncricinfo-en-us.cricinfo\":{\"path\":\"/checkout/fitt/dist/editionChunks/espncricinfo-en-us\",\"hash\":\"feaa5d62aef8467fd311\"},\"espncricinfo-en-ww.cricinfo\":{\"path\":\"/checkout/fitt/dist/editionChunks/espncricinfo-en-ww\",\"hash\":\"d2777a680f456ab8bd1b\"},\"espncricinfo-en-za.cricinfo\":{\"path\":\"/checkout/fitt/dist/editionChunks/espncricinfo-en-za\",\"hash\":\"cb1599a50352ddb4d573\"},\"espnfc-en.cricinfo\":{\"path\":\"/checkout/fitt/dist/editionChunks/espnfc-en\",\"hash\":\"34d6da6d0c1b1d3440da\"},\"espnfc-en-au.cricinfo\":{\"path\":\"/checkout/fitt/dist/editionChunks/espnfc-en-au\",\"hash\":\"afee27e93e6fa77fd8a3\"},\"espnfc-en-ng.cricinfo\":{\"path\":\"/checkout/fitt/dist/editionChunks/espnfc-en-ng\",\"hash\":\"d4bd6d6c822687eaf872\"},\"espnfc-en-sg.cricinfo\":{\"path\":\"/checkout/fitt/dist/editionChunks/espnfc-en-sg\",\"hash\":\"c9cf3cab63c65bd05b65\"},\"espnfc-en-uk.cricinfo\":{\"path\":\"/checkout/fitt/dist/editionChunks/espnfc-en-uk\",\"hash\":\"bace05d3858136a55aea\"},\"espnfc-en-us.cricinfo\":{\"path\":\"/checkout/fitt/dist/editionChunks/espnfc-en-us\",\"hash\":\"1f901d48fe257291af05\"},\"espnin-en.cricinfo\":{\"path\":\"/checkout/fitt/dist/editionChunks/espnin-en\",\"hash\":\"fcc3bb00118af5d55279\"},\"espnph-en.cricinfo\":{\"path\":\"/checkout/fitt/dist/editionChunks/espnph-en\",\"hash\":\"3872b54429b373e4c4bf\"},\"espnsg-en.cricinfo\":{\"path\":\"/checkout/fitt/dist/editionChunks/espnsg-en\",\"hash\":\"e6f1925cb6a23428dfb4\"},\"espnuk-en.cricinfo\":{\"path\":\"/checkout/fitt/dist/editionChunks/espnuk-en\",\"hash\":\"1f8684ac95abdd4ebb95\"},\"espnww-en.cricinfo\":{\"path\":\"/checkout/fitt/dist/editionChunks/espnww-en\",\"hash\":\"a2aa89a9644136130032\"},\"espnza-en.cricinfo\":{\"path\":\"/checkout/fitt/dist/editionChunks/espnza-en\",\"hash\":\"f46ed36574fffaaa6157\"},\"espn-en.webview\":{\"path\":\"/checkout/fitt/dist/editionChunks/espn-en\",\"hash\":\"431fce3c676948f098ef\"},\"espn-es-ar.webview\":{\"path\":\"/checkout/fitt/dist/editionChunks/espn-es-ar\",\"hash\":\"6ee42083a8fdbb9d1ab7\"},\"espn-es-cl.webview\":{\"path\":\"/checkout/fitt/dist/editionChunks/espn-es-cl\",\"hash\":\"82fc721c40a2a8b46090\"},\"espn-es-co.webview\":{\"path\":\"/checkout/fitt/dist/editionChunks/espn-es-co\",\"hash\":\"02e7f22b1dc413d5ac87\"},\"espn-es-cr.webview\":{\"path\":\"/checkout/fitt/dist/editionChunks/espn-es-cr\",\"hash\":\"ff9d7229313edcc4b649\"},\"espn-es-do.webview\":{\"path\":\"/checkout/fitt/dist/editionChunks/espn-es-do\",\"hash\":\"223ced4121748b36050d\"},\"espn-es-ec.webview\":{\"path\":\"/checkout/fitt/dist/editionChunks/espn-es-ec\",\"hash\":\"84f599777c003894920d\"},\"espn-es-gt.webview\":{\"path\":\"/checkout/fitt/dist/editionChunks/espn-es-gt\",\"hash\":\"442b22ba6352a754085b\"},\"espn-es-mx.webview\":{\"path\":\"/checkout/fitt/dist/editionChunks/espn-es-mx\",\"hash\":\"17eac6885d94fd23e808\"},\"espn-es-pa.webview\":{\"path\":\"/checkout/fitt/dist/editionChunks/espn-es-pa\",\"hash\":\"25044f95ac2c0f00bf8f\"},\"espn-es-pe.webview\":{\"path\":\"/checkout/fitt/dist/editionChunks/espn-es-pe\",\"hash\":\"02e2fc00144dabc4dc19\"},\"espn-es-us.webview\":{\"path\":\"/checkout/fitt/dist/editionChunks/espn-es-us\",\"hash\":\"f0cc41f91fe8294a98f4\"},\"espn-es-uy.webview\":{\"path\":\"/checkout/fitt/dist/editionChunks/espn-es-uy\",\"hash\":\"f91fcdcf42f2d5fcefa2\"},\"espn-es-ve.webview\":{\"path\":\"/checkout/fitt/dist/editionChunks/espn-es-ve\",\"hash\":\"922f64fe034f07bd4c7f\"},\"espn-pt-br.webview\":{\"path\":\"/checkout/fitt/dist/editionChunks/espn-pt-br\",\"hash\":\"e717421dd72f3bcbb8af\"},\"espnau-en.webview\":{\"path\":\"/checkout/fitt/dist/editionChunks/espnau-en\",\"hash\":\"0a6fa9f2ac4c1808a1fe\"},\"espncricinfo-en-au.webview\":{\"path\":\"/checkout/fitt/dist/editionChunks/espncricinfo-en-au\",\"hash\":\"d9ab700554d6dbc41295\"},\"espncricinfo-en-bd.webview\":{\"path\":\"/checkout/fitt/dist/editionChunks/espncricinfo-en-bd\",\"hash\":\"ef475405f280a54e42a7\"},\"espncricinfo-en-in.webview\":{\"path\":\"/checkout/fitt/dist/editionChunks/espncricinfo-en-in\",\"hash\":\"8a458944a7db7aa91ac2\"},\"espncricinfo-en-lk.webview\":{\"path\":\"/checkout/fitt/dist/editionChunks/espncricinfo-en-lk\",\"hash\":\"4a5828e957ff36654f63\"},\"espncricinfo-en-nz.webview\":{\"path\":\"/checkout/fitt/dist/editionChunks/espncricinfo-en-nz\",\"hash\":\"8129764830a151f56878\"},\"espncricinfo-en-pk.webview\":{\"path\":\"/checkout/fitt/dist/editionChunks/espncricinfo-en-pk\",\"hash\":\"4551fe1a5f166a34280b\"},\"espncricinfo-en-uk.webview\":{\"path\":\"/checkout/fitt/dist/editionChunks/espncricinfo-en-uk\",\"hash\":\"e231eff5fa4834afab22\"},\"espncricinfo-en-us.webview\":{\"path\":\"/checkout/fitt/dist/editionChunks/espncricinfo-en-us\",\"hash\":\"098932b194d89018feb2\"},\"espncricinfo-en-ww.webview\":{\"path\":\"/checkout/fitt/dist/editionChunks/espncricinfo-en-ww\",\"hash\":\"60238ee6f4b8c9b0fcbc\"},\"espncricinfo-en-za.webview\":{\"path\":\"/checkout/fitt/dist/editionChunks/espncricinfo-en-za\",\"hash\":\"f5e2d7d67a83d643d13b\"},\"espnfc-en.webview\":{\"path\":\"/checkout/fitt/dist/editionChunks/espnfc-en\",\"hash\":\"5b725a5b3c00d8282181\"},\"espnfc-en-au.webview\":{\"path\":\"/checkout/fitt/dist/editionChunks/espnfc-en-au\",\"hash\":\"bd8f71265bfe7b3dc18b\"},\"espnfc-en-ng.webview\":{\"path\":\"/checkout/fitt/dist/editionChunks/espnfc-en-ng\",\"hash\":\"a6fa3d4d06e3bc3970a6\"},\"espnfc-en-sg.webview\":{\"path\":\"/checkout/fitt/dist/editionChunks/espnfc-en-sg\",\"hash\":\"8e775fd7dc3da434f61f\"},\"espnfc-en-uk.webview\":{\"path\":\"/checkout/fitt/dist/editionChunks/espnfc-en-uk\",\"hash\":\"f82255a67b1c231d1348\"},\"espnfc-en-us.webview\":{\"path\":\"/checkout/fitt/dist/editionChunks/espnfc-en-us\",\"hash\":\"edcfbee51ba85b102ebd\"},\"espnin-en.webview\":{\"path\":\"/checkout/fitt/dist/editionChunks/espnin-en\",\"hash\":\"4069c28d1a190f38d3b5\"},\"espnph-en.webview\":{\"path\":\"/checkout/fitt/dist/editionChunks/espnph-en\",\"hash\":\"dc315441fcc0b3b91a37\"},\"espnsg-en.webview\":{\"path\":\"/checkout/fitt/dist/editionChunks/espnsg-en\",\"hash\":\"132fd60dafce1200f591\"},\"espnuk-en.webview\":{\"path\":\"/checkout/fitt/dist/editionChunks/espnuk-en\",\"hash\":\"e6543a41661e78b5b353\"},\"espnww-en.webview\":{\"path\":\"/checkout/fitt/dist/editionChunks/espnww-en\",\"hash\":\"92bc0c55d9d7eb459a18\"},\"espnza-en.webview\":{\"path\":\"/checkout/fitt/dist/editionChunks/espnza-en\",\"hash\":\"3e3c9eb83906c1325353\"},\"espnfitt.cricinfo\":{\"path\":\"/checkout/fitt/src/client/cricinfo.modifier.js\",\"hash\":\"762b4b06775bc1bd7c64\"},\"featurephone.index\":{\"path\":\"/checkout/fitt/src/client/featurephone.index.js\",\"hash\":\"f87efb05a754ae43e3c9\"},\"espnfitt\":{\"path\":\"/checkout/fitt/src/client/index.js\",\"hash\":\"0caf676f12042318af84\"},\"espnfitt.webview\":{\"path\":\"/checkout/fitt/src/client/webview.modifier.js\",\"hash\":\"173a1cd7c253302c5de2\"}},\"hash\":\"e2d8d3a80c64bce29909\",\"cssChunks\":[\"featurephone.index\",\"espnfitt.cricinfo\",\"gamepackage.cricket.cricinfo\",\"player.cricket.cricinfo\",\"search.cricinfo\",\"espnfitt.webview\",\"editions.webview\",\"futures.webview\",\"gamepackage.basketball.webview\",\"gamepackage.hockey.webview\",\"gamepackage.mma.webview\",\"gamepackage.racing.webview\",\"history.webview\",\"injuries.webview\",\"leaderboard.webview\",\"player.baseball.webview\",\"player.basketball.webview\",\"player.cricket.webview\",\"player.football.webview\",\"player.golf.webview\",\"player.hockey.webview\",\"player.mma.webview\",\"player.racing.webview\",\"player.rugby.webview\",\"player.soccer.webview\",\"player.tennis.webview\",\"preferences.webview\",\"qbr.webview\",\"rankings.webview\",\"schedule.webview\",\"standings.webview\",\"stats.player.webview\",\"stats.team.webview\",\"stats.webview\",\"team.roster.webview\",\"team.schedule.webview\",\"team.squad.webview\",\"team.stats.webview\",\"transactions.webview\",\"404\",\"espnfitt\",\"cross-fitt.admin\",\"admin\",\"competitions\",\"futures\",\"gamepackage\",\"gamepackage.basketball\",\"gamepackage.cricket\",\"gamepackage.hockey\",\"gamepackage.mma\",\"gamepackage.racing\",\"gamepackage.rugby\",\"history\",\"injuries\",\"leaderboard\",\"league\",\"lines\",\"player\",\"player.baseball\",\"player.basketball\",\"player.cricket\",\"player.football\",\"player.golf\",\"player.hockey\",\"player.mma\",\"player.racing\",\"player.rugby\",\"player.soccer\",\"player.tennis\",\"qbr\",\"rankings\",\"sandbox\",\"schedule\",\"scoreboard\",\"search\",\"standings\",\"stats\",\"stats.player\",\"stats.team\",\"team\",\"team.depth\",\"team.fixtures\",\"team.injuries\",\"team.lineup\",\"team.photos\",\"team.results\",\"team.roster\",\"team.salaries\",\"team.schedule\",\"team.splits\",\"team.squad\",\"team.stats\",\"team.transactions\",\"team.transfers\",\"teams\",\"transactions\",\"transfers\",\"video\",\"video.clip\"]},\"nochunks\":false,\"nocache\":false,\"assets\":{\"scripts\":[\"//cdn1.espn.net/fitt/da3f9a28b7fa-release-11-20-2019.1/client/espnfitt.js\",\"//cdn1.espn.net/fitt/da3f9a28b7fa-release-11-20-2019.1/client/espn-en.js\",\"//cdn1.espn.net/fitt/da3f9a28b7fa-release-11-20-2019.1/client/team.roster.js\"],\"stylesheets\":[\"//cdn1.espn.net/fitt/da3f9a28b7fa-release-11-20-2019.1/client/css/espnfitt.css\",\"//cdn1.espn.net/fitt/da3f9a28b7fa-release-11-20-2019.1/client/css/team.roster.css\"]},\"device\":\"desktop\",\"edition\":{\"config\":{},\"translations\":{}},\"flags\":{\"ads\":true,\"nav\":true,\"hsb\":true,\"anltcs\":true,\"otbrn\":true,\"qaAPI\":false,\"sbAPI\":false,\"localAPI\":false,\"gmStrp\":true,\"exLnks\":true,\"rtCol\":true},\"branch\":{\"Note\":\"yes\",\"Storage\":\"To disable branch links across espn.com, set the Note field above to: no \"},\"frameAncestors\":[\"'self'\",\"*.espn.com:*\",\"*.espnqa.com:*\",\"*.espnsb.com\",\"*.espn.co.uk\",\"*.espndeportes.espn.com\",\"*.espn.com.br\",\"*.espn.com.mx\",\"*.espn.com.ve\",\"*.espn.com.ar\",\"*.espn.com.co\",\"*.espnfc.com.au\",\"*.espn.com.au\",\"*.espn.in\",\"*.espn.com.sg\",\"*.espn.cl\",\"*.espn.com.pe\",\"*.espn.com.gt\",\"*.espn.com.do\",\"*.espn.com.ec\",\"*.espn.com.uy\",\"*.espn.com.pa\",\"*.espn.co.cr\",\"http://*.espnqa.com:*\",\"http://*.espn.com:*\"],\"searchConfig\":{\"qa\":{\"edition_espn-en\":[\"promoted\",\"team\",\"player\",\"league\",\"series\",\"film\",\"article\",\"live\",\"upcoming\",\"replay\",\"clips\"],\"editionorigin_espn-en_watch\":[\"promoted\",\"series\",\"film\",\"live\",\"upcoming\",\"replay\",\"clips\",\"team\",\"player\",\"league\",\"article\"],\"edition_espn-es-mx\":[\"promoted\",\"team\",\"player\",\"league\",\"article\",\"clips\"],\"site_espncricinfo\":[\"team\",\"player\",\"league\"]},\"prod\":{\"edition_espn-en\":[\"promoted\",\"team\",\"player\",\"league\",\"series\",\"film\",\"article\",\"live\",\"upcoming\",\"replay\",\"clips\"]}},\"serveStale\":[\"/esports/\",\"/esports/index\",\"/womens-college-basketball/rankings\"],\"dtcPackages\":[{\"id\":1,\"name\":\"ESPN+\",\"entitlement\":\"ESPN_PLUS\",\"isIap\":true,\"billingDisclaimer\":\"You will be billed {price} a month (plus tax where applicable) starting {date}. Subject to terms. Details at espn.com/plus-terms. By signing up for a subscription, you will receive updates, special offers, and other information from ESPN, ESPN+, and the Walt Disney Family of Companies.\",\"concurrencyLimit\":5,\"trialActive\":false,\"campaignCode\":\"ESPN_PURCHASE_CMPGN\",\"voucherCode\":\"ESPN_PURCHASE_VOCHR\",\"paywall\":{\"toggle\":{\"enabled\":true,\"sections\":[{\"text\":\"ANNUAL PLAN\",\"key\":\"annually\",\"isDefault\":true,\"flagText\":\"SAVE OVER 15%*\",\"analyticsName\":\"Annual\",\"notes\":[{\"title\":\"{price}\",\"subtitle\":\"/ per year\",\"image\":\"https://secure.espncdn.com/paywall/ios/ios-yellow-checkmark@{scale}.png\"},{\"title\":\"Start {trialLength}-Day Free Trial\",\"image\":\"https://secure.espncdn.com/paywall/ios/ios-yellow-checkmark@{scale}.png\"}],\"buttons\":[{\"sku\":\"1999199910204019951899000_espn\",\"title\":\"Subscribe Now\",\"textColor\":\"#ffffff\",\"buttonImage\":\"PAYWALL_TOGGLE_BUTTONS_BUTTONIMAGE_PLACEHOLDER\",\"buttonHighlightedImage\":\"PAYWALL_TOGGLE_BUTTONS_BUTTONHIGHLIGHTEDIMAGE_PLACEHOLDER\",\"analyticsName\":\"1999199910204019951899000_espn\",\"disclaimer\":\"{price} a year until you cancel. Cancel Anytime. Subject to terms. Details at espn.com/plus-terms. *Compared to monthly.\",\"billingDisclaimer\":\"You will be billed {price} a year (plus tax where applicable) starting {date}. Subject to terms. Details at espn.com/plus-terms. By signing up for a subscription, you will receive updates, special offers, and other information from ESPN, ESPN+, and the Walt Disney Family of Companies.\",\"trialActive\":false,\"trial\":{\"length\":\"7\",\"categoryCode\":\"ESPN_submgmt_products\",\"campaignCode\":\"ESPN_FT_CMPGN\",\"voucherCode\":\"ESPN_FT_7D_VOCHR\",\"billingDisclaimer\":\"Your {trialLength}-day free trial will start on {date}. You will be billed {price} a year (plus tax where applicable) starting {trialEndDayDate}. Cancel anytime before then to avoid being charged. Subject to terms. Details at espn.com/plus-terms. By signing up for a subscription, you will receive updates, special offers, and other information from ESPN, ESPN+, and the Walt Disney Family of Companies.\",\"paywall\":{\"disclaimer\":\"Then {price} a year until you cancel. Cancel Anytime. Subject to terms. Details at espn.com/plus-terms. *Compared to monthly.\",\"ctaButtonTitle\":\"Start {trialLength}-Day Free Trial\"}}}]},{\"text\":\"MONTHLY PLAN\",\"key\":\"monthly\",\"isDefault\":false,\"analyticsName\":\"Monthly\",\"notes\":[{\"title\":\"{price}\",\"subtitle\":\"/ per month\",\"image\":\"https://secure.espncdn.com/paywall/ios/ios-yellow-checkmark@{scale}.png\"},{\"title\":\"Start {trialLength}-Day Free Trial\",\"image\":\"https://secure.espncdn.com/paywall/ios/ios-yellow-checkmark@{scale}.png\"}],\"buttons\":[{\"sku\":\"1999199910204019951899000_espn\",\"title\":\"Subscribe Now\",\"textColor\":\"#ffffff\",\"buttonImage\":\"PAYWALL_TOGGLE_BUTTONS_BUTTONIMAGE_PLACEHOLDER\",\"buttonHighlightedImage\":\"PAYWALL_TOGGLE_BUTTONS_BUTTONHIGHLIGHTEDIMAGE_PLACEHOLDER\",\"analyticsName\":\"1999199910204019951899000_espn\",\"disclaimer\":\"Then {price}. You will be charged monthly until you cancel. Cancel anytime. Subject to ESPN+ Subscriber Agreement below. Available in US Only.\",\"billingDisclaimer\":\"You will be billed {price} a month (plus tax where applicable) starting {date}. Subject to terms. Details at espn.com/plus-terms. By signing up for a subscription, you will receive updates, special offers, and other information from ESPN, ESPN+, and the Walt Disney Family of Companies.\",\"trialActive\":false,\"trial\":{\"length\":\"7\",\"categoryCode\":\"ESPN_submgmt_products\",\"campaignCode\":\"ESPN_FT_CMPGN\",\"voucherCode\":\"ESPN_FT_7D_VOCHR\",\"billingDisclaimer\":\"Your {trialLength}-day free trial will start on {date}. You will be billed {price} a month (plus tax where applicable) starting {trialEndDayDate}. Cancel anytime before then to avoid being charged. Subject to terms. Details at espn.com/plus-terms. By signing up for a subscription, you will receive updates, special offers, and other information from ESPN, ESPN+, and the Walt Disney Family of Companies.\",\"paywall\":{\"disclaimer\":\"Then {price} a month until you cancel. Cancel Anytime. Subject to terms. Details at espn.com/plus-terms.\",\"ctaButtonTitle\":\"Start {trialLength}-Day Free Trial\"}}}]}]},\"title\":\"Get **MORE** Live Sports with ESPN+\",\"ctaButtonTitle\":\"Subscribe Now\",\"backgroundColors\":[\"\"],\"legalText1\":\"Available in US Only\",\"legalText2\":\"- Payment will be charged to your iTunes Account at confirmation of purchase, unless you are offered and are eligible for a free trial. If you receive a free trial, you will be charged when your free trial period ends. Your account will be charged for renewal within 24 hours prior to the end of the current period. If you cancel prior to such 24 hour period, you will not be charged for the following applicable subscription period.\",\"legalText3\":\"- Your subscription may be managed, and auto-renewal may be turned off, by going to your iTunes account settings after purchase.\",\"legalText4\":\"- No refunds for the current subscription period are granted. Cancellations of the current subscription take effect at the conclusion of the current subscription period.   Terms of Use - [https://disneytermsofuse.com](https://disneytermsofuse.com)   Privacy Policy - [https://privacy.thewaltdisneycompany.com/en/](https://privacy.thewaltdisneycompany.com/en/)   ESPN+ Subscriber Agreement - [https://es.pn/plus-terms](https://es.pn/plus-terms)   Blackout Policy - [http://es.pn/plus-blackouts](http://es.pn/plus-blackouts)\",\"backgroundVideoUrl\":\"https://secure.espncdn.com/watchespn/images/espnplus/paywalls/ESPN_PLUS.background.mp4\",\"notPurchaseableText\":\"The event you are trying to watch is not available for purchase on this device.  Please visit the ESPN website to learn more.\",\"subscriberAgreementText\":\"The event you are trying to watch is not available for purchase on this device.  Please visit the ESPN website to learn more.\",\"termsOfUseText\":\"Terms of Use\",\"privacyPolicyText\":\"Privacy Policy\",\"purchaseSuccessText\":\"You are now subscribed to ESPN+\"},\"embeddedPaywall\":{\"title\":\"Stream Exclusive Live Sports, ESPN+ Originals, and More.\",\"ctaButtonTitle\":\"Subscribe Now\"},\"subscription\":{\"bundled\":{\"logoUrl\":\"http://static.web.plus.espn.com/espn/data/mobile/subscription-espn-plus{scale}.png\",\"name\":\"Disney+, Hulu, and ESPN+\",\"description\":\"The Disney bundle\",\"manageActiveText\":\"Your active subscription can be managed on the website where it was purchased.\",\"manageExpiredText\":\"Your expired subscription can be managed on the website where it was purchased.\"},\"name\":\"ESPN+\",\"description\":\"Watch More Sports. Anytime. Anywhere.\",\"subscribeText\":\"Subscribe\",\"subscribedText\":\"Subscribed\",\"backgroundColors\":[\"\"],\"subscriptionExpiredText\":\"Expired\",\"heroImageUrl\":\"https://secure.espncdn.com/watchespn/images/espnplus/paywalls/ESPN_PLUS.logo@2x.png\"},\"postPurchaseScreen\":{\"enabled\":false,\"logoUrl\":\"https://secure.espncdn.com/watchespn/images/espnplus/paywalls/ESPN_PLUS.logo@2x.png\",\"backgroundImageUrl\":\"https://secure.espncdn.com/paywall/ios/bkg-blur@3x.png\",\"message\":\"Score! You're all set.\",\"buttonText\":\"Start Streaming Now\",\"promo\":{\"enabled\":false,\"logoUrl\":\"https://secure.espncdn.com/watchespn/images/espnplus/paywalls/welcome/promo/promo-full.png\",\"message\":\"Obsessable™ Original Series like Power and Outlander and thousands of hit movies to watch whenever, wherever.\",\"linkText\":\"BUY NOW\",\"linkUrl\":\"https://go.onelink.me/Ecx6/52c116c4\"}},\"countryCodes\":[\"US\"],\"tuneIn\":{\"backgroundImgUrl\":\"/redesign/assets/img/dtc/espn-plus.png\",\"overlayImgUrl\":\"/redesign/assets/img/logos/espnplus/ESPN+White.svg\",\"upsellTextKey\":\"<p>More <span>Sports.</span> More <span>Leagues.</span></p><p>More <span>Teams.</span> More <span>Games.</span></p>\",\"upsellHref\":\"https://secure.web.plus.espn.com/billing/purchase/ESPN_PURCHASE_CMPGN/ESPN_PURCHASE_VOCHR/MESPN\",\"buttonText\":\"Subscribe Now\"},\"trial\":{\"length\":\"7\",\"categoryCode\":\"ESPN_submgmt_products\",\"campaignCode\":\"ESPN_FT_CMPGN\",\"voucherCode\":\"ESPN_FT_7D_VOCHR\",\"billingDisclaimer\":\"Your {trialLength}-day free trial will start on {date}. You will be billed {price} a month (plus tax where applicable) starting {trialEndDayDate}. Cancel anytime before then to avoid being charged. Subject to terms. Details at espn.com/plus-terms. By signing up for a subscription, you will receive updates, special offers, and other information from ESPN, ESPN+, and the Walt Disney Family of Companies.\",\"paywall\":{\"disclaimer\":\"7-Day free trial for new subscribers, then $4.99. You will be charged monthly until you cancel. Cancel anytime. Subject to terms. Details at espn.com/plus-terms.\",\"ctaButtonTitle\":\"Start 7-Day Free Trial\"}},\"isPPV\":false,\"showPregame\":true},{\"id\":3,\"name\":\"MLB.tv\",\"entitlement\":\"ESPN_PLUS_MLB\",\"isIap\":true,\"concurrencyLimit\":5,\"paywall\":{\"title\":\"Watch Live Major League Baseball\",\"sponsorImageUrl\":\"http://url-of-the-amex-promo-image.png\",\"ctaButtonTitle\":\"app.iap.Purchase_Button_MLB\",\"backgroundColors\":[\"\"],\"legalText1\":\"Available in US Only\",\"legalText2\":\"- Payment will be charged to your iTunes Account at confirmation of purchase, unless you are offered and are eligible for a free trial. If you receive a free trial, you will be charged when your free trial period ends. Your account will be charged for renewal within 24 hours prior to the end of the current period. If you cancel prior to such 24 hour period, you will not be charged for the following applicable subscription period.\",\"legalText3\":\"- Your subscription may be managed, and auto-renewal may be turned off, by going to your iTunes account settings after purchase.\",\"legalText4\":\"- No refunds for the current subscription period are granted. Cancellations of the current subscription take effect at the conclusion of the current subscription period.   Terms of Use - [https://disneytermsofuse.com](https://disneytermsofuse.com)   Privacy Policy - [https://privacy.thewaltdisneycompany.com/en/](https://privacy.thewaltdisneycompany.com/en/)   ESPN+ Subscriber Agreement - [https://es.pn/plus-terms](https://es.pn/plus-terms)   Blackout Policy - [http://es.pn/plus-blackouts](http://es.pn/plus-blackouts)\",\"backgroundVideoUrl\":\"https://secure.espncdn.com/watchespn/images/espnplus/paywalls/ESPN_PLUS.background.mp4\",\"purchaseSuccessText\":\"You are now subscribed to MLB.TV\"},\"embeddedPaywall\":{\"title\":\"Stream Exclusive Live Sports, ESPN+ Originals, and More.\",\"ctaButtonTitle\":\"7-DAY FREE TRIAL\"},\"subscription\":{\"name\":\"MLB.tv\",\"description\":\"Every Out-of-Market Game\",\"subscribeText\":\"Subscribe\",\"subscribedText\":\"Subscribed\",\"backgroundColors\":[\"\"],\"subscriptionExpiredText\":\"Expired\",\"heroImageUrl\":\"https://static.web.plus.espn.com/espn/data/mobile/subscription-mlb-tv-xxxhdpi.png\"},\"countryCodes\":[\"US\"],\"tuneIn\":{\"backgroundImgUrl\":\"/redesign/assets/img/dtc/mlb-tv.png\",\"overlayImgUrl\":\"/redesign/assets/img/dtc/mlbtv-logo.svg\",\"upsellTextKey\":\"<p class=\\\"bold\\\">Watch EVERY out-of-market<br>regular season game<br>LIVE or on demand in HD</p>\",\"upsellHref\":\"https://secure.web.plus.espn.com/billing/purchase/ESPN_PURCHASE_CMPGN/ESPN_PURCHASE_VOCHR/MESPNMLB19\",\"buttonText\":\"SUBSCRIBE TO MLB.TV\"},\"isPPV\":false,\"showPregame\":false},{\"id\":17,\"name\":\"UFC 245\",\"shortName\":\"UFC\",\"entitlement\":\"ESPN_PLUS_UFC_PPV_245\",\"allowsRestore\":true,\"isIap\":true,\"billingDisclaimer\":\"You will be charged {price} (plus tax, where applicable) upon purchase. Subject to terms at espn.com/plus-terms.\",\"concurrencyLimit\":2,\"campaignCode\":\"ESPN_PURCHASE_CMPGN\",\"voucherCode\":\"ESPN_PPV245BNDL_VOCHR\",\"paywall\":{\"title\":\"UFC 245 - Saturday, Dec 14 - Usman vs. Covington\",\"ctaButtonTitle\":\"BUY UFC 245\",\"ctaButtonHeader\":\" \",\"ctaButtonSubheader\":\"Buy UFC 245 PPV for {price}\",\"backgroundColors\":[\"\"],\"legalText1\":\" \",\"legalText2\":\" \",\"legalText3\":\" \",\"legalText4\":\" \",\"informativeLoginText\":\"Already an ESPN+ subscriber? Login below to watch your PPV or purchase for $59.99.\"},\"embeddedPaywall\":{\"title\":\"app.iap.Paywall_Sub_UFC_PPV_245_ios\",\"ctaButtonTitle\":\"Purchase\"},\"subscription\":{\"name\":\"UFC 245\",\"description\":\"12/14/2019 - Usman vs. Covington\",\"subscribeText\":\"Purchase\",\"subscribedText\":\"Purchased\",\"backgroundColors\":[\"\"],\"subscriptionExpiredText\":\"Expired\",\"deeplinkAction\":\"sportscenter://x-callback-url/showPaywall\"},\"postPurchaseScreen\":{\"enabled\":false,\"logoUrl\":\"https://secure.espncdn.com/watchespn/images/espnplus/paywalls/ESPN_PLUS.logo@2x.png\",\"backgroundImageUrl\":\"https://secure.espncdn.com/paywall/ios/bkg-blur@3x.png\",\"message\":\"Score! You're all set.\",\"buttonText\":\"Start Streaming Now\",\"promo\":{\"enabled\":false,\"logoUrl\":\"https://secure.espncdn.com/watchespn/images/espnplus/paywalls/welcome/promo/promo-full.png\",\"message\":\"Obsessable™ Original Series like Power and Outlander and thousands of hit movies to watch whenever, wherever.\",\"linkText\":\"BUY NOW\",\"linkUrl\":\"https://go.onelink.me/Ecx6/52c116c4\"}},\"countryCodes\":[\"US\"],\"tuneIn\":{\"upsellTextKey\":\"<p>More <span>Sports.</span> More <span>Leagues.</span></p><p>More <span>Teams.</span> More <span>Games.</span></p>\",\"buttonText\":\"Start My 7-Day Free Trial\"},\"isPPV\":true,\"showPregame\":true,\"bundle\":{\"enabled\":true,\"gracePeriodSeconds\":172800,\"requiredEntitlement\":\"ESPN_PLUS\",\"campaignCode\":\"ESPN_PURCHASE_CMPGN\",\"voucherCode\":\"ESPN_PPV245BNDL_VOCHR\",\"subtitle\":\"Exclusive: UFC 245 & ESPN+ Annual Plan only {price}. Original Value $109.98\",\"disclaimer\":\"For new subscribers only. Your ESPN+ annual plan will auto-renew at $49.99 per year (plus tax, where applicable). Cancel anytime. Subject to terms at espn.com/plus-terms.\",\"billingDisclaimer\":\"You will be charged {price} (plus tax, where applicable) upon purchase. Your ESPN+ annual plan will renew for $49.99 (plus tax, where applicable) one year from the date of purchase. Cancel any time before then to avoid being charged. By signing up for a subscription, you will receive updates, special offers, and other information from ESPN, ESPN+, and The Walt Disney Family of Companies.\",\"paywalls\":[{\"order\":1,\"backgroundImageUrl\":\"https://secure.espncdn.com/watchespn/images/espnplus/paywalls/ESPN_PLUS_UFC_PPV_245.background.jpg\",\"title\":\"EXCLUSIVELY ON ESPN+:\",\"secondaryTitle\":\"UFC 245 & ESPN+ Annual Plan for $79.98\",\"subtitle\":\"Over 25% discount\",\"ctaButtonTitle\":\"SUBSCRIBE FOR $49.99/YEAR\",\"ctaButtonStyle\":\"#F9B300\",\"disclaimer\":\"BUNDLE_PAYWALL_DISCLAIMERKEY_PLACEHOLDER\",\"backgroundColors\":[\"#2a2a2a\",\"#2a2a2a\"],\"legalText1\":\"Available in US Only\",\"legalText2\":\"- Payment will be charged to your iTunes Account at confirmation of purchase, unless you are offered and are eligible for a free trial. If you receive a free trial, you will be charged when your free trial period ends. Your account will be charged for renewal within 24 hours prior to the end of the current period. If you cancel prior to such 24 hour period, you will not be charged for the following applicable subscription period.\",\"legalText3\":\"- Your subscription may be managed, and auto-renewal may be turned off, by going to your iTunes account settings after purchase.\",\"legalText4\":\"- No refunds for the current subscription period are granted. Cancellations of the current subscription take effect at the conclusion of the current subscription period.   Terms of Use - [https://disneytermsofuse.com](https://disneytermsofuse.com)   Privacy Policy - [https://privacy.thewaltdisneycompany.com/en/](https://privacy.thewaltdisneycompany.com/en/)   ESPN+ Subscriber Agreement - [https://es.pn/plus-terms](https://es.pn/plus-terms)   Blackout Policy - [http://es.pn/plus-blackouts](http://es.pn/plus-blackouts)\",\"logoUrl\":\"https://secure.espncdn.com/watchespn/images/espnplus/paywalls/ESPN_PLUS_EXCLUSIVE.logo.png\",\"termsOfUse\":\"BUNDLE_PAYWALL_TERMSOFUSE_PLACEHOLDER\",\"notPurchaseableText\":\"BUNDLE_PAYWALL_NOTPURCHASEABLETEXT_PLACEHOLDER\",\"subscriberAgreementTitle\":\"BUNDLE_PAYWALL_SUBSCRIBERAGREEMENTTITLE_PLACEHOLDER\",\"ctaButtonTextStyle\":\"#FFFFFF\",\"buttons\":[{\"title\":\"SUBSCRIBE FOR $49.99/YEAR\",\"headerText\":\"STEP 1 of 2\",\"subheaderText\":\"Sign up for an ESPN+ Annual Plan\",\"subHeaderText\":\"Sign up for an ESPN+ Annual Plan\",\"textColor\":\"#ffffff\",\"buttonImage\":\"BUNDLE_PAYWALL_BUTTONS_BUTTONIMAGE_PLACEHOLDER\",\"buttonHighlightedImage\":\"BUNDLE_PAYWALL_BUTTONS_BUTTONHIGHLIGHTEDIMAGE_PLACEHOLDER\",\"disclaimer\":\"You will be charged yearly until you cancel. Cancel anytime. Subject to ESPN+ Subscriber Agreement below.\"}],\"informativeLoginText\":\"BUNDLE_PAYWALL_INFORMATIVELOGINTEXT_PLACEHOLDER\",\"footer\":{\"title\":\"STEP 2 of 2\",\"subtitle\":\"Buy UFC 245 PPV for ~~$59.99~~ **$29.99**\",\"disclaimer\":\"Must purchase UFC 245 within 48 hours of purchase of ESPN+ annual plan on this device to qualify for discounted PPV price.\"}},{\"order\":2,\"header\":{\"title\":\"STEP 1 of 2 COMPLETE\",\"subtitle\":\"You now have an ESPN+ Annual Plan\"},\"backgroundImageUrl\":\"http://secure.espncdn.com/watchespn/images/espnplus/paywalls/ESPN_PLUS_UFC_PPV_245.background.jpg\",\"subtitle\":\"You now have an ESPN+ Annual Plan\",\"ctaButtonTitle\":\"app.bundlepaywall.paywall2.buttons.title\",\"ctaButtonStyle\":\"#F9B300\",\"disclaimer\":\"BUNDLE_PAYWALL_DISCLAIMERKEY_PLACEHOLDER\",\"backgroundColors\":[\"#2a2a2a\",\"#2a2a2a\"],\"legalText1\":\"Must purchase UFC 245 within 48 hours of purchase of ESPN+ annual plan on this device to qualify for discounted PPV price.\",\"legalText2\":\" \",\"legalText3\":\" \",\"legalText4\":\" \",\"logoUrl\":\"https://secure.espncdn.com/watchespn/images/espnplus/paywalls/ESPN_PLUS_EXCLUSIVE.logo.png\",\"termsOfUse\":\"BUNDLE_PAYWALL_TERMSOFUSE_PLACEHOLDER\",\"notPurchaseableText\":\"BUNDLE_PAYWALL_NOTPURCHASEABLETEXT_PLACEHOLDER\",\"subscriberAgreementTitle\":\"BUNDLE_PAYWALL_SUBSCRIBERAGREEMENTTITLE_PLACEHOLDER\",\"ctaButtonTextStyle\":\"#FFFFFF\",\"heroImageUrl\":\"BUNDLE_PAYWALL_HEROIMAGEURL_PLACEHOLDER\",\"buttons\":[{\"title\":\"BUY UFC 245 NOW\",\"headerText\":\"STEP 2 of 2\",\"textColor\":\"#ffffff\",\"buttonImage\":\"BUNDLE_PAYWALL_BUTTONS_BUTTONIMAGE_PLACEHOLDER\",\"buttonHighlightedImage\":\"BUNDLE_PAYWALL_BUTTONS_BUTTONHIGHLIGHTEDIMAGE_PLACEHOLDER\",\"disclaimer\":\"You will be charged $29.99 for the event (plus tax, where applicable). Subject to terms at espn.com/plus-terms.\"}],\"informativeLoginText\":\"BUNDLE_PAYWALL_INFORMATIVELOGINTEXT_PLACEHOLDER\"}],\"postPurchaseScreen\":{\"enabled\":false,\"logoUrl\":\"https://secure.espncdn.com/watchespn/images/espnplus/paywalls/ESPN_PLUS.logo@2x.png\",\"backgroundImageUrl\":\"https://secure.espncdn.com/paywall/ios/bkg-blur@3x.png\",\"message\":\"Score! You're all set.\",\"buttonText\":\"Start Streaming Now\",\"promo\":{\"enabled\":false,\"logoUrl\":\"https://secure.espncdn.com/watchespn/images/espnplus/paywalls/welcome/promo/promo-full.png\",\"message\":\"Obsessable™ Original Series like Power and Outlander and thousands of hit movies to watch whenever, wherever.\",\"linkText\":\"BUY NOW\",\"linkUrl\":\"https://go.onelink.me/Ecx6/52c116c4\"}}},\"upgrade\":{\"requiredEntitlement\":\"ESPN_PLUS\",\"requiredCategoryCodes\":[\"espn_switch_from\"],\"requiredSource\":\"D2C\",\"campaignCode\":\"ESPN_PURCHASE_CMPGN\",\"voucherCode\":\"ESPN_PPV245BNDL_VOCHR\",\"subtitle\":\"EXCLUSIVELY FOR MONTHLY SUBSCRIBERS\",\"disclaimer\":\"Your ESPN+ annual subscription will auto-renew at $49.99 per year (plus tax, where applicable). Cancel anytime. Subject to terms at espn.com/plus-terms.\",\"billingDisclaimer\":\"You will be charged {price} (plus tax, where applicable) upon purchase. Your ESPN+ annual plan will renew for $49.99 (plus tax, where applicable), one year from the date of the end of your monthly subscription. Cancel any time before then to avoid being charged. By signing up for a subscription, you will receive updates, special offers, and other information from ESPN, ESPN+, and The Walt Disney Family of Companies.\",\"ctaButtonTitle\":\"UPGRADE AND BUY\",\"ctaButtonHeader\":\"SAVE 30% WHEN YOU UPGRADE & BUNDLE\",\"ctaButtonSubheader\":\"GET UFC 245 & ESPN+ ANNUAL PLAN FOR {price}\"}}],\"featureGating\":{\"playerFollowing\":true,\"browerDeprecation\":true,\"siteBroadcast\":{}},\"debug\":{\"on\":false}},\"ads\":{\"network\":\"21783347309\",\"base\":\"espn.com\",\"kvps\":[{\"name\":\"ed\",\"value\":\"us\"}],\"kvpsEspnPlus\":[{\"name\":\"ed\",\"value\":\"us\"},{\"name\":\"eplus\",\"value\":\"true\"}],\"selector\":\".ad-slot\",\"override\":{\"banner\":{\"conversation\":\"banner-scoreboard\",\"game\":\"banner-scoreboard\",\"index\":\"banner-index\",\"lineups\":\"banner-scoreboard\",\"match\":\"banner-scoreboard\",\"preview\":\"banner-scoreboard\",\"scoreboard\":\"banner-scoreboard\",\"fightcenter\":\"banner-scoreboard\"}},\"sizes\":{\"overlay\":{\"defaultSize\":[0,0],\"mappings\":[{\"viewport\":[0,0],\"slot\":[[0,0]]}]},\"banner\":{\"defaultSize\":[970,66],\"mappings\":[{\"viewport\":[1280,0],\"slot\":[[1280,100],[970,250],[728,90]]},{\"viewport\":[1024,0],\"slot\":[[970,66],[970,250],[728,90]]},{\"viewport\":[768,0],\"slot\":[[728,90]]},{\"viewport\":[320,0],\"slot\":[[320,50]]},{\"viewport\":[0,0],\"slot\":[[240,38]]}],\"pbjs\":{\"xl\":[[970,250],[728,90]],\"l\":[[970,250],[728,90]],\"m\":[[728,90]],\"s\":[[320,50]]}},\"banner-index\":{\"defaultSize\":[970,66],\"includedCountries\":[\"All\"],\"excludedProfile\":[\"xl\"],\"excludedSize\":[\"728,90\"],\"mappings\":[{\"viewport\":[1280,0],\"slot\":[[1280,100],[970,250]]},{\"viewport\":[1024,0],\"slot\":[[970,66],[970,250]]},{\"viewport\":[768,0],\"slot\":[[728,90]]},{\"viewport\":[320,0],\"slot\":[[320,50]]},{\"viewport\":[0,0],\"slot\":[[240,38]]}],\"pbjs\":{\"xl\":[[970,250]],\"l\":[[970,250]],\"m\":[[728,90]],\"s\":[[320,50]]}},\"banner-scoreboard\":{\"defaultSize\":[970,66],\"includedCountries\":[\"us\"],\"excludedSize\":[\"970,250\"],\"mappings\":[{\"viewport\":[1280,0],\"slot\":[[1280,100],[728,90]]},{\"viewport\":[1024,0],\"slot\":[[970,66],[728,90]]},{\"viewport\":[768,0],\"slot\":[[728,90]]},{\"viewport\":[320,0],\"slot\":[[320,50]]},{\"viewport\":[0,0],\"slot\":[[240,38]]}],\"pbjs\":{\"xl\":[[728,90]],\"l\":[[728,90]],\"m\":[[728,90]],\"s\":[[320,50]]}},\"incontent\":{\"defaultSize\":[300,250],\"mappings\":[{\"viewport\":[1024,0],\"slot\":[[300,250],[300,600]]}]},\"incontent2\":{\"defaultSize\":[300,250],\"mappings\":[{\"viewport\":[0,0],\"slot\":[[300,250]]}]},\"incontentstrip\":{\"defaultSize\":[298,50],\"mappings\":[{\"viewport\":[1024,0],\"slot\":[298,50]},{\"viewport\":[0,0],\"slot\":[]}]},\"wallpaper\":{\"defaultSize\":[1280,455],\"mappings\":[{\"viewport\":[1280,0],\"slot\":[[1680,1050]]},{\"viewport\":[1024,0],\"slot\":[[1280,455]]},{\"viewport\":[0,0],\"slot\":[]}]},\"incontentstrip2\":{\"defaultSize\":[298,50],\"mappings\":[{\"viewport\":[320,0],\"slot\":[[298,50]]}]},\"midpage\":{\"defaultSize\":[320,250],\"mappings\":[{\"viewport\":[1280,0],\"slot\":[[700,400]]},{\"viewport\":[1024,0],\"slot\":[[440,330]]},{\"viewport\":[768,0],\"slot\":[[320,250]]},{\"viewport\":[0,0],\"slot\":[[320,250]]}]},\"presby\":{\"defaultSize\":[112,62],\"mappings\":[{\"viewport\":[0,0],\"slot\":[[112,62]]}]},\"presentedbylogo\":{\"defaultSize\":[128,30],\"mappings\":[{\"viewport\":[1024,0],\"slot\":[[128,30]]},{\"viewport\":[0,0],\"slot\":[[90,20]]}]},\"instream\":{\"defaultSize\":[1,3],\"mappings\":[{\"viewport\":[0,0],\"slot\":[[1,3]]}]},\"exclusions\":{\"defaultSize\":[1,2],\"mappings\":[{\"viewport\":[0,0],\"slot\":[[1,2]]}]},\"native\":{\"defaultSize\":\"fluid\",\"mappings\":[{\"viewport\":[0,0],\"slot\":[\"fluid\"]}]}},\"sizesEspnPlus\":{\"banner\":{\"defaultSize\":[970,66],\"mappings\":[{\"viewport\":[1280,0],\"slot\":[[1280,100],[970,250],[728,90]]},{\"viewport\":[1024,0],\"slot\":[[970,66],[970,250],[728,90]]},{\"viewport\":[768,0],\"slot\":[[728,90]]},{\"viewport\":[320,0],\"slot\":[[320,50]]},{\"viewport\":[0,0],\"slot\":[[240,38]]}],\"pbjs\":{\"xl\":[[970,250],[728,90]],\"l\":[[970,250],[728,90]],\"m\":[[728,90]],\"s\":[[320,50]]}},\"banner-index\":{\"defaultSize\":[970,66],\"includedCountries\":[\"us\"],\"excludedProfile\":[\"xl\"],\"excludedSize\":[\"728,90\"],\"mappings\":[{\"viewport\":[1280,0],\"slot\":[[1280,100],[970,250]]},{\"viewport\":[1024,0],\"slot\":[[970,66],[970,250]]},{\"viewport\":[768,0],\"slot\":[[728,90]]},{\"viewport\":[320,0],\"slot\":[[320,50]]},{\"viewport\":[0,0],\"slot\":[[240,38]]}],\"pbjs\":{\"xl\":[[970,250]],\"l\":[[970,250]],\"m\":[[728,90]],\"s\":[[320,50]]}},\"banner-scoreboard\":{\"defaultSize\":[970,66],\"includedCountries\":[\"us\"],\"excludedSize\":[\"970,250\"],\"mappings\":[{\"viewport\":[1280,0],\"slot\":[[1280,100],[728,90]]},{\"viewport\":[1024,0],\"slot\":[[970,66],[728,90]]},{\"viewport\":[768,0],\"slot\":[[728,90]]},{\"viewport\":[320,0],\"slot\":[[320,50]]},{\"viewport\":[0,0],\"slot\":[[240,38]]}],\"pbjs\":{\"xl\":[[728,90]],\"l\":[[728,90]],\"m\":[[728,90]],\"s\":[[320,50]]}},\"incontent\":{\"defaultSize\":[300,250],\"mappings\":[{\"viewport\":[1024,0],\"slot\":[[300,250],[300,600]]}]}},\"whitelistEspnPlus\":[\"frontpage\",\"mma\",\"soccer\"],\"breakpoints\":{\"xl\":[1260],\"l\":[1024,1259],\"m\":[768,1023],\"s\":[0,767]},\"supportDynamicPageLoad\":true,\"delayInPageAdSlots\":true,\"refreshOnBreakpointChange\":true,\"dynamicKeyValues\":{\"profile\":{\"key\":\"prof\"}},\"id\":12129264,\"disabled\":\"false\",\"incontentPositions\":{\"defaults\":{\"favorites\":-1,\"now\":4,\"news\":4},\"index\":{\"top\":{\"favorites\":-1},\"nfl\":{}}},\"load\":{\"defaults\":{\"desktop\":\"init\",\"mobile\":\"window.load\",\"tablet\":\"init\"},\"frontpage\":{\"desktop\":\"init\",\"mobile\":\"window.load\",\"tablet\":\"init\"},\"story\":{\"desktop\":\"window.load\",\"mobile\":\"window.load\",\"tablet\":\"window.load\"},\"index\":{\"desktop\":\"window.load\",\"mobile\":\"window.load\",\"tablet\":\"window.load\"},\"scoreboard\":{\"desktop\":\"window.load\",\"mobile\":\"window.load\",\"tablet\":\"window.load\"},\"standings\":{\"desktop\":\"window.load\",\"mobile\":\"window.load\",\"tablet\":\"window.load\"},\"schedule\":{\"desktop\":\"window.load\",\"mobile\":\"window.load\",\"tablet\":\"window.load\"}},\"preBidConfig\":{\"timeout\":1000,\"usePreBid\":true,\"EUROPE_EXCLUSIONS\":[\"AL\",\"AD\",\"AM\",\"AT\",\"AZ\",\"BY\",\"BE\",\"BA\",\"BG\",\"HR\",\"CY\",\"CZ\",\"DK\",\"EE\",\"FO\",\"FI\",\"FR\",\"GE\",\"DE\",\"GI\",\"GR\",\"GL\",\"HU\",\"IS\",\"IE\",\"IT\",\"XK\",\"LV\",\"LI\",\"LT\",\"LU\",\"MK\",\"MT\",\"MD\",\"MC\",\"ME\",\"NL\",\"NO\",\"PL\",\"PT\",\"RO\",\"RU\",\"SM\",\"RS\",\"SK\",\"SI\",\"ES\",\"SJ\",\"SE\",\"CH\",\"TR\",\"UA\",\"GB\",\"VA\"],\"REGION_MAP\":{\"AF\":\"IS\",\"AL\":\"EMEA\",\"DZ\":\"EMEA\",\"AS\":\"ANZ\",\"AD\":\"EMEA\",\"AO\":\"EMEA\",\"AI\":\"LATAM\",\"AQ\":\"ANZ\",\"AG\":\"LATAM\",\"AR\":\"LATAM\",\"AM\":\"EMEA\",\"AW\":\"LATAM\",\"AU\":\"ANZ\",\"AT\":\"EMEA\",\"AZ\":\"EMEA\",\"BH\":\"EMEA\",\"BD\":\"IS\",\"BB\":\"LATAM\",\"BY\":\"EMEA\",\"BE\":\"EMEA\",\"BZ\":\"LATAM\",\"BJ\":\"EMEA\",\"BM\":\"LATAM\",\"BT\":\"IS\",\"BO\":\"LATAM\",\"BA\":\"EMEA\",\"BW\":\"EMEA\",\"BV\":\"ANZ\",\"BR\":\"BR\",\"IO\":\"IS\",\"VG\":\"LATAM\",\"BN\":\"APAC\",\"BG\":\"EMEA\",\"BF\":\"EMEA\",\"BI\":\"EMEA\",\"KH\":\"APAC\",\"CM\":\"EMEA\",\"CA\":\"CA\",\"CV\":\"EMEA\",\"BQ\":\"LATAM\",\"KY\":\"LATAM\",\"CF\":\"EMEA\",\"TD\":\"EMEA\",\"CL\":\"LATAM\",\"CN\":\"APAC\",\"CX\":\"ANZ\",\"CC\":\"ANZ\",\"CO\":\"LATAM\",\"KM\":\"EMEA\",\"CK\":\"ANZ\",\"CR\":\"LATAM\",\"CI\":\"EMEA\",\"HR\":\"EMEA\",\"CW\":\"LATAM\",\"CY\":\"EMEA\",\"CZ\":\"EMEA\",\"CD\":\"EMEA\",\"DK\":\"EMEA\",\"DJ\":\"EMEA\",\"DM\":\"LATAM\",\"DO\":\"LATAM\",\"EC\":\"LATAM\",\"EG\":\"EMEA\",\"SV\":\"LATAM\",\"GQ\":\"EMEA\",\"ER\":\"EMEA\",\"EE\":\"EMEA\",\"ET\":\"EMEA\",\"FK\":\"LATAM\",\"FO\":\"EMEA\",\"FM\":\"ANZ\",\"FJ\":\"ANZ\",\"FI\":\"EMEA\",\"FR\":\"EMEA\",\"GF\":\"LATAM\",\"PF\":\"ANZ\",\"TF\":\"EMEA\",\"GA\":\"EMEA\",\"GE\":\"EMEA\",\"DE\":\"EMEA\",\"GH\":\"EMEA\",\"GI\":\"EMEA\",\"GR\":\"EMEA\",\"GL\":\"EMEA\",\"GD\":\"LATAM\",\"GP\":\"LATAM\",\"GU\":\"ANZ\",\"GT\":\"LATAM\",\"GG\":\"EMEA\",\"GN\":\"EMEA\",\"GW\":\"EMEA\",\"GY\":\"LATAM\",\"HT\":\"LATAM\",\"HM\":\"EMEA\",\"HN\":\"LATAM\",\"HK\":\"APAC\",\"HU\":\"EMEA\",\"IS\":\"EMEA\",\"IN\":\"IS\",\"ID\":\"APAC\",\"IQ\":\"EMEA\",\"IE\":\"EMEA\",\"IL\":\"EMEA\",\"IT\":\"EMEA\",\"JM\":\"LATAM\",\"JP\":\"APAC\",\"JE\":\"EMEA\",\"JO\":\"EMEA\",\"KZ\":\"IS\",\"KE\":\"EMEA\",\"KI\":\"ANZ\",\"XK\":\"EMEA\",\"KW\":\"EMEA\",\"KG\":\"IS\",\"LA\":\"APAC\",\"LV\":\"EMEA\",\"LB\":\"EMEA\",\"LS\":\"EMEA\",\"LR\":\"EMEA\",\"LY\":\"EMEA\",\"LI\":\"EMEA\",\"LT\":\"EMEA\",\"LU\":\"EMEA\",\"MO\":\"APAC\",\"MK\":\"EMEA\",\"MG\":\"EMEA\",\"MW\":\"EMEA\",\"MY\":\"APAC\",\"MV\":\"IS\",\"ML\":\"EMEA\",\"MT\":\"EMEA\",\"MH\":\"ANZ\",\"MQ\":\"LATAM\",\"MR\":\"EMEA\",\"MU\":\"EMEA\",\"YT\":\"EMEA\",\"MX\":\"LATAM\",\"MD\":\"EMEA\",\"MC\":\"EMEA\",\"MN\":\"APAC\",\"ME\":\"EMEA\",\"MS\":\"LATAM\",\"MA\":\"EMEA\",\"MZ\":\"EMEA\",\"MM\":\"IS\",\"NA\":\"EMEA\",\"NR\":\"ANZ\",\"NP\":\"IS\",\"NL\":\"LATAM\",\"NC\":\"ANZ\",\"NZ\":\"ANZ\",\"NI\":\"LATAM\",\"NE\":\"EMEA\",\"NG\":\"EMEA\",\"NU\":\"ANZ\",\"NF\":\"ANZ\",\"MP\":\"ANZ\",\"NO\":\"EMEA\",\"OM\":\"EMEA\",\"PK\":\"IS\",\"PW\":\"ANZ\",\"PS\":\"EMEA\",\"PA\":\"LATAM\",\"PG\":\"ANZ\",\"PY\":\"LATAM\",\"PE\":\"LATAM\",\"PH\":\"APAC\",\"PN\":\"ANZ\",\"PL\":\"EMEA\",\"PT\":\"EMEA\",\"PR\":\"LATAM\",\"QA\":\"EMEA\",\"RE\":\"EMEA\",\"RO\":\"EMEA\",\"RU\":\"EMEA\",\"RW\":\"EMEA\",\"SH\":\"EMEA\",\"KN\":\"LATAM\",\"LC\":\"LATAM\",\"PM\":\"EMEA\",\"VC\":\"LATAM\",\"WS\":\"ANZ\",\"SM\":\"EMEA\",\"ST\":\"EMEA\",\"SA\":\"EMEA\",\"SN\":\"EMEA\",\"RS\":\"EMEA\",\"SC\":\"EMEA\",\"SL\":\"EMEA\",\"SG\":\"APAC\",\"SX\":\"LATAM\",\"SK\":\"EMEA\",\"SI\":\"EMEA\",\"SB\":\"ANZ\",\"SO\":\"EMEA\",\"ZA\":\"EMEA\",\"GS\":\"EMEA\",\"KR\":\"APAC\",\"ES\":\"EMEA\",\"LK\":\"IS\",\"SR\":\"LATAM\",\"SJ\":\"EMEA\",\"SZ\":\"EMEA\",\"SE\":\"EMEA\",\"CH\":\"EMEA\",\"TW\":\"APAC\",\"TJ\":\"IS\",\"TZ\":\"EMEA\",\"TH\":\"APAC\",\"BS\":\"LATAM\",\"GM\":\"EMEA\",\"TL\":\"APAC\",\"TG\":\"EMEA\",\"TK\":\"ANZ\",\"TO\":\"ANZ\",\"TT\":\"LATAM\",\"TN\":\"EMEA\",\"TR\":\"EMEA\",\"TM\":\"IS\",\"TC\":\"LATAM\",\"TV\":\"ANZ\",\"VI\":\"LATAM\",\"UG\":\"EMEA\",\"UA\":\"EMEA\",\"AE\":\"EMEA\",\"GB\":\"EMEA\",\"US\":\"US\",\"UM\":\"ANZ\",\"UY\":\"LATAM\",\"UZ\":\"IS\",\"VU\":\"ANZ\",\"VA\":\"EMEA\",\"VE\":\"LATAM\",\"VN\":\"APAC\",\"WF\":\"ANZ\",\"EH\":\"EMEA\",\"YE\":\"EMEA\",\"ZM\":\"EMEA\",\"ZW\":\"EMEA\"},\"rubicon\":{\"accountId\":13042,\"desktop\":{\"zoneId\":435334,\"siteId\":92444},\"mobile\":{\"zoneId\":435336,\"siteId\":92446}},\"aol\":{\"networkId\":\"11526.1\",\"incontent\":[4938388],\"banner\":{\"desktop\":[4938374,5061577],\"mobile\":[4938403]}},\"appnexus\":{\"incontent\":{\"US\":13838929,\"APAC\":13838959,\"BR\":13838961,\"CA\":13838962,\"EMEA\":13838963,\"IS\":13838964,\"LATAM\":13838965,\"ANZ\":13838960},\"banner\":{\"US\":13401993,\"APAC\":13838952,\"BR\":13838954,\"CA\":13838955,\"EMEA\":13838956,\"IS\":13838957,\"LATAM\":13838958,\"ANZ\":13838953}}},\"taboolaConfig\":{\"local\":{\"taboola\":{\"show\":true},\"outbrain\":{\"show\":false}},\"sandbox\":{\"taboola\":{\"show\":true},\"outbrain\":{\"show\":false}},\"qa\":{\"taboola\":{\"show\":true},\"outbrain\":{\"show\":false}},\"prod\":{\"taboola\":{\"show\":true},\"outbrain\":{\"show\":false}}},\"videoAdConfig\":{\"qa\":{\"google\":true,\"network\":21783347309,\"cms\":2497009,\"showPremVideoAds\":true,\"allowAdSkip\":true,\"useNewUI\":true,\"iphoneplaysinline\":true},\"prod\":{\"google\":true,\"network\":21783347309,\"cms\":2497009,\"showPremVideoAds\":true,\"allowAdSkip\":false,\"useNewUI\":false,\"iphoneplaysinline\":false}}},\"analytics\":{},\"routing\":{\"location\":{\"port\":\"\",\"hash\":\"\",\"path\":\"/mlb/team/roster\",\"host\":\"\",\"protocol\":\"\",\"params\":{\"name\":\"nym\"},\"pathname\":\"/mlb/team/roster\",\"originalPathName\":\"/mlb/team/roster\",\"query\":{\"name\":\"nym\"}},\"params\":{\"name\":\"nym\",\"sport\":\"baseball\",\"pageType\":\"team\",\"subPageType\":\"roster\",\"rawPageType\":\"team\",\"league\":\"mlb\"}},\"page\":{\"key\":\"\",\"title\":\"\",\"type\":\"team\",\"meta\":{\"title\":\"New York Mets Roster | ESPN\",\"description\":\"Visit ESPN to view the New York Mets team roster for the current season\",\"keywords\":\"MLB, Baseball, New York Mets, Roster\",\"canonical\":\"https://www.espn.com/mlb/team/roster/_/name/nym\",\"robots\":\"\",\"ogMetadata\":{\"image\":\"https://a.espncdn.com/combiner/i?img=/i/teamlogos/mlb/500/nym.png\",\"width\":500,\"height\":500},\"jsonld\":\"\",\"hrefLangs\":[{\"key\":\"en-us\",\"url\":\"https://www.espn.com/mlb/team/roster/_/name/nym\"},{\"key\":\"en-us\",\"url\":\"https://www.espn.com/mlb/team/roster/_/name/nym\"},{\"key\":\"pt-br\",\"url\":\"https://www.espn.com.br/beisebol/mlb/time/elenco/_/nome/nym\"},{\"key\":\"pt-br\",\"url\":\"https://www.espn.com.br/beisebol/mlb/time/elenco/_/nome/nym\"},{\"key\":\"en-in\",\"url\":\"https://www.espn.in/mlb/team/roster/_/name/nym\"},{\"key\":\"es-es\",\"url\":\"https://espndeportes.espn.com/beisbol/mlb/equipo/plantel/_/nombre/nym\"},{\"key\":\"es-es\",\"url\":\"https://espndeportes.espn.com/beisbol/mlb/equipo/plantel/_/nombre/nym\"},{\"key\":\"en-za\",\"url\":\"https://africa.espn.com/mlb/team/roster/_/name/nym\"},{\"key\":\"es-ve\",\"url\":\"https://www.espn.com.ve/beisbol/mlb/equipo/plantel/_/nombre/nym\"},{\"key\":\"es-cr\",\"url\":\"https://www.espn.com.ve/beisbol/mlb/equipo/plantel/_/nombre/nym\"},{\"key\":\"es-cl\",\"url\":\"https://www.espn.cl/beisbol/mlb/equipo/plantel/_/nombre/nym\"},{\"key\":\"es-mx\",\"url\":\"https://www.espn.com.mx/beisbol/mlb/equipo/plantel/_/nombre/nym\"},{\"key\":\"es-co\",\"url\":\"https://www.espn.com.co/beisbol/mlb/equipo/plantel/_/nombre/nym\"},{\"key\":\"es-pe\",\"url\":\"https://www.espn.com.pe/beisbol/mlb/equipo/plantel/_/nombre/nym\"},{\"key\":\"es-ar\",\"url\":\"https://www.espn.com.ar/beisbol/mlb/equipo/plantel/_/nombre/nym\"},{\"key\":\"es-us\",\"url\":\"https://espndeportes.espn.com/beisbol/mlb/equipo/plantel/_/nombre/nym\"},{\"key\":\"en-ph\",\"url\":\"https://tv5.espn.com/mlb/team/roster/_/name/nym\"},{\"key\":\"en-gb\",\"url\":\"https://www.espn.co.uk/mlb/team/roster/_/name/nym\"},{\"key\":\"en-sg\",\"url\":\"https://www.espn.com.sg/mlb/team/roster/_/name/nym\"},{\"key\":\"es-gt\",\"url\":\"https://www.espn.com.gt/beisbol/mlb/equipo/plantel/_/nombre/nym\"},{\"key\":\"es-uy\",\"url\":\"https://www.espn.com.uy/beisbol/mlb/equipo/plantel/_/nombre/nym\"},{\"key\":\"es-do\",\"url\":\"https://www.espn.com.do/beisbol/mlb/equipo/plantel/_/nombre/nym\"},{\"key\":\"es-ec\",\"url\":\"https://www.espn.com.ec/beisbol/mlb/equipo/plantel/_/nombre/nym\"},{\"key\":\"es-pa\",\"url\":\"https://www.espn.com.pa/beisbol/mlb/equipo/plantel/_/nombre/nym\"},{\"key\":\"es-cr\",\"url\":\"https://www.espn.co.cr/beisbol/mlb/equipo/plantel/_/nombre/nym\"}]},\"content\":{\"teams\":{\"nfl\":[{\"name\":\"AFC East\",\"teams\":[{\"id\":\"2\",\"href\":\"http://www.espn.com/nfl/team/_/name/buf/buffalo-bills\",\"name\":\"Buffalo Bills\",\"shortName\":\"Bills\",\"abbrev\":\"buf\",\"logo\":\"https://a.espncdn.com/combiner/i?img=/i/teamlogos/nfl/500/buf.png&w=80&h=80&cquality=40&scale=crop&location=origin&transparent=true\"},{\"id\":\"15\",\"href\":\"http://www.espn.com/nfl/team/_/name/mia/miami-dolphins\",\"name\":\"Miami Dolphins\",\"shortName\":\"Dolphins\",\"abbrev\":\"mia\",\"logo\":\"https://a.espncdn.com/combiner/i?img=/i/teamlogos/nfl/500/mia.png&w=80&h=80&cquality=40&scale=crop&location=origin&transparent=true\"},{\"id\":\"17\",\"href\":\"http://www.espn.com/nfl/team/_/name/ne/new-england-patriots\",\"name\":\"New England Patriots\",\"shortName\":\"Patriots\",\"abbrev\":\"ne\",\"logo\":\"https://a.espncdn.com/combiner/i?img=/i/teamlogos/nfl/500/ne.png&w=80&h=80&cquality=40&scale=crop&location=origin&transparent=true\"},{\"id\":\"20\",\"href\":\"http://www.espn.com/nfl/team/_/name/nyj/new-york-jets\",\"name\":\"New York Jets\",\"shortName\":\"Jets\",\"abbrev\":\"nyj\",\"logo\":\"https://a.espncdn.com/combiner/i?img=/i/teamlogos/nfl/500/nyj.png&w=80&h=80&cquality=40&scale=crop&location=origin&transparent=true\"}]},{\"name\":\"AFC North\",\"teams\":[{\"id\":\"33\",\"href\":\"http://www.espn.com/nfl/team/_/name/bal/baltimore-ravens\",\"name\":\"Baltimore Ravens\",\"shortName\":\"Ravens\",\"abbrev\":\"bal\",\"logo\":\"https://a.espncdn.com/combiner/i?img=/i/teamlogos/nfl/500/bal.png&w=80&h=80&cquality=40&scale=crop&location=origin&transparent=true\"},{\"id\":\"4\",\"href\":\"http://www.espn.com/nfl/team/_/name/cin/cincinnati-bengals\",\"name\":\"Cincinnati Bengals\",\"shortName\":\"Bengals\",\"abbrev\":\"cin\",\"logo\":\"https://a.espncdn.com/combiner/i?img=/i/teamlogos/nfl/500/cin.png&w=80&h=80&cquality=40&scale=crop&location=origin&transparent=true\"},{\"id\":\"5\",\"href\":\"http://www.espn.com/nfl/team/_/name/cle/cleveland-browns\",\"name\":\"Cleveland Browns\",\"shortName\":\"Browns\",\"abbrev\":\"cle\",\"logo\":\"https://a.espncdn.com/combiner/i?img=/i/teamlogos/nfl/500/cle.png&w=80&h=80&cquality=40&scale=crop&location=origin&transparent=true\"},{\"id\":\"23\",\"href\":\"http://www.espn.com/nfl/team/_/name/pit/pittsburgh-steelers\",\"name\":\"Pittsburgh Steelers\",\"shortName\":\"Steelers\",\"abbrev\":\"pit\",\"logo\":\"https://a.espncdn.com/combiner/i?img=/i/teamlogos/nfl/500/pit.png&w=80&h=80&cquality=40&scale=crop&location=origin&transparent=true\"}]},{\"name\":\"AFC South\",\"teams\":[{\"id\":\"34\",\"href\":\"http://www.espn.com/nfl/team/_/name/hou/houston-texans\",\"name\":\"Houston Texans\",\"shortName\":\"Texans\",\"abbrev\":\"hou\",\"logo\":\"https://a.espncdn.com/combiner/i?img=/i/teamlogos/nfl/500/hou.png&w=80&h=80&cquality=40&scale=crop&location=origin&transparent=true\"},{\"id\":\"11\",\"href\":\"http://www.espn.com/nfl/team/_/name/ind/indianapolis-colts\",\"name\":\"Indianapolis Colts\",\"shortName\":\"Colts\",\"abbrev\":\"ind\",\"logo\":\"https://a.espncdn.com/combiner/i?img=/i/teamlogos/nfl/500/ind.png&w=80&h=80&cquality=40&scale=crop&location=origin&transparent=true\"},{\"id\":\"30\",\"href\":\"http://www.espn.com/nfl/team/_/name/jax/jacksonville-jaguars\",\"name\":\"Jacksonville Jaguars\",\"shortName\":\"Jaguars\",\"abbrev\":\"jax\",\"logo\":\"https://a.espncdn.com/combiner/i?img=/i/teamlogos/nfl/500/jax.png&w=80&h=80&cquality=40&scale=crop&location=origin&transparent=true\"},{\"id\":\"10\",\"href\":\"http://www.espn.com/nfl/team/_/name/ten/tennessee-titans\",\"name\":\"Tennessee Titans\",\"shortName\":\"Titans\",\"abbrev\":\"ten\",\"logo\":\"https://a.espncdn.com/combiner/i?img=/i/teamlogos/nfl/500/ten.png&w=80&h=80&cquality=40&scale=crop&location=origin&transparent=true\"}]},{\"name\":\"AFC West\",\"teams\":[{\"id\":\"7\",\"href\":\"http://www.espn.com/nfl/team/_/name/den/denver-broncos\",\"name\":\"Denver Broncos\",\"shortName\":\"Broncos\",\"abbrev\":\"den\",\"logo\":\"https://a.espncdn.com/combiner/i?img=/i/teamlogos/nfl/500/den.png&w=80&h=80&cquality=40&scale=crop&location=origin&transparent=true\"},{\"id\":\"12\",\"href\":\"http://www.espn.com/nfl/team/_/name/kc/kansas-city-chiefs\",\"name\":\"Kansas City Chiefs\",\"shortName\":\"Chiefs\",\"abbrev\":\"kc\",\"logo\":\"https://a.espncdn.com/combiner/i?img=/i/teamlogos/nfl/500/kc.png&w=80&h=80&cquality=40&scale=crop&location=origin&transparent=true\"},{\"id\":\"24\",\"href\":\"http://www.espn.com/nfl/team/_/name/lac/los-angeles-chargers\",\"name\":\"Los Angeles Chargers\",\"shortName\":\"Chargers\",\"abbrev\":\"lac\",\"logo\":\"https://a.espncdn.com/combiner/i?img=/i/teamlogos/nfl/500/lac.png&w=80&h=80&cquality=40&scale=crop&location=origin&transparent=true\"},{\"id\":\"13\",\"href\":\"http://www.espn.com/nfl/team/_/name/oak/oakland-raiders\",\"name\":\"Oakland Raiders\",\"shortName\":\"Raiders\",\"abbrev\":\"oak\",\"logo\":\"https://a.espncdn.com/combiner/i?img=/i/teamlogos/nfl/500/oak.png&w=80&h=80&cquality=40&scale=crop&location=origin&transparent=true\"}]},{\"name\":\"NFC East\",\"teams\":[{\"id\":\"6\",\"href\":\"http://www.espn.com/nfl/team/_/name/dal/dallas-cowboys\",\"name\":\"Dallas Cowboys\",\"shortName\":\"Cowboys\",\"abbrev\":\"dal\",\"logo\":\"https://a.espncdn.com/combiner/i?img=/i/teamlogos/nfl/500/dal.png&w=80&h=80&cquality=40&scale=crop&location=origin&transparent=true\"},{\"id\":\"19\",\"href\":\"http://www.espn.com/nfl/team/_/name/nyg/new-york-giants\",\"name\":\"New York Giants\",\"shortName\":\"Giants\",\"abbrev\":\"nyg\",\"logo\":\"https://a.espncdn.com/combiner/i?img=/i/teamlogos/nfl/500/nyg.png&w=80&h=80&cquality=40&scale=crop&location=origin&transparent=true\"},{\"id\":\"21\",\"href\":\"http://www.espn.com/nfl/team/_/name/phi/philadelphia-eagles\",\"name\":\"Philadelphia Eagles\",\"shortName\":\"Eagles\",\"abbrev\":\"phi\",\"logo\":\"https://a.espncdn.com/combiner/i?img=/i/teamlogos/nfl/500/phi.png&w=80&h=80&cquality=40&scale=crop&location=origin&transparent=true\"},{\"id\":\"28\",\"href\":\"http://www.espn.com/nfl/team/_/name/wsh/washington-redskins\",\"name\":\"Washington Redskins\",\"shortName\":\"Redskins\",\"abbrev\":\"wsh\",\"logo\":\"https://a.espncdn.com/combiner/i?img=/i/teamlogos/nfl/500/wsh.png&w=80&h=80&cquality=40&scale=crop&location=origin&transparent=true\"}]},{\"name\":\"NFC North\",\"teams\":[{\"id\":\"3\",\"href\":\"http://www.espn.com/nfl/team/_/name/chi/chicago-bears\",\"name\":\"Chicago Bears\",\"shortName\":\"Bears\",\"abbrev\":\"chi\",\"logo\":\"https://a.espncdn.com/combiner/i?img=/i/teamlogos/nfl/500/chi.png&w=80&h=80&cquality=40&scale=crop&location=origin&transparent=true\"},{\"id\":\"8\",\"href\":\"http://www.espn.com/nfl/team/_/name/det/detroit-lions\",\"name\":\"Detroit Lions\",\"shortName\":\"Lions\",\"abbrev\":\"det\",\"logo\":\"https://a.espncdn.com/combiner/i?img=/i/teamlogos/nfl/500/det.png&w=80&h=80&cquality=40&scale=crop&location=origin&transparent=true\"},{\"id\":\"9\",\"href\":\"http://www.espn.com/nfl/team/_/name/gb/green-bay-packers\",\"name\":\"Green Bay Packers\",\"shortName\":\"Packers\",\"abbrev\":\"gb\",\"logo\":\"https://a.espncdn.com/combiner/i?img=/i/teamlogos/nfl/500/gb.png&w=80&h=80&cquality=40&scale=crop&location=origin&transparent=true\"},{\"id\":\"16\",\"href\":\"http://www.espn.com/nfl/team/_/name/min/minnesota-vikings\",\"name\":\"Minnesota Vikings\",\"shortName\":\"Vikings\",\"abbrev\":\"min\",\"logo\":\"https://a.espncdn.com/combiner/i?img=/i/teamlogos/nfl/500/min.png&w=80&h=80&cquality=40&scale=crop&location=origin&transparent=true\"}]},{\"name\":\"NFC South\",\"teams\":[{\"id\":\"1\",\"href\":\"http://www.espn.com/nfl/team/_/name/atl/atlanta-falcons\",\"name\":\"Atlanta Falcons\",\"shortName\":\"Falcons\",\"abbrev\":\"atl\",\"logo\":\"https://a.espncdn.com/combiner/i?img=/i/teamlogos/nfl/500/atl.png&w=80&h=80&cquality=40&scale=crop&location=origin&transparent=true\"},{\"id\":\"29\",\"href\":\"http://www.espn.com/nfl/team/_/name/car/carolina-panthers\",\"name\":\"Carolina Panthers\",\"shortName\":\"Panthers\",\"abbrev\":\"car\",\"logo\":\"https://a.espncdn.com/combiner/i?img=/i/teamlogos/nfl/500/car.png&w=80&h=80&cquality=40&scale=crop&location=origin&transparent=true\"},{\"id\":\"18\",\"href\":\"http://www.espn.com/nfl/team/_/name/no/new-orleans-saints\",\"name\":\"New Orleans Saints\",\"shortName\":\"Saints\",\"abbrev\":\"no\",\"logo\":\"https://a.espncdn.com/combiner/i?img=/i/teamlogos/nfl/500/no.png&w=80&h=80&cquality=40&scale=crop&location=origin&transparent=true\"},{\"id\":\"27\",\"href\":\"http://www.espn.com/nfl/team/_/name/tb/tampa-bay-buccaneers\",\"name\":\"Tampa Bay Buccaneers\",\"shortName\":\"Buccaneers\",\"abbrev\":\"tb\",\"logo\":\"https://a.espncdn.com/combiner/i?img=/i/teamlogos/nfl/500/tb.png&w=80&h=80&cquality=40&scale=crop&location=origin&transparent=true\"}]},{\"name\":\"NFC West\",\"teams\":[{\"id\":\"22\",\"href\":\"http://www.espn.com/nfl/team/_/name/ari/arizona-cardinals\",\"name\":\"Arizona Cardinals\",\"shortName\":\"Cardinals\",\"abbrev\":\"ari\",\"logo\":\"https://a.espncdn.com/combiner/i?img=/i/teamlogos/nfl/500/ari.png&w=80&h=80&cquality=40&scale=crop&location=origin&transparent=true\"},{\"id\":\"14\",\"href\":\"http://www.espn.com/nfl/team/_/name/lar/los-angeles-rams\",\"name\":\"Los Angeles Rams\",\"shortName\":\"Rams\",\"abbrev\":\"lar\",\"logo\":\"https://a.espncdn.com/combiner/i?img=/i/teamlogos/nfl/500/lar.png&w=80&h=80&cquality=40&scale=crop&location=origin&transparent=true\"},{\"id\":\"25\",\"href\":\"http://www.espn.com/nfl/team/_/name/sf/san-francisco-49ers\",\"name\":\"San Francisco 49ers\",\"shortName\":\"49ers\",\"abbrev\":\"sf\",\"logo\":\"https://a.espncdn.com/combiner/i?img=/i/teamlogos/nfl/500/sf.png&w=80&h=80&cquality=40&scale=crop&location=origin&transparent=true\"},{\"id\":\"26\",\"href\":\"http://www.espn.com/nfl/team/_/name/sea/seattle-seahawks\",\"name\":\"Seattle Seahawks\",\"shortName\":\"Seahawks\",\"abbrev\":\"sea\",\"logo\":\"https://a.espncdn.com/combiner/i?img=/i/teamlogos/nfl/500/sea.png&w=80&h=80&cquality=40&scale=crop&location=origin&transparent=true\"}]}],\"nba\":[{\"name\":\"Atlantic\",\"teams\":[{\"id\":\"2\",\"href\":\"http://www.espn.com/nba/team/_/name/bos/boston-celtics\",\"name\":\"Boston Celtics\",\"shortName\":\"Celtics\",\"abbrev\":\"bos\",\"logo\":\"https://a.espncdn.com/combiner/i?img=/i/teamlogos/nba/500/bos.png&w=80&h=80&cquality=40&scale=crop&location=origin&transparent=true\"},{\"id\":\"17\",\"href\":\"http://www.espn.com/nba/team/_/name/bkn/brooklyn-nets\",\"name\":\"Brooklyn Nets\",\"shortName\":\"Nets\",\"abbrev\":\"bkn\",\"logo\":\"https://a.espncdn.com/combiner/i?img=/i/teamlogos/nba/500/bkn.png&w=80&h=80&cquality=40&scale=crop&location=origin&transparent=true\"},{\"id\":\"18\",\"href\":\"http://www.espn.com/nba/team/_/name/ny/new-york-knicks\",\"name\":\"New York Knicks\",\"shortName\":\"Knicks\",\"abbrev\":\"ny\",\"logo\":\"https://a.espncdn.com/combiner/i?img=/i/teamlogos/nba/500/ny.png&w=80&h=80&cquality=40&scale=crop&location=origin&transparent=true\"},{\"id\":\"20\",\"href\":\"http://www.espn.com/nba/team/_/name/phi/philadelphia-76ers\",\"name\":\"Philadelphia 76ers\",\"shortName\":\"76ers\",\"abbrev\":\"phi\",\"logo\":\"https://a.espncdn.com/combiner/i?img=/i/teamlogos/nba/500/phi.png&w=80&h=80&cquality=40&scale=crop&location=origin&transparent=true\"},{\"id\":\"28\",\"href\":\"http://www.espn.com/nba/team/_/name/tor/toronto-raptors\",\"name\":\"Toronto Raptors\",\"shortName\":\"Raptors\",\"abbrev\":\"tor\",\"logo\":\"https://a.espncdn.com/combiner/i?img=/i/teamlogos/nba/500/tor.png&w=80&h=80&cquality=40&scale=crop&location=origin&transparent=true\"}]},{\"name\":\"Central\",\"teams\":[{\"id\":\"4\",\"href\":\"http://www.espn.com/nba/team/_/name/chi/chicago-bulls\",\"name\":\"Chicago Bulls\",\"shortName\":\"Bulls\",\"abbrev\":\"chi\",\"logo\":\"https://a.espncdn.com/combiner/i?img=/i/teamlogos/nba/500/chi.png&w=80&h=80&cquality=40&scale=crop&location=origin&transparent=true\"},{\"id\":\"5\",\"href\":\"http://www.espn.com/nba/team/_/name/cle/cleveland-cavaliers\",\"name\":\"Cleveland Cavaliers\",\"shortName\":\"Cavaliers\",\"abbrev\":\"cle\",\"logo\":\"https://a.espncdn.com/combiner/i?img=/i/teamlogos/nba/500/cle.png&w=80&h=80&cquality=40&scale=crop&location=origin&transparent=true\"},{\"id\":\"8\",\"href\":\"http://www.espn.com/nba/team/_/name/det/detroit-pistons\",\"name\":\"Detroit Pistons\",\"shortName\":\"Pistons\",\"abbrev\":\"det\",\"logo\":\"https://a.espncdn.com/combiner/i?img=/i/teamlogos/nba/500/det.png&w=80&h=80&cquality=40&scale=crop&location=origin&transparent=true\"},{\"id\":\"11\",\"href\":\"http://www.espn.com/nba/team/_/name/ind/indiana-pacers\",\"name\":\"Indiana Pacers\",\"shortName\":\"Pacers\",\"abbrev\":\"ind\",\"logo\":\"https://a.espncdn.com/combiner/i?img=/i/teamlogos/nba/500/ind.png&w=80&h=80&cquality=40&scale=crop&location=origin&transparent=true\"},{\"id\":\"15\",\"href\":\"http://www.espn.com/nba/team/_/name/mil/milwaukee-bucks\",\"name\":\"Milwaukee Bucks\",\"shortName\":\"Bucks\",\"abbrev\":\"mil\",\"logo\":\"https://a.espncdn.com/combiner/i?img=/i/teamlogos/nba/500/mil.png&w=80&h=80&cquality=40&scale=crop&location=origin&transparent=true\"}]},{\"name\":\"Southeast\",\"teams\":[{\"id\":\"1\",\"href\":\"http://www.espn.com/nba/team/_/name/atl/atlanta-hawks\",\"name\":\"Atlanta Hawks\",\"shortName\":\"Hawks\",\"abbrev\":\"atl\",\"logo\":\"https://a.espncdn.com/combiner/i?img=/i/teamlogos/nba/500/atl.png&w=80&h=80&cquality=40&scale=crop&location=origin&transparent=true\"},{\"id\":\"30\",\"href\":\"http://www.espn.com/nba/team/_/name/cha/charlotte-hornets\",\"name\":\"Charlotte Hornets\",\"shortName\":\"Hornets\",\"abbrev\":\"cha\",\"logo\":\"https://a.espncdn.com/combiner/i?img=/i/teamlogos/nba/500/cha.png&w=80&h=80&cquality=40&scale=crop&location=origin&transparent=true\"},{\"id\":\"14\",\"href\":\"http://www.espn.com/nba/team/_/name/mia/miami-heat\",\"name\":\"Miami Heat\",\"shortName\":\"Heat\",\"abbrev\":\"mia\",\"logo\":\"https://a.espncdn.com/combiner/i?img=/i/teamlogos/nba/500/mia.png&w=80&h=80&cquality=40&scale=crop&location=origin&transparent=true\"},{\"id\":\"19\",\"href\":\"http://www.espn.com/nba/team/_/name/orl/orlando-magic\",\"name\":\"Orlando Magic\",\"shortName\":\"Magic\",\"abbrev\":\"orl\",\"logo\":\"https://a.espncdn.com/combiner/i?img=/i/teamlogos/nba/500/orl.png&w=80&h=80&cquality=40&scale=crop&location=origin&transparent=true\"},{\"id\":\"27\",\"href\":\"http://www.espn.com/nba/team/_/name/wsh/washington-wizards\",\"name\":\"Washington Wizards\",\"shortName\":\"Wizards\",\"abbrev\":\"wsh\",\"logo\":\"https://a.espncdn.com/combiner/i?img=/i/teamlogos/nba/500/wsh.png&w=80&h=80&cquality=40&scale=crop&location=origin&transparent=true\"}]},{\"name\":\"Northwest\",\"teams\":[{\"id\":\"7\",\"href\":\"http://www.espn.com/nba/team/_/name/den/denver-nuggets\",\"name\":\"Denver Nuggets\",\"shortName\":\"Nuggets\",\"abbrev\":\"den\",\"logo\":\"https://a.espncdn.com/combiner/i?img=/i/teamlogos/nba/500/den.png&w=80&h=80&cquality=40&scale=crop&location=origin&transparent=true\"},{\"id\":\"16\",\"href\":\"http://www.espn.com/nba/team/_/name/min/minnesota-timberwolves\",\"name\":\"Minnesota Timberwolves\",\"shortName\":\"Timberwolves\",\"abbrev\":\"min\",\"logo\":\"https://a.espncdn.com/combiner/i?img=/i/teamlogos/nba/500/min.png&w=80&h=80&cquality=40&scale=crop&location=origin&transparent=true\"},{\"id\":\"25\",\"href\":\"http://www.espn.com/nba/team/_/name/okc/oklahoma-city-thunder\",\"name\":\"Oklahoma City Thunder\",\"shortName\":\"Thunder\",\"abbrev\":\"okc\",\"logo\":\"https://a.espncdn.com/combiner/i?img=/i/teamlogos/nba/500/okc.png&w=80&h=80&cquality=40&scale=crop&location=origin&transparent=true\"},{\"id\":\"22\",\"href\":\"http://www.espn.com/nba/team/_/name/por/portland-trail-blazers\",\"name\":\"Portland Trail Blazers\",\"shortName\":\"Trail Blazers\",\"abbrev\":\"por\",\"logo\":\"https://a.espncdn.com/combiner/i?img=/i/teamlogos/nba/500/por.png&w=80&h=80&cquality=40&scale=crop&location=origin&transparent=true\"},{\"id\":\"26\",\"href\":\"http://www.espn.com/nba/team/_/name/utah/utah-jazz\",\"name\":\"Utah Jazz\",\"shortName\":\"Jazz\",\"abbrev\":\"utah\",\"logo\":\"https://a.espncdn.com/combiner/i?img=/i/teamlogos/nba/500/utah.png&w=80&h=80&cquality=40&scale=crop&location=origin&transparent=true\"}]},{\"name\":\"Pacific\",\"teams\":[{\"id\":\"9\",\"href\":\"http://www.espn.com/nba/team/_/name/gs/golden-state-warriors\",\"name\":\"Golden State Warriors\",\"shortName\":\"Warriors\",\"abbrev\":\"gs\",\"logo\":\"https://a.espncdn.com/combiner/i?img=/i/teamlogos/nba/500/gs.png&w=80&h=80&cquality=40&scale=crop&location=origin&transparent=true\"},{\"id\":\"12\",\"href\":\"http://www.espn.com/nba/team/_/name/lac/la-clippers\",\"name\":\"LA Clippers\",\"shortName\":\"Clippers\",\"abbrev\":\"lac\",\"logo\":\"https://a.espncdn.com/combiner/i?img=/i/teamlogos/nba/500/lac.png&w=80&h=80&cquality=40&scale=crop&location=origin&transparent=true\"},{\"id\":\"13\",\"href\":\"http://www.espn.com/nba/team/_/name/lal/los-angeles-lakers\",\"name\":\"Los Angeles Lakers\",\"shortName\":\"Lakers\",\"abbrev\":\"lal\",\"logo\":\"https://a.espncdn.com/combiner/i?img=/i/teamlogos/nba/500/lal.png&w=80&h=80&cquality=40&scale=crop&location=origin&transparent=true\"},{\"id\":\"21\",\"href\":\"http://www.espn.com/nba/team/_/name/phx/phoenix-suns\",\"name\":\"Phoenix Suns\",\"shortName\":\"Suns\",\"abbrev\":\"phx\",\"logo\":\"https://a.espncdn.com/combiner/i?img=/i/teamlogos/nba/500/phx.png&w=80&h=80&cquality=40&scale=crop&location=origin&transparent=true\"},{\"id\":\"23\",\"href\":\"http://www.espn.com/nba/team/_/name/sac/sacramento-kings\",\"name\":\"Sacramento Kings\",\"shortName\":\"Kings\",\"abbrev\":\"sac\",\"logo\":\"https://a.espncdn.com/combiner/i?img=/i/teamlogos/nba/500/sac.png&w=80&h=80&cquality=40&scale=crop&location=origin&transparent=true\"}]},{\"name\":\"Southwest\",\"teams\":[{\"id\":\"6\",\"href\":\"http://www.espn.com/nba/team/_/name/dal/dallas-mavericks\",\"name\":\"Dallas Mavericks\",\"shortName\":\"Mavericks\",\"abbrev\":\"dal\",\"logo\":\"https://a.espncdn.com/combiner/i?img=/i/teamlogos/nba/500/dal.png&w=80&h=80&cquality=40&scale=crop&location=origin&transparent=true\"},{\"id\":\"10\",\"href\":\"http://www.espn.com/nba/team/_/name/hou/houston-rockets\",\"name\":\"Houston Rockets\",\"shortName\":\"Rockets\",\"abbrev\":\"hou\",\"logo\":\"https://a.espncdn.com/combiner/i?img=/i/teamlogos/nba/500/hou.png&w=80&h=80&cquality=40&scale=crop&location=origin&transparent=true\"},{\"id\":\"29\",\"href\":\"http://www.espn.com/nba/team/_/name/mem/memphis-grizzlies\",\"name\":\"Memphis Grizzlies\",\"shortName\":\"Grizzlies\",\"abbrev\":\"mem\",\"logo\":\"https://a.espncdn.com/combiner/i?img=/i/teamlogos/nba/500/mem.png&w=80&h=80&cquality=40&scale=crop&location=origin&transparent=true\"},{\"id\":\"3\",\"href\":\"http://www.espn.com/nba/team/_/name/no/new-orleans-pelicans\",\"name\":\"New Orleans Pelicans\",\"shortName\":\"Pelicans\",\"abbrev\":\"no\",\"logo\":\"https://a.espncdn.com/combiner/i?img=/i/teamlogos/nba/500/no.png&w=80&h=80&cquality=40&scale=crop&location=origin&transparent=true\"},{\"id\":\"24\",\"href\":\"http://www.espn.com/nba/team/_/name/sa/san-antonio-spurs\",\"name\":\"San Antonio Spurs\",\"shortName\":\"Spurs\",\"abbrev\":\"sa\",\"logo\":\"https://a.espncdn.com/combiner/i?img=/i/teamlogos/nba/500/sa.png&w=80&h=80&cquality=40&scale=crop&location=origin&transparent=true\"}]}],\"mlb\":[{\"name\":\"AL East\",\"teams\":[{\"id\":\"1\",\"href\":\"http://www.espn.com/mlb/team/_/name/bal/baltimore-orioles\",\"name\":\"Baltimore Orioles\",\"shortName\":\"Orioles\",\"abbrev\":\"bal\",\"logo\":\"https://a.espncdn.com/combiner/i?img=/i/teamlogos/mlb/500/bal.png&w=80&h=80&cquality=40&scale=crop&location=origin&transparent=true\"},{\"id\":\"2\",\"href\":\"http://www.espn.com/mlb/team/_/name/bos/boston-red-sox\",\"name\":\"Boston Red Sox\",\"shortName\":\"Red Sox\",\"abbrev\":\"bos\",\"logo\":\"https://a.espncdn.com/combiner/i?img=/i/teamlogos/mlb/500/bos.png&w=80&h=80&cquality=40&scale=crop&location=origin&transparent=true\"},{\"id\":\"10\",\"href\":\"http://www.espn.com/mlb/team/_/name/nyy/new-york-yankees\",\"name\":\"New York Yankees\",\"shortName\":\"Yankees\",\"abbrev\":\"nyy\",\"logo\":\"https://a.espncdn.com/combiner/i?img=/i/teamlogos/mlb/500/nyy.png&w=80&h=80&cquality=40&scale=crop&location=origin&transparent=true\"},{\"id\":\"30\",\"href\":\"http://www.espn.com/mlb/team/_/name/tb/tampa-bay-rays\",\"name\":\"Tampa Bay Rays\",\"shortName\":\"Rays\",\"abbrev\":\"tb\",\"logo\":\"https://a.espncdn.com/combiner/i?img=/i/teamlogos/mlb/500/tb.png&w=80&h=80&cquality=40&scale=crop&location=origin&transparent=true\"},{\"id\":\"14\",\"href\":\"http://www.espn.com/mlb/team/_/name/tor/toronto-blue-jays\",\"name\":\"Toronto Blue Jays\",\"shortName\":\"Blue Jays\",\"abbrev\":\"tor\",\"logo\":\"https://a.espncdn.com/combiner/i?img=/i/teamlogos/mlb/500/tor.png&w=80&h=80&cquality=40&scale=crop&location=origin&transparent=true\"}]},{\"name\":\"AL Central\",\"teams\":[{\"id\":\"4\",\"href\":\"http://www.espn.com/mlb/team/_/name/chw/chicago-white-sox\",\"name\":\"Chicago White Sox\",\"shortName\":\"White Sox\",\"abbrev\":\"chw\",\"logo\":\"https://a.espncdn.com/combiner/i?img=/i/teamlogos/mlb/500/chw.png&w=80&h=80&cquality=40&scale=crop&location=origin&transparent=true\"},{\"id\":\"5\",\"href\":\"http://www.espn.com/mlb/team/_/name/cle/cleveland-indians\",\"name\":\"Cleveland Indians\",\"shortName\":\"Indians\",\"abbrev\":\"cle\",\"logo\":\"https://a.espncdn.com/combiner/i?img=/i/teamlogos/mlb/500/cle.png&w=80&h=80&cquality=40&scale=crop&location=origin&transparent=true\"},{\"id\":\"6\",\"href\":\"http://www.espn.com/mlb/team/_/name/det/detroit-tigers\",\"name\":\"Detroit Tigers\",\"shortName\":\"Tigers\",\"abbrev\":\"det\",\"logo\":\"https://a.espncdn.com/combiner/i?img=/i/teamlogos/mlb/500/det.png&w=80&h=80&cquality=40&scale=crop&location=origin&transparent=true\"},{\"id\":\"7\",\"href\":\"http://www.espn.com/mlb/team/_/name/kc/kansas-city-royals\",\"name\":\"Kansas City Royals\",\"shortName\":\"Royals\",\"abbrev\":\"kc\",\"logo\":\"https://a.espncdn.com/combiner/i?img=/i/teamlogos/mlb/500/kc.png&w=80&h=80&cquality=40&scale=crop&location=origin&transparent=true\"},{\"id\":\"9\",\"href\":\"http://www.espn.com/mlb/team/_/name/min/minnesota-twins\",\"name\":\"Minnesota Twins\",\"shortName\":\"Twins\",\"abbrev\":\"min\",\"logo\":\"https://a.espncdn.com/combiner/i?img=/i/teamlogos/mlb/500/min.png&w=80&h=80&cquality=40&scale=crop&location=origin&transparent=true\"}]},{\"name\":\"AL West\",\"teams\":[{\"id\":\"18\",\"href\":\"http://www.espn.com/mlb/team/_/name/hou/houston-astros\",\"name\":\"Houston Astros\",\"shortName\":\"Astros\",\"abbrev\":\"hou\",\"logo\":\"https://a.espncdn.com/combiner/i?img=/i/teamlogos/mlb/500/hou.png&w=80&h=80&cquality=40&scale=crop&location=origin&transparent=true\"},{\"id\":\"3\",\"href\":\"http://www.espn.com/mlb/team/_/name/laa/los-angeles-angels\",\"name\":\"Los Angeles Angels\",\"shortName\":\"Angels\",\"abbrev\":\"laa\",\"logo\":\"https://a.espncdn.com/combiner/i?img=/i/teamlogos/mlb/500/laa.png&w=80&h=80&cquality=40&scale=crop&location=origin&transparent=true\"},{\"id\":\"11\",\"href\":\"http://www.espn.com/mlb/team/_/name/oak/oakland-athletics\",\"name\":\"Oakland Athletics\",\"shortName\":\"Athletics\",\"abbrev\":\"oak\",\"logo\":\"https://a.espncdn.com/combiner/i?img=/i/teamlogos/mlb/500/oak.png&w=80&h=80&cquality=40&scale=crop&location=origin&transparent=true\"},{\"id\":\"12\",\"href\":\"http://www.espn.com/mlb/team/_/name/sea/seattle-mariners\",\"name\":\"Seattle Mariners\",\"shortName\":\"Mariners\",\"abbrev\":\"sea\",\"logo\":\"https://a.espncdn.com/combiner/i?img=/i/teamlogos/mlb/500/sea.png&w=80&h=80&cquality=40&scale=crop&location=origin&transparent=true\"},{\"id\":\"13\",\"href\":\"http://www.espn.com/mlb/team/_/name/tex/texas-rangers\",\"name\":\"Texas Rangers\",\"shortName\":\"Rangers\",\"abbrev\":\"tex\",\"logo\":\"https://a.espncdn.com/combiner/i?img=/i/teamlogos/mlb/500/tex.png&w=80&h=80&cquality=40&scale=crop&location=origin&transparent=true\"}]},{\"name\":\"NL East\",\"teams\":[{\"id\":\"15\",\"href\":\"http://www.espn.com/mlb/team/_/name/atl/atlanta-braves\",\"name\":\"Atlanta Braves\",\"shortName\":\"Braves\",\"abbrev\":\"atl\",\"logo\":\"https://a.espncdn.com/combiner/i?img=/i/teamlogos/mlb/500/atl.png&w=80&h=80&cquality=40&scale=crop&location=origin&transparent=true\"},{\"id\":\"28\",\"href\":\"http://www.espn.com/mlb/team/_/name/mia/miami-marlins\",\"name\":\"Miami Marlins\",\"shortName\":\"Marlins\",\"abbrev\":\"mia\",\"logo\":\"https://a.espncdn.com/combiner/i?img=/i/teamlogos/mlb/500/mia.png&w=80&h=80&cquality=40&scale=crop&location=origin&transparent=true\"},{\"id\":\"21\",\"href\":\"http://www.espn.com/mlb/team/_/name/nym/new-york-mets\",\"name\":\"New York Mets\",\"shortName\":\"Mets\",\"abbrev\":\"nym\",\"logo\":\"https://a.espncdn.com/combiner/i?img=/i/teamlogos/mlb/500/nym.png&w=80&h=80&cquality=40&scale=crop&location=origin&transparent=true\"},{\"id\":\"22\",\"href\":\"http://www.espn.com/mlb/team/_/name/phi/philadelphia-phillies\",\"name\":\"Philadelphia Phillies\",\"shortName\":\"Phillies\",\"abbrev\":\"phi\",\"logo\":\"https://a.espncdn.com/combiner/i?img=/i/teamlogos/mlb/500/phi.png&w=80&h=80&cquality=40&scale=crop&location=origin&transparent=true\"},{\"id\":\"20\",\"href\":\"http://www.espn.com/mlb/team/_/name/wsh/washington-nationals\",\"name\":\"Washington Nationals\",\"shortName\":\"Nationals\",\"abbrev\":\"wsh\",\"logo\":\"https://a.espncdn.com/combiner/i?img=/i/teamlogos/mlb/500/wsh.png&w=80&h=80&cquality=40&scale=crop&location=origin&transparent=true\"}]},{\"name\":\"NL Central\",\"teams\":[{\"id\":\"16\",\"href\":\"http://www.espn.com/mlb/team/_/name/chc/chicago-cubs\",\"name\":\"Chicago Cubs\",\"shortName\":\"Cubs\",\"abbrev\":\"chc\",\"logo\":\"https://a.espncdn.com/combiner/i?img=/i/teamlogos/mlb/500/chc.png&w=80&h=80&cquality=40&scale=crop&location=origin&transparent=true\"},{\"id\":\"17\",\"href\":\"http://www.espn.com/mlb/team/_/name/cin/cincinnati-reds\",\"name\":\"Cincinnati Reds\",\"shortName\":\"Reds\",\"abbrev\":\"cin\",\"logo\":\"https://a.espncdn.com/combiner/i?img=/i/teamlogos/mlb/500/cin.png&w=80&h=80&cquality=40&scale=crop&location=origin&transparent=true\"},{\"id\":\"8\",\"href\":\"http://www.espn.com/mlb/team/_/name/mil/milwaukee-brewers\",\"name\":\"Milwaukee Brewers\",\"shortName\":\"Brewers\",\"abbrev\":\"mil\",\"logo\":\"https://a.espncdn.com/combiner/i?img=/i/teamlogos/mlb/500/mil.png&w=80&h=80&cquality=40&scale=crop&location=origin&transparent=true\"},{\"id\":\"23\",\"href\":\"http://www.espn.com/mlb/team/_/name/pit/pittsburgh-pirates\",\"name\":\"Pittsburgh Pirates\",\"shortName\":\"Pirates\",\"abbrev\":\"pit\",\"logo\":\"https://a.espncdn.com/combiner/i?img=/i/teamlogos/mlb/500/pit.png&w=80&h=80&cquality=40&scale=crop&location=origin&transparent=true\"},{\"id\":\"24\",\"href\":\"http://www.espn.com/mlb/team/_/name/stl/st-louis-cardinals\",\"name\":\"St. Louis Cardinals\",\"shortName\":\"Cardinals\",\"abbrev\":\"stl\",\"logo\":\"https://a.espncdn.com/combiner/i?img=/i/teamlogos/mlb/500/stl.png&w=80&h=80&cquality=40&scale=crop&location=origin&transparent=true\"}]},{\"name\":\"NL West\",\"teams\":[{\"id\":\"29\",\"href\":\"http://www.espn.com/mlb/team/_/name/ari/arizona-diamondbacks\",\"name\":\"Arizona Diamondbacks\",\"shortName\":\"Diamondbacks\",\"abbrev\":\"ari\",\"logo\":\"https://a.espncdn.com/combiner/i?img=/i/teamlogos/mlb/500/ari.png&w=80&h=80&cquality=40&scale=crop&location=origin&transparent=true\"},{\"id\":\"27\",\"href\":\"http://www.espn.com/mlb/team/_/name/col/colorado-rockies\",\"name\":\"Colorado Rockies\",\"shortName\":\"Rockies\",\"abbrev\":\"col\",\"logo\":\"https://a.espncdn.com/combiner/i?img=/i/teamlogos/mlb/500/col.png&w=80&h=80&cquality=40&scale=crop&location=origin&transparent=true\"},{\"id\":\"19\",\"href\":\"http://www.espn.com/mlb/team/_/name/lad/los-angeles-dodgers\",\"name\":\"Los Angeles Dodgers\",\"shortName\":\"Dodgers\",\"abbrev\":\"lad\",\"logo\":\"https://a.espncdn.com/combiner/i?img=/i/teamlogos/mlb/500/lad.png&w=80&h=80&cquality=40&scale=crop&location=origin&transparent=true\"},{\"id\":\"25\",\"href\":\"http://www.espn.com/mlb/team/_/name/sd/san-diego-padres\",\"name\":\"San Diego Padres\",\"shortName\":\"Padres\",\"abbrev\":\"sd\",\"logo\":\"https://a.espncdn.com/combiner/i?img=/i/teamlogos/mlb/500/sd.png&w=80&h=80&cquality=40&scale=crop&location=origin&transparent=true\"},{\"id\":\"26\",\"href\":\"http://www.espn.com/mlb/team/_/name/sf/san-francisco-giants\",\"name\":\"San Francisco Giants\",\"shortName\":\"Giants\",\"abbrev\":\"sf\",\"logo\":\"https://a.espncdn.com/combiner/i?img=/i/teamlogos/mlb/500/sf.png&w=80&h=80&cquality=40&scale=crop&location=origin&transparent=true\"}]}],\"nhl\":[{\"name\":\"Atlantic\",\"teams\":[{\"id\":\"1\",\"href\":\"http://www.espn.com/nhl/team/_/name/bos/boston-bruins\",\"name\":\"Boston Bruins\",\"shortName\":\"Bruins\",\"abbrev\":\"bos\",\"logo\":\"https://a.espncdn.com/combiner/i?img=/i/teamlogos/nhl/500/bos.png&w=80&h=80&cquality=40&scale=crop&location=origin&transparent=true\"},{\"id\":\"2\",\"href\":\"http://www.espn.com/nhl/team/_/name/buf/buffalo-sabres\",\"name\":\"Buffalo Sabres\",\"shortName\":\"Sabres\",\"abbrev\":\"buf\",\"logo\":\"https://a.espncdn.com/combiner/i?img=/i/teamlogos/nhl/500/buf.png&w=80&h=80&cquality=40&scale=crop&location=origin&transparent=true\"},{\"id\":\"5\",\"href\":\"http://www.espn.com/nhl/team/_/name/det/detroit-red-wings\",\"name\":\"Detroit Red Wings\",\"shortName\":\"Red Wings\",\"abbrev\":\"det\",\"logo\":\"https://a.espncdn.com/combiner/i?img=/i/teamlogos/nhl/500/det.png&w=80&h=80&cquality=40&scale=crop&location=origin&transparent=true\"},{\"id\":\"26\",\"href\":\"http://www.espn.com/nhl/team/_/name/fla/florida-panthers\",\"name\":\"Florida Panthers\",\"shortName\":\"Panthers\",\"abbrev\":\"fla\",\"logo\":\"https://a.espncdn.com/combiner/i?img=/i/teamlogos/nhl/500/fla.png&w=80&h=80&cquality=40&scale=crop&location=origin&transparent=true\"},{\"id\":\"10\",\"href\":\"http://www.espn.com/nhl/team/_/name/mtl/montreal-canadiens\",\"name\":\"Montreal Canadiens\",\"shortName\":\"Canadiens\",\"abbrev\":\"mtl\",\"logo\":\"https://a.espncdn.com/combiner/i?img=/i/teamlogos/nhl/500/mtl.png&w=80&h=80&cquality=40&scale=crop&location=origin&transparent=true\"},{\"id\":\"14\",\"href\":\"http://www.espn.com/nhl/team/_/name/ott/ottawa-senators\",\"name\":\"Ottawa Senators\",\"shortName\":\"Senators\",\"abbrev\":\"ott\",\"logo\":\"https://a.espncdn.com/combiner/i?img=/i/teamlogos/nhl/500/ott.png&w=80&h=80&cquality=40&scale=crop&location=origin&transparent=true\"},{\"id\":\"20\",\"href\":\"http://www.espn.com/nhl/team/_/name/tb/tampa-bay-lightning\",\"name\":\"Tampa Bay Lightning\",\"shortName\":\"Lightning\",\"abbrev\":\"tb\",\"logo\":\"https://a.espncdn.com/combiner/i?img=/i/teamlogos/nhl/500/tb.png&w=80&h=80&cquality=40&scale=crop&location=origin&transparent=true\"},{\"id\":\"21\",\"href\":\"http://www.espn.com/nhl/team/_/name/tor/toronto-maple-leafs\",\"name\":\"Toronto Maple Leafs\",\"shortName\":\"Maple Leafs\",\"abbrev\":\"tor\",\"logo\":\"https://a.espncdn.com/combiner/i?img=/i/teamlogos/nhl/500/tor.png&w=80&h=80&cquality=40&scale=crop&location=origin&transparent=true\"}]},{\"name\":\"Metropolitan\",\"teams\":[{\"id\":\"7\",\"href\":\"http://www.espn.com/nhl/team/_/name/car/carolina-hurricanes\",\"name\":\"Carolina Hurricanes\",\"shortName\":\"Hurricanes\",\"abbrev\":\"car\",\"logo\":\"https://a.espncdn.com/combiner/i?img=/i/teamlogos/nhl/500/car.png&w=80&h=80&cquality=40&scale=crop&location=origin&transparent=true\"},{\"id\":\"29\",\"href\":\"http://www.espn.com/nhl/team/_/name/cbj/columbus-blue-jackets\",\"name\":\"Columbus Blue Jackets\",\"shortName\":\"Blue Jackets\",\"abbrev\":\"cbj\",\"logo\":\"https://a.espncdn.com/combiner/i?img=/i/teamlogos/nhl/500/cbj.png&w=80&h=80&cquality=40&scale=crop&location=origin&transparent=true\"},{\"id\":\"11\",\"href\":\"http://www.espn.com/nhl/team/_/name/nj/new-jersey-devils\",\"name\":\"New Jersey Devils\",\"shortName\":\"Devils\",\"abbrev\":\"nj\",\"logo\":\"https://a.espncdn.com/combiner/i?img=/i/teamlogos/nhl/500/nj.png&w=80&h=80&cquality=40&scale=crop&location=origin&transparent=true\"},{\"id\":\"12\",\"href\":\"http://www.espn.com/nhl/team/_/name/nyi/new-york-islanders\",\"name\":\"New York Islanders\",\"shortName\":\"Islanders\",\"abbrev\":\"nyi\",\"logo\":\"https://a.espncdn.com/combiner/i?img=/i/teamlogos/nhl/500/nyi.png&w=80&h=80&cquality=40&scale=crop&location=origin&transparent=true\"},{\"id\":\"13\",\"href\":\"http://www.espn.com/nhl/team/_/name/nyr/new-york-rangers\",\"name\":\"New York Rangers\",\"shortName\":\"Rangers\",\"abbrev\":\"nyr\",\"logo\":\"https://a.espncdn.com/combiner/i?img=/i/teamlogos/nhl/500/nyr.png&w=80&h=80&cquality=40&scale=crop&location=origin&transparent=true\"},{\"id\":\"15\",\"href\":\"http://www.espn.com/nhl/team/_/name/phi/philadelphia-flyers\",\"name\":\"Philadelphia Flyers\",\"shortName\":\"Flyers\",\"abbrev\":\"phi\",\"logo\":\"https://a.espncdn.com/combiner/i?img=/i/teamlogos/nhl/500/phi.png&w=80&h=80&cquality=40&scale=crop&location=origin&transparent=true\"},{\"id\":\"16\",\"href\":\"http://www.espn.com/nhl/team/_/name/pit/pittsburgh-penguins\",\"name\":\"Pittsburgh Penguins\",\"shortName\":\"Penguins\",\"abbrev\":\"pit\",\"logo\":\"https://a.espncdn.com/combiner/i?img=/i/teamlogos/nhl/500/pit.png&w=80&h=80&cquality=40&scale=crop&location=origin&transparent=true\"},{\"id\":\"23\",\"href\":\"http://www.espn.com/nhl/team/_/name/wsh/washington-capitals\",\"name\":\"Washington Capitals\",\"shortName\":\"Capitals\",\"abbrev\":\"wsh\",\"logo\":\"https://a.espncdn.com/combiner/i?img=/i/teamlogos/nhl/500/wsh.png&w=80&h=80&cquality=40&scale=crop&location=origin&transparent=true\"}]},{\"name\":\"Central\",\"teams\":[{\"id\":\"4\",\"href\":\"http://www.espn.com/nhl/team/_/name/chi/chicago-blackhawks\",\"name\":\"Chicago Blackhawks\",\"shortName\":\"Blackhawks\",\"abbrev\":\"chi\",\"logo\":\"https://a.espncdn.com/combiner/i?img=/i/teamlogos/nhl/500/chi.png&w=80&h=80&cquality=40&scale=crop&location=origin&transparent=true\"},{\"id\":\"17\",\"href\":\"http://www.espn.com/nhl/team/_/name/col/colorado-avalanche\",\"name\":\"Colorado Avalanche\",\"shortName\":\"Avalanche\",\"abbrev\":\"col\",\"logo\":\"https://a.espncdn.com/combiner/i?img=/i/teamlogos/nhl/500/col.png&w=80&h=80&cquality=40&scale=crop&location=origin&transparent=true\"},{\"id\":\"9\",\"href\":\"http://www.espn.com/nhl/team/_/name/dal/dallas-stars\",\"name\":\"Dallas Stars\",\"shortName\":\"Stars\",\"abbrev\":\"dal\",\"logo\":\"https://a.espncdn.com/combiner/i?img=/i/teamlogos/nhl/500/dal.png&w=80&h=80&cquality=40&scale=crop&location=origin&transparent=true\"},{\"id\":\"30\",\"href\":\"http://www.espn.com/nhl/team/_/name/min/minnesota-wild\",\"name\":\"Minnesota Wild\",\"shortName\":\"Wild\",\"abbrev\":\"min\",\"logo\":\"https://a.espncdn.com/combiner/i?img=/i/teamlogos/nhl/500/min.png&w=80&h=80&cquality=40&scale=crop&location=origin&transparent=true\"},{\"id\":\"27\",\"href\":\"http://www.espn.com/nhl/team/_/name/nsh/nashville-predators\",\"name\":\"Nashville Predators\",\"shortName\":\"Predators\",\"abbrev\":\"nsh\",\"logo\":\"https://a.espncdn.com/combiner/i?img=/i/teamlogos/nhl/500/nsh.png&w=80&h=80&cquality=40&scale=crop&location=origin&transparent=true\"},{\"id\":\"19\",\"href\":\"http://www.espn.com/nhl/team/_/name/stl/st-louis-blues\",\"name\":\"St. Louis Blues\",\"shortName\":\"Blues\",\"abbrev\":\"stl\",\"logo\":\"https://a.espncdn.com/combiner/i?img=/i/teamlogos/nhl/500/stl.png&w=80&h=80&cquality=40&scale=crop&location=origin&transparent=true\"},{\"id\":\"28\",\"href\":\"http://www.espn.com/nhl/team/_/name/wpg/winnipeg-jets\",\"name\":\"Winnipeg Jets\",\"shortName\":\"Jets\",\"abbrev\":\"wpg\",\"logo\":\"https://a.espncdn.com/combiner/i?img=/i/teamlogos/nhl/500/wpg.png&w=80&h=80&cquality=40&scale=crop&location=origin&transparent=true\"}]},{\"name\":\"Pacific\",\"teams\":[{\"id\":\"25\",\"href\":\"http://www.espn.com/nhl/team/_/name/ana/anaheim-ducks\",\"name\":\"Anaheim Ducks\",\"shortName\":\"Ducks\",\"abbrev\":\"ana\",\"logo\":\"https://a.espncdn.com/combiner/i?img=/i/teamlogos/nhl/500/ana.png&w=80&h=80&cquality=40&scale=crop&location=origin&transparent=true\"},{\"id\":\"24\",\"href\":\"http://www.espn.com/nhl/team/_/name/ari/arizona-coyotes\",\"name\":\"Arizona Coyotes\",\"shortName\":\"Coyotes\",\"abbrev\":\"ari\",\"logo\":\"https://a.espncdn.com/combiner/i?img=/i/teamlogos/nhl/500/ari.png&w=80&h=80&cquality=40&scale=crop&location=origin&transparent=true\"},{\"id\":\"3\",\"href\":\"http://www.espn.com/nhl/team/_/name/cgy/calgary-flames\",\"name\":\"Calgary Flames\",\"shortName\":\"Flames\",\"abbrev\":\"cgy\",\"logo\":\"https://a.espncdn.com/combiner/i?img=/i/teamlogos/nhl/500/cgy.png&w=80&h=80&cquality=40&scale=crop&location=origin&transparent=true\"},{\"id\":\"6\",\"href\":\"http://www.espn.com/nhl/team/_/name/edm/edmonton-oilers\",\"name\":\"Edmonton Oilers\",\"shortName\":\"Oilers\",\"abbrev\":\"edm\",\"logo\":\"https://a.espncdn.com/combiner/i?img=/i/teamlogos/nhl/500/edm.png&w=80&h=80&cquality=40&scale=crop&location=origin&transparent=true\"},{\"id\":\"8\",\"href\":\"http://www.espn.com/nhl/team/_/name/la/los-angeles-kings\",\"name\":\"Los Angeles Kings\",\"shortName\":\"Kings\",\"abbrev\":\"la\",\"logo\":\"https://a.espncdn.com/combiner/i?img=/i/teamlogos/nhl/500/la.png&w=80&h=80&cquality=40&scale=crop&location=origin&transparent=true\"},{\"id\":\"18\",\"href\":\"http://www.espn.com/nhl/team/_/name/sj/san-jose-sharks\",\"name\":\"San Jose Sharks\",\"shortName\":\"Sharks\",\"abbrev\":\"sj\",\"logo\":\"https://a.espncdn.com/combiner/i?img=/i/teamlogos/nhl/500/sj.png&w=80&h=80&cquality=40&scale=crop&location=origin&transparent=true\"},{\"id\":\"22\",\"href\":\"http://www.espn.com/nhl/team/_/name/van/vancouver-canucks\",\"name\":\"Vancouver Canucks\",\"shortName\":\"Canucks\",\"abbrev\":\"van\",\"logo\":\"https://a.espncdn.com/combiner/i?img=/i/teamlogos/nhl/500/van.png&w=80&h=80&cquality=40&scale=crop&location=origin&transparent=true\"},{\"id\":\"37\",\"href\":\"http://www.espn.com/nhl/team/_/name/vgs/vegas-golden-knights\",\"name\":\"Vegas Golden Knights\",\"shortName\":\"Golden Knights\",\"abbrev\":\"vgs\",\"logo\":\"https://a.espncdn.com/combiner/i?img=/i/teamlogos/nhl/500/vgs.png&w=80&h=80&cquality=40&scale=crop&location=origin&transparent=true\"}]}],\"soccer\":[{\"name\":\"Top Leagues\",\"teams\":[{\"name\":\"Premier League\",\"href\":\"/soccer/league/_/name/eng.1/\",\"logo\":\"https://a.espncdn.com/combiner/i?img=/i/leaguelogos/soccer/500/23.png&w=80&h=80&transparent=true&cquality=40&scale=crop&location=origin\"},{\"name\":\"Major League Soccer\",\"href\":\"/soccer/league/_/name/usa.1/\",\"logo\":\"https://a.espncdn.com/combiner/i?img=/i/leaguelogos/soccer/500/19.png&w=80&h=80&transparent=true&cquality=40&scale=crop&location=origin\"},{\"name\":\"Liga MX\",\"href\":\"/soccer/league/_/name/mex.1/\",\"logo\":\"https://a.espncdn.com/combiner/i?img=/i/leaguelogos/soccer/500/22.png&w=80&h=80&transparent=true&cquality=40&scale=crop&location=origin\"},{\"name\":\"La Liga\",\"href\":\"/soccer/league/_/name/esp.1\",\"logo\":\"https://a.espncdn.com/combiner/i?img=/i/leaguelogos/soccer/500/15.png&w=80&h=80&transparent=true&cquality=40&scale=crop&location=origin\"},{\"name\":\"Champions League\",\"href\":\"/soccer/league/_/name/uefa.champions\",\"logo\":\"https://a.espncdn.com/combiner/i?img=/i/leaguelogos/soccer/500/2.png&w=80&h=80&transparent=true&cquality=40&scale=crop&location=origin\"},{\"name\":\"Europa League\",\"href\":\"/soccer/league/_/name/uefa.europa\",\"logo\":\"https://a.espncdn.com/combiner/i?img=/i/leaguelogos/soccer/500/2310.png&transparent=true&w=80&h=80&cquality=40&scale=crop&location=origin\"},{\"name\":\"Serie A\",\"href\":\"/soccer/league/_/name/ita.1/\",\"logo\":\"https://a.espncdn.com/combiner/i?img=/i/leaguelogos/soccer/500/12.png&w=80&h=80&cquality=40&scale=crop&location=origin&transparent=true\"}]},{\"name\":\"Top Teams\",\"teams\":[{\"name\":\"USMNT\",\"href\":\"/soccer/club/_/id/660/united-states\",\"logo\":\"https://a.espncdn.com/combiner/i?img=/i/teamlogos/soccer/500/660.png&w=80&h=80&cquality=40&scale=crop&location=origin&transparent=true\"},{\"name\":\"USWNT\",\"href\":\"/soccer/club/_/id/2765/united-states\",\"logo\":\"https://a.espncdn.com/combiner/i?img=/i/teamlogos/soccer/500/2765.png&w=80&h=80&cquality=40&scale=crop&location=origin&transparent=true\"},{\"name\":\"Arsenal \",\"href\":\"/soccer/club/_/id/359/arsenal\",\"logo\":\"https://a.espncdn.com/combiner/i?img=/i/teamlogos/soccer/500/359.png&w=80&h=80&cquality=40&scale=crop&location=origin&transparent=true\"},{\"name\":\"Chelsea\",\"href\":\"/soccer/club/_/id/363/chelsea\",\"logo\":\"https://a.espncdn.com/combiner/i?img=/i/teamlogos/soccer/500/363.png&w=80&h=80&cquality=40&scale=crop&location=origin&transparent=true\"},{\"name\":\"Liverpool\",\"href\":\"/soccer/club/_/id/364/liverpool\",\"logo\":\"https://a.espncdn.com/combiner/i?img=/i/teamlogos/soccer/500/364.png&w=80&h=80&cquality=40&scale=crop&location=origin&transparent=true\"},{\"name\":\"Manchester City\",\"href\":\"/soccer/club/_/id/382/manchester-city\",\"logo\":\"https://a.espncdn.com/combiner/i?img=/i/teamlogos/soccer/500/382.png&w=80&h=80&cquality=40&scale=crop&location=origin&transparent=true\"},{\"name\":\"Manchester United \",\"href\":\"/soccer/team/_/id/360/Manchester-United/\",\"logo\":\"https://a.espncdn.com/combiner/i?img=/i/teamlogos/soccer/500/360.png&w=80&h=80&cquality=40&scale=crop&location=origin&transparent=true\"},{\"name\":\"Tottenham Hotspur\",\"href\":\"/soccer/club/_/id/367/tottenham-hotspur\",\"logo\":\"https://a.espncdn.com/combiner/i?img=/i/teamlogos/soccer/500/367.png&w=80&h=80&cquality=40&scale=crop&location=origin&transparent=true\"},{\"name\":\"Barcelona\",\"href\":\"/soccer/team/_/id/83/Barcelona/\",\"logo\":\"https://a.espncdn.com/combiner/i?img=/i/teamlogos/soccer/500/83.png&w=80&h=80&cquality=40&scale=crop&location=origin&transparent=true\"},{\"name\":\"Real Madrid\",\"href\":\"/soccer/team/_/id/86/\",\"logo\":\"https://a.espncdn.com/combiner/i?img=/i/teamlogos/soccer/500/86.png&w=80&h=80&cquality=40&scale=crop&location=origin&transparent=true\"},{\"name\":\"Atletico Madrid\",\"href\":\"/soccer/team/_/id/1068/Atletico-Madrid/\",\"logo\":\"https://a.espncdn.com/combiner/i?img=/i/teamlogos/soccer/500/1068.png&w=80&h=80&cquality=40&scale=crop&location=origin&transparent=true\"},{\"name\":\"Bayern Munich\",\"href\":\"/soccer/team/_/id/132/\",\"logo\":\"https://a.espncdn.com/combiner/i?img=/i/teamlogos/soccer/500/132.png&w=80&h=80&cquality=40&scale=crop&location=origin&transparent=true\"},{\"name\":\"Borussia Dortmund\",\"href\":\"/soccer/team/_/id/124/\",\"logo\":\"https://a.espncdn.com/combiner/i?img=/i/teamlogos/soccer/500/124.png&w=80&h=80&cquality=40&scale=crop&location=origin&transparent=true\"},{\"name\":\"Juventus\",\"href\":\"/soccer/team/_/id/111/\",\"logo\":\"https://a.espncdn.com/combiner/i?img=/i/teamlogos/soccer/500/111.png&w=80&h=80&cquality=40&scale=crop&location=origin&transparent=true\"},{\"name\":\"PSG\",\"href\":\"/soccer/team/_/id/160/\",\"logo\":\"https://a.espncdn.com/combiner/i?img=/i/teamlogos/soccer/500/160.png&w=80&h=80&cquality=40&scale=crop&location=origin&transparent=true\"},{\"name\":\"Guadalajara\",\"href\":\"/soccer/club/_/id/219/guadalajara\",\"logo\":\"https://a.espncdn.com/combiner/i?img=/i/teamlogos/soccer/500/219.png&w=80&h=80&cquality=40&scale=crop&location=origin&transparent=true\"},{\"name\":\"América\",\"href\":\"/soccer/club/_/id/227/club-america\",\"logo\":\"https://a.espncdn.com/combiner/i?img=/i/teamlogos/soccer/500/227.png&w=80&h=80&cquality=40&scale=crop&location=origin&transparent=true\"}]}]},\"navigation\":{\"sports\":[{\"l\":{\"t\":\"NFL\",\"w\":{\"h\":\"/nfl/\"}},\"t\":\"NFL\",\"i\":[{\"l\":{\"t\":\"Home\",\"w\":{\"a\":{\"breakpoints\":\"desktop,desktop-lg,mobile,tablet\"},\"h\":\"/nfl/\"}}},{\"l\":{\"t\":\"News\",\"w\":{\"a\":{\"tab\":\"2\",\"pagetype\":\"index\",\"breakpoints\":\"tablet\"},\"h\":\"/nfl/index?tab=2\"}}},{\"l\":{\"t\":\"Scores\",\"w\":{\"h\":\"/nfl/scoreboard\"}}},{\"l\":{\"t\":\"Schedule\",\"w\":{\"h\":\"/nfl/schedule\"}}},{\"l\":{\"t\":\"Standings\",\"w\":{\"a\":{\"match-url\":\"/standings/\",\"route\":\"false\"},\"h\":\"/nfl/standings\"}}},{\"l\":{\"t\":\"Stats\",\"w\":{\"a\":{\"route\":\"false\"},\"h\":\"/nfl/stats\"}},\"t\":\"Stats\"},{\"l\":{\"t\":\"Teams\",\"w\":{\"a\":{\"sportAbbrev\":\"nfl\",\"route\":\"false\"},\"h\":\"/nfl/teams\"}}},{\"l\":{\"t\":\"Tickets\",\"w\":{\"e\":true,\"h\":\"http://www.vividseats.com/nfl?wsUser=717&wsVar=NFLindexnav\"}}},{\"l\":{\"t\":\"Power Rankings\",\"w\":{\"h\":\"https://www.espn.com/nfl/story/_/id/28156812/week-13-nfl-power-rankings-1-32-poll-plus-team-thankful-for\"}}},{\"l\":{\"t\":\"Depth Charts\",\"w\":{\"h\":\"/nfl/story/_/id/27493008/nfl-depth-charts-all-32-teams\"}}},{\"l\":{\"t\":\"Injuries\",\"w\":{\"a\":{\"route\":\"false\"},\"h\":\"/nfl/injuries\"}}},{\"l\":{\"t\":\"More\",\"w\":{\"a\":{\"placeholder\":\"more\",\"breakpoints\":\"mobile\"},\"h\":\"#\"}}},{\"l\":{\"t\":\"NFL Playoff Machine\",\"w\":{\"a\":{\"mobile\":\"false\"},\"h\":\"http://www.espn.com/nfl/playoffs/machine\"}}},{\"l\":{\"t\":\"Expert Picks\",\"w\":{\"h\":\"http://www.espn.com/nfl/picks\"}}},{\"l\":{\"t\":\"NFL Daily Lines\",\"w\":{\"h\":\"http://www.espn.com/nfl/lines\"}}},{\"l\":{\"t\":\"Transactions\",\"w\":{\"h\":\"/nfl/transactions\"}}},{\"l\":{\"t\":\"Football Power Index\",\"w\":{\"h\":\"/nfl/story/_/page/Football-Power-Index/espn-nfl-football-power-index\"}}},{\"l\":{\"t\":\"PickCenter\",\"w\":{\"p\":true,\"a\":{\"mobile\":\"false\"},\"h\":\"http://insider.espn.com/insider/pickcenter/index?sport=nfl\"},\"m\":{\"p\":true,\"a\":{\"mobile\":\"true\"},\"h\":\"http://m.espn.com/nfl/pickcenter\"}}},{\"l\":{\"t\":\"MNF HQ\",\"w\":{\"h\":\"https://www.espn.com/monday-night-football/\"}}},{\"l\":{\"t\":\"NFL Draft\",\"w\":{\"h\":\"/nfl/draft\"}}},{\"l\":{\"t\":\"NFL History\",\"w\":{\"h\":\"http://www.espn.com/nfl/history/leaders\"}}},{\"l\":{\"t\":\"Coaches\",\"w\":{\"a\":{\"mobile\":\"false\"},\"h\":\"http://www.espn.com/nfl/coaches\"}}},{\"l\":{\"t\":\"Pigskin Pick'em\",\"w\":{\"h\":\"http://fantasy.espn.com/nfl-pigskin-pickem/2019/en/\"}}},{\"l\":{\"t\":\"Eliminator Challenge\",\"w\":{\"h\":\"http://fantasy.espn.com/nfl-eliminator-challenge/2019/en/\"}}}],\"a\":{\"root\":\"nfl\",\"sport_id\":\"28\"}},{\"l\":{\"t\":\"NBA\",\"w\":{\"h\":\"/nba/\"}},\"t\":\"NBA\",\"i\":[{\"l\":{\"t\":\"Home\",\"w\":{\"a\":{\"breakpoints\":\"desktop,desktop-lg,mobile,tablet\"},\"h\":\"/nba/\"}}},{\"l\":{\"t\":\"News\",\"w\":{\"a\":{\"tab\":\"2\",\"pagetype\":\"index\",\"breakpoints\":\"tablet\"},\"h\":\"/nba/index?tab=2\"}}},{\"l\":{\"t\":\"Scores\",\"w\":{\"h\":\"/nba/scoreboard\"}}},{\"l\":{\"t\":\"Schedule\",\"w\":{\"h\":\"/nba/schedule\"}}},{\"l\":{\"t\":\"Standings\",\"w\":{\"a\":{\"route\":\"false\"},\"h\":\"/nba/standings\"}}},{\"l\":{\"t\":\"Stats\",\"w\":{\"h\":\"/nba/stats\"}},\"t\":\"Stats\"},{\"l\":{\"t\":\"Teams\",\"w\":{\"a\":{\"sportAbbrev\":\"nba\",\"route\":\"false\"},\"h\":\"/nba/teams\"}}},{\"l\":{\"t\":\"Tickets\",\"w\":{\"e\":true,\"h\":\"https://www.vividseats.com/nba-basketball/?wsUser=717&wsVar=QUICKLINKS\"}}},{\"l\":{\"t\":\"World of Woj\",\"w\":{\"h\":\"http://www.espn.com/nba/world-of-woj/\"}}},{\"l\":{\"t\":\"Injuries\",\"w\":{\"h\":\"http://www.espn.com/nba/injuries\"}}},{\"l\":{\"t\":\"Power Rankings\",\"w\":{\"h\":\"http://www.espn.com/nba/story/_/id/28154384/nba-power-rankings-week-6-lakers-bucks-nuggets-rolling-here-comes-luka-doncic\"}}},{\"l\":{\"t\":\"More\",\"w\":{\"a\":{\"placeholder\":\"more\",\"breakpoints\":\"mobile\"},\"h\":\"#\"}}},{\"l\":{\"t\":\"Players\",\"w\":{\"a\":{\"mobile\":\"false\"},\"h\":\"http://www.espn.com/nba/players\"}}},{\"l\":{\"t\":\"Transactions\",\"w\":{\"a\":{\"mobile\":\"false\"},\"h\":\"http://www.espn.com/nba/transactions\"},\"m\":{\"a\":{\"mobile\":\"true\"},\"h\":\"http://m.espn.com/nba/transactions\"}}},{\"l\":{\"t\":\"Daily Lines\",\"w\":{\"a\":{\"mobile\":\"false\"},\"h\":\"http://www.espn.com/nba/lines\"}}},{\"l\":{\"t\":\"PickCenter\",\"w\":{\"p\":true,\"a\":{\"mobile\":\"false\"},\"h\":\"http://insider.espn.com/insider/pickcenter/index?sport=nba\"},\"m\":{\"p\":true,\"a\":{\"mobile\":\"true\"},\"h\":\"http://m.espn.com/nba/pickcenter\"}}},{\"l\":{\"t\":\"Salaries\",\"w\":{\"a\":{\"mobile\":\"false\"},\"h\":\"http://www.espn.com/nba/salaries\"}}},{\"l\":{\"t\":\"Team USA 2020\",\"w\":{\"h\":\"https://www.espn.com/nba/story/_/id/27714542/team-usa-basketball-2020-tokyo-olympics-latest-news-rosters-qualifiers\"}}},{\"l\":{\"t\":\"NBA History\",\"w\":{\"h\":\"/nba/history/leaders\"}}},{\"l\":{\"t\":\"Awards\",\"w\":{\"a\":{\"mobile\":\"false\"},\"h\":\"http://www.espn.com/nba/history/awards\"}}},{\"l\":{\"t\":\"Coaches\",\"w\":{\"a\":{\"mobile\":\"false\"},\"h\":\"http://www.espn.com/nba/coaches\"}}},{\"l\":{\"t\":\"NBA.COM tickets\",\"w\":{\"h\":\"https://nbatickets.nba.com/\"}}}],\"a\":{\"root\":\"nba\",\"sport_id\":\"46\"}},{\"l\":{\"t\":\"NCAAF\",\"w\":{\"a\":{\"icon\":\"football-college\"},\"h\":\"/college-football/\"}},\"t\":\"NCAAF\",\"i\":[{\"l\":{\"t\":\"Home\",\"w\":{\"a\":{\"breakpoints\":\"desktop,desktop-lg,mobile,tablet\"},\"h\":\"/college-football/\"}}},{\"l\":{\"t\":\"News\",\"w\":{\"a\":{\"tab\":\"2\",\"pagetype\":\"index\",\"breakpoints\":\"tablet\"},\"h\":\"/college-football/index?tab=2\"}}},{\"l\":{\"t\":\"Scores\",\"w\":{\"h\":\"/college-football/scoreboard\"}}},{\"l\":{\"t\":\"Schedule\",\"w\":{\"h\":\"/college-football/schedule\"}}},{\"l\":{\"t\":\"Standings\",\"w\":{\"a\":{\"route\":\"false\"},\"h\":\"/college-football/standings\"}}},{\"l\":{\"t\":\"Stats\",\"w\":{\"h\":\"/college-football/stats\"}},\"t\":\"Stats\"},{\"l\":{\"t\":\"Teams\",\"w\":{\"h\":\"/college-football/teams\"}}},{\"l\":{\"t\":\"Rankings\",\"w\":{\"a\":{\"route\":\"false\"},\"h\":\"/college-football/rankings\"}},\"t\":\"Rankings\"},{\"l\":{\"t\":\"Tickets\",\"w\":{\"e\":true,\"h\":\"https://www.vividseats.com/ncaaf/?wsUser=717&wsVar=CollegeFBsubnav\"}}},{\"l\":{\"t\":\"Bowls Schedule\",\"w\":{\"h\":\"https://www.espn.com/college-football/story/_/id/25709139/2019-20-college-football-bowl-schedule-dates-locations-games\"}}},{\"l\":{\"t\":\"Recruiting\",\"w\":{\"h\":\"http://www.espn.com/college-sports/football/recruiting/index\"}},\"t\":\"Recruiting\"},{\"l\":{\"t\":\"More\",\"w\":{\"a\":{\"placeholder\":\"more\",\"breakpoints\":\"mobile\"},\"h\":\"#\"}}},{\"l\":{\"t\":\"Heisman Watch\",\"w\":{\"a\":{\"mobile\":\"false\"},\"h\":\"https://www.espn.com/college-football/story/_/page/HeismanWatch191105/heisman-watch-chuba-hubbard-become-finalist\"},\"m\":{\"a\":{\"mobile\":\"true\"},\"h\":\"https://www.espn.com/college-football/story/_/page/HeismanWatch191105/heisman-watch-chuba-hubbard-become-finalist\"}}},{\"l\":{\"t\":\"Transfer Tracker\",\"w\":{\"h\":\"http://www.espn.com/college-football/story/_/id/25760399/college-football-players-entered-ncaa-transfer-portal\"}}},{\"l\":{\"t\":\"Capital One Bowl Mania\",\"w\":{\"h\":\"http://fantasy.espn.com/college-bowl-mania/2019/en/game\"}}},{\"l\":{\"t\":\"Awards\",\"w\":{\"a\":{\"mobile\":\"false\"},\"h\":\"http://www.espn.com/college-football/awards\"}}},{\"l\":{\"t\":\"College Pick'em\",\"w\":{\"a\":{\"icon\":\"football-college\"},\"h\":\"http://fantasy.espn.com/college-football-pickem/2019/en/\"}}},{\"l\":{\"t\":\"Daily Lines\",\"w\":{\"a\":{\"mobile\":\"false\"},\"h\":\"http://www.espn.com/college-football/lines\"},\"m\":{\"a\":{\"mobile\":\"true\"},\"h\":\"http://m.espn.com/ncf/dailyline\"}}},{\"l\":{\"t\":\"PickCenter\",\"w\":{\"p\":true,\"a\":{\"mobile\":\"false\"},\"h\":\"http://insider.espn.com/insider/pickcenter/index?sport=ncf\"},\"m\":{\"p\":true,\"a\":{\"mobile\":\"true\"},\"h\":\"http://m.espn.com/ncf/pickcenter\"}}},{\"l\":{\"t\":\"SEC Network\",\"w\":{\"a\":{\"mobile\":\"false\"},\"h\":\"http://secnetwork.com\"}}},{\"l\":{\"t\":\"ESPN Events\",\"w\":{\"e\":true,\"h\":\"http://espnevents.com/\"}}}],\"a\":{\"root\":\"ncaaf\",\"sport_id\":\"23\"}},{\"l\":{\"t\":\"NCAAM\",\"w\":{\"a\":{\"icon\":\"basketball\"},\"h\":\"/mens-college-basketball/\"}},\"t\":\"NCAAM\",\"i\":[{\"l\":{\"t\":\"Home\",\"w\":{\"a\":{\"breakpoints\":\"desktop,desktop-lg,mobile,tablet\"},\"h\":\"/mens-college-basketball/\"}}},{\"l\":{\"t\":\"News\",\"w\":{\"a\":{\"tab\":\"2\",\"pagetype\":\"index\",\"breakpoints\":\"tablet\"},\"h\":\"/mens-college-basketball/index?tab=2\"}}},{\"l\":{\"t\":\"Scores\",\"w\":{\"h\":\"/mens-college-basketball/scoreboard\"}}},{\"l\":{\"t\":\"Schedule\",\"w\":{\"h\":\"/mens-college-basketball/schedule\"}}},{\"l\":{\"t\":\"Standings\",\"w\":{\"a\":{\"route\":\"false\"},\"h\":\"/mens-college-basketball/standings\"}}},{\"l\":{\"t\":\"Stats\",\"w\":{\"a\":{\"mobile\":\"false\"},\"h\":\"http://www.espn.com/mens-college-basketball/statistics\"},\"m\":{\"a\":{\"mobile\":\"true\"},\"h\":\"http://m.espn.com/ncb/leagueleaders\"}}},{\"l\":{\"t\":\"Teams\",\"w\":{\"a\":{\"route\":\"false\"},\"h\":\"/mens-college-basketball/teams\"}}},{\"l\":{\"t\":\"Rankings\",\"w\":{\"a\":{\"route\":\"false\"},\"h\":\"/mens-college-basketball/rankings\"}},\"t\":\"Rankings\"},{\"l\":{\"t\":\"Tickets\",\"w\":{\"e\":true,\"a\":{\"mobile\":\"false\"},\"h\":\"http://www.vividseats.com/ncaab?wsUser=717&wsVar=CollegeBKindexnav\"}}},{\"l\":{\"t\":\"Recruiting\",\"w\":{\"a\":{\"mobile\":\"false\"},\"h\":\"http://www.espn.com/college-sports/basketball/recruiting/index\"},\"m\":{\"a\":{\"mobile\":\"true\"},\"h\":\"http://www.espn.com/college-sports/basketball/recruiting/index\"}}},{\"l\":{\"t\":\"Bracketology\",\"w\":{\"h\":\"http://www.espn.com/mens-college-basketball/bracketology\"}}},{\"l\":{\"t\":\"More\",\"w\":{\"a\":{\"placeholder\":\"more\",\"breakpoints\":\"mobile\"},\"h\":\"#\"}}},{\"l\":{\"t\":\"Daily Lines\",\"w\":{\"a\":{\"mobile\":\"false\"},\"h\":\"http://www.espn.com/mens-college-basketball/lines\"},\"m\":{\"a\":{\"mobile\":\"true\"},\"h\":\"http://m.espn.com/ncb/dailyline\"}}},{\"l\":{\"t\":\"PickCenter\",\"w\":{\"p\":true,\"a\":{\"mobile\":\"false\"},\"h\":\"http://insider.espn.com/insider/pickcenter/index?sport=ncb\"},\"m\":{\"p\":true,\"a\":{\"mobile\":\"true\"},\"h\":\"http://m.espn.com/ncb/pickcenter\"}}},{\"l\":{\"t\":\"Coaching Changes\",\"w\":{\"h\":\"https://www.espn.com/mens-college-basketball/story/_/id/26382381/college-basketball-coaching-changes-2019-20\"}}},{\"l\":{\"t\":\"Dick Vitale\",\"w\":{\"a\":{\"mobile\":\"false\"},\"h\":\"http://www.espn.com/espn/dickvitale/index\"}}},{\"l\":{\"t\":\"Ivy League Digital Network\",\"w\":{\"e\":true,\"h\":\"http://www.ivyleaguedigitalnetwork.com/\"}}},{\"l\":{\"t\":\"ESPN Events\",\"w\":{\"e\":true,\"h\":\"http://espnevents.com/\"}}}],\"a\":{\"root\":\"ncaam\",\"sport_id\":\"41\"}},{\"l\":{\"t\":\"Soccer\",\"w\":{\"a\":{\"icon\":\"soccer\"},\"h\":\"/soccer/\"}},\"t\":\"Soccer\",\"i\":[{\"l\":{\"t\":\"Home\",\"w\":{\"a\":{\"mobile\":\"false\",\"breakpoints\":\"desktop,desktop-lg\"},\"h\":\"/soccer/\"}}},{\"l\":{\"t\":\"News\",\"w\":{\"a\":{\"tab\":\"2\",\"pagetype\":\"index\",\"breakpoints\":\"mobile,tablet\"},\"h\":\"/soccer/index?tab=2\"}}},{\"l\":{\"t\":\"Scores\",\"w\":{\"h\":\"/soccer/scoreboard\"}}},{\"l\":{\"t\":\"Schedule\",\"w\":{\"h\":\"/soccer/schedule\"}}},{\"l\":{\"t\":\"Transfers\",\"w\":{\"h\":\"/soccer/transfers\"}}},{\"l\":{\"t\":\"Teams\",\"w\":{\"h\":\"/football/teams\"}},\"t\":\"Teams\"},{\"l\":{\"t\":\"Leagues & Cups\",\"w\":{\"h\":\"/soccer/competitions\"}},\"t\":\"Leagues & Cups\"},{\"l\":{\"t\":\"Tables\",\"w\":{\"h\":\"/soccer/table/_/league/eng.1\"}},\"t\":\"Tables\"},{\"l\":{\"t\":\"Fantasy\",\"w\":{\"e\":true,\"h\":\"http://fantasyfc.espn.com/us/12/clienthome.do\"}}},{\"l\":{\"t\":\"USMNT\",\"w\":{\"h\":\"/soccer/club/_/id/660/united-states\"}}},{\"l\":{\"t\":\"USWNT\",\"w\":{\"h\":\"http://www.espn.com/soccer/club/_/id/2765/united-states\"}}},{\"l\":{\"t\":\"More\",\"w\":{\"a\":{\"placeholder\":\"more\",\"breakpoints\":\"mobile\"},\"h\":\"#\"}}},{\"l\":{\"t\":\"PickCenter\",\"w\":{\"p\":true,\"h\":\"http://insider.espn.com/insider/pickcenter/index?sport=soccer\"}}},{\"l\":{\"t\":\"Tickets\",\"w\":{\"e\":true,\"h\":\"https://www.vividseats.com/sports/soccer/?wsUser=717&wsVar=soccersubnav\"}}}],\"a\":{\"root\":\"soccer\",\"sport_id\":\"600\"}},{\"l\":{\"t\":\"MMA\",\"w\":{\"a\":{\"icon\":\"mma\"},\"h\":\"/mma/\"}},\"t\":\"MMA\",\"i\":[{\"l\":{\"t\":\"Home\",\"w\":{\"a\":{\"breakpoints\":\"desktop,desktop-lg,mobile,tablet\"},\"h\":\"/mma/\"}}},{\"l\":{\"t\":\"Schedule/Results\",\"w\":{\"a\":{\"route\":\"false\"},\"h\":\"/mma/schedule\"}}},{\"l\":{\"t\":\"Fightcenter\",\"w\":{\"a\":{\"route\":\"false\"},\"h\":\"/mma/fightcenter\"}}},{\"l\":{\"t\":\"Best of UFC\",\"w\":{\"p\":true,\"h\":\"http://www.espn.com/watch/series/98485c34-5490-4f9c-b176-599633cb589f/ufc-archives\"}},\"t\":\"UFC Archives\"},{\"l\":{\"t\":\"PFL\",\"w\":{\"h\":\"http://www.espn.com/mma/pfl/\"}}},{\"l\":{\"t\":\"P4P\",\"w\":{\"h\":\"http://www.espn.com/mma/story/_/id/24067525/espn-mma-pound-pound-rankings\"}}},{\"l\":{\"t\":\"Divisional Rankings\",\"w\":{\"h\":\"/mma/story/_/id/21807736/mma-fighter-rankings\"}}},{\"l\":{\"t\":\"News\",\"w\":{\"a\":{\"tab\":\"2\",\"pagetype\":\"index\",\"breakpoints\":\"mobile,tablet\"},\"h\":\"/mma/index?tab=2\"}}},{\"l\":{\"t\":\"Champions\",\"w\":{\"h\":\"/mma/story/_/id/14947566/current-all-ufc-champions\"}}},{\"l\":{\"t\":\"Tickets\",\"w\":{\"e\":true,\"h\":\"http://www.vividseats.com/sports/boxing-fighting?wsUser=717&wsVar=MMAindexnav\"}}},{\"l\":{\"t\":\"More\",\"w\":{\"a\":{\"placeholder\":\"more\",\"breakpoints\":\"mobile\"},\"h\":\"#\"}}},{\"l\":{\"t\":\"Ariel Helwani's MMA Show\",\"w\":{\"h\":\"http://www.espn.com/espnradio/podcast/archive/_/id/16787314\"}}},{\"l\":{\"t\":\"Ariel & The Bad Guy\",\"w\":{\"p\":true,\"h\":\"http://www.espn.com/watch/series/85fcf508-90c7-4c95-afc9-8683d6cb56ea/ariel-the-bad-guy\"}}},{\"l\":{\"t\":\"Fighters\",\"w\":{\"a\":{\"mobile\":\"false\"},\"h\":\"http://www.espn.com/mma/fighters\"},\"m\":{\"a\":{\"mobile\":\"true\"},\"h\":\"http://m.espn.com/extra/mma/playersearch\"}}}],\"a\":{\"root\":\"mma\",\"sport_id\":\"3301\"}},{\"t\":\"More Sports\",\"l\":{\"t\":\"&hellip;\",\"w\":{\"a\":{\"mobile\":\"false\"},\"h\":\"#\"}},\"i\":[{\"l\":{\"t\":\"Analytics\",\"w\":{\"a\":{\"pagelogo\":\"analytics\"},\"h\":\"/analytics/\"}},\"i\":[{\"l\":{\"t\":\"Home\",\"w\":{\"h\":\"/analytics/\"}}},{\"l\":{\"t\":\"NFL FPI\",\"w\":{\"h\":\"https://www.espn.com/nfl/story/_/page/Football-Power-Index/espn-nfl-football-power-index\"}}},{\"l\":{\"t\":\"College FPI\",\"w\":{\"h\":\"http://www.espn.com/college-football/statistics/teamratings\"}}},{\"l\":{\"t\":\"College BPI\",\"w\":{\"h\":\"http://www.espn.com/mens-college-basketball/bpi\"}}},{\"l\":{\"t\":\"FiveThirtyEight\",\"w\":{\"h\":\"http://fivethirtyeight.com/sports/\"}}},{\"l\":{\"t\":\"ESPN Analytics glossary\",\"w\":{\"h\":\"http://www.espn.com/analytics/story/_/id/17648258/espn-analytics-glossary-key-metrics\"}}}],\"a\":{\"root\":\"analytics\"}},{\"l\":{\"t\":\"Boxing\",\"w\":{\"a\":{\"icon\":\"boxing\"},\"h\":\"/boxing/\"}},\"t\":\"Boxing\",\"i\":[{\"l\":{\"t\":\"Home\",\"w\":{\"a\":{\"breakpoints\":\"desktop,desktop-lg,mobile,tablet\"},\"h\":\"/boxing/\"}}},{\"l\":{\"t\":\"News\",\"w\":{\"a\":{\"tab\":\"2\",\"pagetype\":\"index\",\"breakpoints\":\"mobile,tablet\"},\"h\":\"/boxing/index?tab=2\"}}},{\"l\":{\"t\":\"Schedule\",\"w\":{\"h\":\"/boxing/story/_/id/12508267/boxing-fight-schedule\"}}},{\"l\":{\"t\":\"Champions\",\"w\":{\"h\":\"/boxing/story/_/id/12370125/champions-list\"}}},{\"l\":{\"t\":\"More\",\"w\":{\"a\":{\"placeholder\":\"more\",\"breakpoints\":\"tablet\"},\"h\":\"#\"}}},{\"l\":{\"t\":\"Divisional Rankings\",\"w\":{\"h\":\"/boxing/story/_/id/21675272/boxing-rankings-espn-division-division-boxing-rankings\"}}},{\"l\":{\"t\":\"P4P\",\"w\":{\"h\":\"http://www.espn.com/boxing/story/_/id/28012852/pound-pound-rankings-did-canelo-move-ko-win-kovalev\"}}},{\"l\":{\"t\":\"Historic Bouts\",\"w\":{\"p\":true,\"h\":\"http://www.espn.com/watch/series/5796195d-a1b1-4785-a79e-f865f65a613c/boxing-on-demand\"}},\"t\":\"ESPN+\"},{\"l\":{\"t\":\"Tickets\",\"w\":{\"e\":true,\"h\":\"http://www.vividseats.com/sports/boxing-fighting?wsUser=717&wsVar=Boxingindexnav\"}}},{\"l\":{\"t\":\"Remembering Ali\",\"w\":{\"h\":\"http://www.espn.com/espn/feature/story/_/id/15926173/muhammad-ali\"}}},{\"l\":{\"t\":\"More\",\"w\":{\"a\":{\"placeholder\":\"more\",\"breakpoints\":\"mobile\"},\"h\":\"#\"}}}],\"a\":{\"root\":\"boxing\",\"sport_id\":\"1000\"}},{\"l\":{\"t\":\"CFL\",\"w\":{\"e\":true,\"a\":{\"icon\":\"football\"},\"h\":\"http://www.tsn.ca/cfl\"}},\"t\":\"CFL\",\"i\":[{\"l\":{\"t\":\"CFL Home\",\"w\":{\"e\":true,\"h\":\"http://www.tsn.ca/cfl\"}}}],\"a\":{\"root\":\"cfl\",\"sport_id\":\"33\"}},{\"l\":{\"t\":\"Chalk\",\"w\":{\"h\":\"/chalk/\"}},\"t\":\"Chalk\",\"i\":[{\"l\":{\"t\":\"Home\",\"w\":{\"a\":{\"breakpoints\":\"desktop,desktop-lg,mobile,tablet\"},\"h\":\"/chalk/\"}}},{\"l\":{\"t\":\"News\",\"w\":{\"a\":{\"tab\":\"2\",\"pagetype\":\"index\",\"breakpoints\":\"mobile,tablet\"},\"h\":\"/chalk/index?tab=2\"}}},{\"l\":{\"t\":\"More\",\"w\":{\"a\":{\"placeholder\":\"more\",\"breakpoints\":\"mobile\"},\"h\":\"#\"}}},{\"l\":{\"t\":\"PickCenter\",\"w\":{\"p\":true,\"h\":\"http://insider.espn.com/insider/pickcenter/index\"}},\"t\":\"PickCenter\",\"a\":{\"mobile\":\"true\",\"breakpoints\":\"desktop,desktop-lg\"}},{\"l\":{\"t\":\"Odds/Futures\",\"w\":{\"h\":\"http://www.espn.com/nfl/lines\"}},\"t\":\"Odds/Futures\",\"a\":{\"breakpoints\":\"desktop,desktop-lg\"}},{\"l\":{\"t\":\"Betting Analytics\",\"w\":{\"a\":{\"mobile\":\"false\"},\"h\":\"https://www.espn.com/nfl/story/_/page/Football-Power-Index/espn-nfl-football-power-index\"}},\"t\":\"Betting Analytics\",\"a\":{\"mobile\":\"true\",\"breakpoints\":\"desktop,desktop-lg\"}},{\"l\":{\"t\":\"Legalization\",\"w\":{\"h\":\"http://www.espn.com/chalk/story/_/id/19740480/gambling-sports-betting-bill-tracker-all-50-states\"}},\"t\":\"Legalization\",\"a\":{\"mobile\":\"true\",\"breakpoints\":\"desktop,desktop-lg\"}},{\"l\":{\"t\":\"More\",\"w\":{\"a\":{\"placeholder\":\"more\",\"breakpoints\":\"tablet,desktop,desktop-lg\"},\"h\":\"#\"}}},{\"l\":{\"t\":\"Experts Picks\",\"w\":{\"h\":\"http://www.espn.com/nfl/picks\"}}},{\"l\":{\"t\":\"Glossary\",\"w\":{\"h\":\"/espn/chalk/story/_/id/11457015/betting-glossary-common-betting-terms\"}}}],\"a\":{\"root\":\"chalk\"}},{\"l\":{\"t\":\"College Sports\",\"w\":{\"a\":{\"icon\":\"pennant\"},\"h\":\"/college-sports/\"}},\"t\":\"College Sports\",\"i\":[{\"l\":{\"t\":\"Home\",\"w\":{\"h\":\"/college-sports/\"}}},{\"l\":{\"t\":\"Scores\",\"w\":{\"a\":{\"mobile\":\"false\"},\"h\":\"http://www.espn.com/college-sports/scoreboard\"},\"m\":{\"a\":{\"mobile\":\"true\"},\"h\":\"http://m.espn.com/extra/ncaa/scoreboard\"}}},{\"l\":{\"t\":\"NCAA Championships\",\"w\":{\"a\":{\"mobile\":\"false\"},\"h\":\"http://www.espn.com/ncaa/feature/video/_/id/5810542/ncaa-championships\"}}},{\"l\":{\"t\":\"Capital One Cup\",\"w\":{\"h\":\"http://www.espn.com/espn/caponecup/\"}}},{\"l\":{\"t\":\"Rankings\",\"w\":{\"a\":{\"mobile\":\"false\"},\"h\":\"http://www.espn.com/ncaa/ranking\"}}},{\"l\":{\"t\":\"More\",\"w\":{\"a\":{\"placeholder\":\"more\",\"breakpoints\":\"tablet\"},\"h\":\"#\"}}},{\"l\":{\"t\":\"Transactions\",\"w\":{\"a\":{\"mobile\":\"false\"},\"h\":\"http://www.espn.com/ncaa/transactions\"}}},{\"l\":{\"t\":\"RN Football\",\"w\":{\"a\":{\"mobile\":\"false\"},\"h\":\"http://www.espn.com/college-football/recruiting/\"}}},{\"l\":{\"t\":\"RN Basketball\",\"w\":{\"a\":{\"mobile\":\"false\"},\"h\":\"http://www.espn.com/college-sports/basketball/recruiting/index\"}}},{\"l\":{\"t\":\"Tickets\",\"w\":{\"e\":true,\"h\":\"http://www.vividseats.com/ncaa?wsUser=717&wsVar=NCAAindexnav\"}}}],\"a\":{\"root\":\"ncaa\",\"sport_id\":\"3170\"}},{\"l\":{\"t\":\"Cricket\",\"w\":{\"e\":true,\"a\":{\"icon\":\"cricket\"},\"h\":\"https://www.espncricinfo.com/\"}},\"t\":\"Cricket\",\"i\":[{\"l\":{\"t\":\"Cricket Home\",\"w\":{\"e\":true,\"h\":\"http://www.espncricinfo.com/\"}}}],\"a\":{\"root\":\"cricket\",\"sport_id\":\"200\"}},{\"l\":{\"t\":\"esports\",\"w\":{\"a\":{\"icon\":\"esports\"},\"h\":\"/esports/\"}},\"t\":\"esports\",\"i\":[{\"l\":{\"t\":\"Home\",\"w\":{\"a\":{\"breakpoints\":\"desktop,desktop-lg,mobile,tablet\"},\"h\":\"/esports/\"}}},{\"l\":{\"t\":\"Esports Calendar\",\"w\":{\"h\":\"https://www.espn.com/esports/story/_/id/28141230/esports-calendar-top-events-league-legends-overwatch-counter-strike-battle-royale-more\"}}},{\"l\":{\"t\":\"League of Legends\",\"w\":{\"h\":\"https://www.espn.com/esports/story/_/id/28050294/2019-league-legends-free-agency-news-rumors-rosters \"}}},{\"l\":{\"t\":\"Overwatch\",\"w\":{\"h\":\"http://www.espn.com/esports/story/_/page/overwatchrostersseason2/overwatch-league-teams-rosters-schedules-more-season-2\"}}},{\"l\":{\"t\":\"ESPN Esports YouTube\",\"w\":{\"e\":true,\"h\":\"http://www.youtube.com/espnesports\"}}},{\"l\":{\"t\":\"Tickets\",\"w\":{\"e\":true,\"h\":\"http://www.vividseats.com/sports/other/?wsUser=717&wsVar=Esportsindexnav\"}}},{\"l\":{\"t\":\"More\",\"w\":{\"a\":{\"placeholder\":\"more\",\"breakpoints\":\"mobile\"},\"h\":\"#\"}}}],\"a\":{\"root\":\"esports\",\"sport_id\":\"8367\"}},{\"l\":{\"t\":\"F1\",\"w\":{\"a\":{\"icon\":\"nascar\"},\"h\":\"/f1/\"}},\"t\":\"F1\",\"i\":[{\"l\":{\"t\":\"Home\",\"w\":{\"h\":\"/f1/\"}}},{\"l\":{\"t\":\"TV Schedule (US)\",\"w\":{\"h\":\"/f1/story/_/id/26082657/espn-f1-tv-broadcast-schedule-2019\"}}},{\"l\":{\"t\":\"Calendar & Results\",\"w\":{\"a\":{\"route\":\"false\"},\"h\":\"/f1/schedule\"}}},{\"l\":{\"t\":\"Races\",\"w\":{\"h\":\"/f1/story/_/id/26143556/2019-formula-1-season-races\"}},\"t\":\"Races\"},{\"l\":{\"t\":\"More\",\"w\":{\"a\":{\"placeholder\":\"more\",\"breakpoints\":\"mobile\"},\"h\":\"#\"}}},{\"l\":{\"t\":\"Standings\",\"w\":{\"a\":{\"match-url\":\"/standings/\",\"route\":\"false\"},\"h\":\"/f1/standings\"}},\"t\":\"Standings\"},{\"l\":{\"t\":\"Teams\",\"w\":{\"h\":\"/f1/story/_/id/14642695/all-formula-1-teams\"}},\"t\":\"Teams\"},{\"l\":{\"t\":\"Drivers\",\"w\":{\"h\":\"/f1/story/_/id/18842142/2019-formula-1-season-drivers\"}},\"t\":\"Drivers\"},{\"l\":{\"t\":\"Circuits\",\"w\":{\"h\":\"http://en.espn.co.uk/f1/motorsport/circuit/index.html?season=2019\"}}},{\"l\":{\"t\":\"Stats & Records\",\"w\":{\"a\":{\"mobile\":\"false\"},\"h\":\"http://en.espn.co.uk/f1/motorsport/season/index.html\"}},\"t\":\"Stats & Records\"},{\"l\":{\"t\":\"About F1\",\"w\":{\"h\":\"/f1/story/_/id/13715980/about-formula-1\"}}}],\"a\":{\"root\":\"f1\",\"sport_id\":\"2030\"}},{\"l\":{\"t\":\"Golf\",\"w\":{\"a\":{\"icon\":\"golf\"},\"h\":\"/golf/\"}},\"t\":\"Golf\",\"i\":[{\"l\":{\"t\":\"Home\",\"w\":{\"a\":{\"breakpoints\":\"desktop,desktop-lg,mobile,tablet\"},\"h\":\"/golf/\"}}},{\"l\":{\"t\":\"News\",\"w\":{\"a\":{\"tab\":\"2\",\"pagetype\":\"index\",\"breakpoints\":\"tablet\"},\"h\":\"/golf/index?tab=2\"}}},{\"l\":{\"t\":\"Scores \",\"w\":{\"a\":{\"route\":\"false\"},\"h\":\"/golf/leaderboard\"}}},{\"l\":{\"t\":\"Schedule\",\"w\":{\"a\":{\"route\":\"false\"},\"h\":\"/golf/schedule\"}}},{\"l\":{\"t\":\"Rankings\",\"w\":{\"a\":{\"route\":\"false\"},\"h\":\"/golf/rankings\"}}},{\"l\":{\"t\":\"Standings\",\"w\":{\"a\":{\"route\":\"false\"},\"h\":\"/golf/standings\"}}},{\"l\":{\"t\":\"More\",\"w\":{\"a\":{\"placeholder\":\"more\",\"breakpoints\":\"mobile\"},\"h\":\"#\"}}},{\"l\":{\"t\":\"Stats\",\"w\":{\"a\":{\"mobile\":\"false\"},\"h\":\"http://www.espn.com/golf/leaders\"},\"m\":{\"a\":{\"mobile\":\"true\"},\"h\":\"http://m.espn.com/golf/leagueleaders\"}}},{\"l\":{\"t\":\"Players\",\"w\":{\"a\":{\"mobile\":\"false\"},\"h\":\"http://www.espn.com/golf/players\"}}},{\"l\":{\"t\":\"Masters.com\",\"w\":{\"e\":true,\"h\":\"http://www.masters.com/\"}}},{\"l\":{\"t\":\"FedEx Cup\",\"w\":{\"a\":{\"mobile\":\"false\"},\"h\":\"http://www.espn.com/golf/statistics/_/sort/cupPoints\"}}},{\"l\":{\"t\":\"Tickets\",\"w\":{\"e\":true,\"h\":\"http://www.vividseats.com/pga-golf?wsUser=717&wsVar=Golfindexnav\"}}}],\"a\":{\"root\":\"golf\",\"sport_id\":\"1100\"}},{\"l\":{\"t\":\"Horse Racing\",\"w\":{\"a\":{\"icon\":\"equestrian\"},\"h\":\"/horse-racing/\"}},\"t\":\"Horse Racing\",\"i\":[{\"l\":{\"t\":\"Home\",\"w\":{\"h\":\"/horse-racing/\"}}},{\"l\":{\"t\":\"Tickets\",\"w\":{\"a\":{\"mobile\":\"false\"},\"h\":\"http://www.vividseats.com/sports/horse-racing?wsUser=717&wsVar=Horseracingindexnav\"}}}],\"a\":{\"root\":\"horse\",\"sport_id\":\"1200\"}},{\"l\":{\"t\":\"Little League World Series\",\"w\":{\"a\":{\"icon\":\"baseball\"},\"h\":\"/little-league-world-series/\"}},\"i\":[{\"l\":{\"t\":\"Home\",\"w\":{\"h\":\"/little-league-world-series/\"}}},{\"l\":{\"t\":\"Scores\",\"w\":{\"e\":true,\"h\":\"https://gc.com/tmt/summer-2019/little-league-baseball-world-series-2019-5d0d185121cb90002195a5da\"}}},{\"l\":{\"t\":\"Schedule\",\"w\":{\"e\":true,\"h\":\"https://www.littleleague.org/world-series/2019/llbws/tournaments/world-series/?utm_source=espn website&utm_medium=link&utm_campaign=2019 llbws schedule\"}}}],\"a\":{\"root\":\"little-league-world-series\"}},{\"l\":{\"t\":\"MLB\",\"w\":{\"h\":\"/mlb/\"}},\"t\":\"MLB\",\"i\":[{\"l\":{\"t\":\"Home\",\"w\":{\"a\":{\"breakpoints\":\"desktop,desktop-lg,mobile\"},\"h\":\"/mlb/\"}}},{\"l\":{\"t\":\"Home\",\"w\":{\"a\":{\"tab\":\"2\",\"pagetype\":\"index\",\"breakpoints\":\"tablet\"},\"h\":\"/mlb/index?tab=2\"}}},{\"l\":{\"t\":\"Offseason\",\"w\":{\"a\":{\"mobile\":\"false\"},\"h\":\"https://www.espn.com/mlb/story/_/id/27929517/mlb-offseason-complete-coverage-free-agency-trades-more\"}}},{\"l\":{\"t\":\"Free Agency\",\"w\":{\"a\":{\"mobile\":\"false\"},\"h\":\"http://www.espn.com/mlb/freeagents\"}}},{\"l\":{\"t\":\"Scores\",\"w\":{\"h\":\"/mlb/scoreboard\"}}},{\"l\":{\"t\":\"Schedule\",\"w\":{\"h\":\"/mlb/schedule\"}}},{\"l\":{\"t\":\"Standings\",\"w\":{\"a\":{\"match-url\":\"/standings/\",\"route\":\"false\"},\"h\":\"/mlb/standings\"}}},{\"l\":{\"t\":\"Stats\",\"w\":{\"a\":{\"mobile\":\"false\"},\"h\":\"http://www.espn.com/mlb/statistics\"},\"m\":{\"a\":{\"mobile\":\"true\"},\"h\":\"http://m.espn.com/mlb/leagueleaders\"}}},{\"l\":{\"t\":\"Teams\",\"w\":{\"a\":{\"sportAbbrev\":\"mlb\",\"route\":\"false\"},\"h\":\"/mlb/teams\"}}},{\"l\":{\"t\":\"Players\",\"w\":{\"a\":{\"mobile\":\"false\"},\"h\":\"http://www.espn.com/mlb/players\"}}},{\"l\":{\"t\":\"Tickets\",\"w\":{\"e\":true,\"h\":\"https://www.vividseats.com/mlb-baseball/?wsUser=717&wsVar=QUICKLINKS\"}}},{\"l\":{\"t\":\"Transactions\",\"w\":{\"a\":{\"mobile\":\"false\"},\"h\":\"http://www.espn.com/mlb/transactions\"},\"m\":{\"a\":{\"mobile\":\"true\"},\"h\":\"http://m.espn.com/mlb/transactions\"}}},{\"l\":{\"t\":\"More\",\"w\":{\"a\":{\"placeholder\":\"more\",\"breakpoints\":\"mobile\"},\"h\":\"#\"}}},{\"l\":{\"t\":\"Power Rankings\",\"w\":{\"h\":\"https://www.espn.com/mlb/story/_/id/27911627/way-too-early-2020-power-rankings-nationals-stay-top\"}}},{\"l\":{\"t\":\"Injuries\",\"w\":{\"a\":{\"mobile\":\"false\"},\"h\":\"http://www.espn.com/mlb/injuries\"}}},{\"l\":{\"t\":\"All-Time Stats\",\"w\":{\"a\":{\"mobile\":\"false\"},\"h\":\"http://www.espn.com/mlb/history\"}}},{\"l\":{\"t\":\"Hall of Fame\",\"w\":{\"h\":\"http://www.espn.com/mlb/story/_/id/25626943/2019-baseball-hall-fame\"}}}],\"a\":{\"root\":\"mlb\",\"sport_id\":\"10\"}},{\"l\":{\"t\":\"NASCAR\",\"w\":{\"a\":{\"icon\":\"nascar\"},\"h\":\"/racing/nascar/\"}},\"t\":\"NASCAR\",\"i\":[{\"l\":{\"t\":\"Home\",\"w\":{\"a\":{\"breakpoints\":\"desktop,desktop-lg,mobile,tablet\"},\"h\":\"/racing/nascar/\"}}},{\"l\":{\"t\":\"News\",\"w\":{\"a\":{\"tab\":\"2\",\"pagetype\":\"index\",\"breakpoints\":\"tablet\"},\"h\":\"/nascar/index?tab=2\"}}},{\"l\":{\"t\":\"Racing Home\",\"w\":{\"h\":\"/racing/\"}}},{\"l\":{\"t\":\"More\",\"w\":{\"a\":{\"placeholder\":\"more\",\"breakpoints\":\"mobile\"},\"h\":\"#\"}}},{\"l\":{\"t\":\"Results\",\"m\":{\"a\":{\"mobile\":\"true\"},\"h\":\"http://m.espn.com/rpm/nascar/eventresult?seriesId=2\"}}},{\"l\":{\"t\":\"Schedule\",\"m\":{\"a\":{\"mobile\":\"true\"},\"h\":\"http://m.espn.com/rpm/nascar/eventschedule\"}}},{\"l\":{\"t\":\"Standings\",\"m\":{\"a\":{\"mobile\":\"true\"},\"h\":\"http://m.espn.com/rpm/nascar/standings\"}}},{\"l\":{\"t\":\"Cup Series\",\"w\":{\"a\":{\"mobile\":\"false\"},\"h\":\"\"}}},{\"l\":{\"t\":\"Standings\",\"w\":{\"a\":{\"mobile\":\"false\"},\"h\":\"http://www.espn.com/racing/standings\"}}},{\"l\":{\"t\":\"Results\",\"w\":{\"a\":{\"mobile\":\"false\"},\"h\":\"http://www.espn.com/racing/results\"}}},{\"l\":{\"t\":\"Schedule\",\"w\":{\"a\":{\"mobile\":\"false\"},\"h\":\"http://www.espn.com/racing/schedule\"}}},{\"l\":{\"t\":\"More\",\"w\":{\"a\":{\"placeholder\":\"more\",\"breakpoints\":\"tablet\"},\"h\":\"#\"}}},{\"l\":{\"t\":\"Drivers\",\"w\":{\"a\":{\"mobile\":\"false\"},\"h\":\"http://www.espn.com/racing/drivers\"}}},{\"l\":{\"t\":\"Xfinity Schedule\",\"w\":{\"a\":{\"mobile\":\"false\"},\"h\":\"http://www.espn.com/racing/schedule/_/series/nationwide\"}}},{\"l\":{\"t\":\"Gander Outdoors Truck Schedule\",\"w\":{\"a\":{\"mobile\":\"false\"},\"h\":\"http://www.espn.com/racing/schedule/_/series/camping\"}}},{\"l\":{\"t\":\"Tickets\",\"w\":{\"e\":true,\"a\":{\"mobile\":\"false\"},\"h\":\"https://www.vividseats.com/nascar-racing?wsUser=717&wsVar=Nascarindexnav\"}}}],\"a\":{\"root\":\"nascar\",\"sport_id\":\"2020\"}},{\"l\":{\"t\":\"NBA G League\",\"w\":{\"h\":\"/nba-g-league/\"}},\"t\":\"NBA G League\",\"i\":[{\"l\":{\"t\":\"Home\",\"w\":{\"h\":\"/nba-g-league/\"}}},{\"l\":{\"t\":\"Scores\",\"w\":{\"h\":\"/nba-g-league/scoreboard\"}}},{\"l\":{\"t\":\"Schedule\",\"w\":{\"h\":\"/nba-g-league/schedule\"}}},{\"l\":{\"t\":\"Standings\",\"w\":{\"a\":{\"route\":\"false\"},\"h\":\"/nba-g-league/standings\"}}}],\"a\":{\"root\":\"nba-development\",\"sport\":\"basketball\",\"sport_id\":\"69\"}},{\"l\":{\"t\":\"NCAAW\",\"w\":{\"a\":{\"icon\":\"basketball\"},\"h\":\"/womens-college-basketball/\"}},\"t\":\"NCAAW\",\"i\":[{\"l\":{\"t\":\"Home\",\"w\":{\"h\":\"/womens-college-basketball/\"}}},{\"l\":{\"t\":\"Scores\",\"w\":{\"h\":\"/womens-college-basketball/scoreboard\"}}},{\"l\":{\"t\":\"Schedule\",\"w\":{\"h\":\"/womens-college-basketball/schedule\"}}},{\"l\":{\"t\":\"Rankings\",\"w\":{\"a\":{\"route\":\"false\"},\"h\":\"/womens-college-basketball/rankings\"}}},{\"l\":{\"t\":\"Standings\",\"w\":{\"a\":{\"route\":\"false\"},\"h\":\"/womens-college-basketball/standings\"}}},{\"l\":{\"t\":\"Stats\",\"w\":{\"a\":{\"mobile\":\"false\"},\"h\":\"http://www.espn.com/womens-college-basketball/statistics\"},\"m\":{\"a\":{\"mobile\":\"true\"},\"h\":\"http://m.espn.com/ncw/aggregates\"}}},{\"l\":{\"t\":\"Teams\",\"w\":{\"a\":{\"route\":\"false\"},\"h\":\"/womens-college-basketball/teams\"}}},{\"l\":{\"t\":\"Recruiting\",\"w\":{\"a\":{\"mobile\":\"false\"},\"h\":\"http://www.espn.com/high-school/girls-basketball/recruiting/rankings/_/class/2020\"}},\"t\":\"Recruiting\"},{\"l\":{\"t\":\"More\",\"w\":{\"a\":{\"placeholder\":\"more\",\"breakpoints\":\"mobile\"},\"h\":\"#\"}}}],\"a\":{\"root\":\"ncaaw\",\"sport_id\":\"54\"}},{\"l\":{\"t\":\"NHL\",\"w\":{\"h\":\"/nhl/\"}},\"t\":\"NHL\",\"i\":[{\"l\":{\"t\":\"Home\",\"w\":{\"a\":{\"breakpoints\":\"desktop,desktop-lg,mobile,tablet\"},\"h\":\"/nhl/\"}}},{\"l\":{\"t\":\"News\",\"w\":{\"a\":{\"tab\":\"2\",\"pagetype\":\"index\",\"breakpoints\":\"tablet\"},\"h\":\"/nhl/index?tab=2\"}}},{\"l\":{\"t\":\"Scores\",\"w\":{\"a\":{\"route\":\"false\"},\"h\":\"/nhl/scoreboard\"}}},{\"l\":{\"t\":\"Schedule\",\"w\":{\"a\":{\"route\":\"false\"},\"h\":\"/nhl/schedule\"}}},{\"l\":{\"t\":\"Standings\",\"w\":{\"a\":{\"route\":\"false\"},\"h\":\"/nhl/standings\"}}},{\"l\":{\"t\":\"Stats\",\"w\":{\"a\":{\"mobile\":\"false\"},\"h\":\"http://www.espn.com/nhl/statistics\"},\"m\":{\"a\":{\"mobile\":\"true\"},\"h\":\"http://m.espn.com/nhl/leagueleaders\"}}},{\"l\":{\"t\":\"Teams\",\"w\":{\"a\":{\"sportAbbrev\":\"nhl\",\"route\":\"false\"},\"h\":\"/nhl/teams\"}}},{\"l\":{\"t\":\"Tickets\",\"w\":{\"e\":true,\"h\":\"http://www.vividseats.com/nhl-hockey?wsUser=717&wsVar=NHLindexnav\"}}},{\"l\":{\"t\":\"Power Rankings\",\"w\":{\"h\":\"https://www.espn.com/nhl/story/_/id/28170426/nhl-power-rankings-1-31-poll-plus-do-buy-sell-team-current-playoff-status\"}}},{\"l\":{\"t\":\"Transactions\",\"w\":{\"a\":{\"mobile\":\"false\"},\"h\":\"http://www.espn.com/nhl/transactions\"},\"m\":{\"a\":{\"mobile\":\"true\"},\"h\":\"http://m.espn.com/nhl/transactions\"}}},{\"l\":{\"t\":\"More\",\"w\":{\"a\":{\"placeholder\":\"more\",\"breakpoints\":\"mobile\"},\"h\":\"#\"}}},{\"l\":{\"t\":\"Injuries\",\"w\":{\"h\":\"http://www.espn.com/nhl/injuries\"}}},{\"l\":{\"t\":\"Daily Lines\",\"w\":{\"a\":{\"mobile\":\"false\"},\"h\":\"http://www.espn.com/nhl/lines\"}}},{\"l\":{\"t\":\"Attendance\",\"w\":{\"a\":{\"mobile\":\"false\"},\"h\":\"http://www.espn.com/nhl/attendance\"}}},{\"l\":{\"t\":\"RPI\",\"w\":{\"a\":{\"mobile\":\"false\"},\"h\":\"http://www.espn.com/nhl/stats/rpi\"}}},{\"l\":{\"t\":\"Subscribe to NHL.TV\",\"w\":{\"e\":true,\"h\":\"https://subscribe.nhl.com/us?partnerId=NHLTV-ESPNCOM-MENUMORE-PROSP-NHL-NA-1\"}}}],\"a\":{\"root\":\"nhl\",\"sport_id\":\"90\"}},{\"l\":{\"t\":\"Olympic Sports\",\"w\":{\"a\":{\"icon\":\"olympics\"},\"h\":\"/olympics/\"}},\"t\":\"Olympic Sports\",\"i\":[{\"l\":{\"t\":\"Home\",\"w\":{\"h\":\"/olympics/\"}}},{\"l\":{\"t\":\"Sports\",\"w\":{\"h\":\"/olympics/winter/2018/sports\"}},\"t\":\"Winter Sports\",\"a\":{\"root\":\"olympics\",\"sport_id\":\"3700\"}}],\"a\":{\"root\":\"olympics\",\"sport_id\":\"3700\"}},{\"l\":{\"t\":\"Racing\",\"w\":{\"a\":{\"icon\":\"nascar\"},\"h\":\"/racing/\"}},\"t\":\"Racing\",\"i\":[{\"l\":{\"t\":\"Home\",\"w\":{\"h\":\"/racing/\"}}},{\"l\":{\"t\":\"More\",\"w\":{\"a\":{\"placeholder\":\"more\",\"breakpoints\":\"mobile\"},\"h\":\"#\"}}},{\"l\":{\"t\":\"NASCAR Home\",\"w\":{\"h\":\"/racing/nascar/\"}}},{\"l\":{\"t\":\"Results\",\"m\":{\"a\":{\"mobile\":\"true\"},\"h\":\"http://m.espn.com/rpm/eventresult?seriesId=1\"}}},{\"l\":{\"t\":\"Schedule\",\"m\":{\"a\":{\"mobile\":\"true\"},\"h\":\"http://m.espn.com/rpm/eventschedule\"}}},{\"l\":{\"t\":\"Standings\",\"m\":{\"a\":{\"mobile\":\"true\"},\"h\":\"http://m.espn.com/rpm/standings\"}}},{\"l\":{\"t\":\"IndyCar\",\"w\":{\"a\":{\"mobile\":\"false\"},\"h\":\"\"}}},{\"l\":{\"t\":\"Results\",\"w\":{\"a\":{\"mobile\":\"false\"},\"h\":\"http://www.espn.com/racing/results/_/series/indycar\"}}},{\"l\":{\"t\":\"Schedule\",\"w\":{\"a\":{\"mobile\":\"false\"},\"h\":\"http://www.espn.com/racing/schedule/_/series/indycar\"}}},{\"l\":{\"t\":\"Standings\",\"w\":{\"a\":{\"mobile\":\"false\"},\"h\":\"http://www.espn.com/racing/standings/_/series/irl\"}}},{\"l\":{\"t\":\"Drivers\",\"w\":{\"a\":{\"mobile\":\"false\"},\"h\":\"http://www.espn.com/racing/drivers/_/series/indycar\"}}},{\"l\":{\"t\":\"F1\",\"w\":{\"a\":{\"mobile\":\"false\"},\"h\":\"\"}}},{\"l\":{\"t\":\"ESPNF1 Home\",\"w\":{\"h\":\"/f1/\"}}},{\"l\":{\"t\":\"Schedule & Results\",\"w\":{\"a\":{\"mobile\":\"false\"},\"h\":\"http://en.espn.co.uk/f1/motorsport/season/242226.html\"}}},{\"l\":{\"t\":\"Drivers\",\"w\":{\"h\":\"/f1/story/_/id/18842142/2018-formula-1-season-drivers\"}}},{\"l\":{\"t\":\"Teams\",\"w\":{\"h\":\"/f1/story/_/id/14642695/all-formula-1-teams\"}}},{\"l\":{\"t\":\"Tickets\",\"w\":{\"e\":true,\"h\":\"http://www.vividseats.com/sports/racing/?wsUser=717&wsVar=Motorsportsindexnav\"}}}],\"a\":{\"root\":\"racing\",\"sport_id\":\"2000\"}},{\"l\":{\"t\":\"Recruiting BB\",\"w\":{\"a\":{\"icon\":\"recruitingbb\"},\"h\":\"http://www.espn.com/college-sports/basketball/recruiting/\"}},\"t\":\"RecruitingBB\",\"i\":[{\"l\":{\"t\":\"Player Rankings\",\"w\":{\"h\":\"http://www.espn.com/college-sports/basketball/recruiting/playerrankings/_/view/espnu100\"}}},{\"l\":{\"t\":\"Transfer Rankings\",\"w\":{\"h\":\"http://www.espn.com/mens-college-basketball/story/_/id/26530279/college-basketball-transfer-rankings-2019-20-2020-21\"}}},{\"l\":{\"t\":\"Class Rankings\",\"w\":{\"p\":true,\"h\":\"http://insider.espn.com/college-sports/basketball/recruiting/classrankings\"}}},{\"l\":{\"t\":\"College Basketball\",\"w\":{\"h\":\"http://www.espn.com/mens-college-basketball/\"}}},{\"l\":{\"t\":\"RN Football Home\",\"w\":{\"h\":\"http://www.espn.com/college-sports/football/recruiting/index\"},\"m\":{\"a\":{\"mobile\":\"true\"},\"h\":\"http://m.espn.com/ncf/recruiting/\"}}}],\"a\":{\"root\":\"recruitingbb\"}},{\"l\":{\"t\":\"Recruiting FB\",\"w\":{\"a\":{\"icon\":\"recruitingfb\"},\"h\":\"http://www.espn.com/college-sports/football/recruiting/\"}},\"t\":\"Recruiting FB\",\"i\":[{\"l\":{\"t\":\"Player Rankings\",\"w\":{\"h\":\"http://www.espn.com/college-sports/football/recruiting/playerrankings/_/view/rn300\"}}},{\"l\":{\"t\":\"Class Rankings\",\"w\":{\"p\":true,\"h\":\"http://insider.espn.com/college-sports/football/recruiting/classrankings\"}}},{\"l\":{\"t\":\"Juco Rankings\",\"w\":{\"h\":\"http://www.espn.com/college-sports/football/recruiting/playerrankings/_/view/juco\"}}},{\"l\":{\"t\":\"College Football\",\"w\":{\"h\":\"http://www.espn.com/college-football/\"}}},{\"l\":{\"t\":\"RN Basketball\",\"w\":{\"h\":\"http://www.espn.com/college-sports/basketball/recruiting/index\"},\"m\":{\"a\":{\"mobile\":\"true\"},\"h\":\"http://m.espn.com/ncb/hotcorner?id=9003013\"}}}],\"a\":{\"root\":\"recruitingfb\"}},{\"l\":{\"t\":\"Rugby\",\"w\":{\"a\":{\"icon\":\"rugby\"},\"h\":\"/rugby/\"}},\"t\":\"Rugby\",\"i\":[{\"l\":{\"t\":\"Home\",\"w\":{\"h\":\"/rugby/\"}}},{\"l\":{\"t\":\"Fantasy Rugby\",\"w\":{\"h\":\"http://fantasyrugby.espn.co.uk\"}}},{\"l\":{\"t\":\"Scores\",\"w\":{\"a\":{\"route\":\"false\"},\"h\":\"/rugby/scoreboard\"}}},{\"l\":{\"t\":\"Fixtures & Results\",\"w\":{\"h\":\"/rugby/fixtures\"}},\"t\":\"Fixtures & Results\"},{\"l\":{\"t\":\"Tables\",\"w\":{\"h\":\"/rugby/table/_/league/267979\"}},\"t\":\"Tables\"},{\"l\":{\"t\":\"More\",\"w\":{\"a\":{\"placeholder\":\"more\",\"breakpoints\":\"mobile\"},\"h\":\"#\"}}},{\"l\":{\"t\":\"Tournaments\",\"w\":{\"h\":\"null/rugby/story/_/id/15269943/rugby-leagues-competitions\"}},\"t\":\"Tournaments\"},{\"l\":{\"t\":\"Countries\",\"w\":{\"h\":\"/rugby/story/_/id/15269945/rugby-national-teams\"}},\"t\":\"Countries\"},{\"l\":{\"t\":\"Players\",\"w\":{\"h\":\"http://en.espn.co.uk/scrum/rugby/player/index.html\"}}},{\"l\":{\"t\":\"Stats & Records\",\"w\":{\"h\":\"http://en.espn.co.uk/statsguru/rugby/stats/index.html\"}},\"t\":\"Stats & Records\"}],\"a\":{\"root\":\"rugby\",\"sport_id\":\"300\"}},{\"l\":{\"t\":\"Special Olympics\",\"w\":{\"h\":\"http://www.espn.com/specialolympics/\"}},\"t\":\"Special Olympics\",\"i\":[{\"l\":{\"t\":\"Home\",\"w\":{\"h\":\"http://www.espn.com/specialolympics/\"}}},{\"l\":{\"t\":\"50 Game Changers\",\"w\":{\"h\":\"http://www.espn.com/specialolympics/story/_/id/24274082/espn-features-50-game-changers-special-olympics-turn-50-years-old\"}}},{\"l\":{\"t\":\"Sign the Pledge\",\"w\":{\"h\":\"https://play.specialolympics.org/page/s/espninclude?source=2018pledge_ESPN_IR&utm_source=ESPN\"}}}],\"a\":{\"root\":\"specialolympics\"}},{\"l\":{\"t\":\"Tennis\",\"w\":{\"a\":{\"icon\":\"tennis\"},\"h\":\"/tennis/\"}},\"t\":\"Tennis\",\"i\":[{\"l\":{\"t\":\"Home\",\"w\":{\"a\":{\"breakpoints\":\"desktop,desktop-lg,mobile,tablet\"},\"h\":\"/tennis/\"}}},{\"l\":{\"t\":\"News\",\"w\":{\"a\":{\"tab\":\"2\",\"pagetype\":\"index\",\"breakpoints\":\"tablet\"},\"h\":\"/tennis/index?tab=2\"}}},{\"l\":{\"t\":\"Scores\",\"w\":{\"a\":{\"mobile\":\"false\"},\"h\":\"http://www.espn.com/tennis/dailyResults\"},\"m\":{\"a\":{\"mobile\":\"true\"},\"h\":\"http://m.espn.com/general/tennis/dailyresults\"}}},{\"l\":{\"t\":\"Schedule\",\"w\":{\"a\":{\"route\":\"false\"},\"h\":\"/tennis/schedule\"}}},{\"l\":{\"t\":\"Rankings\",\"w\":{\"a\":{\"route\":\"false\"},\"h\":\"/tennis/rankings\"}}},{\"l\":{\"t\":\"Bracket\",\"w\":{\"h\":\"http://www.espn.com/tennis/bracket/_/tournamentId/189/type/1\"}}},{\"l\":{\"t\":\"More\",\"w\":{\"a\":{\"placeholder\":\"more\",\"breakpoints\":\"mobile\"},\"h\":\"#\"}}},{\"l\":{\"t\":\"US Open\",\"w\":{\"h\":\"https://www.espn.com/tennis/story/_/id/27440510/us-open-2019-tournament-schedule-news-live-scores-results\"}}},{\"l\":{\"t\":\"Players\",\"w\":{\"a\":{\"mobile\":\"false\"},\"h\":\"http://www.espn.com/tennis/players\"}}},{\"l\":{\"t\":\"Grand Slam History\",\"w\":{\"a\":{\"mobile\":\"false\"},\"h\":\"http://www.espn.com/tennis/history\"}}},{\"l\":{\"t\":\"Tickets\",\"w\":{\"e\":true,\"a\":{\"nofollow\":\"true\"},\"h\":\"http://www.vividseats.com/sports/tennis?wsUser=717&wsVar=Tennisindexnav\"}}}],\"a\":{\"root\":\"tennis\",\"sport_id\":\"850\"}},{\"l\":{\"t\":\"WNBA\",\"w\":{\"a\":{\"icon\":\"basketball\"},\"h\":\"/wnba/\"}},\"t\":\"WNBA\",\"i\":[{\"l\":{\"t\":\"Home\",\"w\":{\"h\":\"/wnba/\"}}},{\"l\":{\"t\":\"Scores\",\"w\":{\"h\":\"/wnba/scoreboard\"}}},{\"l\":{\"t\":\"Teams\",\"w\":{\"h\":\"http://www.espn.com/wnba/teams\"}}},{\"l\":{\"t\":\"Stats\",\"w\":{\"a\":{\"mobile\":\"false\"},\"h\":\"/wnba/statistics\"}}},{\"l\":{\"t\":\"Standings\",\"w\":{\"a\":{\"route\":\"false\"},\"h\":\"/wnba/standings\"}}},{\"l\":{\"t\":\"Schedule\",\"w\":{\"a\":{\"mobile\":\"false\"},\"h\":\"/wnba/schedule\"}}},{\"l\":{\"t\":\"Tickets\",\"w\":{\"e\":true,\"h\":\"http://www.vividseats.com/sports/basketball/?wsUser=717&wsVar=WomenBKBindexnav\"}}}],\"a\":{\"root\":\"wnba\",\"sport_id\":\"59\"}},{\"l\":{\"t\":\"WWE\",\"w\":{\"h\":\"/wwe/\"}},\"t\":\"WWE\",\"i\":[{\"l\":{\"t\":\"Home\",\"w\":{\"a\":{\"breakpoints\":\"desktop,desktop-lg,mobile,tablet\"},\"h\":\"/wwe/\"}}},{\"l\":{\"t\":\"Survivor Series\",\"w\":{\"h\":\"http://www.espn.com/wwe/story/_/id/21143640/wwe-survivor-series-results-pay-per-view-news-stories-match-card-information\"}}},{\"l\":{\"t\":\"Schedule\",\"w\":{\"h\":\"/wwe/story/_/id/17227408/wwe-live-televised-events-schedule-monday-night-raw-smackdown-live-pay-per-views\"}}},{\"l\":{\"t\":\"Wrestler profiles\",\"w\":{\"h\":\"/wwe/story/_/id/17217806/wwe-superstars-landing-page\"}}},{\"l\":{\"t\":\"Power Rankings\",\"w\":{\"h\":\"https://www.espn.com/wwe/story/_/id/27257645/wwe-power-rankings-kevin-owens-show-not-no-1-yet\"}}},{\"l\":{\"t\":\"Cheap Heat podcast\",\"w\":{\"h\":\"http://www.espn.com/espnradio/podcast/archive/_/id/10116533\"}}},{\"l\":{\"t\":\"Title watch\",\"w\":{\"h\":\"/wwe/story/_/id/17241989/wwe-title-watch-ranking-top-contenders-title-wwe\"}}},{\"l\":{\"t\":\"WWE title history\",\"w\":{\"h\":\"/wwe/story/_/id/17222526/active-wwe-titles-their-historical-lineage\"}}},{\"l\":{\"t\":\"Tickets\",\"w\":{\"e\":true,\"h\":\"https://www.vividseats.com/wwe?wsUser=717&wsVar=WWEindexnav\"}}}],\"a\":{\"root\":\"wwe\",\"sport_id\":\"1652\"}},{\"l\":{\"t\":\"X Games\",\"w\":{\"e\":true,\"a\":{\"icon\":\"xgames\"},\"h\":\"http://xgames.com/\"}},\"t\":\"X Games\",\"i\":[{\"l\":{\"t\":\"Home\",\"w\":{\"e\":true,\"h\":\"http://xgames.com/\"}}},{\"l\":{\"t\":\"Aspen\",\"w\":{\"e\":true,\"h\":\"http://xgames.espn.com/xgames/aspen/\"}}},{\"l\":{\"t\":\"Sydney\",\"w\":{\"h\":\"http://xgames.espn.com/xgames/sydney/\"}}},{\"l\":{\"t\":\"Minneapolis\",\"w\":{\"e\":true,\"h\":\"http://xgames.espn.com/xgames/minneapolis/\"}}},{\"l\":{\"t\":\"Photos\",\"w\":{\"e\":true,\"h\":\"http://xgames.espn.com/xgames/photos/\"}}},{\"l\":{\"t\":\"Videos\",\"w\":{\"e\":true,\"h\":\"http://xgames.espn.com/xgames/video/\"}}},{\"l\":{\"t\":\"Athletes\",\"w\":{\"e\":true,\"h\":\"http://xgames.espn.com/xgames/athletes/\"}}},{\"l\":{\"t\":\"World of X\",\"w\":{\"e\":true,\"h\":\"http://www.xgames.com/home/article/25676306/espn-world-x-games-abc-2019-schedule\"}}}],\"a\":{\"root\":\"xgames\",\"sport_id\":\"8098\"}}]}],\"pillar\":[{\"l\":{\"t\":\"ESPN+\",\"w\":{\"a\":{\"logo\":\"espnplus\",\"eplustrack\":\"true\"},\"h\":\"http://www.espn.com/watch/espnplus/?om-navmethod=topnav\"}},\"t\":\"ESPN+\",\"i\":[{\"l\":{\"t\":\"ESPN+ Home\",\"w\":{\"a\":{\"logo\":\"espnplus\",\"eplustrack\":\"true\"},\"h\":\"http://www.espn.com/watch/espnplus/\"}}},{\"l\":{\"t\":\"Schedule\",\"w\":{\"a\":{\"eplustrack\":\"true\"},\"h\":\"http://www.espn.com/watch/schedule?type=upcoming&channel=ESPN_PLUS&om-navmethod=eplusnav\"}}},{\"l\":{\"t\":\"UFC 245: Usman vs. Covington\",\"w\":{\"a\":{\"icon\":\"mma\"},\"h\":\"https://plus.espn.com/ufc/ppv\"}}},{\"l\":{\"t\":\"NFL PrimeTime on ESPN+\",\"w\":{\"h\":\"https://www.espn.com/watch/series/a3b8be9f-604b-4423-9f47-d267a4a04cf7/nfl-primetime-on-espn-\"}}},{\"l\":{\"t\":\"Best of UFC\",\"w\":{\"a\":{\"icon\":\"mma\"},\"h\":\"http://www.espn.com/watch/series/98485c34-5490-4f9c-b176-599633cb589f/now-available-best-of-ufc\"}}},{\"l\":{\"t\":\"NFL on ESPN+\",\"w\":{\"p\":true,\"h\":\"https://www.espn.com/watch/series/cb15d25b-8401-4254-b3b2-c55605d3101b\"}}},{\"l\":{\"t\":\"ESPN+ Original Series\",\"w\":{\"h\":\"https://www.espn.com/watch/collections/19502/latest-series\"}}},{\"l\":{\"t\":\"College Basketball: Select games\",\"w\":{\"a\":{\"icon\":\"basketball\"},\"h\":\"https://www.espn.com/watch/collections/24920/college-bball-live-upcoming\"}}},{\"l\":{\"t\":\"Big 12 Now\",\"w\":{\"a\":{\"icon\":\"football-college\"},\"h\":\"http://www.espn.com/watch/catalog/0ce3542e-d057-4001-80aa-1d9649289920\"}}},{\"l\":{\"t\":\"NHL: Select games\",\"w\":{\"h\":\"https://www.espn.com/watch/catalog/1a5f0227-a13e-396c-8cea-8961bc288666\"}}},{\"l\":{\"t\":\"Serie A\",\"w\":{\"p\":true,\"h\":\"http://www.espn.com/watch/collections/22850/serie-a-live-upcoming\"}}},{\"l\":{\"t\":\"FA Cup: Second round\",\"w\":{\"a\":{\"icon\":\"soccer\"},\"h\":\"https://www.espn.com/watch/collections/26048/fa-cup-live-upcoming\"}}},{\"l\":{\"t\":\"30 for 30\",\"w\":{\"a\":{\"eplustrack\":\"true\"},\"h\":\"http://www.espn.com/watch/series/0514c1ad-efd1-4d3a-ad82-41ca579a94a2/30-for-30\"}}},{\"l\":{\"t\":\"Recommended Stories\",\"w\":{\"a\":{\"eplustrack\":\"true\"},\"h\":\"http://espn.com/insider\"}}}],\"a\":{\"root\":\"espnplus\"}},{\"l\":{\"t\":\"Watch\",\"w\":{\"h\":\"http://www.espn.com/watch/\"}},\"t\":\"Watch\",\"i\":[{\"l\":{\"t\":\"Home\",\"w\":{\"a\":{\"abbrev\":\"watch\",\"route\":\"false\"},\"h\":\"/watch/\"}}},{\"l\":{\"t\":\"ESPN+\",\"w\":{\"a\":{\"abbrev\":\"espnplus\",\"route\":\"false\"},\"h\":\"/watch/espnplus\"}}},{\"l\":{\"t\":\"Originals\",\"w\":{\"a\":{\"abbrev\":\"originals\",\"route\":\"false\"},\"h\":\"/watch/originals\"}}},{\"l\":{\"t\":\"Schedule & Replays\",\"w\":{\"a\":{\"abbrev\":\"sched\",\"route\":\"false\"},\"h\":\"/watch/schedule/\"}}},{\"l\":{\"t\":\"Apps\",\"w\":{\"a\":{\"abbrev\":\"apps\",\"route\":\"false\"},\"h\":\"http://www.espn.com/app\"}}},{\"l\":{\"t\":\"Don't Have ESPN?\",\"w\":{\"h\":\"https://es.pn/instantaccess\"}}},{\"l\":{\"t\":\"ESPN Help Center\",\"w\":{\"a\":{\"abbrev\":\"faqs\",\"route\":\"false\"},\"h\":\"https://support.espn.com/hc/en-us\"}}}],\"a\":{\"root\":\"watch\"}},{\"l\":{\"t\":\"Listen\",\"w\":{\"h\":\"http://www.espn.com/espnradio/index\"}},\"t\":\"Listen\",\"i\":[{\"l\":{\"t\":\"ESPN Radio\",\"w\":{\"a\":{\"mobile\":\"false\"},\"h\":\"http://espn.go.com/espnradio/index\"},\"m\":{\"a\":{\"mobile\":\"true\"},\"h\":\"http://m.espn.com/general/espnradio/\"}}},{\"l\":{\"t\":\"Listen Live\",\"w\":{\"a\":{\"mobile\":\"false\"},\"h\":\"http://www.espn.com/espnradio/play?s=espn\"},\"m\":{\"a\":{\"mobile\":\"true\"},\"h\":\"http://m.espn.go.com/general/espnradio\"}}},{\"l\":{\"t\":\"ESPN Daily\",\"w\":{\"a\":{\"mobile\":\"false\"},\"h\":\"http://www.espn.com/espn/story/_/id/27852002/the-espn-daily-podcast-how-watch-episode-guide-more\"}}},{\"l\":{\"t\":\"Podcasts\",\"w\":{\"a\":{\"mobile\":\"false\"},\"h\":\"http://www.espn.com/espnradio/podcast/index\"},\"m\":{\"a\":{\"mobile\":\"true\"},\"h\":\"http://m.espn.go.com/general/podcenter\"}}}]},{\"l\":{\"t\":\"Fantasy\",\"w\":{\"a\":{\"logo\":\"fantasy\",\"icon\":\"fantasy\"},\"h\":\"/fantasy/\"}},\"t\":\"Fantasy\",\"i\":[{\"l\":{\"t\":\"Fantasy Home\",\"w\":{\"a\":{\"mobile\":\"false\"},\"h\":\"/fantasy/\"},\"m\":{\"a\":{\"mobile\":\"true\"},\"h\":\"http://m.espn.com/general/fantasy/\"}}},{\"l\":{\"t\":\"Capital One Bowl Mania\",\"w\":{\"h\":\"http://fantasy.espn.com/college-bowl-mania/2019/en/game\"}}},{\"l\":{\"t\":\"Football\",\"w\":{\"a\":{\"abbrev\":\"ffl\"},\"h\":\"http://www.espn.com/fantasy/football/\"}}},{\"l\":{\"t\":\"Baseball\",\"w\":{\"a\":{\"abbrev\":\"flb\"},\"h\":\"http://www.espn.com/fantasy/baseball/\"}}},{\"l\":{\"t\":\"Basketball\",\"w\":{\"a\":{\"abbrev\":\"fba\"},\"h\":\"http://www.espn.com/fantasy/basketball/\"}}},{\"l\":{\"t\":\"Hockey\",\"w\":{\"a\":{\"abbrev\":\"fhl\"},\"h\":\"http://www.espn.com/fantasy/hockey/\"}}},{\"l\":{\"t\":\"Fantasy Soccer\",\"w\":{\"e\":true,\"h\":\"http://fantasyfc.espn.com/us/12/clienthome.do\"}}},{\"l\":{\"t\":\"Streak\",\"w\":{\"h\":\"http://fantasy.espn.com/streak/en/\"}}},{\"l\":{\"t\":\"College Pick'em\",\"w\":{\"a\":{\"icon\":\"football-college\"},\"h\":\"http://fantasy.espn.com/college-football-pickem/2019/en/\"}}},{\"l\":{\"t\":\"Pigskin Pick'em\",\"w\":{\"h\":\"http://fantasy.espn.com/nfl-pigskin-pickem/2019/en/\"}}},{\"l\":{\"t\":\"Eliminator Challenge\",\"w\":{\"h\":\"http://fantasy.espn.com/nfl-eliminator-challenge/2019/en/\"}}},{\"t\":\"Fantasy\",\"a\":{\"placeholder\":\"fantasy-teams\"}},{\"l\":{\"t\":\"My Teams\",\"w\":{\"a\":{\"tab\":\"1\",\"pagetype\":\"index\",\"breakpoints\":\"mobile\"},\"h\":\"/fantasy/?tab=1\"}}}],\"a\":{\"root\":\"fantasy\"}},{\"l\":{\"t\":\"More ESPN\",\"w\":{\"h\":\"#\"}},\"t\":\"More\",\"i\":[{\"l\":{\"w\":{\"a\":{\"class\":\"cities\"},\"h\":\"#\"}},\"t\":\"Locals\",\"i\":[{\"l\":{\"t\":\"Locals\",\"w\":{\"a\":{\"class\":\"header-title\"},\"h\":\"\"}}},{\"l\":{\"t\":\"Boston\",\"w\":{\"h\":\"/boston/\"}}},{\"l\":{\"t\":\"Chicago\",\"w\":{\"h\":\"/chicago/\"}}},{\"l\":{\"t\":\"Cleveland\",\"w\":{\"h\":\"/cleveland/\"}}},{\"l\":{\"t\":\"Dallas\",\"w\":{\"h\":\"/dallas/\"}}},{\"l\":{\"t\":\"Los Angeles\",\"w\":{\"h\":\"/los-angeles/\"}}},{\"l\":{\"t\":\"New York\",\"w\":{\"h\":\"/new-york/\"}}},{\"l\":{\"t\":\"Wisconsin\",\"w\":{\"h\":\"/milwaukee/\"}}},{\"l\":{\"t\":\"Misc\",\"w\":{\"a\":{\"class\":\"header-title\"},\"h\":\"\"}}},{\"l\":{\"t\":\"ESPYS\",\"w\":{\"h\":\"http://www.espn.com/espys\"}}},{\"l\":{\"t\":\"Music\",\"w\":{\"h\":\"http://www.espn.com/blog/music\"}}}],\"a\":{\"menu\":\"cities\"}},{\"l\":{\"w\":{\"a\":{\"class\":\"header-title\"},\"h\":\"#\"}},\"t\":\"Editions\",\"i\":[{\"l\":{\"t\":\"Editions\",\"w\":{\"a\":{\"class\":\"header-title\"},\"h\":\"\"}}},{\"l\":{\"t\":\"Ecuador\",\"w\":{\"a\":{\"edition-link\":\"espn-es-ec\",\"edition-view\":\"espn-es-ec\",\"region\":\"sa\",\"flag\":\"ecu\"},\"h\":\"http://www.espn.com/?country-view=ec&lang-view=es\"}}},{\"l\":{\"t\":\"Uruguay\",\"w\":{\"a\":{\"edition-link\":\"espn-es-uy\",\"edition-view\":\"espn-es-uy\",\"region\":\"sa\",\"flag\":\"uru\"},\"h\":\"http://www.espn.com/?country-view=uy&lang-view=es\"}}},{\"l\":{\"t\":\"Costa Rica\",\"w\":{\"a\":{\"edition-link\":\"espn-es-cr\",\"edition-view\":\"espn-es-cr\",\"region\":\"ca\",\"flag\":\"crc\"},\"h\":\"http://www.espn.com/?country-view=cr&lang-view=es\"}}},{\"l\":{\"t\":\"Guatemala\",\"w\":{\"a\":{\"edition-link\":\"espn-es-gt\",\"edition-view\":\"espn-es-gt\",\"region\":\"ca\",\"flag\":\"gua\"},\"h\":\"http://www.espn.com/?country-view=gt&lang-view=es\"}}},{\"l\":{\"t\":\"Panama\",\"w\":{\"a\":{\"edition-link\":\"espn-es-pa\",\"edition-view\":\"espn-es-pa\",\"region\":\"ca\",\"flag\":\"pan\"},\"h\":\"http://www.espn.com/?country-view=pa&lang-view=es\"}}},{\"l\":{\"t\":\"Dominican Republic\",\"w\":{\"a\":{\"edition-link\":\"espn-es-do\",\"edition-view\":\"espn-es-do\",\"region\":\"ca\",\"flag\":\"dom\"},\"h\":\"http://www.espn.com/?country-view=do&lang-view=es\"}}},{\"l\":{\"t\":\"US\",\"w\":{\"a\":{\"edition-link\":\"espn-en-us\",\"edition-view\":\"espn-en-us\",\"region\":\"na\",\"flag\":\"usa\"},\"h\":\"http://www.espn.com/?country-view=us&lang-view=en\"}}},{\"l\":{\"t\":\"Global\",\"w\":{\"a\":{\"edition-link\":\"espn-en-ww\",\"edition-view\":\"espn-en-ww\",\"region\":\"ww\"},\"h\":\"http://www.espn.com/?country-view=ww&lang-view=en\"}}},{\"l\":{\"t\":\"Africa\",\"w\":{\"a\":{\"edition-link\":\"espn-en-za\",\"edition-view\":\"espn-en-za\",\"region\":\"af\",\"flag\":\"rsa\"},\"h\":\"http://www.espn.com/?country-view=za&lang-view=en\"}}},{\"l\":{\"t\":\"Argentina\",\"w\":{\"a\":{\"edition-link\":\"espn-es-ar\",\"edition-view\":\"espn-es-ar\",\"region\":\"sa\",\"flag\":\"arg\"},\"h\":\"http://www.espn.com/?country-view=ar&lang-view=es\"}}},{\"l\":{\"t\":\"Venezuela\",\"w\":{\"a\":{\"edition-link\":\"espn-es-ve\",\"edition-view\":\"espn-es-ve\",\"region\":\"sa\",\"flag\":\"ven\"},\"h\":\"http://www.espn.com/?country-view=ve&lang-view=es\"}}},{\"l\":{\"t\":\"Australia\",\"w\":{\"a\":{\"edition-link\":\"espn-en-au\",\"edition-view\":\"espn-en-au\",\"region\":\"oc\",\"flag\":\"aus\"},\"h\":\"http://www.espn.com/?country-view=au&lang-view=en\"}}},{\"l\":{\"t\":\"Brazil\",\"w\":{\"a\":{\"edition-link\":\"espn-pt-br\",\"edition-view\":\"espn-pt-br\",\"region\":\"sa\",\"flag\":\"bra\"},\"h\":\"http://www.espn.com/?country-view=br&lang-view=pt\"}}},{\"l\":{\"t\":\"Chile\",\"w\":{\"a\":{\"edition-link\":\"espn-es-cl\",\"edition-view\":\"espn-es-cl\",\"region\":\"sa\",\"flag\":\"chi\"},\"h\":\"http://www.espn.com/?country-view=cl&lang-view=es\"}}},{\"l\":{\"t\":\"Colombia\",\"w\":{\"a\":{\"edition-link\":\"espn-es-co\",\"edition-view\":\"espn-es-co\",\"region\":\"sa\",\"flag\":\"col\"},\"h\":\"http://www.espn.com/?country-view=co&lang-view=es\"}}},{\"l\":{\"t\":\"ESPN Deportes\",\"w\":{\"a\":{\"edition-link\":\"espn-es-us\",\"edition-view\":\"espn-es-us\",\"region\":\"na\",\"flag\":\"usa\"},\"h\":\"http://www.espn.com/?country-view=us&lang-view=es\"}}},{\"l\":{\"t\":\"India\",\"w\":{\"a\":{\"edition-link\":\"espnin-en\",\"edition-view\":\"espn-en-in\",\"region\":\"as\",\"flag\":\"ind\"},\"h\":\"https://www.espn.com/?country-view=in&lang-view=en\"}}},{\"l\":{\"t\":\"Mexico\",\"w\":{\"a\":{\"edition-link\":\"espn-es-mx\",\"edition-view\":\"espn-es-mx\",\"region\":\"na\",\"flag\":\"mex\"},\"h\":\"http://www.espn.com/?country-view=mx&lang-view=es\"}}},{\"l\":{\"t\":\"Peru\",\"w\":{\"a\":{\"edition-link\":\"espn-es-pe\",\"edition-view\":\"espn-es-pe\",\"region\":\"sa\",\"flag\":\"per\"},\"h\":\"http://www.espn.com/?country-view=pe&lang-view=es\"}}},{\"l\":{\"t\":\"Philippines\",\"w\":{\"a\":{\"edition-link\":\"espn-en-ph\",\"edition-view\":\"espn-en-ph\",\"region\":\"as\",\"flag\":\"phi\"},\"h\":\"http://www.espn.com/?country-view=ph&lang-view=en\"}}},{\"l\":{\"t\":\"Singapore\",\"w\":{\"a\":{\"edition-link\":\"espn-en-sg\",\"edition-view\":\"espn-en-sg\",\"region\":\"as\",\"flag\":\"sgp\"},\"h\":\"https://www.espn.com/?country-view=sg&lang-view=en\"}}},{\"l\":{\"t\":\"UK\",\"w\":{\"a\":{\"edition-link\":\"espn-en-gb\",\"edition-view\":\"espn-en-gb\",\"region\":\"eu\",\"flag\":\"gbr\"},\"h\":\"http://www.espn.com/?country-view=uk&lang-view=en\"}}}],\"a\":{\"menu\":\"editions\"}},{\"l\":{\"t\":\"Affinity Sites\",\"w\":{\"h\":\"#\"},\"m\":{\"a\":{\"class\":\"header-title\",\"mobile\":\"true\"},\"h\":\"\"}},\"t\":\"Featured Links\",\"i\":[{\"l\":{\"t\":\"Affinity Sites\",\"m\":{\"a\":{\"class\":\"header-title\",\"mobile\":\"true\"},\"h\":\"\"}}},{\"l\":{\"t\":\"The Undefeated\",\"w\":{\"e\":true,\"a\":{\"logo\":\"undefeated\"},\"h\":\"http://theundefeated.com/\"}}},{\"l\":{\"t\":\"espnW\",\"w\":{\"a\":{\"logo\":\"espnw\"},\"h\":\"https://www.espn.com/espnw/\"}}},{\"l\":{\"t\":\"SEC Network\",\"w\":{\"e\":true,\"a\":{\"logo\":\"sec\"},\"h\":\"http://www.secsports.com/\"}}},{\"l\":{\"t\":\"Tickets\",\"w\":{\"e\":true,\"a\":{\"logo\":\"tickets\"},\"h\":\"http://www.vividseats.com?wsUser=717&wsVar=ESPNhpnav\"}}}],\"a\":{\"menu\":\"featured\"}},{\"l\":{\"w\":{\"h\":\"#\"}},\"t\":\"More ESPN\",\"i\":[{\"l\":{\"t\":\"Help\",\"w\":{\"h\":\"http://www.espn.com/espn/news/story?page=help-index\"}}},{\"l\":{\"t\":\"Report a Bug\",\"w\":{\"h\":\"http://proxy.espn.com/espn/bugs?url=http://www.espn.com/\"}}},{\"l\":{\"t\":\"Contact Us\",\"w\":{\"h\":\"http://www.espn.com/espn/news/story?page=contact-index\"}}},{\"l\":{\"t\":\"Corrections\",\"w\":{\"h\":\"http://www.espn.com/espn/corrections\"}}},{\"l\":{\"t\":\"Advertise on ESPN.com\",\"w\":{\"h\":\"http://www.espncms.com/Advertise-on-ESPN.aspx\"}}},{\"l\":{\"t\":\"Sales Media Kit\",\"w\":{\"h\":\"http://www.espncms.com/\"}}},{\"l\":{\"t\":\"Jobs at ESPN\",\"w\":{\"h\":\"http://espncareers.com/\"}}},{\"l\":{\"t\":\"ESPN Front Row\",\"w\":{\"h\":\"http://www.espnfrontrow.com/\"}}},{\"l\":{\"t\":\"ESPN Press Room\",\"w\":{\"h\":\"https://espnpressroom.com/us\"}}},{\"l\":{\"t\":\"Site Map\",\"w\":{\"h\":\"http://www.espn.com/espn/sitemap\"}}},{\"l\":{\"t\":\"Patents\",\"w\":{\"h\":\"http://www.espn.com/espn/news/story?page=patents\"}}},{\"l\":{\"t\":\"About Nielsen Measurement\",\"w\":{\"h\":\"http://www.nielsen.com/digitalprivacy\"}}},{\"l\":{\"t\":\"ESPN+ Subscriber Agreement\",\"w\":{\"h\":\"https://help.espnplus.com/hc/en-us/articles/360026126892-ESPN-Subscriber-Agreement\"}}},{\"l\":{\"t\":\"ESPN+ Partner Program\",\"w\":{\"e\":true,\"h\":\"https://plus.espn.com/partner-program?ex_cid=ESPN-partnerprogram-espnfooter-US-EN\"}}}],\"a\":{\"menu\":\"more-more\"}}]}],\"singleSport\":false},\"subNavigation\":{\"logo\":\"https://a.espncdn.com/combiner/i?img=/i/teamlogos/mlb/500/nym.png&w=80&h=80&cquality=40&scale=crop&location=origin&transparent=true\",\"href\":\"/mlb/team/_/name/nym\",\"text\":\"New York Mets\",\"items\":[{\"l\":{\"t\":\"Home\",\"w\":{\"h\":\"/mlb/team/_/name/nym\"}}},{\"l\":{\"t\":\"Stats\",\"w\":{\"a\":{\"route\":\"false\"},\"h\":\"/mlb/team/stats/_/name/nym\"}}},{\"l\":{\"t\":\"Schedule\",\"w\":{\"h\":\"/mlb/team/schedule/_/name/nym\"}}},{\"l\":{\"t\":\"Roster\",\"w\":{\"h\":\"/mlb/team/roster/_/name/nym\"}}},{\"l\":{\"t\":\"Depth Chart\",\"w\":{\"h\":\"/mlb/team/depth/_/name/nym\"}}},{\"l\":{\"t\":\"Splits\",\"w\":{\"a\":{\"route\":\"false\"},\"h\":\"/mlb/team/splits/_/name/nym\"}}},{\"l\":{\"t\":\"Injuries\",\"w\":{\"a\":{\"route\":\"false\"},\"h\":\"/mlb/team/injuries/_/name/nym\"}}},{\"l\":{\"t\":\"Transactions\",\"w\":{\"h\":\"/mlb/team/transactions/_/name/nym\"}}},{\"l\":{\"t\":\"Tickets\",\"w\":{\"e\":true,\"a\":{\"mobile\":\"false\"},\"h\":\"https://www.vividseats.com/mlb/new-york-mets-tickets.html?wsUser=717&wsVar=undefined~mlb~team,mlb,desktop,\"},\"m\":{\"e\":true,\"a\":{\"mobile\":\"true\"},\"h\":\"https://www.vividseats.com/mlb/new-york-mets-tickets.html?wsUser=717&wsVar=undefined~mlb~team,mlb,desktop,\"}}},{\"t\":\"More\",\"l\":{\"t\":\"More\",\"w\":{\"a\":{\"placeholder\":\"more\",\"breakpoints\":\"tablet\"},\"h\":\"#\"}},\"i\":[{\"l\":{\"t\":\"Fantasy Baseball\",\"w\":{\"a\":{\"mobile\":\"false\",\"isFantasy\":\"true\"},\"h\":\"http://www.espn.com/fantasy/baseball/?cid=flb2019_espn_teampages_nav\"}}}]}],\"hideAppSubNav\":true},\"headerscoreboard\":{\"isTopEvents\":false,\"isTopSoccer\":false,\"sportTopics\":[{\"league\":\"topEvents\",\"sportId\":0,\"displayName\":\"Top Events\",\"slug\":\"topevents\"},{\"league\":\"nfl\",\"sport\":\"football\",\"sportId\":28,\"displayName\":\"NFL\",\"href\":\"http://www.espn.com/nfl/scoreboard\",\"linkText\":\"Full Scoreboard &#187;\",\"top25Only\":true,\"slug\":\"nfl\"},{\"league\":\"mens-college-basketball\",\"sport\":\"basketball\",\"sportId\":41,\"displayName\":\"NCAAM\",\"href\":\"http://www.espn.com/mens-college-basketball/scoreboard\",\"linkText\":\"Full Scoreboard &#187;\",\"top25Only\":true,\"slug\":\"mens-college-basketball\"},{\"league\":\"uefa.champions\",\"sport\":\"soccer\",\"sportId\":775,\"displayName\":\"UCL\",\"href\":\"http://www.espn.com/soccer/scoreboard\",\"linkText\":\"Full Scoreboard &#187;\",\"top25Only\":true,\"slug\":\"uefa.champions\"},{\"league\":\"nba\",\"sport\":\"basketball\",\"sportId\":46,\"displayName\":\"NBA\",\"href\":\"http://www.espn.com/nba/scoreboard\",\"linkText\":\"Full Scoreboard &#187;\",\"top25Only\":true,\"slug\":\"nba\"},{\"league\":\"nhl\",\"sport\":\"hockey\",\"sportId\":90,\"displayName\":\"NHL\",\"href\":\"http://www.espn.com/nhl/scoreboard\",\"linkText\":\"Full Scoreboard &#187;\",\"top25Only\":true,\"slug\":\"nhl\"},{\"league\":\"womens-college-basketball\",\"sport\":\"basketball\",\"sportId\":54,\"displayName\":\"NCAAW\",\"href\":\"/womens-college-basketball/scoreboard\",\"linkText\":\"Full Scoreboard &#187;\",\"top25Only\":false,\"slug\":\"womens-college-basketball\"},{\"league\":\"mlb\",\"sport\":\"baseball\",\"sportId\":10,\"displayName\":\"MLB\",\"href\":\"http://www.espn.com/mlb/scoreboard\",\"linkText\":\"Full Scoreboard &#187;\",\"top25Only\":true,\"slug\":\"mlb\"},{\"league\":\"nba-development\",\"sport\":\"basketball\",\"sportId\":69,\"displayName\":\"NBA G League\",\"href\":\"http://www.espn.com/nba-g-league/scoreboard\",\"linkText\":\"Full Scoreboard &#187;\",\"top25Only\":true,\"slug\":\"nba-development\"},{\"league\":\"uefa.euroq\",\"sport\":\"soccer\",\"sportId\":3947,\"displayName\":\"Euro quals\",\"href\":\"http://www.espnfc.com/scores?cc=5901\",\"linkText\":\"Full Scoreboard &#187;\",\"top25Only\":true,\"slug\":\"uefa.euroq\"},{\"league\":\"eng.league_cup\",\"sport\":\"soccer\",\"sportId\":3920,\"displayName\":\"Carabao Cup\",\"href\":\"http://www.espn.com/soccer/scoreboard\",\"linkText\":\"Full Scoreboard &#187;\",\"top25Only\":true,\"slug\":\"eng.league_cup\"},{\"league\":\"ita.1\",\"sport\":\"soccer\",\"sportId\":730,\"displayName\":\"Serie A\",\"href\":\"http://www.espn.com/soccer/scoreboard\",\"linkText\":\"Full Scoreboard &#187;\",\"top25Only\":true,\"slug\":\"ita.1\"},{\"league\":\"eng.2\",\"sport\":\"soccer\",\"sportId\":3914,\"displayName\":\"Champ\",\"href\":\"/football/scoreboard?league=eng.2\",\"linkText\":\"Full Scoreboard &#187;\",\"top25Only\":true,\"slug\":\"eng.2\"},{\"league\":\"usa.1\",\"sport\":\"soccer\",\"sportId\":770,\"displayName\":\"MLS\",\"href\":\"http://www.espn.com/soccer/scoreboard\",\"linkText\":\"Full Scoreboard &#187;\",\"top25Only\":true,\"slug\":\"usa.1\"},{\"league\":\"ger.1\",\"sport\":\"soccer\",\"sportId\":720,\"displayName\":\"German Bundesliga\",\"href\":\"http://www.espn.com/soccer/scoreboard\",\"linkText\":\"Full Scoreboard &#187;\",\"top25Only\":true,\"slug\":\"ger.1\"},{\"league\":\"mex.1\",\"sport\":\"soccer\",\"sportId\":760,\"displayName\":\"Liga MX\",\"href\":\"http://www.espn.com/soccer/scoreboard?league=mex.1\",\"linkText\":\"Full Scoreboard &#187;\",\"top25Only\":true,\"slug\":\"mex.1\"},{\"league\":\"ned.1\",\"sport\":\"soccer\",\"sportId\":725,\"displayName\":\"Eredivisie\",\"href\":\"http://www.espn.com/soccer/scoreboard\",\"linkText\":\"Full Scoreboard &#187;\",\"top25Only\":true,\"slug\":\"ned.1\"},{\"league\":\"college-football\",\"sport\":\"football\",\"sportId\":23,\"displayName\":\"NCAAF\",\"href\":\"http://www.espn.com/college-football/scoreboard\",\"linkText\":\"Full Scoreboard &#187;\",\"top25Only\":false,\"slug\":\"college-football\"},{\"league\":\"eng.1\",\"sport\":\"soccer\",\"sportId\":700,\"displayName\":\"Prem\",\"href\":\"http://www.espn.com/soccer/scoreboard\",\"linkText\":\"Full Scoreboard &#187;\",\"top25Only\":true,\"slug\":\"eng.1\"},{\"league\":\"pga\",\"sport\":\"golf\",\"sportId\":1106,\"displayName\":\"Golf \",\"href\":\"http://www.espn.com/golf/leaderboard\",\"linkText\":\"Full Leaderboard &#187;\",\"top25Only\":true,\"slug\":\"pga\"},{\"league\":\"wta\",\"sport\":\"tennis\",\"sportId\":900,\"displayName\":\"Tennis (W)\",\"href\":\"http://www.espn.com/tennis/dailyResults\",\"linkText\":\"Full Results &#187;\",\"top25Only\":true,\"slug\":\"wta\"},{\"league\":\"atp\",\"sport\":\"tennis\",\"sportId\":851,\"displayName\":\"Tennis (M)\",\"href\":\"http://www.espn.com/tennis/dailyResults\",\"linkText\":\"Full Results &#187;\",\"top25Only\":true,\"slug\":\"atp\"},{\"league\":\"ufc\",\"sport\":\"mma\",\"sportId\":3321,\"displayName\":\"UFC\",\"href\":\"http://www.espn.com/mma/fightcenter\",\"linkText\":\"Fightcenter &#187;\",\"top25Only\":true,\"slug\":\"ufc\"},{\"league\":\"topSoccer\",\"sportId\":0,\"displayName\":\"Top Soccer\",\"href\":\"/soccer/scoreboard\",\"linkText\":\"Full Scoreboard &#187;\",\"slug\":\"topsoccer\"},{\"league\":\"f1\",\"sport\":\"racing\",\"sportId\":2030,\"displayName\":\"F1\",\"href\":\"http://www.espn.com/f1/schedule\",\"linkText\":\"Full results &#187;\",\"top25Only\":true,\"slug\":\"f1\"},{\"league\":\"friendly\",\"sport\":\"soccer\",\"sportId\":5336,\"displayName\":\"Men's Friendly\",\"href\":\"http://www.espn.com/soccer/scoreboard\",\"linkText\":\"Full Scoreboard &#187;\",\"top25Only\":true,\"slug\":\"friendly\"}],\"collegeConfs\":null},\"streampicker\":{},\"roster\":{\"metadata\":{\"year\":2019,\"type\":4,\"name\":\"Off Season\",\"headers\":[{\"type\":\"headshot\",\"shortDisplayName\":\"\",\"sortable\":false,\"sortDirection\":\"asc\",\"styles\":{\"minWidth\":\"40px\"}},{\"type\":\"lastName\",\"shortDisplayName\":\"Name\",\"sortable\":false,\"sortDirection\":\"asc\",\"styles\":{\"minWidth\":\"140px\"}},{\"type\":\"position\",\"shortDisplayName\":\"POS\",\"sortable\":false,\"sortDirection\":\"asc\",\"styles\":{\"minWidth\":\"40px\"}},{\"type\":\"bats\",\"shortDisplayName\":\"BAT\",\"sortable\":true,\"sortDirection\":\"asc\",\"styles\":{\"minWidth\":\"40px\"}},{\"type\":\"throws\",\"shortDisplayName\":\"THW\",\"sortable\":true,\"sortDirection\":\"asc\",\"styles\":{\"minWidth\":\"40px\"}},{\"type\":\"age\",\"shortDisplayName\":\"Age\",\"sortable\":true,\"sortDirection\":\"asc\",\"className\":\"column-width-small\",\"styles\":{\"minWidth\":\"40px\"}},{\"type\":\"height\",\"shortDisplayName\":\"HT\",\"sortable\":true,\"sortDirection\":\"asc\",\"styles\":{\"minWidth\":\"50px\"}},{\"type\":\"weight\",\"shortDisplayName\":\"WT\",\"sortable\":true,\"sortDirection\":\"asc\",\"styles\":{\"minWidth\":\"70px\"}},{\"type\":\"birthPlace\",\"shortDisplayName\":\"Birth Place\",\"styles\":{\"minWidth\":\"140px\"}}],\"hasHeadshotImage\":true,\"pageHeading\":\"New York Mets Roster\"},\"news\":{\"header\":\"MLB News\",\"link\":\"/mlb/\",\"text\":\"All MLB News\",\"articles\":[{\"headline\":\"What agent Scott Boras will say at the winter meetings -- and what it means\",\"description\":\"The game's most high-profile agent always shares his thoughts at the winter meetings. Here's how to read between the lines.\",\"link\":\"http://insider.espn.com/mlb/insider/story/_/id/28195666/what-agent-scott-boras-say-winter-meetings-means\",\"image\":\"https://a.espncdn.com/combiner/i?img=/photo/2019/1130/r635291_608x342_16-9.jpg&h=120\",\"images\":[{\"src\":\"https://a.espncdn.com/combiner/i?img=/photo/2019/1130/r635291_608x342_16-9.jpg&h=120\",\"alt\":\"What agent Scott Boras will say at the winter meetings -- and what it means\"}]},{\"headline\":\"Justin Bour agrees to play for Japan's Hanshin Tigers\",\"description\":\"Justin Bour, a 31-year-old first baseman who played for the Angels last season, has reached a basic agreement with the Hanshin Tigers of Japan's Central League.\",\"link\":\"/mlb/story/_/id/28191802/justin-bour-agrees-play-japan-hanshin-tigers\",\"image\":\"https://a.espncdn.com/combiner/i?img=/photo/2019/0415/r529294_2_600x400_3-2.jpg&h=120\",\"images\":[{\"src\":\"https://a.espncdn.com/combiner/i?img=/photo/2019/0415/r529294_2_600x400_3-2.jpg&h=120\",\"alt\":\"Justin Bour agrees to play for Japan's Hanshin Tigers\"}]},{\"headline\":\"Seymour Siwoff, longtime Elias Sports Bureau owner, dies at 99\",\"description\":\"Seymour Siwoff, who owned the Elias Sports Bureau for more than 70 years before selling it to his grandson in March 2018, died Friday at age 99.\",\"link\":\"/mlb/story/_/id/28190512/seymour-siwoff-long-elias-sports-bureau-owner-dies-99\",\"image\":\"https://a.espncdn.com/combiner/i?img=/photo/2015/0802/mlb_baseball_b1_600x400.jpg&h=120\",\"images\":[{\"src\":\"https://a.espncdn.com/combiner/i?img=/photo/2015/0802/mlb_baseball_b1_600x400.jpg&h=120\",\"alt\":\"Seymour Siwoff, longtime Elias Sports Bureau owner, dies at 99\"}]}]},\"coach\":{\"headline\":\"Coach:\",\"description\":\"Mickey Callaway\"},\"team\":{\"id\":\"21\",\"abbrev\":\"NYM\",\"displayName\":\"New York Mets\",\"shortDisplayName\":\"Mets\",\"logo\":\"https://a.espncdn.com/i/teamlogos/mlb/500/nym.png\",\"teamColor\":\"00407b\",\"altColor\":\"00407b\",\"uid\":\"s:1~l:10~t:21\",\"recordSummary\":\"86-76\",\"standingSummary\":\"3rd in NL East\",\"location\":\"New York\",\"links\":\"/mlb/team/_/name/nym/new-york-mets\"},\"teams\":[{\"label\":\"More MLB Teams\",\"hidden\":true,\"url\":\"/mlb/team/roster\"},{\"id\":\"29\",\"label\":\"Arizona Diamondbacks\",\"url\":\"/mlb/team/roster/_/name/ari/arizona-diamondbacks\"},{\"id\":\"15\",\"label\":\"Atlanta Braves\",\"url\":\"/mlb/team/roster/_/name/atl/atlanta-braves\"},{\"id\":\"1\",\"label\":\"Baltimore Orioles\",\"url\":\"/mlb/team/roster/_/name/bal/baltimore-orioles\"},{\"id\":\"2\",\"label\":\"Boston Red Sox\",\"url\":\"/mlb/team/roster/_/name/bos/boston-red-sox\"},{\"id\":\"16\",\"label\":\"Chicago Cubs\",\"url\":\"/mlb/team/roster/_/name/chc/chicago-cubs\"},{\"id\":\"4\",\"label\":\"Chicago White Sox\",\"url\":\"/mlb/team/roster/_/name/chw/chicago-white-sox\"},{\"id\":\"17\",\"label\":\"Cincinnati Reds\",\"url\":\"/mlb/team/roster/_/name/cin/cincinnati-reds\"},{\"id\":\"5\",\"label\":\"Cleveland Indians\",\"url\":\"/mlb/team/roster/_/name/cle/cleveland-indians\"},{\"id\":\"27\",\"label\":\"Colorado Rockies\",\"url\":\"/mlb/team/roster/_/name/col/colorado-rockies\"},{\"id\":\"6\",\"label\":\"Detroit Tigers\",\"url\":\"/mlb/team/roster/_/name/det/detroit-tigers\"},{\"id\":\"18\",\"label\":\"Houston Astros\",\"url\":\"/mlb/team/roster/_/name/hou/houston-astros\"},{\"id\":\"7\",\"label\":\"Kansas City Royals\",\"url\":\"/mlb/team/roster/_/name/kc/kansas-city-royals\"},{\"id\":\"3\",\"label\":\"Los Angeles Angels\",\"url\":\"/mlb/team/roster/_/name/laa/los-angeles-angels\"},{\"id\":\"19\",\"label\":\"Los Angeles Dodgers\",\"url\":\"/mlb/team/roster/_/name/lad/los-angeles-dodgers\"},{\"id\":\"28\",\"label\":\"Miami Marlins\",\"url\":\"/mlb/team/roster/_/name/mia/miami-marlins\"},{\"id\":\"8\",\"label\":\"Milwaukee Brewers\",\"url\":\"/mlb/team/roster/_/name/mil/milwaukee-brewers\"},{\"id\":\"9\",\"label\":\"Minnesota Twins\",\"url\":\"/mlb/team/roster/_/name/min/minnesota-twins\"},{\"id\":\"21\",\"label\":\"New York Mets\",\"url\":\"/mlb/team/roster/_/name/nym/new-york-mets\"},{\"id\":\"10\",\"label\":\"New York Yankees\",\"url\":\"/mlb/team/roster/_/name/nyy/new-york-yankees\"},{\"id\":\"11\",\"label\":\"Oakland Athletics\",\"url\":\"/mlb/team/roster/_/name/oak/oakland-athletics\"},{\"id\":\"22\",\"label\":\"Philadelphia Phillies\",\"url\":\"/mlb/team/roster/_/name/phi/philadelphia-phillies\"},{\"id\":\"23\",\"label\":\"Pittsburgh Pirates\",\"url\":\"/mlb/team/roster/_/name/pit/pittsburgh-pirates\"},{\"id\":\"25\",\"label\":\"San Diego Padres\",\"url\":\"/mlb/team/roster/_/name/sd/san-diego-padres\"},{\"id\":\"26\",\"label\":\"San Francisco Giants\",\"url\":\"/mlb/team/roster/_/name/sf/san-francisco-giants\"},{\"id\":\"12\",\"label\":\"Seattle Mariners\",\"url\":\"/mlb/team/roster/_/name/sea/seattle-mariners\"},{\"id\":\"24\",\"label\":\"St. Louis Cardinals\",\"url\":\"/mlb/team/roster/_/name/stl/st-louis-cardinals\"},{\"id\":\"30\",\"label\":\"Tampa Bay Rays\",\"url\":\"/mlb/team/roster/_/name/tb/tampa-bay-rays\"},{\"id\":\"13\",\"label\":\"Texas Rangers\",\"url\":\"/mlb/team/roster/_/name/tex/texas-rangers\"},{\"id\":\"14\",\"label\":\"Toronto Blue Jays\",\"url\":\"/mlb/team/roster/_/name/tor/toronto-blue-jays\"},{\"id\":\"20\",\"label\":\"Washington Nationals\",\"url\":\"/mlb/team/roster/_/name/wsh/washington-nationals\"}],\"groups\":[{\"name\":\"Pitchers\",\"athletes\":[{\"name\":\"Tyler Bashlor\",\"href\":\"http://www.espn.com/mlb/player/_/id/39808\",\"uid\":\"s:1~l:10~a:39808\",\"guid\":\"8f115bd6a723f82015a1da72de42096a\",\"id\":\"39808\",\"height\":\"6' 0\\\"\",\"weight\":\"197 lbs\",\"age\":26,\"position\":\"RP\",\"jersey\":\"49\",\"birthDate\":\"04/16/93\",\"headshot\":\"https://a.espncdn.com/i/headshots/mlb/players/full/39808.png\",\"lastName\":\"Tyler Bashlor\",\"experience\":1,\"college\":\"South Georgia State College\",\"birthPlace\":\"Springfield, GA\",\"bats\":\"R\",\"throws\":\"R\"},{\"name\":\"Edwin Diaz\",\"href\":\"http://www.espn.com/mlb/player/_/id/35394\",\"uid\":\"s:1~l:10~a:35394\",\"guid\":\"1483dd31f9d6ba755ca905210ae1cf00\",\"id\":\"35394\",\"height\":\"6' 3\\\"\",\"weight\":\"165 lbs\",\"age\":25,\"position\":\"RP\",\"jersey\":\"39\",\"birthDate\":\"03/22/94\",\"headshot\":\"https://a.espncdn.com/i/headshots/mlb/players/full/35394.png\",\"lastName\":\"Edwin Diaz\",\"experience\":3,\"birthPlace\":\"Naguabo, Puerto Rico\",\"bats\":\"R\",\"throws\":\"R\"},{\"name\":\"Jeurys Familia\",\"href\":\"http://www.espn.com/mlb/player/_/id/31687\",\"uid\":\"s:1~l:10~a:31687\",\"guid\":\"21c9ae60ad01107c7a25f9ab7d0a79a4\",\"id\":\"31687\",\"height\":\"6' 3\\\"\",\"weight\":\"240 lbs\",\"age\":30,\"position\":\"RP\",\"jersey\":\"27\",\"birthDate\":\"10/10/89\",\"headshot\":\"https://a.espncdn.com/i/headshots/mlb/players/full/31687.png\",\"lastName\":\"Jeurys Familia\",\"experience\":7,\"birthPlace\":\"Santo Domingo, Dominican Republic\",\"bats\":\"R\",\"throws\":\"R\"},{\"name\":\"Chris Flexen\",\"href\":\"http://www.espn.com/mlb/player/_/id/36067\",\"uid\":\"s:1~l:10~a:36067\",\"guid\":\"40d8c8c09e820cddccd1a0fe25822e3f\",\"id\":\"36067\",\"height\":\"6' 3\\\"\",\"weight\":\"235 lbs\",\"age\":25,\"position\":\"RP\",\"jersey\":\"64\",\"birthDate\":\"07/01/94\",\"headshot\":\"https://a.espncdn.com/i/headshots/mlb/players/full/36067.png\",\"lastName\":\"Chris Flexen\",\"experience\":2,\"birthPlace\":\"Newark, CA\",\"bats\":\"R\",\"throws\":\"R\"},{\"name\":\"Stephen Gonsalves\",\"href\":\"http://www.espn.com/mlb/player/_/id/33758\",\"uid\":\"s:1~l:10~a:33758\",\"guid\":\"0c12f93f0956c9bbea4b32dda68198cc\",\"id\":\"33758\",\"height\":\"6' 5\\\"\",\"weight\":\"213 lbs\",\"age\":25,\"position\":\"SP\",\"jersey\":\"59\",\"birthDate\":\"07/08/94\",\"headshot\":\"https://a.espncdn.com/i/headshots/mlb/players/full/33758.png\",\"lastName\":\"Stephen Gonsalves\",\"experience\":1,\"birthPlace\":\"San Diego, CA\",\"bats\":\"L\",\"throws\":\"L\"},{\"name\":\"Robert Gsellman\",\"href\":\"http://www.espn.com/mlb/player/_/id/34872\",\"uid\":\"s:1~l:10~a:34872\",\"guid\":\"6506e32587fc5b6184172b40aa485440\",\"id\":\"34872\",\"height\":\"6' 4\\\"\",\"weight\":\"205 lbs\",\"age\":26,\"position\":\"RP\",\"jersey\":\"65\",\"birthDate\":\"07/18/93\",\"headshot\":\"https://a.espncdn.com/i/headshots/mlb/players/full/34872.png\",\"lastName\":\"Robert Gsellman\",\"experience\":3,\"birthPlace\":\"Santa Monica, CA\",\"bats\":\"R\",\"throws\":\"R\"},{\"name\":\"Jordan Humphreys\",\"href\":\"http://www.espn.com/mlb/player/_/id/41011\",\"uid\":\"s:1~l:10~a:41011\",\"guid\":\"43142bd92a09ed36c2631a079df18346\",\"id\":\"41011\",\"height\":\"6' 2\\\"\",\"weight\":\"223 lbs\",\"age\":23,\"position\":\"SP\",\"jersey\":\"46\",\"birthDate\":\"06/11/96\",\"lastName\":\"Jordan Humphreys\",\"experience\":0,\"birthPlace\":\"Crystal River, FL\",\"bats\":\"R\",\"throws\":\"R\"},{\"name\":\"Franklyn Kilome\",\"href\":\"http://www.espn.com/mlb/player/_/id/33836\",\"uid\":\"s:1~l:10~a:33836\",\"guid\":\"2db6667ece47f1ccc9c02a168065b3c3\",\"id\":\"33836\",\"height\":\"6' 6\\\"\",\"weight\":\"175 lbs\",\"age\":24,\"position\":\"SP\",\"jersey\":\"66\",\"birthDate\":\"06/25/95\",\"headshot\":\"https://a.espncdn.com/i/headshots/mlb/players/full/33836.png\",\"lastName\":\"Franklyn Kilome\",\"experience\":0,\"birthPlace\":\"La Romana, Dominican Republic\",\"bats\":\"R\",\"throws\":\"R\"},{\"name\":\"Walker Lockett\",\"href\":\"http://www.espn.com/mlb/player/_/id/33293\",\"uid\":\"s:1~l:10~a:33293\",\"guid\":\"d38a3780b998f50dfd0cd5dd1e79de06\",\"id\":\"33293\",\"height\":\"6' 5\\\"\",\"weight\":\"225 lbs\",\"age\":25,\"position\":\"SP\",\"jersey\":\"61\",\"birthDate\":\"05/03/94\",\"headshot\":\"https://a.espncdn.com/i/headshots/mlb/players/full/33293.png\",\"lastName\":\"Walker Lockett\",\"experience\":1,\"birthPlace\":\"Jacksonville, FL\",\"bats\":\"R\",\"throws\":\"R\"},{\"name\":\"Seth Lugo\",\"href\":\"http://www.espn.com/mlb/player/_/id/34873\",\"uid\":\"s:1~l:10~a:34873\",\"guid\":\"701f498a81c2474245110c17889754e4\",\"id\":\"34873\",\"height\":\"6' 4\\\"\",\"weight\":\"225 lbs\",\"age\":30,\"position\":\"RP\",\"jersey\":\"67\",\"birthDate\":\"11/17/89\",\"headshot\":\"https://a.espncdn.com/i/headshots/mlb/players/full/34873.png\",\"lastName\":\"Seth Lugo\",\"experience\":3,\"college\":\"Centenary\",\"birthPlace\":\"Shreveport, LA\",\"bats\":\"R\",\"throws\":\"R\"},{\"name\":\"Steven Matz\",\"href\":\"http://www.espn.com/mlb/player/_/id/33106\",\"uid\":\"s:1~l:10~a:33106\",\"guid\":\"e167e4711f34193790a1cc2d460c62d2\",\"id\":\"33106\",\"height\":\"6' 2\\\"\",\"weight\":\"200 lbs\",\"age\":28,\"position\":\"SP\",\"jersey\":\"32\",\"birthDate\":\"05/29/91\",\"headshot\":\"https://a.espncdn.com/i/headshots/mlb/players/full/33106.png\",\"lastName\":\"Steven Matz\",\"experience\":4,\"birthPlace\":\"Stony Brook, NY\",\"bats\":\"R\",\"throws\":\"L\"},{\"name\":\"Chris Mazza\",\"href\":\"http://www.espn.com/mlb/player/_/id/37224\",\"uid\":\"s:1~l:10~a:37224\",\"guid\":\"beea492b28bee56cc5c3a5efe0710a25\",\"id\":\"37224\",\"height\":\"6' 4\\\"\",\"weight\":\"180 lbs\",\"age\":30,\"position\":\"RP\",\"jersey\":\"74\",\"birthDate\":\"10/17/89\",\"lastName\":\"Chris Mazza\",\"experience\":0,\"college\":\"Menlo\",\"birthPlace\":\"Walnut Creek, CA\",\"bats\":\"R\",\"throws\":\"R\"},{\"name\":\"Stephen Nogosek\",\"href\":\"http://www.espn.com/mlb/player/_/id/39707\",\"uid\":\"s:1~l:10~a:39707\",\"guid\":\"d511afe4b78c83d82f053cde36a03d75\",\"id\":\"39707\",\"height\":\"6' 1\\\"\",\"weight\":\"172 lbs\",\"age\":24,\"position\":\"RP\",\"jersey\":\"72\",\"birthDate\":\"01/11/95\",\"lastName\":\"Stephen Nogosek\",\"experience\":0,\"birthPlace\":\"Roseville, United States\",\"bats\":\"R\",\"throws\":\"R\"},{\"name\":\"Corey Oswalt\",\"href\":\"http://www.espn.com/mlb/player/_/id/39809\",\"uid\":\"s:1~l:10~a:39809\",\"guid\":\"95abae3e5e2a8d0ca34f9534be2b1cd8\",\"id\":\"39809\",\"height\":\"6' 5\\\"\",\"weight\":\"250 lbs\",\"age\":26,\"position\":\"RP\",\"jersey\":\"55\",\"birthDate\":\"09/03/93\",\"headshot\":\"https://a.espncdn.com/i/headshots/mlb/players/full/39809.png\",\"lastName\":\"Corey Oswalt\",\"experience\":1,\"birthPlace\":\"San Diego, CA\",\"bats\":\"R\",\"throws\":\"R\"},{\"name\":\"Jacob Rhame\",\"href\":\"http://www.espn.com/mlb/player/_/id/34235\",\"uid\":\"s:1~l:10~a:34235\",\"guid\":\"f40d0f4b50b9b2f9f4a865384f9cc5d1\",\"id\":\"34235\",\"height\":\"6' 1\\\"\",\"weight\":\"215 lbs\",\"age\":26,\"position\":\"RP\",\"jersey\":\"35\",\"birthDate\":\"03/16/93\",\"headshot\":\"https://a.espncdn.com/i/headshots/mlb/players/full/34235.png\",\"lastName\":\"Jacob Rhame\",\"experience\":2,\"college\":\"Texas State\",\"birthPlace\":\"Atlanta, GA\",\"bats\":\"R\",\"throws\":\"R\"},{\"name\":\"Paul Sewald\",\"href\":\"http://www.espn.com/mlb/player/_/id/35009\",\"uid\":\"s:1~l:10~a:35009\",\"guid\":\"e179142f059dd5276e69e1272adc733d\",\"id\":\"35009\",\"height\":\"6' 3\\\"\",\"weight\":\"207 lbs\",\"age\":29,\"position\":\"RP\",\"jersey\":\"51\",\"birthDate\":\"05/26/90\",\"headshot\":\"https://a.espncdn.com/i/headshots/mlb/players/full/35009.png\",\"lastName\":\"Paul Sewald\",\"experience\":2,\"college\":\"San Diego\",\"birthPlace\":\"Las Vegas, NV\",\"bats\":\"R\",\"throws\":\"R\"},{\"name\":\"Drew Smith\",\"href\":\"http://www.espn.com/mlb/player/_/id/39685\",\"uid\":\"s:1~l:10~a:39685\",\"guid\":\"9f22bb2f30a7f947d8ef874449f6e090\",\"id\":\"39685\",\"height\":\"6' 2\\\"\",\"weight\":\"188 lbs\",\"age\":26,\"position\":\"RP\",\"jersey\":\"62\",\"birthDate\":\"09/24/93\",\"headshot\":\"https://a.espncdn.com/i/headshots/mlb/players/full/39685.png\",\"lastName\":\"Drew Smith\",\"experience\":1,\"college\":\"Dallas Baptist Unive\",\"birthPlace\":\"Crowley, TX\",\"bats\":\"R\",\"throws\":\"R\"},{\"name\":\"Marcus Stroman\",\"href\":\"http://www.espn.com/mlb/player/_/id/32815\",\"uid\":\"s:1~l:10~a:32815\",\"guid\":\"87692385ba5c9311e1de37be499f26a9\",\"id\":\"32815\",\"height\":\"5' 7\\\"\",\"weight\":\"180 lbs\",\"age\":28,\"position\":\"SP\",\"jersey\":\"0\",\"birthDate\":\"05/01/91\",\"headshot\":\"https://a.espncdn.com/i/headshots/mlb/players/full/32815.png\",\"lastName\":\"Marcus Stroman\",\"experience\":4,\"college\":\"Duke\",\"birthPlace\":\"Medford, NY\",\"bats\":\"R\",\"throws\":\"R\"},{\"name\":\"Noah Syndergaard\",\"href\":\"http://www.espn.com/mlb/player/_/id/31730\",\"uid\":\"s:1~l:10~a:31730\",\"guid\":\"a8968311478dc292acd2559892d6b673\",\"id\":\"31730\",\"height\":\"6' 6\\\"\",\"weight\":\"240 lbs\",\"age\":27,\"position\":\"SP\",\"jersey\":\"34\",\"birthDate\":\"08/29/92\",\"headshot\":\"https://a.espncdn.com/i/headshots/mlb/players/full/31730.png\",\"lastName\":\"Noah Syndergaard\",\"experience\":4,\"birthPlace\":\"Mansfield, TX\",\"bats\":\"L\",\"throws\":\"R\"},{\"name\":\"Thomas Szapucki\",\"href\":\"http://www.espn.com/mlb/player/_/id/40972\",\"uid\":\"s:1~l:10~a:40972\",\"guid\":\"b0ec212c6912c1f00dcd40372c7c4094\",\"id\":\"40972\",\"height\":\"6' 2\\\"\",\"weight\":\"181 lbs\",\"age\":23,\"position\":\"SP\",\"birthDate\":\"06/12/96\",\"lastName\":\"Thomas Szapucki\",\"experience\":0,\"bats\":\"R\",\"throws\":\"L\"},{\"name\":\"Blake Michael Taylor\",\"href\":\"http://www.espn.com/mlb/player/_/id/42342\",\"uid\":\"s:1~l:10~a:42342\",\"guid\":\"e8d021e2-98db-388f-8874-ce8f5ca44c5b\",\"id\":\"42342\",\"height\":\"6' 3\\\"\",\"weight\":\"220 lbs\",\"age\":24,\"position\":\"SP\",\"jersey\":\"30\",\"birthDate\":\"08/17/95\",\"lastName\":\"Blake Michael Taylor\",\"experience\":0,\"birthPlace\":\"Mission Viejo, United States\",\"bats\":\"L\",\"throws\":\"L\"},{\"name\":\"Justin Wilson\",\"href\":\"http://www.espn.com/mlb/player/_/id/31026\",\"uid\":\"s:1~l:10~a:31026\",\"guid\":\"1ff641c7ac4b93f3d8debf59ff518c9c\",\"id\":\"31026\",\"height\":\"6' 2\\\"\",\"weight\":\"205 lbs\",\"age\":32,\"position\":\"RP\",\"jersey\":\"38\",\"birthDate\":\"08/18/87\",\"headshot\":\"https://a.espncdn.com/i/headshots/mlb/players/full/31026.png\",\"lastName\":\"Justin Wilson\",\"experience\":7,\"college\":\"Fresno State\",\"birthPlace\":\"Anaheim, CA\",\"bats\":\"L\",\"throws\":\"L\"},{\"name\":\"Daniel Zamora\",\"href\":\"http://www.espn.com/mlb/player/_/id/38019\",\"uid\":\"s:1~l:10~a:38019\",\"guid\":\"7e887bbe96a83b81e4bf5cba854d289a\",\"id\":\"38019\",\"height\":\"6' 2\\\"\",\"weight\":\"185 lbs\",\"age\":26,\"position\":\"RP\",\"jersey\":\"73\",\"birthDate\":\"04/15/93\",\"headshot\":\"https://a.espncdn.com/i/headshots/mlb/players/full/38019.png\",\"lastName\":\"Daniel Zamora\",\"experience\":1,\"birthPlace\":\"La Puente, CA\",\"bats\":\"L\",\"throws\":\"L\"},{\"name\":\"Jacob deGrom\",\"href\":\"http://www.espn.com/mlb/player/_/id/32796\",\"uid\":\"s:1~l:10~a:32796\",\"guid\":\"f17ac700ad8b0057ed5ba5199e7bad9a\",\"id\":\"32796\",\"height\":\"6' 4\\\"\",\"weight\":\"180 lbs\",\"age\":31,\"position\":\"SP\",\"jersey\":\"48\",\"birthDate\":\"06/19/88\",\"headshot\":\"https://a.espncdn.com/i/headshots/mlb/players/full/32796.png\",\"lastName\":\"Jacob deGrom\",\"experience\":5,\"college\":\"Stetson\",\"birthPlace\":\"DeLand, FL\",\"bats\":\"L\",\"throws\":\"R\"}]},{\"name\":\"Catchers\",\"athletes\":[{\"name\":\"Tomas Nido\",\"href\":\"http://www.espn.com/mlb/player/_/id/36068\",\"uid\":\"s:1~l:10~a:36068\",\"guid\":\"69c3d2276ae30dea4813eb1651801913\",\"id\":\"36068\",\"height\":\"6' 0\\\"\",\"weight\":\"210 lbs\",\"age\":25,\"position\":\"C\",\"jersey\":\"3\",\"birthDate\":\"04/12/94\",\"headshot\":\"https://a.espncdn.com/i/headshots/mlb/players/full/36068.png\",\"lastName\":\"Tomas Nido\",\"experience\":2,\"birthPlace\":\"Guaynabo, FL\",\"bats\":\"R\",\"throws\":\"R\"},{\"name\":\"Wilson Ramos\",\"href\":\"http://www.espn.com/mlb/player/_/id/30173\",\"uid\":\"s:1~l:10~a:30173\",\"guid\":\"f34497309a65fa9c69bb0d35df0208dd\",\"id\":\"30173\",\"height\":\"6' 1\\\"\",\"weight\":\"245 lbs\",\"age\":32,\"position\":\"C\",\"jersey\":\"40\",\"birthDate\":\"08/10/87\",\"headshot\":\"https://a.espncdn.com/i/headshots/mlb/players/full/30173.png\",\"lastName\":\"Wilson Ramos\",\"experience\":9,\"birthPlace\":\"Valencia, Venezuela\",\"bats\":\"R\",\"throws\":\"R\"},{\"name\":\"Ali Sánchez\",\"href\":\"http://www.espn.com/mlb/player/_/id/37537\",\"uid\":\"s:1~l:10~a:37537\",\"guid\":\"7acc52246b61b0d45b73c19656ddb39a\",\"id\":\"37537\",\"height\":\"6' 1\\\"\",\"weight\":\"200 lbs\",\"age\":22,\"position\":\"C\",\"jersey\":\"4\",\"birthDate\":\"01/20/97\",\"headshot\":\"https://a.espncdn.com/i/headshots/mlb/players/full/37537.png\",\"lastName\":\"Ali Sánchez\",\"experience\":0,\"birthPlace\":\"Carora, Venezuela\",\"bats\":\"R\",\"throws\":\"R\"}]},{\"name\":\"Infielders\",\"athletes\":[{\"name\":\"Pete Alonso\",\"href\":\"http://www.espn.com/mlb/player/_/id/37498\",\"uid\":\"s:1~l:10~a:37498\",\"guid\":\"33ba43fd9a280e5610125c9e5881a570\",\"id\":\"37498\",\"height\":\"6' 3\\\"\",\"weight\":\"245 lbs\",\"age\":24,\"position\":\"1B\",\"jersey\":\"20\",\"birthDate\":\"12/07/94\",\"headshot\":\"https://a.espncdn.com/i/headshots/mlb/players/full/37498.png\",\"lastName\":\"Pete Alonso\",\"experience\":0,\"college\":\"Florida\",\"birthPlace\":\"Tampa, FL\",\"bats\":\"R\",\"throws\":\"R\"},{\"name\":\"Robinson Cano\",\"href\":\"http://www.espn.com/mlb/player/_/id/6204\",\"uid\":\"s:1~l:10~a:6204\",\"guid\":\"7340f044c56ffa29526bee53de2118b7\",\"id\":\"6204\",\"height\":\"6' 0\\\"\",\"weight\":\"210 lbs\",\"age\":37,\"position\":\"2B\",\"jersey\":\"24\",\"birthDate\":\"10/22/82\",\"headshot\":\"https://a.espncdn.com/i/headshots/mlb/players/full/6204.png\",\"lastName\":\"Robinson Cano\",\"experience\":14,\"birthPlace\":\"San Pedro de Macoris, Dominican Republic\",\"bats\":\"L\",\"throws\":\"R\"},{\"name\":\"J.D. Davis\",\"href\":\"http://www.espn.com/mlb/player/_/id/33796\",\"uid\":\"s:1~l:10~a:33796\",\"guid\":\"ed0c3a6e640077f57baa3af689735d22\",\"id\":\"33796\",\"height\":\"6' 3\\\"\",\"weight\":\"225 lbs\",\"age\":26,\"position\":\"3B\",\"jersey\":\"28\",\"birthDate\":\"04/27/93\",\"headshot\":\"https://a.espncdn.com/i/headshots/mlb/players/full/33796.png\",\"lastName\":\"J.D. Davis\",\"experience\":2,\"college\":\"Cal State Fullerton\",\"birthPlace\":\"Elk Grove, CA\",\"bats\":\"R\",\"throws\":\"R\"},{\"name\":\"Andres Alfonso Gimenez\",\"href\":\"http://www.espn.com/mlb/player/_/id/37729\",\"uid\":\"s:1~l:10~a:37729\",\"guid\":\"dad72165d55bad3235dc4e9fd12f88a1\",\"id\":\"37729\",\"height\":\"6' 0\\\"\",\"weight\":\"125 lbs\",\"age\":21,\"position\":\"SS\",\"jersey\":\"72\",\"birthDate\":\"09/04/98\",\"headshot\":\"https://a.espncdn.com/i/headshots/mlb/players/full/37729.png\",\"lastName\":\"Andres Alfonso Gimenez\",\"experience\":0,\"birthPlace\":\"Barquisimeto, Venezuela\",\"bats\":\"L\",\"throws\":\"R\"},{\"name\":\"Luis Guillorme\",\"href\":\"http://www.espn.com/mlb/player/_/id/35149\",\"uid\":\"s:1~l:10~a:35149\",\"guid\":\"f86a3add37726c088f23fa42292a16a2\",\"id\":\"35149\",\"height\":\"5' 10\\\"\",\"weight\":\"195 lbs\",\"age\":25,\"position\":\"SS\",\"jersey\":\"13\",\"birthDate\":\"09/27/94\",\"headshot\":\"https://a.espncdn.com/i/headshots/mlb/players/full/35149.png\",\"lastName\":\"Luis Guillorme\",\"experience\":1,\"birthPlace\":\"Davie, FL\",\"bats\":\"L\",\"throws\":\"R\"},{\"name\":\"Sam Haggerty\",\"href\":\"http://www.espn.com/mlb/player/_/id/38347\",\"uid\":\"s:1~l:10~a:38347\",\"guid\":\"3b6459498790ce83327a2b6cd7f5030e\",\"id\":\"38347\",\"height\":\"5' 11\\\"\",\"weight\":\"175 lbs\",\"age\":25,\"position\":\"2B\",\"jersey\":\"19\",\"birthDate\":\"05/26/94\",\"headshot\":\"https://a.espncdn.com/i/headshots/mlb/players/full/38347.png\",\"lastName\":\"Sam Haggerty\",\"experience\":0,\"college\":\"New Mexico\",\"birthPlace\":\"Denver, CO\",\"bats\":\"B\",\"throws\":\"R\"},{\"name\":\"Jed Lowrie\",\"href\":\"http://www.espn.com/mlb/player/_/id/29074\",\"uid\":\"s:1~l:10~a:29074\",\"guid\":\"b27ce865a6f4fe51039d2e36c7c0f35a\",\"id\":\"29074\",\"height\":\"6' 0\\\"\",\"weight\":\"180 lbs\",\"age\":35,\"position\":\"2B\",\"jersey\":\"4\",\"birthDate\":\"04/17/84\",\"headshot\":\"https://a.espncdn.com/i/headshots/mlb/players/full/29074.png\",\"lastName\":\"Jed Lowrie\",\"experience\":11,\"college\":\"Stanford\",\"birthPlace\":\"Salem, OR\",\"bats\":\"B\",\"throws\":\"R\"},{\"name\":\"Amed Rosario\",\"href\":\"http://www.espn.com/mlb/player/_/id/33215\",\"uid\":\"s:1~l:10~a:33215\",\"guid\":\"bea59ed19ec5bb2a5de5229ac48b7395\",\"id\":\"33215\",\"height\":\"6' 2\\\"\",\"weight\":\"189 lbs\",\"age\":24,\"position\":\"SS\",\"jersey\":\"1\",\"birthDate\":\"11/20/95\",\"headshot\":\"https://a.espncdn.com/i/headshots/mlb/players/full/33215.png\",\"lastName\":\"Amed Rosario\",\"experience\":2,\"birthPlace\":\"Santo Domingo, Dominican Republic\",\"bats\":\"R\",\"throws\":\"R\"},{\"name\":\"Dominic Smith\",\"href\":\"http://www.espn.com/mlb/player/_/id/33218\",\"uid\":\"s:1~l:10~a:33218\",\"guid\":\"f0c2c1141817e40a2ce493ea718fccb4\",\"id\":\"33218\",\"height\":\"6' 0\\\"\",\"weight\":\"239 lbs\",\"age\":24,\"position\":\"1B\",\"jersey\":\"22\",\"birthDate\":\"06/15/95\",\"headshot\":\"https://a.espncdn.com/i/headshots/mlb/players/full/33218.png\",\"lastName\":\"Dominic Smith\",\"experience\":2,\"birthPlace\":\"Los Angeles, CA\",\"bats\":\"L\",\"throws\":\"L\"}]},{\"name\":\"Outfielders\",\"athletes\":[{\"name\":\"Yoenis Cespedes\",\"href\":\"http://www.espn.com/mlb/player/_/id/32080\",\"uid\":\"s:1~l:10~a:32080\",\"guid\":\"0baf59e3fa109be9f93b2547069ac9f5\",\"id\":\"32080\",\"height\":\"5' 10\\\"\",\"weight\":\"220 lbs\",\"age\":34,\"position\":\"LF\",\"jersey\":\"52\",\"birthDate\":\"10/18/85\",\"headshot\":\"https://a.espncdn.com/i/headshots/mlb/players/full/32080.png\",\"lastName\":\"Yoenis Cespedes\",\"experience\":7,\"birthPlace\":\"Holguin, Cuba\",\"bats\":\"R\",\"throws\":\"R\"},{\"name\":\"Michael Conforto\",\"href\":\"http://www.espn.com/mlb/player/_/id/33711\",\"uid\":\"s:1~l:10~a:33711\",\"guid\":\"94373990c2b380735e9f00d5bcc9e078\",\"id\":\"33711\",\"height\":\"6' 1\\\"\",\"weight\":\"215 lbs\",\"age\":26,\"position\":\"RF\",\"jersey\":\"30\",\"birthDate\":\"03/01/93\",\"headshot\":\"https://a.espncdn.com/i/headshots/mlb/players/full/33711.png\",\"lastName\":\"Michael Conforto\",\"experience\":4,\"college\":\"Oregon State\",\"birthPlace\":\"Seattle, WA\",\"bats\":\"L\",\"throws\":\"R\"},{\"name\":\"Jeff McNeil\",\"href\":\"http://www.espn.com/mlb/player/_/id/33900\",\"uid\":\"s:1~l:10~a:33900\",\"guid\":\"48c3e09e7d43c91977b8493369185b4f\",\"id\":\"33900\",\"height\":\"6' 1\\\"\",\"weight\":\"165 lbs\",\"age\":27,\"position\":\"LF\",\"jersey\":\"6\",\"birthDate\":\"04/08/92\",\"headshot\":\"https://a.espncdn.com/i/headshots/mlb/players/full/33900.png\",\"lastName\":\"Jeff McNeil\",\"experience\":1,\"college\":\"Long Beach State\",\"birthPlace\":\"Santa Barbara, CA\",\"bats\":\"L\",\"throws\":\"R\"},{\"name\":\"Brandon Nimmo\",\"href\":\"http://www.espn.com/mlb/player/_/id/32159\",\"uid\":\"s:1~l:10~a:32159\",\"guid\":\"2b690698f589368ff2166df6ffa1b5da\",\"id\":\"32159\",\"height\":\"6' 3\\\"\",\"weight\":\"207 lbs\",\"age\":26,\"position\":\"CF\",\"jersey\":\"9\",\"birthDate\":\"03/27/93\",\"headshot\":\"https://a.espncdn.com/i/headshots/mlb/players/full/32159.png\",\"lastName\":\"Brandon Nimmo\",\"experience\":3,\"birthPlace\":\"Cheyenne, WY\",\"bats\":\"L\",\"throws\":\"R\"}]},{\"name\":\"Designated Hitter\",\"athletes\":[]}]}},\"subType\":\"roster\",\"analytics\":{\"SWID\":\"\",\"UNID\":\"\",\"accountID\":\"wdgespcom\",\"site\":\"espn\",\"section\":\"mlb\",\"categories\":[\"mlb\",\"team\",\"roster\"],\"contentType\":\"roster\",\"channel\":\"\",\"pageName\":\"espn:mlb:team:roster\",\"gameInfo\":\"\",\"gameState\":\"\",\"userInfo\":{\"insider\":\"insider-no\",\"gender\":\"unknown\",\"premium\":\"premium-no\",\"year\":\"unknown\",\"regType\":\"unknown\",\"status\":\"anonymous\"},\"lang\":\"en\",\"country\":\"us\",\"countryRegion\":\"en-us\",\"pageURL\":\"/\",\"vendors\":[],\"teamName\":\"\",\"path\":\"/mlb/team/roster\",\"sport\":\"baseball\",\"league\":\"mlb\",\"siteSection\":\"espn\",\"playerTeamDetail\":\"mlb:teamId=21-new+york+mets\"},\"ads\":{\"level\":\"espn.com/mlb/team/roster\",\"kvps\":[{\"name\":\"pgtyp\",\"value\":\"roster\"},{\"name\":\"sp\",\"value\":\"mlb\"},{\"name\":\"ed\",\"value\":\"us\"},{\"name\":\"lang\",\"value\":\"en\"},{\"name\":\"tm\",\"value\":\"nym\"},{\"name\":\"league\",\"value\":\"mlb\"},{\"name\":\"darkmode\",\"value\":false}]},\"outbrain\":{\"id\":\"AR_19\",\"rightRailId\":\"AR_21\"},\"taboola\":{\"network\":\"espn-network\",\"webviewNetwork\":\"espnappsnetwork-espn\",\"mode\":\"thumbnails-3x2-a\",\"type\":\"other\",\"targetType\":\"mix\",\"right-rail\":{\"type\":\"other\",\"mode\":\"thumbnails-1x3\",\"targetType\":\"mix\"},\"pageTypeOverrides\":{\"article\":{\"mode\":\"thumbnails-3x1-a\",\"webviewMode\":\"thumbnails-2x1-ESPN\",\"type\":\"article\",\"targetType\":\"mix\"},\"preview\":{\"mode\":\"thumbnails-3x1-a\",\"webviewMode\":\"thumbnails-2x1-ESPN\",\"type\":\"article\",\"targetType\":\"mix\"},\"recap\":{\"mode\":\"thumbnails-3x1-a\",\"webviewMode\":\"thumbnails-2x1-ESPN\",\"type\":\"article\",\"targetType\":\"mix\"},\"gamepackage\":{\"mode\":\"thumbnails-3x1-b\",\"webviewMode\":\"thumbnails-2x2-ESPN\",\"type\":\"category\",\"targetType\":\"mix\"},\"longform\":{\"mode\":\"thumbnails-3x1-b\",\"type\":\"other\",\"targetType\":\"mix\"},\"clubhouse\":{\"mode\":\"thumbnails-1x3\",\"type\":\"other\",\"targetType\":\"mix\"},\"stats\":{\"mode\":\"thumbnails-3x2-a\",\"type\":\"other\",\"targetType\":\"mix\"}}},\"adProviders\":{\"gpt\":true,\"taboola\":true,\"video\":true}},\"request\":{\"headers\":{},\"httpVersion\":\"1.1\",\"method\":\"GET\",\"url\":\"/mlb/team/roster?name=nym\",\"vary\":{\"host\":\"www.espn.com\",\"cached\":true,\"path\":\"/mlb/team/roster\",\"forwarded-proto\":\"https\",\"device\":\"desktop\",\"country\":\"us\",\"edition\":\"espn-en-us\",\"edition-view\":\"espn-en-us\",\"dtcAuth\":\"no\",\"secure\":true}},\"viewport\":{\"width\":1260,\"height\":0,\"scrollX\":0,\"scrollY\":0}};</script>\n",
       "<script type=\"text/javascript\">__CDN_PATH__=\"//cdn1.espn.net/fitt/da3f9a28b7fa-release-11-20-2019.1/client\";</script><script src=\"//cdn1.espn.net/fitt/da3f9a28b7fa-release-11-20-2019.1/client/espnfitt.js\" type=\"text/javascript\"></script><script src=\"//cdn1.espn.net/fitt/da3f9a28b7fa-release-11-20-2019.1/client/espn-en.js\" type=\"text/javascript\"></script><script src=\"//cdn1.espn.net/fitt/da3f9a28b7fa-release-11-20-2019.1/client/team.roster.js\" type=\"text/javascript\"></script>\n",
       "</body>\n",
       "</html>"
      ]
     },
     "execution_count": 18,
     "metadata": {},
     "output_type": "execute_result"
    }
   ],
   "source": [
    "soup = BeautifulSoup(html) # Can specify the parser as 2nd argument, like BeautifulSoup(html, 'lxml')\n",
    "soup"
   ]
  },
  {
   "cell_type": "markdown",
   "metadata": {},
   "source": [
    "Understanding HTML goes beyond the scope of this course, however, [here is a simple explaination for how HTML structures information](https://www.youtube.com/watch?v=bWPMSSsVdPk).\n",
    "\n",
    "To put it succinctly, HTML content is placed between tags. Tags can be placed inside other tags, and this feature of nesting information is how data is structured in HTML.\n",
    "\n",
    "For example: if we want to display a table with rows and columns we might contain the entire table in its own tag (`<table>...</table>`). Then we can put the header row (`<header_row>...</header_row>`) inside of it. Other rows (`<row>...</row>`) will come after the header_row. Inside each row will be the associated columns (`<column>...</column>`), which contains the raw text data inside of it.\n",
    "\n",
    "```html\n",
    "<table>\n",
    "    <header_row>\n",
    "        <column>Name</column>\n",
    "        <column>Age</column>\n",
    "        <column>Score</column>\n",
    "    </header_row>\n",
    "    \n",
    "    <row>\n",
    "        <column>Bob</column>\n",
    "        <column>19</column>\n",
    "        <column>B-</column>\n",
    "    </row>\n",
    "    \n",
    "    <row>\n",
    "        <column>Sally</column>\n",
    "        <column>34</column>\n",
    "        <column>A+</column>\n",
    "    </row>\n",
    "</table>\n",
    "```\n",
    "\n",
    "Becomes...\n",
    "<table>\n",
    "    <tr>\n",
    "        <th>Name</th>\n",
    "        <th>Age</th>\n",
    "        <th>Score</th>\n",
    "    </tr>\n",
    "    <tr>\n",
    "        <td>Bob</td>\n",
    "        <td>19</td>\n",
    "        <td>B-</td>\n",
    "    </tr>\n",
    "    <tr>\n",
    "        <td>Sally</td>\n",
    "        <td>34</td>\n",
    "        <td>A+</td>\n",
    "    </tr>\n",
    "</table>\n"
   ]
  },
  {
   "cell_type": "markdown",
   "metadata": {},
   "source": [
    "The `soup` object has a bunch of methods for querying the information inside of the HTML, which can actually be chained.  \n",
    "\n",
    "Use the `.find()` method to find the first \"table\", and store it in the variable `table`."
   ]
  },
  {
   "cell_type": "code",
   "execution_count": 19,
   "metadata": {},
   "outputs": [],
   "source": [
    "table = soup.find(\"table\")"
   ]
  },
  {
   "cell_type": "markdown",
   "metadata": {},
   "source": [
    "The `table` object is much like the `soup` object, except it ONLY contains the information inside of the table. This tends to be easier to work with than the entire HTML document.\n",
    "\n",
    "_NOTE: In the earlier example, I simplified the tag names to keep things clear. The actual tag names are \"tr\" for `<row>` and \"td\" for `<column>`._"
   ]
  },
  {
   "cell_type": "code",
   "execution_count": 20,
   "metadata": {},
   "outputs": [],
   "source": [
    "# Use .find_all() to get all of the \"tr\" elements within the table object and store the results in the \"rows\" variable\n",
    "rows = table.find_all(\"tr\")"
   ]
  },
  {
   "cell_type": "code",
   "execution_count": 21,
   "metadata": {},
   "outputs": [],
   "source": [
    "# Initialize the variable \"contents\" as an empty list\n",
    "contents = []\n",
    "\n",
    "# Loop through each row in rows and append the result of calling `.get_text(\";\")` on each row\n",
    "for row in rows:\n",
    "    contents.append(row.get_text(\";\")) #gathers text for each row with semi-colon, \";\", as delimiter"
   ]
  },
  {
   "cell_type": "code",
   "execution_count": 22,
   "metadata": {},
   "outputs": [
    {
     "data": {
      "text/plain": [
       "['Name;POS;BAT;THW;Age;HT;WT;Birth Place',\n",
       " 'Tyler Bashlor;49;RP;R;R;26;6\\' 0\";197 lbs;Springfield, GA',\n",
       " 'Edwin Diaz;39;RP;R;R;25;6\\' 3\";165 lbs;Naguabo, Puerto Rico',\n",
       " 'Jeurys Familia;27;RP;R;R;30;6\\' 3\";240 lbs;Santo Domingo, Dominican Republic',\n",
       " 'Chris Flexen;64;RP;R;R;25;6\\' 3\";235 lbs;Newark, CA',\n",
       " 'Stephen Gonsalves;59;SP;L;L;25;6\\' 5\";213 lbs;San Diego, CA',\n",
       " 'Robert Gsellman;65;RP;R;R;26;6\\' 4\";205 lbs;Santa Monica, CA',\n",
       " 'Jordan Humphreys;46;SP;R;R;23;6\\' 2\";223 lbs;Crystal River, FL',\n",
       " 'Franklyn Kilome;66;SP;R;R;24;6\\' 6\";175 lbs;La Romana, Dominican Republic',\n",
       " 'Walker Lockett;61;SP;R;R;25;6\\' 5\";225 lbs;Jacksonville, FL',\n",
       " 'Seth Lugo;67;RP;R;R;30;6\\' 4\";225 lbs;Shreveport, LA',\n",
       " 'Steven Matz;32;SP;R;L;28;6\\' 2\";200 lbs;Stony Brook, NY',\n",
       " 'Chris Mazza;74;RP;R;R;30;6\\' 4\";180 lbs;Walnut Creek, CA',\n",
       " 'Stephen Nogosek;72;RP;R;R;24;6\\' 1\";172 lbs;Roseville, United States',\n",
       " 'Corey Oswalt;55;RP;R;R;26;6\\' 5\";250 lbs;San Diego, CA',\n",
       " 'Jacob Rhame;35;RP;R;R;26;6\\' 1\";215 lbs;Atlanta, GA',\n",
       " 'Paul Sewald;51;RP;R;R;29;6\\' 3\";207 lbs;Las Vegas, NV',\n",
       " 'Drew Smith;62;RP;R;R;26;6\\' 2\";188 lbs;Crowley, TX',\n",
       " 'Marcus Stroman;0;SP;R;R;28;5\\' 7\";180 lbs;Medford, NY',\n",
       " 'Noah Syndergaard;34;SP;L;R;27;6\\' 6\";240 lbs;Mansfield, TX',\n",
       " 'Thomas Szapucki;SP;R;L;23;6\\' 2\";181 lbs;--',\n",
       " 'Blake Michael Taylor;30;SP;L;L;24;6\\' 3\";220 lbs;Mission Viejo, United States',\n",
       " 'Justin Wilson;38;RP;L;L;32;6\\' 2\";205 lbs;Anaheim, CA',\n",
       " 'Daniel Zamora;73;RP;L;L;26;6\\' 2\";185 lbs;La Puente, CA',\n",
       " 'Jacob deGrom;48;SP;L;R;31;6\\' 4\";180 lbs;DeLand, FL']"
      ]
     },
     "execution_count": 22,
     "metadata": {},
     "output_type": "execute_result"
    }
   ],
   "source": [
    "# Look at the contents list\n",
    "contents"
   ]
  },
  {
   "cell_type": "markdown",
   "metadata": {},
   "source": [
    "_NOTE: There really is no single correct approach to web scrapping. The steps before and after this point came from much trial and error as well as familiarity with the website. If you plan to scrap data, be prepared to do the same!_"
   ]
  },
  {
   "cell_type": "code",
   "execution_count": 23,
   "metadata": {},
   "outputs": [
    {
     "data": {
      "text/plain": [
       "['Name', 'Num', 'POS', 'BAT', 'THW', 'Age', 'HT', 'WT', 'Birth Place']"
      ]
     },
     "execution_count": 23,
     "metadata": {},
     "output_type": "execute_result"
    }
   ],
   "source": [
    "# The headers were off by 1 column because of how the website puts the name and player number together\n",
    "headers = contents.pop(0).split(\";\")\n",
    "headers.insert(1,\"Num\")\n",
    "headers"
   ]
  },
  {
   "cell_type": "code",
   "execution_count": 24,
   "metadata": {},
   "outputs": [],
   "source": [
    "# Putting everything into a DataFrame\n",
    "data_splits = [s.split(\";\") for s in contents]\n",
    "players_data = pd.DataFrame(data_splits, columns = headers)"
   ]
  },
  {
   "cell_type": "code",
   "execution_count": 25,
   "metadata": {},
   "outputs": [
    {
     "data": {
      "text/html": [
       "<div>\n",
       "<style scoped>\n",
       "    .dataframe tbody tr th:only-of-type {\n",
       "        vertical-align: middle;\n",
       "    }\n",
       "\n",
       "    .dataframe tbody tr th {\n",
       "        vertical-align: top;\n",
       "    }\n",
       "\n",
       "    .dataframe thead th {\n",
       "        text-align: right;\n",
       "    }\n",
       "</style>\n",
       "<table border=\"1\" class=\"dataframe\">\n",
       "  <thead>\n",
       "    <tr style=\"text-align: right;\">\n",
       "      <th></th>\n",
       "      <th>Name</th>\n",
       "      <th>Num</th>\n",
       "      <th>POS</th>\n",
       "      <th>BAT</th>\n",
       "      <th>THW</th>\n",
       "      <th>Age</th>\n",
       "      <th>HT</th>\n",
       "      <th>WT</th>\n",
       "      <th>Birth Place</th>\n",
       "    </tr>\n",
       "  </thead>\n",
       "  <tbody>\n",
       "    <tr>\n",
       "      <th>0</th>\n",
       "      <td>Tyler Bashlor</td>\n",
       "      <td>49</td>\n",
       "      <td>RP</td>\n",
       "      <td>R</td>\n",
       "      <td>R</td>\n",
       "      <td>26</td>\n",
       "      <td>6' 0\"</td>\n",
       "      <td>197 lbs</td>\n",
       "      <td>Springfield, GA</td>\n",
       "    </tr>\n",
       "    <tr>\n",
       "      <th>1</th>\n",
       "      <td>Edwin Diaz</td>\n",
       "      <td>39</td>\n",
       "      <td>RP</td>\n",
       "      <td>R</td>\n",
       "      <td>R</td>\n",
       "      <td>25</td>\n",
       "      <td>6' 3\"</td>\n",
       "      <td>165 lbs</td>\n",
       "      <td>Naguabo, Puerto Rico</td>\n",
       "    </tr>\n",
       "    <tr>\n",
       "      <th>2</th>\n",
       "      <td>Jeurys Familia</td>\n",
       "      <td>27</td>\n",
       "      <td>RP</td>\n",
       "      <td>R</td>\n",
       "      <td>R</td>\n",
       "      <td>30</td>\n",
       "      <td>6' 3\"</td>\n",
       "      <td>240 lbs</td>\n",
       "      <td>Santo Domingo, Dominican Republic</td>\n",
       "    </tr>\n",
       "    <tr>\n",
       "      <th>3</th>\n",
       "      <td>Chris Flexen</td>\n",
       "      <td>64</td>\n",
       "      <td>RP</td>\n",
       "      <td>R</td>\n",
       "      <td>R</td>\n",
       "      <td>25</td>\n",
       "      <td>6' 3\"</td>\n",
       "      <td>235 lbs</td>\n",
       "      <td>Newark, CA</td>\n",
       "    </tr>\n",
       "    <tr>\n",
       "      <th>4</th>\n",
       "      <td>Stephen Gonsalves</td>\n",
       "      <td>59</td>\n",
       "      <td>SP</td>\n",
       "      <td>L</td>\n",
       "      <td>L</td>\n",
       "      <td>25</td>\n",
       "      <td>6' 5\"</td>\n",
       "      <td>213 lbs</td>\n",
       "      <td>San Diego, CA</td>\n",
       "    </tr>\n",
       "  </tbody>\n",
       "</table>\n",
       "</div>"
      ],
      "text/plain": [
       "                Name Num POS BAT THW Age     HT       WT  \\\n",
       "0      Tyler Bashlor  49  RP   R   R  26  6' 0\"  197 lbs   \n",
       "1         Edwin Diaz  39  RP   R   R  25  6' 3\"  165 lbs   \n",
       "2     Jeurys Familia  27  RP   R   R  30  6' 3\"  240 lbs   \n",
       "3       Chris Flexen  64  RP   R   R  25  6' 3\"  235 lbs   \n",
       "4  Stephen Gonsalves  59  SP   L   L  25  6' 5\"  213 lbs   \n",
       "\n",
       "                         Birth Place  \n",
       "0                    Springfield, GA  \n",
       "1               Naguabo, Puerto Rico  \n",
       "2  Santo Domingo, Dominican Republic  \n",
       "3                         Newark, CA  \n",
       "4                      San Diego, CA  "
      ]
     },
     "execution_count": 25,
     "metadata": {},
     "output_type": "execute_result"
    }
   ],
   "source": [
    "players_data.head()"
   ]
  },
  {
   "cell_type": "markdown",
   "metadata": {},
   "source": [
    "#### An Aside: robots.txt\n",
    "Web scrapping can be easy once you have a script up and running. \n",
    "\n",
    "HOWEVER, automated web queries can cause havoc to even the most robust servers, which is why __most web servers include a \"robots.txt\" file, which details the expected behavior developers should employ when automactically querying their servers.__  \n",
    "\n",
    "It's important to __be respectful__ and not cause an undue burden on someone else. Doing so can __quickly get you banned or blacklisted__. So, exercise discretion when scrapping website by checking the \"robots.txt\" file BEFORE even thinking about scrapping from a site.\n",
    "\n",
    "You can typically go to the main website you WOULD want to scrap from and in the URL add \"/robots.txt\" to see which users agents are allowed to do what. \n",
    "\n",
    "For example: https://twitter.com => https://twitter.com/robots.txt\n",
    "\n",
    "As you can see, Twitter has a LOT of consideration for who is querying their servers. Since you likely won't have a bot or user-agent already defined in this file, you will fall under the blanket user-agent `User-agent: *` (near bottom). Here, you can see which routes are restricted and allowed.\n",
    "\n",
    "For example: https://www.reddit.com => https://www.reddit.com/robots.txt\n",
    "\n",
    "Reddit has a similar set of concerns, but very different permissions for `User-agent: *`."
   ]
  },
  {
   "cell_type": "markdown",
   "metadata": {},
   "source": [
    "#### An Aside: delaying requests\n",
    "\n",
    "In addition to respecting how server maintainers wish their servers to be treated, you can purposefully delay repeated requests using the `time` library"
   ]
  },
  {
   "cell_type": "code",
   "execution_count": 26,
   "metadata": {},
   "outputs": [
    {
     "name": "stdout",
     "output_type": "stream",
     "text": [
      "0\n",
      "1\n",
      "2\n",
      "3\n",
      "4\n"
     ]
    }
   ],
   "source": [
    "import time\n",
    "\n",
    "for i in range(5):\n",
    "    print(i)\n",
    "    time.sleep(1)"
   ]
  },
  {
   "cell_type": "markdown",
   "metadata": {},
   "source": [
    "### Loading data from an API\n",
    "\n",
    "The last major way data is made accessible is through an API interface."
   ]
  },
  {
   "cell_type": "markdown",
   "metadata": {},
   "source": [
    "#### What is an API?\n",
    "\n",
    "API stands for Application Program Interface, which is just a fancy way of saying computers talking to other computers.\n",
    "\n",
    "When we humans access a website, we enjoy a visually appealing website with nice interactions. Computers don't require such nicities - instead, raw data is often transferred in some standard format (usually JSON).\n",
    "\n",
    "JSON stands for JavaScript Object Notation. No, we won't be learning JavaScript! This if JSON as just a basic format for how raw data is transferred between computers and look something like this...\n",
    "\n",
    "```javascript\n",
    "{\n",
    "    \"some_key\" : \"some value\",\n",
    "    \"an_array_or_list\" : [1,2,3],\n",
    "    \"an_object_or_dictionary\" : {\n",
    "        \"another_key\":\"another value\"\n",
    "    }\n",
    "}\n",
    "```\n"
   ]
  },
  {
   "cell_type": "markdown",
   "metadata": {},
   "source": [
    "We'll use the `requests` library again."
   ]
  },
  {
   "cell_type": "code",
   "execution_count": 27,
   "metadata": {},
   "outputs": [],
   "source": [
    "import pandas as pd\n",
    "import requests"
   ]
  },
  {
   "cell_type": "markdown",
   "metadata": {},
   "source": [
    "Let's request a random user from the [Random User API](https://randomuser.me/)"
   ]
  },
  {
   "cell_type": "code",
   "execution_count": 28,
   "metadata": {},
   "outputs": [],
   "source": [
    "URL = \"https://randomuser.me/api/\"\n",
    "\n",
    "response = requests.get(URL)"
   ]
  },
  {
   "cell_type": "code",
   "execution_count": 29,
   "metadata": {},
   "outputs": [
    {
     "data": {
      "text/plain": [
       "'{\"results\":[{\"gender\":\"male\",\"name\":{\"title\":\"Mr\",\"first\":\"Roberto\",\"last\":\"Freeman\"},\"location\":{\"street\":{\"number\":2138,\"name\":\"Ash Dr\"},\"city\":\"Las Cruces\",\"state\":\"Wisconsin\",\"country\":\"United States\",\"postcode\":38233,\"coordinates\":{\"latitude\":\"89.2175\",\"longitude\":\"-128.2970\"},\"timezone\":{\"offset\":\"+11:00\",\"description\":\"Magadan, Solomon Islands, New Caledonia\"}},\"email\":\"roberto.freeman@example.com\",\"login\":{\"uuid\":\"d4f307f5-7347-46c9-bb18-59e373178bdd\",\"username\":\"beautifulleopard396\",\"password\":\"ramses\",\"salt\":\"BppEzVM0\",\"md5\":\"7a6a324771bc8b4e9fbfa617c3733eb3\",\"sha1\":\"762e606147b76e069be54134ead334b9a5f4a32d\",\"sha256\":\"ff0e3dd5954ab5fc304a58508f41b74a953133f5b8029580f6da7beec2e176a5\"},\"dob\":{\"date\":\"1978-06-02T22:48:58.409Z\",\"age\":41},\"registered\":{\"date\":\"2017-11-29T04:32:19.786Z\",\"age\":2},\"phone\":\"(420)-456-8886\",\"cell\":\"(207)-379-4078\",\"id\":{\"name\":\"SSN\",\"value\":\"470-42-2389\"},\"picture\":{\"large\":\"https://randomuser.me/api/portraits/men/21.jpg\",\"medium\":\"https://randomuser.me/api/portraits/med/men/21.jpg\",\"thumbnail\":\"https://randomuser.me/api/portraits/thumb/men/21.jpg\"},\"nat\":\"US\"}],\"info\":{\"seed\":\"8bfef62b42f77bdb\",\"results\":1,\"page\":1,\"version\":\"1.3\"}}'"
      ]
     },
     "execution_count": 29,
     "metadata": {},
     "output_type": "execute_result"
    }
   ],
   "source": [
    "# What does this request look like?\n",
    "response.text"
   ]
  },
  {
   "cell_type": "markdown",
   "metadata": {},
   "source": [
    "Notice the difference in response between this API URL and the website URL we ran before. This is not HTML, it's JSON!\n",
    "\n",
    "As a convenience, the response object has a `.json()` method, which turns the JSON text into a python dictionary!"
   ]
  },
  {
   "cell_type": "code",
   "execution_count": 30,
   "metadata": {},
   "outputs": [
    {
     "data": {
      "text/plain": [
       "{'results': [{'gender': 'male',\n",
       "   'name': {'title': 'Mr', 'first': 'Roberto', 'last': 'Freeman'},\n",
       "   'location': {'street': {'number': 2138, 'name': 'Ash Dr'},\n",
       "    'city': 'Las Cruces',\n",
       "    'state': 'Wisconsin',\n",
       "    'country': 'United States',\n",
       "    'postcode': 38233,\n",
       "    'coordinates': {'latitude': '89.2175', 'longitude': '-128.2970'},\n",
       "    'timezone': {'offset': '+11:00',\n",
       "     'description': 'Magadan, Solomon Islands, New Caledonia'}},\n",
       "   'email': 'roberto.freeman@example.com',\n",
       "   'login': {'uuid': 'd4f307f5-7347-46c9-bb18-59e373178bdd',\n",
       "    'username': 'beautifulleopard396',\n",
       "    'password': 'ramses',\n",
       "    'salt': 'BppEzVM0',\n",
       "    'md5': '7a6a324771bc8b4e9fbfa617c3733eb3',\n",
       "    'sha1': '762e606147b76e069be54134ead334b9a5f4a32d',\n",
       "    'sha256': 'ff0e3dd5954ab5fc304a58508f41b74a953133f5b8029580f6da7beec2e176a5'},\n",
       "   'dob': {'date': '1978-06-02T22:48:58.409Z', 'age': 41},\n",
       "   'registered': {'date': '2017-11-29T04:32:19.786Z', 'age': 2},\n",
       "   'phone': '(420)-456-8886',\n",
       "   'cell': '(207)-379-4078',\n",
       "   'id': {'name': 'SSN', 'value': '470-42-2389'},\n",
       "   'picture': {'large': 'https://randomuser.me/api/portraits/men/21.jpg',\n",
       "    'medium': 'https://randomuser.me/api/portraits/med/men/21.jpg',\n",
       "    'thumbnail': 'https://randomuser.me/api/portraits/thumb/men/21.jpg'},\n",
       "   'nat': 'US'}],\n",
       " 'info': {'seed': '8bfef62b42f77bdb',\n",
       "  'results': 1,\n",
       "  'page': 1,\n",
       "  'version': '1.3'}}"
      ]
     },
     "execution_count": 30,
     "metadata": {},
     "output_type": "execute_result"
    }
   ],
   "source": [
    "random_user = response.json()\n",
    "random_user"
   ]
  },
  {
   "cell_type": "markdown",
   "metadata": {},
   "source": [
    "Now, we can access the data directly and do whatever we typically would in Python."
   ]
  },
  {
   "cell_type": "code",
   "execution_count": 31,
   "metadata": {},
   "outputs": [
    {
     "data": {
      "text/plain": [
       "'male'"
      ]
     },
     "execution_count": 31,
     "metadata": {},
     "output_type": "execute_result"
    }
   ],
   "source": [
    "# Get the gender of the random_user\n",
    "random_user[\"results\"][0][\"gender\"]"
   ]
  },
  {
   "cell_type": "code",
   "execution_count": 32,
   "metadata": {},
   "outputs": [
    {
     "data": {
      "text/plain": [
       "'beautifulleopard396'"
      ]
     },
     "execution_count": 32,
     "metadata": {},
     "output_type": "execute_result"
    }
   ],
   "source": [
    "# Get the username of the random_user\n",
    "random_user[\"results\"][0][\"login\"][\"username\"]"
   ]
  },
  {
   "cell_type": "code",
   "execution_count": 33,
   "metadata": {},
   "outputs": [
    {
     "data": {
      "text/plain": [
       "'https://randomuser.me/api/portraits/men/21.jpg'"
      ]
     },
     "execution_count": 33,
     "metadata": {},
     "output_type": "execute_result"
    }
   ],
   "source": [
    "# Get the large picture of the random_user\n",
    "random_user[\"results\"][0][\"picture\"][\"large\"]"
   ]
  },
  {
   "cell_type": "markdown",
   "metadata": {},
   "source": [
    "### Handling URL parameters\n",
    "\n",
    "Typically APIs allow you to query their database through URL parameters. URL parameters are added at the end of a URL and gives more context to the request.\n",
    "\n",
    "For example, the [Random User API](https://randomuser.me/) will allow you to request multiple random users, but you'll have to tell it how many you want within the URL string."
   ]
  },
  {
   "cell_type": "code",
   "execution_count": 34,
   "metadata": {},
   "outputs": [],
   "source": [
    "BASE_URL = \"https://randomuser.me/api/\"\n",
    "number_of_users = 10\n",
    "URL = \"{}?results={}\".format(BASE_URL, number_of_users)\n",
    "response = requests.get(URL)"
   ]
  },
  {
   "cell_type": "markdown",
   "metadata": {},
   "source": [
    "Check out what the final URL looks like"
   ]
  },
  {
   "cell_type": "code",
   "execution_count": 35,
   "metadata": {},
   "outputs": [
    {
     "data": {
      "text/plain": [
       "'https://randomuser.me/api/?results=10'"
      ]
     },
     "execution_count": 35,
     "metadata": {},
     "output_type": "execute_result"
    }
   ],
   "source": [
    "URL"
   ]
  },
  {
   "cell_type": "markdown",
   "metadata": {},
   "source": [
    "Notice the separation of the base url and the parameters is done with a question mark, ?.\n",
    "\n",
    "Also, the parameters come in the form a key:value pairs, which are separated by an equal sign, =."
   ]
  },
  {
   "cell_type": "code",
   "execution_count": 36,
   "metadata": {},
   "outputs": [
    {
     "data": {
      "text/plain": [
       "10"
      ]
     },
     "execution_count": 36,
     "metadata": {},
     "output_type": "execute_result"
    }
   ],
   "source": [
    "# How many random users are found in the results?\n",
    "len(response.json()[\"results\"])"
   ]
  },
  {
   "cell_type": "markdown",
   "metadata": {},
   "source": [
    "Adding additional parameters is a simple as including more key:value pairs, except the pairs themselves are separated by an ampersand, &."
   ]
  },
  {
   "cell_type": "code",
   "execution_count": 37,
   "metadata": {},
   "outputs": [],
   "source": [
    "BASE_URL = \"https://randomuser.me/api/\"\n",
    "number_of_users = 10\n",
    "gender = \"female\"\n",
    "URL = \"{}?results={}&gender={}\".format(BASE_URL, number_of_users, gender)\n",
    "response = requests.get(URL)"
   ]
  },
  {
   "cell_type": "code",
   "execution_count": 38,
   "metadata": {},
   "outputs": [
    {
     "data": {
      "text/plain": [
       "'https://randomuser.me/api/?results=10&gender=female'"
      ]
     },
     "execution_count": 38,
     "metadata": {},
     "output_type": "execute_result"
    }
   ],
   "source": [
    "URL"
   ]
  },
  {
   "cell_type": "markdown",
   "metadata": {},
   "source": [
    "### Handling an API requiring an API Key\n",
    "\n",
    "The above previous APIs are great tools for learning about APIs.  \n",
    "\n",
    "However, more often than not, an API will require you register or have an account with the service. You will be given an API KEY, which is used by the server maintainers to \"keep the peace\" and ensure users are not abusing the service (i.e. \"spamming\" the server causing a \"denial of service\"). \n",
    "\n",
    "Often, an API will include some quota restricting how often you are allowed to ping the API. Again, this is used to ensure the server runs smoothly for all users and you'll need to check the API documentation to learn exactly how you're expected to work with the service."
   ]
  },
  {
   "cell_type": "markdown",
   "metadata": {},
   "source": [
    "__Go to http://www.omdbapi.com/ and register for an API Key__ (for \"Account Type\" select \"Free! (1000 daily limit)\"). Your API key will be emailed to you and your account will require activation via that same email. This process is fairly representative of other API services.\n",
    "\n",
    "_NOTE: Your API Key is akin to your username and password. NEVER disclose your API Key!_\n",
    "\n",
    "_NOTE: This course is not endorsed by or affiliated with OMDb. As of this writing, the OMDb API is simply easy to use as an example API requiring an API Key._"
   ]
  },
  {
   "cell_type": "code",
   "execution_count": 39,
   "metadata": {},
   "outputs": [],
   "source": [
    "API_KEY = # paste your API Key here as a string\n",
    "movie = \"The Matrix\"\n",
    "BASE_URL = \"http://www.omdbapi.com/\"\n",
    "URL = \"{}?apikey={}&t={}\".format(BASE_URL, API_KEY, movie)"
   ]
  },
  {
   "cell_type": "code",
   "execution_count": 40,
   "metadata": {},
   "outputs": [
    {
     "data": {
      "text/plain": [
       "'http://www.omdbapi.com/?apikey=5e91b709&t=The Matrix'"
      ]
     },
     "execution_count": 40,
     "metadata": {},
     "output_type": "execute_result"
    }
   ],
   "source": [
    "URL"
   ]
  },
  {
   "cell_type": "code",
   "execution_count": 41,
   "metadata": {},
   "outputs": [],
   "source": [
    "response = requests.get(URL)"
   ]
  },
  {
   "cell_type": "code",
   "execution_count": 42,
   "metadata": {},
   "outputs": [
    {
     "data": {
      "text/plain": [
       "'{\"Title\":\"The Matrix\",\"Year\":\"1999\",\"Rated\":\"R\",\"Released\":\"31 Mar 1999\",\"Runtime\":\"136 min\",\"Genre\":\"Action, Sci-Fi\",\"Director\":\"Lana Wachowski, Lilly Wachowski\",\"Writer\":\"Lilly Wachowski, Lana Wachowski\",\"Actors\":\"Keanu Reeves, Laurence Fishburne, Carrie-Anne Moss, Hugo Weaving\",\"Plot\":\"A computer hacker learns from mysterious rebels about the true nature of his reality and his role in the war against its controllers.\",\"Language\":\"English\",\"Country\":\"USA\",\"Awards\":\"Won 4 Oscars. Another 34 wins & 48 nominations.\",\"Poster\":\"https://m.media-amazon.com/images/M/MV5BNzQzOTk3OTAtNDQ0Zi00ZTVkLWI0MTEtMDllZjNkYzNjNTc4L2ltYWdlXkEyXkFqcGdeQXVyNjU0OTQ0OTY@._V1_SX300.jpg\",\"Ratings\":[{\"Source\":\"Internet Movie Database\",\"Value\":\"8.7/10\"},{\"Source\":\"Rotten Tomatoes\",\"Value\":\"88%\"},{\"Source\":\"Metacritic\",\"Value\":\"73/100\"}],\"Metascore\":\"73\",\"imdbRating\":\"8.7\",\"imdbVotes\":\"1,549,931\",\"imdbID\":\"tt0133093\",\"Type\":\"movie\",\"DVD\":\"21 Sep 1999\",\"BoxOffice\":\"N/A\",\"Production\":\"Warner Bros. Pictures\",\"Website\":\"N/A\",\"Response\":\"True\"}'"
      ]
     },
     "execution_count": 42,
     "metadata": {},
     "output_type": "execute_result"
    }
   ],
   "source": [
    "response.text"
   ]
  },
  {
   "cell_type": "markdown",
   "metadata": {},
   "source": [
    "#### Delaying API requests in loops\n",
    "\n",
    "Let's query the OMBd API with a bunch of movies!\n",
    "\n",
    "It would be easy to create a loop and run all of the requests. However, our python code would execute everything within milliseconds of each other. This might cause the OMBd servers to assume we're a malicious attacker trying to cause a denial of service, so let's be respectful and include a short delay between our queries."
   ]
  },
  {
   "cell_type": "code",
   "execution_count": 43,
   "metadata": {},
   "outputs": [],
   "source": [
    "import time"
   ]
  },
  {
   "cell_type": "code",
   "execution_count": 44,
   "metadata": {},
   "outputs": [],
   "source": [
    "movies = [\"The Matrix\", \"War Games\", \"Sneakers\",\"Tron\",\"The Net\"]\n",
    "\n",
    "API_KEY = # paste your API Key here as a string\n",
    "\n",
    "BASE_URL = \"http://www.omdbapi.com/\"\n",
    "\n",
    "results = [] # storing results\n",
    "\n",
    "for movie in movies:\n",
    "    # forming URL for each movie\n",
    "    URL = \"{}?apikey={}&t={}\".format(BASE_URL, API_KEY, movie)\n",
    "    # making request and storing response\n",
    "    response = requests.get(URL)\n",
    "    # converting response to Python Dictionary and adding to stored results\n",
    "    results.append(response.json())\n",
    "    # adding delay\n",
    "    time.sleep(1)"
   ]
  },
  {
   "cell_type": "code",
   "execution_count": 45,
   "metadata": {},
   "outputs": [
    {
     "data": {
      "text/plain": [
       "[{'Title': 'The Matrix',\n",
       "  'Year': '1999',\n",
       "  'Rated': 'R',\n",
       "  'Released': '31 Mar 1999',\n",
       "  'Runtime': '136 min',\n",
       "  'Genre': 'Action, Sci-Fi',\n",
       "  'Director': 'Lana Wachowski, Lilly Wachowski',\n",
       "  'Writer': 'Lilly Wachowski, Lana Wachowski',\n",
       "  'Actors': 'Keanu Reeves, Laurence Fishburne, Carrie-Anne Moss, Hugo Weaving',\n",
       "  'Plot': 'A computer hacker learns from mysterious rebels about the true nature of his reality and his role in the war against its controllers.',\n",
       "  'Language': 'English',\n",
       "  'Country': 'USA',\n",
       "  'Awards': 'Won 4 Oscars. Another 34 wins & 48 nominations.',\n",
       "  'Poster': 'https://m.media-amazon.com/images/M/MV5BNzQzOTk3OTAtNDQ0Zi00ZTVkLWI0MTEtMDllZjNkYzNjNTc4L2ltYWdlXkEyXkFqcGdeQXVyNjU0OTQ0OTY@._V1_SX300.jpg',\n",
       "  'Ratings': [{'Source': 'Internet Movie Database', 'Value': '8.7/10'},\n",
       "   {'Source': 'Rotten Tomatoes', 'Value': '88%'},\n",
       "   {'Source': 'Metacritic', 'Value': '73/100'}],\n",
       "  'Metascore': '73',\n",
       "  'imdbRating': '8.7',\n",
       "  'imdbVotes': '1,549,931',\n",
       "  'imdbID': 'tt0133093',\n",
       "  'Type': 'movie',\n",
       "  'DVD': '21 Sep 1999',\n",
       "  'BoxOffice': 'N/A',\n",
       "  'Production': 'Warner Bros. Pictures',\n",
       "  'Website': 'N/A',\n",
       "  'Response': 'True'},\n",
       " {'Title': 'War Games',\n",
       "  'Year': '2011',\n",
       "  'Rated': 'N/A',\n",
       "  'Released': '22 Jul 2011',\n",
       "  'Runtime': '93 min',\n",
       "  'Genre': 'Action, Horror, Thriller',\n",
       "  'Director': 'Cosimo Alemà',\n",
       "  'Writer': 'Cosimo Alemà, Romana Meggiolaro, Daniele Persica',\n",
       "  'Actors': 'Stephanie Chapman-Baker, Neil Linpow, Andrew Harwood Mills, Monika Miles',\n",
       "  'Plot': 'Seven friends travel to the countryside to play war in the woods. They stumble upon three paranoid and sadistic ex-soldiers.',\n",
       "  'Language': 'English',\n",
       "  'Country': 'Italy',\n",
       "  'Awards': 'N/A',\n",
       "  'Poster': 'https://m.media-amazon.com/images/M/MV5BMTcwMDQzNjM2Nl5BMl5BanBnXkFtZTcwNTYwNjI0NA@@._V1_SX300.jpg',\n",
       "  'Ratings': [{'Source': 'Internet Movie Database', 'Value': '4.6/10'}],\n",
       "  'Metascore': 'N/A',\n",
       "  'imdbRating': '4.6',\n",
       "  'imdbVotes': '1,099',\n",
       "  'imdbID': 'tt1543459',\n",
       "  'Type': 'movie',\n",
       "  'DVD': 'N/A',\n",
       "  'BoxOffice': 'N/A',\n",
       "  'Production': 'N/A',\n",
       "  'Website': 'N/A',\n",
       "  'Response': 'True'},\n",
       " {'Title': 'Sneakers',\n",
       "  'Year': '1992',\n",
       "  'Rated': 'PG-13',\n",
       "  'Released': '11 Sep 1992',\n",
       "  'Runtime': '126 min',\n",
       "  'Genre': 'Comedy, Crime, Drama, Mystery, Thriller',\n",
       "  'Director': 'Phil Alden Robinson',\n",
       "  'Writer': 'Phil Alden Robinson, Lawrence Lasker, Walter F. Parkes',\n",
       "  'Actors': 'Jo Marr, Gary Hershberger, Robert Redford, Sidney Poitier',\n",
       "  'Plot': 'A security pro finds his past coming back to haunt him, when he and his unique team are tasked with retrieving a particularly important item.',\n",
       "  'Language': 'English, Russian, Chinese',\n",
       "  'Country': 'USA',\n",
       "  'Awards': '2 nominations.',\n",
       "  'Poster': 'https://m.media-amazon.com/images/M/MV5BZTg0MTU0Y2YtNWEyNC00NDU3LWJhNjYtZGIzMWI0YWMwMTdhXkEyXkFqcGdeQXVyNjMwMjk0MTQ@._V1_SX300.jpg',\n",
       "  'Ratings': [{'Source': 'Internet Movie Database', 'Value': '7.1/10'},\n",
       "   {'Source': 'Rotten Tomatoes', 'Value': '78%'}],\n",
       "  'Metascore': 'N/A',\n",
       "  'imdbRating': '7.1',\n",
       "  'imdbVotes': '49,772',\n",
       "  'imdbID': 'tt0105435',\n",
       "  'Type': 'movie',\n",
       "  'DVD': '31 Mar 1998',\n",
       "  'BoxOffice': 'N/A',\n",
       "  'Production': 'Universal Pictures',\n",
       "  'Website': 'N/A',\n",
       "  'Response': 'True'},\n",
       " {'Title': 'TRON',\n",
       "  'Year': '1982',\n",
       "  'Rated': 'PG',\n",
       "  'Released': '09 Jul 1982',\n",
       "  'Runtime': '96 min',\n",
       "  'Genre': 'Action, Adventure, Sci-Fi',\n",
       "  'Director': 'Steven Lisberger',\n",
       "  'Writer': 'Steven Lisberger (screenplay), Steven Lisberger (story), Bonnie MacBird (story)',\n",
       "  'Actors': 'Jeff Bridges, Bruce Boxleitner, David Warner, Cindy Morgan',\n",
       "  'Plot': 'A computer hacker is abducted into the digital world and forced to participate in gladiatorial games where his only chance of escape is with the help of a heroic security program.',\n",
       "  'Language': 'English',\n",
       "  'Country': 'USA',\n",
       "  'Awards': 'Nominated for 2 Oscars. Another 2 wins & 6 nominations.',\n",
       "  'Poster': 'https://m.media-amazon.com/images/M/MV5BMzZhNjYyZDYtZmE4MC00M2RlLTlhOGItZDVkYTVlZTYxOWZlXkEyXkFqcGdeQXVyNTAyODkwOQ@@._V1_SX300.jpg',\n",
       "  'Ratings': [{'Source': 'Internet Movie Database', 'Value': '6.8/10'},\n",
       "   {'Source': 'Rotten Tomatoes', 'Value': '72%'},\n",
       "   {'Source': 'Metacritic', 'Value': '58/100'}],\n",
       "  'Metascore': '58',\n",
       "  'imdbRating': '6.8',\n",
       "  'imdbVotes': '107,687',\n",
       "  'imdbID': 'tt0084827',\n",
       "  'Type': 'movie',\n",
       "  'DVD': '15 Jan 2002',\n",
       "  'BoxOffice': 'N/A',\n",
       "  'Production': 'Buena Vista Pictures',\n",
       "  'Website': 'N/A',\n",
       "  'Response': 'True'},\n",
       " {'Title': 'The Net',\n",
       "  'Year': '1995',\n",
       "  'Rated': 'PG-13',\n",
       "  'Released': '28 Jul 1995',\n",
       "  'Runtime': '114 min',\n",
       "  'Genre': 'Action, Crime, Drama, Mystery, Thriller',\n",
       "  'Director': 'Irwin Winkler',\n",
       "  'Writer': 'John Brancato, Michael Ferris',\n",
       "  'Actors': 'Sandra Bullock, Jeremy Northam, Dennis Miller, Diane Baker',\n",
       "  'Plot': 'A computer programmer stumbles upon a conspiracy, putting her life and the lives of those around her in great danger.',\n",
       "  'Language': 'English, Spanish',\n",
       "  'Country': 'USA',\n",
       "  'Awards': '2 wins & 1 nomination.',\n",
       "  'Poster': 'https://m.media-amazon.com/images/M/MV5BYWU1YjQ3NTUtZjZkZi00ZDc5LTgyZTgtNzkxMTIzNzUwZGY0XkEyXkFqcGdeQXVyNDk3NzU2MTQ@._V1_SX300.jpg',\n",
       "  'Ratings': [{'Source': 'Internet Movie Database', 'Value': '5.9/10'},\n",
       "   {'Source': 'Rotten Tomatoes', 'Value': '40%'},\n",
       "   {'Source': 'Metacritic', 'Value': '51/100'}],\n",
       "  'Metascore': '51',\n",
       "  'imdbRating': '5.9',\n",
       "  'imdbVotes': '57,373',\n",
       "  'imdbID': 'tt0113957',\n",
       "  'Type': 'movie',\n",
       "  'DVD': '26 Nov 1997',\n",
       "  'BoxOffice': 'N/A',\n",
       "  'Production': 'Sony Pictures Home Entertainment',\n",
       "  'Website': 'N/A',\n",
       "  'Response': 'True'}]"
      ]
     },
     "execution_count": 45,
     "metadata": {},
     "output_type": "execute_result"
    }
   ],
   "source": [
    "results"
   ]
  },
  {
   "cell_type": "markdown",
   "metadata": {},
   "source": [
    "### Convert API data to DataFrame\n",
    "Lets take our results and add them to a dataframe.\n",
    "\n",
    "Thankfully, `pd.DataFrame()` is set up to handle dictionary-style datasets by assuming the keys serve as the column names and the values are the values for each row."
   ]
  },
  {
   "cell_type": "code",
   "execution_count": 46,
   "metadata": {},
   "outputs": [
    {
     "data": {
      "text/html": [
       "<div>\n",
       "<style scoped>\n",
       "    .dataframe tbody tr th:only-of-type {\n",
       "        vertical-align: middle;\n",
       "    }\n",
       "\n",
       "    .dataframe tbody tr th {\n",
       "        vertical-align: top;\n",
       "    }\n",
       "\n",
       "    .dataframe thead th {\n",
       "        text-align: right;\n",
       "    }\n",
       "</style>\n",
       "<table border=\"1\" class=\"dataframe\">\n",
       "  <thead>\n",
       "    <tr style=\"text-align: right;\">\n",
       "      <th></th>\n",
       "      <th>Actors</th>\n",
       "      <th>Awards</th>\n",
       "      <th>BoxOffice</th>\n",
       "      <th>Country</th>\n",
       "      <th>DVD</th>\n",
       "      <th>Director</th>\n",
       "      <th>Genre</th>\n",
       "      <th>Language</th>\n",
       "      <th>Metascore</th>\n",
       "      <th>Plot</th>\n",
       "      <th>...</th>\n",
       "      <th>Response</th>\n",
       "      <th>Runtime</th>\n",
       "      <th>Title</th>\n",
       "      <th>Type</th>\n",
       "      <th>Website</th>\n",
       "      <th>Writer</th>\n",
       "      <th>Year</th>\n",
       "      <th>imdbID</th>\n",
       "      <th>imdbRating</th>\n",
       "      <th>imdbVotes</th>\n",
       "    </tr>\n",
       "  </thead>\n",
       "  <tbody>\n",
       "    <tr>\n",
       "      <th>0</th>\n",
       "      <td>Keanu Reeves, Laurence Fishburne, Carrie-Anne ...</td>\n",
       "      <td>Won 4 Oscars. Another 34 wins &amp; 48 nominations.</td>\n",
       "      <td>N/A</td>\n",
       "      <td>USA</td>\n",
       "      <td>21 Sep 1999</td>\n",
       "      <td>Lana Wachowski, Lilly Wachowski</td>\n",
       "      <td>Action, Sci-Fi</td>\n",
       "      <td>English</td>\n",
       "      <td>73</td>\n",
       "      <td>A computer hacker learns from mysterious rebel...</td>\n",
       "      <td>...</td>\n",
       "      <td>True</td>\n",
       "      <td>136 min</td>\n",
       "      <td>The Matrix</td>\n",
       "      <td>movie</td>\n",
       "      <td>N/A</td>\n",
       "      <td>Lilly Wachowski, Lana Wachowski</td>\n",
       "      <td>1999</td>\n",
       "      <td>tt0133093</td>\n",
       "      <td>8.7</td>\n",
       "      <td>1,549,931</td>\n",
       "    </tr>\n",
       "    <tr>\n",
       "      <th>1</th>\n",
       "      <td>Stephanie Chapman-Baker, Neil Linpow, Andrew H...</td>\n",
       "      <td>N/A</td>\n",
       "      <td>N/A</td>\n",
       "      <td>Italy</td>\n",
       "      <td>N/A</td>\n",
       "      <td>Cosimo Alemà</td>\n",
       "      <td>Action, Horror, Thriller</td>\n",
       "      <td>English</td>\n",
       "      <td>N/A</td>\n",
       "      <td>Seven friends travel to the countryside to pla...</td>\n",
       "      <td>...</td>\n",
       "      <td>True</td>\n",
       "      <td>93 min</td>\n",
       "      <td>War Games</td>\n",
       "      <td>movie</td>\n",
       "      <td>N/A</td>\n",
       "      <td>Cosimo Alemà, Romana Meggiolaro, Daniele Persica</td>\n",
       "      <td>2011</td>\n",
       "      <td>tt1543459</td>\n",
       "      <td>4.6</td>\n",
       "      <td>1,099</td>\n",
       "    </tr>\n",
       "    <tr>\n",
       "      <th>2</th>\n",
       "      <td>Jo Marr, Gary Hershberger, Robert Redford, Sid...</td>\n",
       "      <td>2 nominations.</td>\n",
       "      <td>N/A</td>\n",
       "      <td>USA</td>\n",
       "      <td>31 Mar 1998</td>\n",
       "      <td>Phil Alden Robinson</td>\n",
       "      <td>Comedy, Crime, Drama, Mystery, Thriller</td>\n",
       "      <td>English, Russian, Chinese</td>\n",
       "      <td>N/A</td>\n",
       "      <td>A security pro finds his past coming back to h...</td>\n",
       "      <td>...</td>\n",
       "      <td>True</td>\n",
       "      <td>126 min</td>\n",
       "      <td>Sneakers</td>\n",
       "      <td>movie</td>\n",
       "      <td>N/A</td>\n",
       "      <td>Phil Alden Robinson, Lawrence Lasker, Walter F...</td>\n",
       "      <td>1992</td>\n",
       "      <td>tt0105435</td>\n",
       "      <td>7.1</td>\n",
       "      <td>49,772</td>\n",
       "    </tr>\n",
       "    <tr>\n",
       "      <th>3</th>\n",
       "      <td>Jeff Bridges, Bruce Boxleitner, David Warner, ...</td>\n",
       "      <td>Nominated for 2 Oscars. Another 2 wins &amp; 6 nom...</td>\n",
       "      <td>N/A</td>\n",
       "      <td>USA</td>\n",
       "      <td>15 Jan 2002</td>\n",
       "      <td>Steven Lisberger</td>\n",
       "      <td>Action, Adventure, Sci-Fi</td>\n",
       "      <td>English</td>\n",
       "      <td>58</td>\n",
       "      <td>A computer hacker is abducted into the digital...</td>\n",
       "      <td>...</td>\n",
       "      <td>True</td>\n",
       "      <td>96 min</td>\n",
       "      <td>TRON</td>\n",
       "      <td>movie</td>\n",
       "      <td>N/A</td>\n",
       "      <td>Steven Lisberger (screenplay), Steven Lisberge...</td>\n",
       "      <td>1982</td>\n",
       "      <td>tt0084827</td>\n",
       "      <td>6.8</td>\n",
       "      <td>107,687</td>\n",
       "    </tr>\n",
       "    <tr>\n",
       "      <th>4</th>\n",
       "      <td>Sandra Bullock, Jeremy Northam, Dennis Miller,...</td>\n",
       "      <td>2 wins &amp; 1 nomination.</td>\n",
       "      <td>N/A</td>\n",
       "      <td>USA</td>\n",
       "      <td>26 Nov 1997</td>\n",
       "      <td>Irwin Winkler</td>\n",
       "      <td>Action, Crime, Drama, Mystery, Thriller</td>\n",
       "      <td>English, Spanish</td>\n",
       "      <td>51</td>\n",
       "      <td>A computer programmer stumbles upon a conspira...</td>\n",
       "      <td>...</td>\n",
       "      <td>True</td>\n",
       "      <td>114 min</td>\n",
       "      <td>The Net</td>\n",
       "      <td>movie</td>\n",
       "      <td>N/A</td>\n",
       "      <td>John Brancato, Michael Ferris</td>\n",
       "      <td>1995</td>\n",
       "      <td>tt0113957</td>\n",
       "      <td>5.9</td>\n",
       "      <td>57,373</td>\n",
       "    </tr>\n",
       "  </tbody>\n",
       "</table>\n",
       "<p>5 rows × 25 columns</p>\n",
       "</div>"
      ],
      "text/plain": [
       "                                              Actors  \\\n",
       "0  Keanu Reeves, Laurence Fishburne, Carrie-Anne ...   \n",
       "1  Stephanie Chapman-Baker, Neil Linpow, Andrew H...   \n",
       "2  Jo Marr, Gary Hershberger, Robert Redford, Sid...   \n",
       "3  Jeff Bridges, Bruce Boxleitner, David Warner, ...   \n",
       "4  Sandra Bullock, Jeremy Northam, Dennis Miller,...   \n",
       "\n",
       "                                              Awards BoxOffice Country  \\\n",
       "0    Won 4 Oscars. Another 34 wins & 48 nominations.       N/A     USA   \n",
       "1                                                N/A       N/A   Italy   \n",
       "2                                     2 nominations.       N/A     USA   \n",
       "3  Nominated for 2 Oscars. Another 2 wins & 6 nom...       N/A     USA   \n",
       "4                             2 wins & 1 nomination.       N/A     USA   \n",
       "\n",
       "           DVD                         Director  \\\n",
       "0  21 Sep 1999  Lana Wachowski, Lilly Wachowski   \n",
       "1          N/A                     Cosimo Alemà   \n",
       "2  31 Mar 1998              Phil Alden Robinson   \n",
       "3  15 Jan 2002                 Steven Lisberger   \n",
       "4  26 Nov 1997                    Irwin Winkler   \n",
       "\n",
       "                                     Genre                   Language  \\\n",
       "0                           Action, Sci-Fi                    English   \n",
       "1                 Action, Horror, Thriller                    English   \n",
       "2  Comedy, Crime, Drama, Mystery, Thriller  English, Russian, Chinese   \n",
       "3                Action, Adventure, Sci-Fi                    English   \n",
       "4  Action, Crime, Drama, Mystery, Thriller           English, Spanish   \n",
       "\n",
       "  Metascore                                               Plot  ... Response  \\\n",
       "0        73  A computer hacker learns from mysterious rebel...  ...     True   \n",
       "1       N/A  Seven friends travel to the countryside to pla...  ...     True   \n",
       "2       N/A  A security pro finds his past coming back to h...  ...     True   \n",
       "3        58  A computer hacker is abducted into the digital...  ...     True   \n",
       "4        51  A computer programmer stumbles upon a conspira...  ...     True   \n",
       "\n",
       "   Runtime       Title   Type Website  \\\n",
       "0  136 min  The Matrix  movie     N/A   \n",
       "1   93 min   War Games  movie     N/A   \n",
       "2  126 min    Sneakers  movie     N/A   \n",
       "3   96 min        TRON  movie     N/A   \n",
       "4  114 min     The Net  movie     N/A   \n",
       "\n",
       "                                              Writer  Year     imdbID  \\\n",
       "0                    Lilly Wachowski, Lana Wachowski  1999  tt0133093   \n",
       "1   Cosimo Alemà, Romana Meggiolaro, Daniele Persica  2011  tt1543459   \n",
       "2  Phil Alden Robinson, Lawrence Lasker, Walter F...  1992  tt0105435   \n",
       "3  Steven Lisberger (screenplay), Steven Lisberge...  1982  tt0084827   \n",
       "4                      John Brancato, Michael Ferris  1995  tt0113957   \n",
       "\n",
       "  imdbRating  imdbVotes  \n",
       "0        8.7  1,549,931  \n",
       "1        4.6      1,099  \n",
       "2        7.1     49,772  \n",
       "3        6.8    107,687  \n",
       "4        5.9     57,373  \n",
       "\n",
       "[5 rows x 25 columns]"
      ]
     },
     "execution_count": 46,
     "metadata": {},
     "output_type": "execute_result"
    }
   ],
   "source": [
    "movie_df = pd.DataFrame(results)\n",
    "movie_df"
   ]
  },
  {
   "cell_type": "code",
   "execution_count": 47,
   "metadata": {},
   "outputs": [
    {
     "data": {
      "text/plain": [
       "[{'Source': 'Internet Movie Database', 'Value': '8.7/10'},\n",
       " {'Source': 'Rotten Tomatoes', 'Value': '88%'},\n",
       " {'Source': 'Metacritic', 'Value': '73/100'}]"
      ]
     },
     "execution_count": 47,
     "metadata": {},
     "output_type": "execute_result"
    }
   ],
   "source": [
    "# Observe the first value in the \"Ratings\" column\n",
    "movie_df[\"Ratings\"][0]"
   ]
  },
  {
   "cell_type": "markdown",
   "metadata": {},
   "source": [
    "The convenience is great, but not perfect.  \n",
    "We see nested values, such as the \"Ratings\" column are difficult to parse.  \n",
    "However, we are set up to clean these data in typical Pandas fashion!"
   ]
  },
  {
   "cell_type": "markdown",
   "metadata": {},
   "source": [
    "### Writing data (pd.DataFrame) to a file\n",
    "Once you've obtained your data in memory, you'll want to store the information as a file on your hard drive. This will ensure you're not making redundant or excessive server requests.\n",
    "\n",
    "Simply take the DataFrame you've made and call `.to_csv(\"FILE_PATH\")` on it. Of course, there are other formats you can write to, but CSV is the most common."
   ]
  },
  {
   "cell_type": "code",
   "execution_count": null,
   "metadata": {},
   "outputs": [],
   "source": [
    "movie_df.to_csv(\"movies.csv\")"
   ]
  },
  {
   "cell_type": "markdown",
   "metadata": {},
   "source": [
    "### Creating a data dictionary"
   ]
  },
  {
   "cell_type": "markdown",
   "metadata": {},
   "source": [
    "In addition to saving your hard earned data as a file, you'll also want to keep a data dictionary on hand.\n",
    "\n",
    "A data dictionary serves as a description of the data features/columns. This is not only intended to better explain the structure and layout of your dataset, but serves as a check for anyone else looking at you work.\n",
    "\n",
    "Imagine having a column of data representing the surface area of a house as a simple integer."
   ]
  },
  {
   "cell_type": "markdown",
   "metadata": {},
   "source": [
    "_Example Database:_\n",
    "\n",
    "Surface_Area|Age|Condition\n",
    "-|-|-\n",
    "100|19|G\n",
    "250|33|P\n",
    "350|24|S"
   ]
  },
  {
   "cell_type": "markdown",
   "metadata": {},
   "source": [
    "These data are certainly in a convenient format, but there are no units!\n",
    "\n",
    "The data dictionary is the place to describe your data, categories, etc.\n",
    "\n",
    "Also, when others review your work or try to replicate it, loading the data may result in the wrong datatype being assumed by the program loading the data.  "
   ]
  },
  {
   "cell_type": "markdown",
   "metadata": {},
   "source": [
    "_Example Data Dictionary:_\n",
    "\n",
    "\n",
    "Column name | Data Type | Description\n",
    "-|-|-\n",
    "Surface_Area| Integer | Home's surface area (sq. feet)\n",
    "Age | Integer| Age of house (years)\n",
    "Condition | String | Home's current condition (P: Poor, G: Good, E: Excellent, S:Superb)"
   ]
  },
  {
   "cell_type": "markdown",
   "metadata": {},
   "source": [
    "__Be sure to always include a data dictionary or reference to one!__"
   ]
  },
  {
   "cell_type": "markdown",
   "metadata": {},
   "source": [
    "## Assignments:"
   ]
  },
  {
   "cell_type": "markdown",
   "metadata": {},
   "source": [
    "### Load in the 'titanic.csv' and 'wine.csv' data files as Pandas DataFrames"
   ]
  },
  {
   "cell_type": "code",
   "execution_count": 48,
   "metadata": {},
   "outputs": [],
   "source": [
    "titanic_data = pd.read_csv(\"data/go_deeper/titanic.csv\")"
   ]
  },
  {
   "cell_type": "code",
   "execution_count": 49,
   "metadata": {},
   "outputs": [
    {
     "data": {
      "text/html": [
       "<div>\n",
       "<style scoped>\n",
       "    .dataframe tbody tr th:only-of-type {\n",
       "        vertical-align: middle;\n",
       "    }\n",
       "\n",
       "    .dataframe tbody tr th {\n",
       "        vertical-align: top;\n",
       "    }\n",
       "\n",
       "    .dataframe thead th {\n",
       "        text-align: right;\n",
       "    }\n",
       "</style>\n",
       "<table border=\"1\" class=\"dataframe\">\n",
       "  <thead>\n",
       "    <tr style=\"text-align: right;\">\n",
       "      <th></th>\n",
       "      <th>PassengerId</th>\n",
       "      <th>Survived</th>\n",
       "      <th>Pclass</th>\n",
       "      <th>Name</th>\n",
       "      <th>Sex</th>\n",
       "      <th>Age</th>\n",
       "      <th>SibSp</th>\n",
       "      <th>Parch</th>\n",
       "      <th>Ticket</th>\n",
       "      <th>Fare</th>\n",
       "      <th>Cabin</th>\n",
       "      <th>Embarked</th>\n",
       "    </tr>\n",
       "  </thead>\n",
       "  <tbody>\n",
       "    <tr>\n",
       "      <th>0</th>\n",
       "      <td>1</td>\n",
       "      <td>0</td>\n",
       "      <td>3</td>\n",
       "      <td>Braund, Mr. Owen Harris</td>\n",
       "      <td>male</td>\n",
       "      <td>22.0</td>\n",
       "      <td>1</td>\n",
       "      <td>0</td>\n",
       "      <td>A/5 21171</td>\n",
       "      <td>7.2500</td>\n",
       "      <td>NaN</td>\n",
       "      <td>S</td>\n",
       "    </tr>\n",
       "    <tr>\n",
       "      <th>1</th>\n",
       "      <td>2</td>\n",
       "      <td>1</td>\n",
       "      <td>1</td>\n",
       "      <td>Cumings, Mrs. John Bradley (Florence Briggs Th...</td>\n",
       "      <td>female</td>\n",
       "      <td>38.0</td>\n",
       "      <td>1</td>\n",
       "      <td>0</td>\n",
       "      <td>PC 17599</td>\n",
       "      <td>71.2833</td>\n",
       "      <td>C85</td>\n",
       "      <td>C</td>\n",
       "    </tr>\n",
       "    <tr>\n",
       "      <th>2</th>\n",
       "      <td>3</td>\n",
       "      <td>1</td>\n",
       "      <td>3</td>\n",
       "      <td>Heikkinen, Miss. Laina</td>\n",
       "      <td>female</td>\n",
       "      <td>26.0</td>\n",
       "      <td>0</td>\n",
       "      <td>0</td>\n",
       "      <td>STON/O2. 3101282</td>\n",
       "      <td>7.9250</td>\n",
       "      <td>NaN</td>\n",
       "      <td>S</td>\n",
       "    </tr>\n",
       "    <tr>\n",
       "      <th>3</th>\n",
       "      <td>4</td>\n",
       "      <td>1</td>\n",
       "      <td>1</td>\n",
       "      <td>Futrelle, Mrs. Jacques Heath (Lily May Peel)</td>\n",
       "      <td>female</td>\n",
       "      <td>35.0</td>\n",
       "      <td>1</td>\n",
       "      <td>0</td>\n",
       "      <td>113803</td>\n",
       "      <td>53.1000</td>\n",
       "      <td>C123</td>\n",
       "      <td>S</td>\n",
       "    </tr>\n",
       "    <tr>\n",
       "      <th>4</th>\n",
       "      <td>5</td>\n",
       "      <td>0</td>\n",
       "      <td>3</td>\n",
       "      <td>Allen, Mr. William Henry</td>\n",
       "      <td>male</td>\n",
       "      <td>35.0</td>\n",
       "      <td>0</td>\n",
       "      <td>0</td>\n",
       "      <td>373450</td>\n",
       "      <td>8.0500</td>\n",
       "      <td>NaN</td>\n",
       "      <td>S</td>\n",
       "    </tr>\n",
       "  </tbody>\n",
       "</table>\n",
       "</div>"
      ],
      "text/plain": [
       "   PassengerId  Survived  Pclass  \\\n",
       "0            1         0       3   \n",
       "1            2         1       1   \n",
       "2            3         1       3   \n",
       "3            4         1       1   \n",
       "4            5         0       3   \n",
       "\n",
       "                                                Name     Sex   Age  SibSp  \\\n",
       "0                            Braund, Mr. Owen Harris    male  22.0      1   \n",
       "1  Cumings, Mrs. John Bradley (Florence Briggs Th...  female  38.0      1   \n",
       "2                             Heikkinen, Miss. Laina  female  26.0      0   \n",
       "3       Futrelle, Mrs. Jacques Heath (Lily May Peel)  female  35.0      1   \n",
       "4                           Allen, Mr. William Henry    male  35.0      0   \n",
       "\n",
       "   Parch            Ticket     Fare Cabin Embarked  \n",
       "0      0         A/5 21171   7.2500   NaN        S  \n",
       "1      0          PC 17599  71.2833   C85        C  \n",
       "2      0  STON/O2. 3101282   7.9250   NaN        S  \n",
       "3      0            113803  53.1000  C123        S  \n",
       "4      0            373450   8.0500   NaN        S  "
      ]
     },
     "execution_count": 49,
     "metadata": {},
     "output_type": "execute_result"
    }
   ],
   "source": [
    "titanic_data.head()"
   ]
  },
  {
   "cell_type": "code",
   "execution_count": 50,
   "metadata": {},
   "outputs": [],
   "source": [
    "wine_data = pd.read_csv(\"data/go_deeper/wine.csv\")"
   ]
  },
  {
   "cell_type": "code",
   "execution_count": 52,
   "metadata": {},
   "outputs": [
    {
     "data": {
      "text/html": [
       "<div>\n",
       "<style scoped>\n",
       "    .dataframe tbody tr th:only-of-type {\n",
       "        vertical-align: middle;\n",
       "    }\n",
       "\n",
       "    .dataframe tbody tr th {\n",
       "        vertical-align: top;\n",
       "    }\n",
       "\n",
       "    .dataframe thead th {\n",
       "        text-align: right;\n",
       "    }\n",
       "</style>\n",
       "<table border=\"1\" class=\"dataframe\">\n",
       "  <thead>\n",
       "    <tr style=\"text-align: right;\">\n",
       "      <th></th>\n",
       "      <th>fixed acidity;\"volatile acidity\";\"citric acid\";\"residual sugar\";\"chlorides\";\"free sulfur dioxide\";\"total sulfur dioxide\";\"density\";\"pH\";\"sulphates\";\"alcohol\";\"quality\"</th>\n",
       "    </tr>\n",
       "  </thead>\n",
       "  <tbody>\n",
       "    <tr>\n",
       "      <th>0</th>\n",
       "      <td>7;0.27;0.36;20.7;0.045;45;170;1.001;3;0.45;8.8;6</td>\n",
       "    </tr>\n",
       "    <tr>\n",
       "      <th>1</th>\n",
       "      <td>6.3;0.3;0.34;1.6;0.049;14;132;0.994;3.3;0.49;9...</td>\n",
       "    </tr>\n",
       "    <tr>\n",
       "      <th>2</th>\n",
       "      <td>8.1;0.28;0.4;6.9;0.05;30;97;0.9951;3.26;0.44;1...</td>\n",
       "    </tr>\n",
       "    <tr>\n",
       "      <th>3</th>\n",
       "      <td>7.2;0.23;0.32;8.5;0.058;47;186;0.9956;3.19;0.4...</td>\n",
       "    </tr>\n",
       "    <tr>\n",
       "      <th>4</th>\n",
       "      <td>7.2;0.23;0.32;8.5;0.058;47;186;0.9956;3.19;0.4...</td>\n",
       "    </tr>\n",
       "  </tbody>\n",
       "</table>\n",
       "</div>"
      ],
      "text/plain": [
       "  fixed acidity;\"volatile acidity\";\"citric acid\";\"residual sugar\";\"chlorides\";\"free sulfur dioxide\";\"total sulfur dioxide\";\"density\";\"pH\";\"sulphates\";\"alcohol\";\"quality\"\n",
       "0   7;0.27;0.36;20.7;0.045;45;170;1.001;3;0.45;8.8;6                                                                                                                     \n",
       "1  6.3;0.3;0.34;1.6;0.049;14;132;0.994;3.3;0.49;9...                                                                                                                     \n",
       "2  8.1;0.28;0.4;6.9;0.05;30;97;0.9951;3.26;0.44;1...                                                                                                                     \n",
       "3  7.2;0.23;0.32;8.5;0.058;47;186;0.9956;3.19;0.4...                                                                                                                     \n",
       "4  7.2;0.23;0.32;8.5;0.058;47;186;0.9956;3.19;0.4...                                                                                                                     "
      ]
     },
     "execution_count": 52,
     "metadata": {},
     "output_type": "execute_result"
    }
   ],
   "source": [
    "wine_data.head()"
   ]
  },
  {
   "cell_type": "markdown",
   "metadata": {},
   "source": [
    "Dateset uses semi-colon (;) used as delimiter"
   ]
  },
  {
   "cell_type": "code",
   "execution_count": 53,
   "metadata": {},
   "outputs": [],
   "source": [
    "wine_data = pd.read_csv(\"data/go_deeper/wine.csv\", sep = \";\")"
   ]
  },
  {
   "cell_type": "code",
   "execution_count": 54,
   "metadata": {},
   "outputs": [
    {
     "data": {
      "text/html": [
       "<div>\n",
       "<style scoped>\n",
       "    .dataframe tbody tr th:only-of-type {\n",
       "        vertical-align: middle;\n",
       "    }\n",
       "\n",
       "    .dataframe tbody tr th {\n",
       "        vertical-align: top;\n",
       "    }\n",
       "\n",
       "    .dataframe thead th {\n",
       "        text-align: right;\n",
       "    }\n",
       "</style>\n",
       "<table border=\"1\" class=\"dataframe\">\n",
       "  <thead>\n",
       "    <tr style=\"text-align: right;\">\n",
       "      <th></th>\n",
       "      <th>fixed acidity</th>\n",
       "      <th>volatile acidity</th>\n",
       "      <th>citric acid</th>\n",
       "      <th>residual sugar</th>\n",
       "      <th>chlorides</th>\n",
       "      <th>free sulfur dioxide</th>\n",
       "      <th>total sulfur dioxide</th>\n",
       "      <th>density</th>\n",
       "      <th>pH</th>\n",
       "      <th>sulphates</th>\n",
       "      <th>alcohol</th>\n",
       "      <th>quality</th>\n",
       "    </tr>\n",
       "  </thead>\n",
       "  <tbody>\n",
       "    <tr>\n",
       "      <th>0</th>\n",
       "      <td>7.0</td>\n",
       "      <td>0.27</td>\n",
       "      <td>0.36</td>\n",
       "      <td>20.7</td>\n",
       "      <td>0.045</td>\n",
       "      <td>45.0</td>\n",
       "      <td>170.0</td>\n",
       "      <td>1.0010</td>\n",
       "      <td>3.00</td>\n",
       "      <td>0.45</td>\n",
       "      <td>8.8</td>\n",
       "      <td>6</td>\n",
       "    </tr>\n",
       "    <tr>\n",
       "      <th>1</th>\n",
       "      <td>6.3</td>\n",
       "      <td>0.30</td>\n",
       "      <td>0.34</td>\n",
       "      <td>1.6</td>\n",
       "      <td>0.049</td>\n",
       "      <td>14.0</td>\n",
       "      <td>132.0</td>\n",
       "      <td>0.9940</td>\n",
       "      <td>3.30</td>\n",
       "      <td>0.49</td>\n",
       "      <td>9.5</td>\n",
       "      <td>6</td>\n",
       "    </tr>\n",
       "    <tr>\n",
       "      <th>2</th>\n",
       "      <td>8.1</td>\n",
       "      <td>0.28</td>\n",
       "      <td>0.40</td>\n",
       "      <td>6.9</td>\n",
       "      <td>0.050</td>\n",
       "      <td>30.0</td>\n",
       "      <td>97.0</td>\n",
       "      <td>0.9951</td>\n",
       "      <td>3.26</td>\n",
       "      <td>0.44</td>\n",
       "      <td>10.1</td>\n",
       "      <td>6</td>\n",
       "    </tr>\n",
       "    <tr>\n",
       "      <th>3</th>\n",
       "      <td>7.2</td>\n",
       "      <td>0.23</td>\n",
       "      <td>0.32</td>\n",
       "      <td>8.5</td>\n",
       "      <td>0.058</td>\n",
       "      <td>47.0</td>\n",
       "      <td>186.0</td>\n",
       "      <td>0.9956</td>\n",
       "      <td>3.19</td>\n",
       "      <td>0.40</td>\n",
       "      <td>9.9</td>\n",
       "      <td>6</td>\n",
       "    </tr>\n",
       "    <tr>\n",
       "      <th>4</th>\n",
       "      <td>7.2</td>\n",
       "      <td>0.23</td>\n",
       "      <td>0.32</td>\n",
       "      <td>8.5</td>\n",
       "      <td>0.058</td>\n",
       "      <td>47.0</td>\n",
       "      <td>186.0</td>\n",
       "      <td>0.9956</td>\n",
       "      <td>3.19</td>\n",
       "      <td>0.40</td>\n",
       "      <td>9.9</td>\n",
       "      <td>6</td>\n",
       "    </tr>\n",
       "  </tbody>\n",
       "</table>\n",
       "</div>"
      ],
      "text/plain": [
       "   fixed acidity  volatile acidity  citric acid  residual sugar  chlorides  \\\n",
       "0            7.0              0.27         0.36            20.7      0.045   \n",
       "1            6.3              0.30         0.34             1.6      0.049   \n",
       "2            8.1              0.28         0.40             6.9      0.050   \n",
       "3            7.2              0.23         0.32             8.5      0.058   \n",
       "4            7.2              0.23         0.32             8.5      0.058   \n",
       "\n",
       "   free sulfur dioxide  total sulfur dioxide  density    pH  sulphates  \\\n",
       "0                 45.0                 170.0   1.0010  3.00       0.45   \n",
       "1                 14.0                 132.0   0.9940  3.30       0.49   \n",
       "2                 30.0                  97.0   0.9951  3.26       0.44   \n",
       "3                 47.0                 186.0   0.9956  3.19       0.40   \n",
       "4                 47.0                 186.0   0.9956  3.19       0.40   \n",
       "\n",
       "   alcohol  quality  \n",
       "0      8.8        6  \n",
       "1      9.5        6  \n",
       "2     10.1        6  \n",
       "3      9.9        6  \n",
       "4      9.9        6  "
      ]
     },
     "execution_count": 54,
     "metadata": {},
     "output_type": "execute_result"
    }
   ],
   "source": [
    "wine_data.head()"
   ]
  },
  {
   "cell_type": "markdown",
   "metadata": {},
   "source": [
    "### Find, download and load a CSV file from a public dataset source\n",
    "Feel free to use [Kaggle](https://www.kaggle.com/) or other public data sites, such as \n",
    "Government sources (for example: https://www.data.gov/).\n",
    "\n",
    "The task is merely to download and load the data as a Pandas DataFrame."
   ]
  },
  {
   "cell_type": "code",
   "execution_count": null,
   "metadata": {},
   "outputs": [],
   "source": []
  },
  {
   "cell_type": "markdown",
   "metadata": {},
   "source": [
    "## BONUS:"
   ]
  },
  {
   "cell_type": "markdown",
   "metadata": {},
   "source": [
    "### Find a website with a table-like set of data and scrape it\n",
    "Any website of your choosing will do, so long as you can pull relevant information from it.\n",
    "\n",
    "If you can find data that is not necessarily in a \"table-like\" formate, such as \"cards\" of information, that will do, too.\n",
    "Load at least 10 data points and create a Pandas DataFrame with the information."
   ]
  },
  {
   "cell_type": "code",
   "execution_count": null,
   "metadata": {},
   "outputs": [],
   "source": []
  },
  {
   "cell_type": "markdown",
   "metadata": {},
   "source": [
    "### Find an API and request data\n",
    "APIs can be difficult to handle, especially since most will require signing up for a key or even a paid service.\n",
    "You would be surprised by the kinds of APIs that are available! \n",
    "\n",
    "Make enough requests to fill at least 20 rows of data and create a Pandas DataFrame with it.\n",
    "\n",
    "Here are some links to help spur some ideas (_NOTE: APIs are updated, changed, or outright removed at the discretion of the maintainers controlling it. Some of these link may be out of date!_):\n",
    "- [Google Static Maps API](https://developers.google.com/maps/documentation/maps-static/intro)\n",
    "- [Socrata Open Data API](https://dev.socrata.com/)\n",
    "- [NASA API (Check out DEMO_KEY Rate Limits)](https://api.nasa.gov/api.html)\n",
    "- [Spotify API](https://developer.spotify.com/documentation/web-api/)\n",
    "- [Wordnik API](https://developer.wordnik.com/)\n",
    "- [Giphy API](https://developers.giphy.com/docs/)\n",
    "- [Pokemon API](https://pokeapi.co/)\n",
    "- [Yoda (and other dialects) Translation API](http://funtranslations.com/api#yoda)\n",
    "- [Random Cat Images API](http://thecatapi.com/)\n",
    "- [National Nutrition Database API](https://ndb.nal.usda.gov/ndb/api/doc)\n",
    "- [ProgrammableWeb API Search](https://www.programmableweb.com/apis/directory)\n",
    "- [Public APIs](https://github.com/toddmotto/public-apis)\n",
    "- [Any API Website](https://any-api.com/)"
   ]
  },
  {
   "cell_type": "markdown",
   "metadata": {},
   "source": [
    "## Vocabulary:\n",
    "\n",
    "### Data Wrangling/Munging - ([source](https://en.wikipedia.org/wiki/Data_wrangling))\n",
    "- The process of transforming and mapping data from one \"raw\" data form into another format with the intent of making it more appropriate and valuable for a variety of downstream purposes such as analytics\n",
    "\n",
    "### Web Scraping - ([source](https://en.wikipedia.org/wiki/Data_scraping))\n",
    "- A technique to automatically extract data from a website\n",
    "\n",
    "### Application Programming Interface (API) - ([source](https://medium.com/@perrysetgo/what-exactly-is-an-api-69f36968a41f))\n",
    "- When people speak of \"an API\", they sometimes generalize and actually mean \"a publicly available web-based API that returns data, likely in JSON or XML\". The API is not the database or even the server, it is the code that governs the access point(s) for the server\n",
    "- Web based APIs return data in response to a request made by a client\n",
    "- An API brokers access to a different application to provide functionality or access to data, so data can be included in different applications\n",
    "\n",
    "### Denial of Service ([source](https://en.wikipedia.org/wiki/Denial-of-service_attack))\n",
    "- A cyber-attack in which the perpetrator seeks to make a machine or network resource unavailable to its intended users by temporarily or indefinitely disrupting services of a host connected to the Internet\n",
    "- This is typically accomplished by flooding the targeted machine or resource with superfluous requests in an attempt to overload systems and prevent some or all legitimate requests from being fulfilled\n",
    "\n",
    "### Data Dictionary ([source](https://en.wikipedia.org/wiki/Data_dictionary))\n",
    "- A centralized repository of information about data such as meaning, relationships to other data, origin, usage, and format"
   ]
  },
  {
   "cell_type": "markdown",
   "metadata": {},
   "source": [
    "## References:\n",
    "\n",
    "- [Pandas DataFrame Documentation](https://pandas.pydata.org/pandas-docs/stable/reference/api/pandas.DataFrame.html)\n",
    "- [Beautiful Soup Documentation](https://www.crummy.com/software/BeautifulSoup/bs4/doc/)\n",
    "- [randomuser API](https://randomuser.me/)\n",
    "- [pokeapi API](https://pokeapi.co/)\n",
    "- [omdbapi API](http://www.omdbapi.com/)\n",
    "- [Kaggle](https://www.kaggle.com/)\n",
    "- [Google Static Maps API](https://developers.google.com/maps/documentation/maps-static/intro)\n",
    "- [Socrata Open Data API](https://dev.socrata.com/)\n",
    "- [NASA API (Check out DEMO_KEY Rate Limits)](https://api.nasa.gov/api.html)\n",
    "- [Spotify API](https://developer.spotify.com/documentation/web-api/)\n",
    "- [Wordnik API](https://developer.wordnik.com/)\n",
    "- [Giphy API](https://developers.giphy.com/docs/)\n",
    "- [Pokemon API](https://pokeapi.co/)\n",
    "- [Yoda (and other dialects) Translation API](http://funtranslations.com/api#yoda)\n",
    "- [Random Cat Images API](http://thecatapi.com/)\n",
    "- [National Nutrition Database API](https://ndb.nal.usda.gov/ndb/api/doc)\n",
    "- [ProgrammableWeb API Search](https://www.programmableweb.com/apis/directory)\n",
    "- [Public APIs](https://github.com/toddmotto/public-apis)\n",
    "- [Any API Website](https://any-api.com/)\n",
    "- [How HTML works (video)](https://www.youtube.com/watch?v=bWPMSSsVdPk)"
   ]
  },
  {
   "cell_type": "markdown",
   "metadata": {},
   "source": [
    "## Have Feedback?\n",
    "[Submit feedback here](https://docs.google.com/forms/d/e/1FAIpQLScvsDT2Q2VH26FvvfQhjNmP4RwXqh9GWiKSIcTFAHdfCKZdlg/viewform?usp=sf_link)"
   ]
  }
 ],
 "metadata": {
  "kernelspec": {
   "display_name": "Python 3",
   "language": "python",
   "name": "python3"
  },
  "language_info": {
   "codemirror_mode": {
    "name": "ipython",
    "version": 3
   },
   "file_extension": ".py",
   "mimetype": "text/x-python",
   "name": "python",
   "nbconvert_exporter": "python",
   "pygments_lexer": "ipython3",
   "version": "3.7.3"
  }
 },
 "nbformat": 4,
 "nbformat_minor": 2
}
